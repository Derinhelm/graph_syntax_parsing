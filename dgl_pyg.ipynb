{
  "nbformat": 4,
  "nbformat_minor": 0,
  "metadata": {
    "colab": {
      "provenance": [],
      "toc_visible": true,
      "gpuClass": "premium",
      "include_colab_link": true
    },
    "kernelspec": {
      "name": "python3",
      "display_name": "Python 3"
    },
    "language_info": {
      "name": "python"
    },
    "accelerator": "GPU",
    "gpuClass": "premium",
    "widgets": {
      "application/vnd.jupyter.widget-state+json": {
        "c7409f96c7e849aeb5a73700969b6242": {
          "model_module": "@jupyter-widgets/controls",
          "model_name": "HBoxModel",
          "model_module_version": "1.5.0",
          "state": {
            "_dom_classes": [],
            "_model_module": "@jupyter-widgets/controls",
            "_model_module_version": "1.5.0",
            "_model_name": "HBoxModel",
            "_view_count": null,
            "_view_module": "@jupyter-widgets/controls",
            "_view_module_version": "1.5.0",
            "_view_name": "HBoxView",
            "box_style": "",
            "children": [
              "IPY_MODEL_e7ca456b982f4008b9fcd6d4c4d26ecb",
              "IPY_MODEL_18111372304f4871b5580521cf1a1ed1",
              "IPY_MODEL_fd43575606c14b9987d9a55b0a266c22"
            ],
            "layout": "IPY_MODEL_7d91318e9cdd4ba5a602866b5bf57a86"
          }
        },
        "e7ca456b982f4008b9fcd6d4c4d26ecb": {
          "model_module": "@jupyter-widgets/controls",
          "model_name": "HTMLModel",
          "model_module_version": "1.5.0",
          "state": {
            "_dom_classes": [],
            "_model_module": "@jupyter-widgets/controls",
            "_model_module_version": "1.5.0",
            "_model_name": "HTMLModel",
            "_view_count": null,
            "_view_module": "@jupyter-widgets/controls",
            "_view_module_version": "1.5.0",
            "_view_name": "HTMLView",
            "description": "",
            "description_tooltip": null,
            "layout": "IPY_MODEL_329dcc43f1bb47b49f04a6e00b864f86",
            "placeholder": "​",
            "style": "IPY_MODEL_81eb6d89004d466e8378b49aac29c7c6",
            "value": "tokenizer_config.json: 100%"
          }
        },
        "18111372304f4871b5580521cf1a1ed1": {
          "model_module": "@jupyter-widgets/controls",
          "model_name": "FloatProgressModel",
          "model_module_version": "1.5.0",
          "state": {
            "_dom_classes": [],
            "_model_module": "@jupyter-widgets/controls",
            "_model_module_version": "1.5.0",
            "_model_name": "FloatProgressModel",
            "_view_count": null,
            "_view_module": "@jupyter-widgets/controls",
            "_view_module_version": "1.5.0",
            "_view_name": "ProgressView",
            "bar_style": "success",
            "description": "",
            "description_tooltip": null,
            "layout": "IPY_MODEL_a323eb0c5d564cd9bd583c5da78b89d5",
            "max": 401,
            "min": 0,
            "orientation": "horizontal",
            "style": "IPY_MODEL_f90bfa2570a94846995e273280470468",
            "value": 401
          }
        },
        "fd43575606c14b9987d9a55b0a266c22": {
          "model_module": "@jupyter-widgets/controls",
          "model_name": "HTMLModel",
          "model_module_version": "1.5.0",
          "state": {
            "_dom_classes": [],
            "_model_module": "@jupyter-widgets/controls",
            "_model_module_version": "1.5.0",
            "_model_name": "HTMLModel",
            "_view_count": null,
            "_view_module": "@jupyter-widgets/controls",
            "_view_module_version": "1.5.0",
            "_view_name": "HTMLView",
            "description": "",
            "description_tooltip": null,
            "layout": "IPY_MODEL_13ecd9c8ac1a4506a201677985031117",
            "placeholder": "​",
            "style": "IPY_MODEL_14800b585057475dacb93678c5546624",
            "value": " 401/401 [00:00&lt;00:00, 6.18kB/s]"
          }
        },
        "7d91318e9cdd4ba5a602866b5bf57a86": {
          "model_module": "@jupyter-widgets/base",
          "model_name": "LayoutModel",
          "model_module_version": "1.2.0",
          "state": {
            "_model_module": "@jupyter-widgets/base",
            "_model_module_version": "1.2.0",
            "_model_name": "LayoutModel",
            "_view_count": null,
            "_view_module": "@jupyter-widgets/base",
            "_view_module_version": "1.2.0",
            "_view_name": "LayoutView",
            "align_content": null,
            "align_items": null,
            "align_self": null,
            "border": null,
            "bottom": null,
            "display": null,
            "flex": null,
            "flex_flow": null,
            "grid_area": null,
            "grid_auto_columns": null,
            "grid_auto_flow": null,
            "grid_auto_rows": null,
            "grid_column": null,
            "grid_gap": null,
            "grid_row": null,
            "grid_template_areas": null,
            "grid_template_columns": null,
            "grid_template_rows": null,
            "height": null,
            "justify_content": null,
            "justify_items": null,
            "left": null,
            "margin": null,
            "max_height": null,
            "max_width": null,
            "min_height": null,
            "min_width": null,
            "object_fit": null,
            "object_position": null,
            "order": null,
            "overflow": null,
            "overflow_x": null,
            "overflow_y": null,
            "padding": null,
            "right": null,
            "top": null,
            "visibility": null,
            "width": null
          }
        },
        "329dcc43f1bb47b49f04a6e00b864f86": {
          "model_module": "@jupyter-widgets/base",
          "model_name": "LayoutModel",
          "model_module_version": "1.2.0",
          "state": {
            "_model_module": "@jupyter-widgets/base",
            "_model_module_version": "1.2.0",
            "_model_name": "LayoutModel",
            "_view_count": null,
            "_view_module": "@jupyter-widgets/base",
            "_view_module_version": "1.2.0",
            "_view_name": "LayoutView",
            "align_content": null,
            "align_items": null,
            "align_self": null,
            "border": null,
            "bottom": null,
            "display": null,
            "flex": null,
            "flex_flow": null,
            "grid_area": null,
            "grid_auto_columns": null,
            "grid_auto_flow": null,
            "grid_auto_rows": null,
            "grid_column": null,
            "grid_gap": null,
            "grid_row": null,
            "grid_template_areas": null,
            "grid_template_columns": null,
            "grid_template_rows": null,
            "height": null,
            "justify_content": null,
            "justify_items": null,
            "left": null,
            "margin": null,
            "max_height": null,
            "max_width": null,
            "min_height": null,
            "min_width": null,
            "object_fit": null,
            "object_position": null,
            "order": null,
            "overflow": null,
            "overflow_x": null,
            "overflow_y": null,
            "padding": null,
            "right": null,
            "top": null,
            "visibility": null,
            "width": null
          }
        },
        "81eb6d89004d466e8378b49aac29c7c6": {
          "model_module": "@jupyter-widgets/controls",
          "model_name": "DescriptionStyleModel",
          "model_module_version": "1.5.0",
          "state": {
            "_model_module": "@jupyter-widgets/controls",
            "_model_module_version": "1.5.0",
            "_model_name": "DescriptionStyleModel",
            "_view_count": null,
            "_view_module": "@jupyter-widgets/base",
            "_view_module_version": "1.2.0",
            "_view_name": "StyleView",
            "description_width": ""
          }
        },
        "a323eb0c5d564cd9bd583c5da78b89d5": {
          "model_module": "@jupyter-widgets/base",
          "model_name": "LayoutModel",
          "model_module_version": "1.2.0",
          "state": {
            "_model_module": "@jupyter-widgets/base",
            "_model_module_version": "1.2.0",
            "_model_name": "LayoutModel",
            "_view_count": null,
            "_view_module": "@jupyter-widgets/base",
            "_view_module_version": "1.2.0",
            "_view_name": "LayoutView",
            "align_content": null,
            "align_items": null,
            "align_self": null,
            "border": null,
            "bottom": null,
            "display": null,
            "flex": null,
            "flex_flow": null,
            "grid_area": null,
            "grid_auto_columns": null,
            "grid_auto_flow": null,
            "grid_auto_rows": null,
            "grid_column": null,
            "grid_gap": null,
            "grid_row": null,
            "grid_template_areas": null,
            "grid_template_columns": null,
            "grid_template_rows": null,
            "height": null,
            "justify_content": null,
            "justify_items": null,
            "left": null,
            "margin": null,
            "max_height": null,
            "max_width": null,
            "min_height": null,
            "min_width": null,
            "object_fit": null,
            "object_position": null,
            "order": null,
            "overflow": null,
            "overflow_x": null,
            "overflow_y": null,
            "padding": null,
            "right": null,
            "top": null,
            "visibility": null,
            "width": null
          }
        },
        "f90bfa2570a94846995e273280470468": {
          "model_module": "@jupyter-widgets/controls",
          "model_name": "ProgressStyleModel",
          "model_module_version": "1.5.0",
          "state": {
            "_model_module": "@jupyter-widgets/controls",
            "_model_module_version": "1.5.0",
            "_model_name": "ProgressStyleModel",
            "_view_count": null,
            "_view_module": "@jupyter-widgets/base",
            "_view_module_version": "1.2.0",
            "_view_name": "StyleView",
            "bar_color": null,
            "description_width": ""
          }
        },
        "13ecd9c8ac1a4506a201677985031117": {
          "model_module": "@jupyter-widgets/base",
          "model_name": "LayoutModel",
          "model_module_version": "1.2.0",
          "state": {
            "_model_module": "@jupyter-widgets/base",
            "_model_module_version": "1.2.0",
            "_model_name": "LayoutModel",
            "_view_count": null,
            "_view_module": "@jupyter-widgets/base",
            "_view_module_version": "1.2.0",
            "_view_name": "LayoutView",
            "align_content": null,
            "align_items": null,
            "align_self": null,
            "border": null,
            "bottom": null,
            "display": null,
            "flex": null,
            "flex_flow": null,
            "grid_area": null,
            "grid_auto_columns": null,
            "grid_auto_flow": null,
            "grid_auto_rows": null,
            "grid_column": null,
            "grid_gap": null,
            "grid_row": null,
            "grid_template_areas": null,
            "grid_template_columns": null,
            "grid_template_rows": null,
            "height": null,
            "justify_content": null,
            "justify_items": null,
            "left": null,
            "margin": null,
            "max_height": null,
            "max_width": null,
            "min_height": null,
            "min_width": null,
            "object_fit": null,
            "object_position": null,
            "order": null,
            "overflow": null,
            "overflow_x": null,
            "overflow_y": null,
            "padding": null,
            "right": null,
            "top": null,
            "visibility": null,
            "width": null
          }
        },
        "14800b585057475dacb93678c5546624": {
          "model_module": "@jupyter-widgets/controls",
          "model_name": "DescriptionStyleModel",
          "model_module_version": "1.5.0",
          "state": {
            "_model_module": "@jupyter-widgets/controls",
            "_model_module_version": "1.5.0",
            "_model_name": "DescriptionStyleModel",
            "_view_count": null,
            "_view_module": "@jupyter-widgets/base",
            "_view_module_version": "1.2.0",
            "_view_name": "StyleView",
            "description_width": ""
          }
        },
        "b7a007a8d1244c0eb4786e96d4dae21d": {
          "model_module": "@jupyter-widgets/controls",
          "model_name": "HBoxModel",
          "model_module_version": "1.5.0",
          "state": {
            "_dom_classes": [],
            "_model_module": "@jupyter-widgets/controls",
            "_model_module_version": "1.5.0",
            "_model_name": "HBoxModel",
            "_view_count": null,
            "_view_module": "@jupyter-widgets/controls",
            "_view_module_version": "1.5.0",
            "_view_name": "HBoxView",
            "box_style": "",
            "children": [
              "IPY_MODEL_797d655bca7e471887a3983708b1f840",
              "IPY_MODEL_b87707807e2b400988705a5cd2fc2fd6",
              "IPY_MODEL_b1191a23376d4ee0bda9ca85ac117c2d"
            ],
            "layout": "IPY_MODEL_237372c6569a4ae091ea33d1a28bc66c"
          }
        },
        "797d655bca7e471887a3983708b1f840": {
          "model_module": "@jupyter-widgets/controls",
          "model_name": "HTMLModel",
          "model_module_version": "1.5.0",
          "state": {
            "_dom_classes": [],
            "_model_module": "@jupyter-widgets/controls",
            "_model_module_version": "1.5.0",
            "_model_name": "HTMLModel",
            "_view_count": null,
            "_view_module": "@jupyter-widgets/controls",
            "_view_module_version": "1.5.0",
            "_view_name": "HTMLView",
            "description": "",
            "description_tooltip": null,
            "layout": "IPY_MODEL_1e92908522044766a95727f034512fb1",
            "placeholder": "​",
            "style": "IPY_MODEL_d14685f48cfb4ac4818b9c4400e4588e",
            "value": "vocab.txt: 100%"
          }
        },
        "b87707807e2b400988705a5cd2fc2fd6": {
          "model_module": "@jupyter-widgets/controls",
          "model_name": "FloatProgressModel",
          "model_module_version": "1.5.0",
          "state": {
            "_dom_classes": [],
            "_model_module": "@jupyter-widgets/controls",
            "_model_module_version": "1.5.0",
            "_model_name": "FloatProgressModel",
            "_view_count": null,
            "_view_module": "@jupyter-widgets/controls",
            "_view_module_version": "1.5.0",
            "_view_name": "ProgressView",
            "bar_style": "success",
            "description": "",
            "description_tooltip": null,
            "layout": "IPY_MODEL_0363ea8266ef48ceb7a9a1c8abe2882b",
            "max": 1080667,
            "min": 0,
            "orientation": "horizontal",
            "style": "IPY_MODEL_cde27f107dd946b981e439f21ddc6f21",
            "value": 1080667
          }
        },
        "b1191a23376d4ee0bda9ca85ac117c2d": {
          "model_module": "@jupyter-widgets/controls",
          "model_name": "HTMLModel",
          "model_module_version": "1.5.0",
          "state": {
            "_dom_classes": [],
            "_model_module": "@jupyter-widgets/controls",
            "_model_module_version": "1.5.0",
            "_model_name": "HTMLModel",
            "_view_count": null,
            "_view_module": "@jupyter-widgets/controls",
            "_view_module_version": "1.5.0",
            "_view_name": "HTMLView",
            "description": "",
            "description_tooltip": null,
            "layout": "IPY_MODEL_ddecec4ff48e474987bb1baafe9174a3",
            "placeholder": "​",
            "style": "IPY_MODEL_d5694923136444eaabc877ee8c8354c5",
            "value": " 1.08M/1.08M [00:00&lt;00:00, 3.31MB/s]"
          }
        },
        "237372c6569a4ae091ea33d1a28bc66c": {
          "model_module": "@jupyter-widgets/base",
          "model_name": "LayoutModel",
          "model_module_version": "1.2.0",
          "state": {
            "_model_module": "@jupyter-widgets/base",
            "_model_module_version": "1.2.0",
            "_model_name": "LayoutModel",
            "_view_count": null,
            "_view_module": "@jupyter-widgets/base",
            "_view_module_version": "1.2.0",
            "_view_name": "LayoutView",
            "align_content": null,
            "align_items": null,
            "align_self": null,
            "border": null,
            "bottom": null,
            "display": null,
            "flex": null,
            "flex_flow": null,
            "grid_area": null,
            "grid_auto_columns": null,
            "grid_auto_flow": null,
            "grid_auto_rows": null,
            "grid_column": null,
            "grid_gap": null,
            "grid_row": null,
            "grid_template_areas": null,
            "grid_template_columns": null,
            "grid_template_rows": null,
            "height": null,
            "justify_content": null,
            "justify_items": null,
            "left": null,
            "margin": null,
            "max_height": null,
            "max_width": null,
            "min_height": null,
            "min_width": null,
            "object_fit": null,
            "object_position": null,
            "order": null,
            "overflow": null,
            "overflow_x": null,
            "overflow_y": null,
            "padding": null,
            "right": null,
            "top": null,
            "visibility": null,
            "width": null
          }
        },
        "1e92908522044766a95727f034512fb1": {
          "model_module": "@jupyter-widgets/base",
          "model_name": "LayoutModel",
          "model_module_version": "1.2.0",
          "state": {
            "_model_module": "@jupyter-widgets/base",
            "_model_module_version": "1.2.0",
            "_model_name": "LayoutModel",
            "_view_count": null,
            "_view_module": "@jupyter-widgets/base",
            "_view_module_version": "1.2.0",
            "_view_name": "LayoutView",
            "align_content": null,
            "align_items": null,
            "align_self": null,
            "border": null,
            "bottom": null,
            "display": null,
            "flex": null,
            "flex_flow": null,
            "grid_area": null,
            "grid_auto_columns": null,
            "grid_auto_flow": null,
            "grid_auto_rows": null,
            "grid_column": null,
            "grid_gap": null,
            "grid_row": null,
            "grid_template_areas": null,
            "grid_template_columns": null,
            "grid_template_rows": null,
            "height": null,
            "justify_content": null,
            "justify_items": null,
            "left": null,
            "margin": null,
            "max_height": null,
            "max_width": null,
            "min_height": null,
            "min_width": null,
            "object_fit": null,
            "object_position": null,
            "order": null,
            "overflow": null,
            "overflow_x": null,
            "overflow_y": null,
            "padding": null,
            "right": null,
            "top": null,
            "visibility": null,
            "width": null
          }
        },
        "d14685f48cfb4ac4818b9c4400e4588e": {
          "model_module": "@jupyter-widgets/controls",
          "model_name": "DescriptionStyleModel",
          "model_module_version": "1.5.0",
          "state": {
            "_model_module": "@jupyter-widgets/controls",
            "_model_module_version": "1.5.0",
            "_model_name": "DescriptionStyleModel",
            "_view_count": null,
            "_view_module": "@jupyter-widgets/base",
            "_view_module_version": "1.2.0",
            "_view_name": "StyleView",
            "description_width": ""
          }
        },
        "0363ea8266ef48ceb7a9a1c8abe2882b": {
          "model_module": "@jupyter-widgets/base",
          "model_name": "LayoutModel",
          "model_module_version": "1.2.0",
          "state": {
            "_model_module": "@jupyter-widgets/base",
            "_model_module_version": "1.2.0",
            "_model_name": "LayoutModel",
            "_view_count": null,
            "_view_module": "@jupyter-widgets/base",
            "_view_module_version": "1.2.0",
            "_view_name": "LayoutView",
            "align_content": null,
            "align_items": null,
            "align_self": null,
            "border": null,
            "bottom": null,
            "display": null,
            "flex": null,
            "flex_flow": null,
            "grid_area": null,
            "grid_auto_columns": null,
            "grid_auto_flow": null,
            "grid_auto_rows": null,
            "grid_column": null,
            "grid_gap": null,
            "grid_row": null,
            "grid_template_areas": null,
            "grid_template_columns": null,
            "grid_template_rows": null,
            "height": null,
            "justify_content": null,
            "justify_items": null,
            "left": null,
            "margin": null,
            "max_height": null,
            "max_width": null,
            "min_height": null,
            "min_width": null,
            "object_fit": null,
            "object_position": null,
            "order": null,
            "overflow": null,
            "overflow_x": null,
            "overflow_y": null,
            "padding": null,
            "right": null,
            "top": null,
            "visibility": null,
            "width": null
          }
        },
        "cde27f107dd946b981e439f21ddc6f21": {
          "model_module": "@jupyter-widgets/controls",
          "model_name": "ProgressStyleModel",
          "model_module_version": "1.5.0",
          "state": {
            "_model_module": "@jupyter-widgets/controls",
            "_model_module_version": "1.5.0",
            "_model_name": "ProgressStyleModel",
            "_view_count": null,
            "_view_module": "@jupyter-widgets/base",
            "_view_module_version": "1.2.0",
            "_view_name": "StyleView",
            "bar_color": null,
            "description_width": ""
          }
        },
        "ddecec4ff48e474987bb1baafe9174a3": {
          "model_module": "@jupyter-widgets/base",
          "model_name": "LayoutModel",
          "model_module_version": "1.2.0",
          "state": {
            "_model_module": "@jupyter-widgets/base",
            "_model_module_version": "1.2.0",
            "_model_name": "LayoutModel",
            "_view_count": null,
            "_view_module": "@jupyter-widgets/base",
            "_view_module_version": "1.2.0",
            "_view_name": "LayoutView",
            "align_content": null,
            "align_items": null,
            "align_self": null,
            "border": null,
            "bottom": null,
            "display": null,
            "flex": null,
            "flex_flow": null,
            "grid_area": null,
            "grid_auto_columns": null,
            "grid_auto_flow": null,
            "grid_auto_rows": null,
            "grid_column": null,
            "grid_gap": null,
            "grid_row": null,
            "grid_template_areas": null,
            "grid_template_columns": null,
            "grid_template_rows": null,
            "height": null,
            "justify_content": null,
            "justify_items": null,
            "left": null,
            "margin": null,
            "max_height": null,
            "max_width": null,
            "min_height": null,
            "min_width": null,
            "object_fit": null,
            "object_position": null,
            "order": null,
            "overflow": null,
            "overflow_x": null,
            "overflow_y": null,
            "padding": null,
            "right": null,
            "top": null,
            "visibility": null,
            "width": null
          }
        },
        "d5694923136444eaabc877ee8c8354c5": {
          "model_module": "@jupyter-widgets/controls",
          "model_name": "DescriptionStyleModel",
          "model_module_version": "1.5.0",
          "state": {
            "_model_module": "@jupyter-widgets/controls",
            "_model_module_version": "1.5.0",
            "_model_name": "DescriptionStyleModel",
            "_view_count": null,
            "_view_module": "@jupyter-widgets/base",
            "_view_module_version": "1.2.0",
            "_view_name": "StyleView",
            "description_width": ""
          }
        },
        "3e111014c764422ab5d5f4ce6b76db68": {
          "model_module": "@jupyter-widgets/controls",
          "model_name": "HBoxModel",
          "model_module_version": "1.5.0",
          "state": {
            "_dom_classes": [],
            "_model_module": "@jupyter-widgets/controls",
            "_model_module_version": "1.5.0",
            "_model_name": "HBoxModel",
            "_view_count": null,
            "_view_module": "@jupyter-widgets/controls",
            "_view_module_version": "1.5.0",
            "_view_name": "HBoxView",
            "box_style": "",
            "children": [
              "IPY_MODEL_537e5894b49e4cc1ac998ea9be3ebd7a",
              "IPY_MODEL_fa17e304de7e487581738b9c7e441847",
              "IPY_MODEL_860fe2fc91a74bf58bef8d5f66af92a7"
            ],
            "layout": "IPY_MODEL_300ac9bd92124cba9a0bc2796f604b26"
          }
        },
        "537e5894b49e4cc1ac998ea9be3ebd7a": {
          "model_module": "@jupyter-widgets/controls",
          "model_name": "HTMLModel",
          "model_module_version": "1.5.0",
          "state": {
            "_dom_classes": [],
            "_model_module": "@jupyter-widgets/controls",
            "_model_module_version": "1.5.0",
            "_model_name": "HTMLModel",
            "_view_count": null,
            "_view_module": "@jupyter-widgets/controls",
            "_view_module_version": "1.5.0",
            "_view_name": "HTMLView",
            "description": "",
            "description_tooltip": null,
            "layout": "IPY_MODEL_b323d2e84db2484f9cc91b8e2db1c1c5",
            "placeholder": "​",
            "style": "IPY_MODEL_390592bb9b4b41a5a7a77c8ea8d7e579",
            "value": "tokenizer.json: 100%"
          }
        },
        "fa17e304de7e487581738b9c7e441847": {
          "model_module": "@jupyter-widgets/controls",
          "model_name": "FloatProgressModel",
          "model_module_version": "1.5.0",
          "state": {
            "_dom_classes": [],
            "_model_module": "@jupyter-widgets/controls",
            "_model_module_version": "1.5.0",
            "_model_name": "FloatProgressModel",
            "_view_count": null,
            "_view_module": "@jupyter-widgets/controls",
            "_view_module_version": "1.5.0",
            "_view_name": "ProgressView",
            "bar_style": "success",
            "description": "",
            "description_tooltip": null,
            "layout": "IPY_MODEL_8dec3ba3f8e84a468deb0e70c63a5e6a",
            "max": 1741842,
            "min": 0,
            "orientation": "horizontal",
            "style": "IPY_MODEL_99c519da553b4ce180612895a283f946",
            "value": 1741842
          }
        },
        "860fe2fc91a74bf58bef8d5f66af92a7": {
          "model_module": "@jupyter-widgets/controls",
          "model_name": "HTMLModel",
          "model_module_version": "1.5.0",
          "state": {
            "_dom_classes": [],
            "_model_module": "@jupyter-widgets/controls",
            "_model_module_version": "1.5.0",
            "_model_name": "HTMLModel",
            "_view_count": null,
            "_view_module": "@jupyter-widgets/controls",
            "_view_module_version": "1.5.0",
            "_view_name": "HTMLView",
            "description": "",
            "description_tooltip": null,
            "layout": "IPY_MODEL_e9a740b87ba44c79b56d2420dd61546b",
            "placeholder": "​",
            "style": "IPY_MODEL_621519c0fdee4dcd9782af8e1e198bc3",
            "value": " 1.74M/1.74M [00:00&lt;00:00, 4.33MB/s]"
          }
        },
        "300ac9bd92124cba9a0bc2796f604b26": {
          "model_module": "@jupyter-widgets/base",
          "model_name": "LayoutModel",
          "model_module_version": "1.2.0",
          "state": {
            "_model_module": "@jupyter-widgets/base",
            "_model_module_version": "1.2.0",
            "_model_name": "LayoutModel",
            "_view_count": null,
            "_view_module": "@jupyter-widgets/base",
            "_view_module_version": "1.2.0",
            "_view_name": "LayoutView",
            "align_content": null,
            "align_items": null,
            "align_self": null,
            "border": null,
            "bottom": null,
            "display": null,
            "flex": null,
            "flex_flow": null,
            "grid_area": null,
            "grid_auto_columns": null,
            "grid_auto_flow": null,
            "grid_auto_rows": null,
            "grid_column": null,
            "grid_gap": null,
            "grid_row": null,
            "grid_template_areas": null,
            "grid_template_columns": null,
            "grid_template_rows": null,
            "height": null,
            "justify_content": null,
            "justify_items": null,
            "left": null,
            "margin": null,
            "max_height": null,
            "max_width": null,
            "min_height": null,
            "min_width": null,
            "object_fit": null,
            "object_position": null,
            "order": null,
            "overflow": null,
            "overflow_x": null,
            "overflow_y": null,
            "padding": null,
            "right": null,
            "top": null,
            "visibility": null,
            "width": null
          }
        },
        "b323d2e84db2484f9cc91b8e2db1c1c5": {
          "model_module": "@jupyter-widgets/base",
          "model_name": "LayoutModel",
          "model_module_version": "1.2.0",
          "state": {
            "_model_module": "@jupyter-widgets/base",
            "_model_module_version": "1.2.0",
            "_model_name": "LayoutModel",
            "_view_count": null,
            "_view_module": "@jupyter-widgets/base",
            "_view_module_version": "1.2.0",
            "_view_name": "LayoutView",
            "align_content": null,
            "align_items": null,
            "align_self": null,
            "border": null,
            "bottom": null,
            "display": null,
            "flex": null,
            "flex_flow": null,
            "grid_area": null,
            "grid_auto_columns": null,
            "grid_auto_flow": null,
            "grid_auto_rows": null,
            "grid_column": null,
            "grid_gap": null,
            "grid_row": null,
            "grid_template_areas": null,
            "grid_template_columns": null,
            "grid_template_rows": null,
            "height": null,
            "justify_content": null,
            "justify_items": null,
            "left": null,
            "margin": null,
            "max_height": null,
            "max_width": null,
            "min_height": null,
            "min_width": null,
            "object_fit": null,
            "object_position": null,
            "order": null,
            "overflow": null,
            "overflow_x": null,
            "overflow_y": null,
            "padding": null,
            "right": null,
            "top": null,
            "visibility": null,
            "width": null
          }
        },
        "390592bb9b4b41a5a7a77c8ea8d7e579": {
          "model_module": "@jupyter-widgets/controls",
          "model_name": "DescriptionStyleModel",
          "model_module_version": "1.5.0",
          "state": {
            "_model_module": "@jupyter-widgets/controls",
            "_model_module_version": "1.5.0",
            "_model_name": "DescriptionStyleModel",
            "_view_count": null,
            "_view_module": "@jupyter-widgets/base",
            "_view_module_version": "1.2.0",
            "_view_name": "StyleView",
            "description_width": ""
          }
        },
        "8dec3ba3f8e84a468deb0e70c63a5e6a": {
          "model_module": "@jupyter-widgets/base",
          "model_name": "LayoutModel",
          "model_module_version": "1.2.0",
          "state": {
            "_model_module": "@jupyter-widgets/base",
            "_model_module_version": "1.2.0",
            "_model_name": "LayoutModel",
            "_view_count": null,
            "_view_module": "@jupyter-widgets/base",
            "_view_module_version": "1.2.0",
            "_view_name": "LayoutView",
            "align_content": null,
            "align_items": null,
            "align_self": null,
            "border": null,
            "bottom": null,
            "display": null,
            "flex": null,
            "flex_flow": null,
            "grid_area": null,
            "grid_auto_columns": null,
            "grid_auto_flow": null,
            "grid_auto_rows": null,
            "grid_column": null,
            "grid_gap": null,
            "grid_row": null,
            "grid_template_areas": null,
            "grid_template_columns": null,
            "grid_template_rows": null,
            "height": null,
            "justify_content": null,
            "justify_items": null,
            "left": null,
            "margin": null,
            "max_height": null,
            "max_width": null,
            "min_height": null,
            "min_width": null,
            "object_fit": null,
            "object_position": null,
            "order": null,
            "overflow": null,
            "overflow_x": null,
            "overflow_y": null,
            "padding": null,
            "right": null,
            "top": null,
            "visibility": null,
            "width": null
          }
        },
        "99c519da553b4ce180612895a283f946": {
          "model_module": "@jupyter-widgets/controls",
          "model_name": "ProgressStyleModel",
          "model_module_version": "1.5.0",
          "state": {
            "_model_module": "@jupyter-widgets/controls",
            "_model_module_version": "1.5.0",
            "_model_name": "ProgressStyleModel",
            "_view_count": null,
            "_view_module": "@jupyter-widgets/base",
            "_view_module_version": "1.2.0",
            "_view_name": "StyleView",
            "bar_color": null,
            "description_width": ""
          }
        },
        "e9a740b87ba44c79b56d2420dd61546b": {
          "model_module": "@jupyter-widgets/base",
          "model_name": "LayoutModel",
          "model_module_version": "1.2.0",
          "state": {
            "_model_module": "@jupyter-widgets/base",
            "_model_module_version": "1.2.0",
            "_model_name": "LayoutModel",
            "_view_count": null,
            "_view_module": "@jupyter-widgets/base",
            "_view_module_version": "1.2.0",
            "_view_name": "LayoutView",
            "align_content": null,
            "align_items": null,
            "align_self": null,
            "border": null,
            "bottom": null,
            "display": null,
            "flex": null,
            "flex_flow": null,
            "grid_area": null,
            "grid_auto_columns": null,
            "grid_auto_flow": null,
            "grid_auto_rows": null,
            "grid_column": null,
            "grid_gap": null,
            "grid_row": null,
            "grid_template_areas": null,
            "grid_template_columns": null,
            "grid_template_rows": null,
            "height": null,
            "justify_content": null,
            "justify_items": null,
            "left": null,
            "margin": null,
            "max_height": null,
            "max_width": null,
            "min_height": null,
            "min_width": null,
            "object_fit": null,
            "object_position": null,
            "order": null,
            "overflow": null,
            "overflow_x": null,
            "overflow_y": null,
            "padding": null,
            "right": null,
            "top": null,
            "visibility": null,
            "width": null
          }
        },
        "621519c0fdee4dcd9782af8e1e198bc3": {
          "model_module": "@jupyter-widgets/controls",
          "model_name": "DescriptionStyleModel",
          "model_module_version": "1.5.0",
          "state": {
            "_model_module": "@jupyter-widgets/controls",
            "_model_module_version": "1.5.0",
            "_model_name": "DescriptionStyleModel",
            "_view_count": null,
            "_view_module": "@jupyter-widgets/base",
            "_view_module_version": "1.2.0",
            "_view_name": "StyleView",
            "description_width": ""
          }
        },
        "7b9823bda8e0480b88c67a11f8b7c12e": {
          "model_module": "@jupyter-widgets/controls",
          "model_name": "HBoxModel",
          "model_module_version": "1.5.0",
          "state": {
            "_dom_classes": [],
            "_model_module": "@jupyter-widgets/controls",
            "_model_module_version": "1.5.0",
            "_model_name": "HBoxModel",
            "_view_count": null,
            "_view_module": "@jupyter-widgets/controls",
            "_view_module_version": "1.5.0",
            "_view_name": "HBoxView",
            "box_style": "",
            "children": [
              "IPY_MODEL_04d686c382f948e8934d0a4b108b4aac",
              "IPY_MODEL_977a5e9967d4459c9bbf0659a4359bc1",
              "IPY_MODEL_5949d5ec766849b693a97d6be205fa06"
            ],
            "layout": "IPY_MODEL_46dde6014420443f8725f78e255f7d73"
          }
        },
        "04d686c382f948e8934d0a4b108b4aac": {
          "model_module": "@jupyter-widgets/controls",
          "model_name": "HTMLModel",
          "model_module_version": "1.5.0",
          "state": {
            "_dom_classes": [],
            "_model_module": "@jupyter-widgets/controls",
            "_model_module_version": "1.5.0",
            "_model_name": "HTMLModel",
            "_view_count": null,
            "_view_module": "@jupyter-widgets/controls",
            "_view_module_version": "1.5.0",
            "_view_name": "HTMLView",
            "description": "",
            "description_tooltip": null,
            "layout": "IPY_MODEL_e9e6afd02e1246f9a87b5578ed810e81",
            "placeholder": "​",
            "style": "IPY_MODEL_2feee1c635b545bdb4cd5fe15fc54014",
            "value": "special_tokens_map.json: 100%"
          }
        },
        "977a5e9967d4459c9bbf0659a4359bc1": {
          "model_module": "@jupyter-widgets/controls",
          "model_name": "FloatProgressModel",
          "model_module_version": "1.5.0",
          "state": {
            "_dom_classes": [],
            "_model_module": "@jupyter-widgets/controls",
            "_model_module_version": "1.5.0",
            "_model_name": "FloatProgressModel",
            "_view_count": null,
            "_view_module": "@jupyter-widgets/controls",
            "_view_module_version": "1.5.0",
            "_view_name": "ProgressView",
            "bar_style": "success",
            "description": "",
            "description_tooltip": null,
            "layout": "IPY_MODEL_09e0024db0f54e9bb79cab81a2e7c26d",
            "max": 112,
            "min": 0,
            "orientation": "horizontal",
            "style": "IPY_MODEL_ad66ac1736fe4354bf4424777cc36901",
            "value": 112
          }
        },
        "5949d5ec766849b693a97d6be205fa06": {
          "model_module": "@jupyter-widgets/controls",
          "model_name": "HTMLModel",
          "model_module_version": "1.5.0",
          "state": {
            "_dom_classes": [],
            "_model_module": "@jupyter-widgets/controls",
            "_model_module_version": "1.5.0",
            "_model_name": "HTMLModel",
            "_view_count": null,
            "_view_module": "@jupyter-widgets/controls",
            "_view_module_version": "1.5.0",
            "_view_name": "HTMLView",
            "description": "",
            "description_tooltip": null,
            "layout": "IPY_MODEL_e6f6f585d0944c70893a480ec3ea9b15",
            "placeholder": "​",
            "style": "IPY_MODEL_c7023493b07145299fd41d75acfb8fd2",
            "value": " 112/112 [00:00&lt;00:00, 1.30kB/s]"
          }
        },
        "46dde6014420443f8725f78e255f7d73": {
          "model_module": "@jupyter-widgets/base",
          "model_name": "LayoutModel",
          "model_module_version": "1.2.0",
          "state": {
            "_model_module": "@jupyter-widgets/base",
            "_model_module_version": "1.2.0",
            "_model_name": "LayoutModel",
            "_view_count": null,
            "_view_module": "@jupyter-widgets/base",
            "_view_module_version": "1.2.0",
            "_view_name": "LayoutView",
            "align_content": null,
            "align_items": null,
            "align_self": null,
            "border": null,
            "bottom": null,
            "display": null,
            "flex": null,
            "flex_flow": null,
            "grid_area": null,
            "grid_auto_columns": null,
            "grid_auto_flow": null,
            "grid_auto_rows": null,
            "grid_column": null,
            "grid_gap": null,
            "grid_row": null,
            "grid_template_areas": null,
            "grid_template_columns": null,
            "grid_template_rows": null,
            "height": null,
            "justify_content": null,
            "justify_items": null,
            "left": null,
            "margin": null,
            "max_height": null,
            "max_width": null,
            "min_height": null,
            "min_width": null,
            "object_fit": null,
            "object_position": null,
            "order": null,
            "overflow": null,
            "overflow_x": null,
            "overflow_y": null,
            "padding": null,
            "right": null,
            "top": null,
            "visibility": null,
            "width": null
          }
        },
        "e9e6afd02e1246f9a87b5578ed810e81": {
          "model_module": "@jupyter-widgets/base",
          "model_name": "LayoutModel",
          "model_module_version": "1.2.0",
          "state": {
            "_model_module": "@jupyter-widgets/base",
            "_model_module_version": "1.2.0",
            "_model_name": "LayoutModel",
            "_view_count": null,
            "_view_module": "@jupyter-widgets/base",
            "_view_module_version": "1.2.0",
            "_view_name": "LayoutView",
            "align_content": null,
            "align_items": null,
            "align_self": null,
            "border": null,
            "bottom": null,
            "display": null,
            "flex": null,
            "flex_flow": null,
            "grid_area": null,
            "grid_auto_columns": null,
            "grid_auto_flow": null,
            "grid_auto_rows": null,
            "grid_column": null,
            "grid_gap": null,
            "grid_row": null,
            "grid_template_areas": null,
            "grid_template_columns": null,
            "grid_template_rows": null,
            "height": null,
            "justify_content": null,
            "justify_items": null,
            "left": null,
            "margin": null,
            "max_height": null,
            "max_width": null,
            "min_height": null,
            "min_width": null,
            "object_fit": null,
            "object_position": null,
            "order": null,
            "overflow": null,
            "overflow_x": null,
            "overflow_y": null,
            "padding": null,
            "right": null,
            "top": null,
            "visibility": null,
            "width": null
          }
        },
        "2feee1c635b545bdb4cd5fe15fc54014": {
          "model_module": "@jupyter-widgets/controls",
          "model_name": "DescriptionStyleModel",
          "model_module_version": "1.5.0",
          "state": {
            "_model_module": "@jupyter-widgets/controls",
            "_model_module_version": "1.5.0",
            "_model_name": "DescriptionStyleModel",
            "_view_count": null,
            "_view_module": "@jupyter-widgets/base",
            "_view_module_version": "1.2.0",
            "_view_name": "StyleView",
            "description_width": ""
          }
        },
        "09e0024db0f54e9bb79cab81a2e7c26d": {
          "model_module": "@jupyter-widgets/base",
          "model_name": "LayoutModel",
          "model_module_version": "1.2.0",
          "state": {
            "_model_module": "@jupyter-widgets/base",
            "_model_module_version": "1.2.0",
            "_model_name": "LayoutModel",
            "_view_count": null,
            "_view_module": "@jupyter-widgets/base",
            "_view_module_version": "1.2.0",
            "_view_name": "LayoutView",
            "align_content": null,
            "align_items": null,
            "align_self": null,
            "border": null,
            "bottom": null,
            "display": null,
            "flex": null,
            "flex_flow": null,
            "grid_area": null,
            "grid_auto_columns": null,
            "grid_auto_flow": null,
            "grid_auto_rows": null,
            "grid_column": null,
            "grid_gap": null,
            "grid_row": null,
            "grid_template_areas": null,
            "grid_template_columns": null,
            "grid_template_rows": null,
            "height": null,
            "justify_content": null,
            "justify_items": null,
            "left": null,
            "margin": null,
            "max_height": null,
            "max_width": null,
            "min_height": null,
            "min_width": null,
            "object_fit": null,
            "object_position": null,
            "order": null,
            "overflow": null,
            "overflow_x": null,
            "overflow_y": null,
            "padding": null,
            "right": null,
            "top": null,
            "visibility": null,
            "width": null
          }
        },
        "ad66ac1736fe4354bf4424777cc36901": {
          "model_module": "@jupyter-widgets/controls",
          "model_name": "ProgressStyleModel",
          "model_module_version": "1.5.0",
          "state": {
            "_model_module": "@jupyter-widgets/controls",
            "_model_module_version": "1.5.0",
            "_model_name": "ProgressStyleModel",
            "_view_count": null,
            "_view_module": "@jupyter-widgets/base",
            "_view_module_version": "1.2.0",
            "_view_name": "StyleView",
            "bar_color": null,
            "description_width": ""
          }
        },
        "e6f6f585d0944c70893a480ec3ea9b15": {
          "model_module": "@jupyter-widgets/base",
          "model_name": "LayoutModel",
          "model_module_version": "1.2.0",
          "state": {
            "_model_module": "@jupyter-widgets/base",
            "_model_module_version": "1.2.0",
            "_model_name": "LayoutModel",
            "_view_count": null,
            "_view_module": "@jupyter-widgets/base",
            "_view_module_version": "1.2.0",
            "_view_name": "LayoutView",
            "align_content": null,
            "align_items": null,
            "align_self": null,
            "border": null,
            "bottom": null,
            "display": null,
            "flex": null,
            "flex_flow": null,
            "grid_area": null,
            "grid_auto_columns": null,
            "grid_auto_flow": null,
            "grid_auto_rows": null,
            "grid_column": null,
            "grid_gap": null,
            "grid_row": null,
            "grid_template_areas": null,
            "grid_template_columns": null,
            "grid_template_rows": null,
            "height": null,
            "justify_content": null,
            "justify_items": null,
            "left": null,
            "margin": null,
            "max_height": null,
            "max_width": null,
            "min_height": null,
            "min_width": null,
            "object_fit": null,
            "object_position": null,
            "order": null,
            "overflow": null,
            "overflow_x": null,
            "overflow_y": null,
            "padding": null,
            "right": null,
            "top": null,
            "visibility": null,
            "width": null
          }
        },
        "c7023493b07145299fd41d75acfb8fd2": {
          "model_module": "@jupyter-widgets/controls",
          "model_name": "DescriptionStyleModel",
          "model_module_version": "1.5.0",
          "state": {
            "_model_module": "@jupyter-widgets/controls",
            "_model_module_version": "1.5.0",
            "_model_name": "DescriptionStyleModel",
            "_view_count": null,
            "_view_module": "@jupyter-widgets/base",
            "_view_module_version": "1.2.0",
            "_view_name": "StyleView",
            "description_width": ""
          }
        },
        "11788e4d428d4559a9643a98aef38f4d": {
          "model_module": "@jupyter-widgets/controls",
          "model_name": "HBoxModel",
          "model_module_version": "1.5.0",
          "state": {
            "_dom_classes": [],
            "_model_module": "@jupyter-widgets/controls",
            "_model_module_version": "1.5.0",
            "_model_name": "HBoxModel",
            "_view_count": null,
            "_view_module": "@jupyter-widgets/controls",
            "_view_module_version": "1.5.0",
            "_view_name": "HBoxView",
            "box_style": "",
            "children": [
              "IPY_MODEL_82d89f17a9ff495999ea4cd0bd742ed9",
              "IPY_MODEL_a3ecaf370de6450d85e5bb0b42e28e06",
              "IPY_MODEL_e15304c355214acabcef914c3a3922b2"
            ],
            "layout": "IPY_MODEL_c3b6dd51e9224625872461609ce5889f"
          }
        },
        "82d89f17a9ff495999ea4cd0bd742ed9": {
          "model_module": "@jupyter-widgets/controls",
          "model_name": "HTMLModel",
          "model_module_version": "1.5.0",
          "state": {
            "_dom_classes": [],
            "_model_module": "@jupyter-widgets/controls",
            "_model_module_version": "1.5.0",
            "_model_name": "HTMLModel",
            "_view_count": null,
            "_view_module": "@jupyter-widgets/controls",
            "_view_module_version": "1.5.0",
            "_view_name": "HTMLView",
            "description": "",
            "description_tooltip": null,
            "layout": "IPY_MODEL_ff3e7edbdce24fd0b09f76a256435d52",
            "placeholder": "​",
            "style": "IPY_MODEL_f03ca2d425a149a399da8e3842e157a9",
            "value": "config.json: 100%"
          }
        },
        "a3ecaf370de6450d85e5bb0b42e28e06": {
          "model_module": "@jupyter-widgets/controls",
          "model_name": "FloatProgressModel",
          "model_module_version": "1.5.0",
          "state": {
            "_dom_classes": [],
            "_model_module": "@jupyter-widgets/controls",
            "_model_module_version": "1.5.0",
            "_model_name": "FloatProgressModel",
            "_view_count": null,
            "_view_module": "@jupyter-widgets/controls",
            "_view_module_version": "1.5.0",
            "_view_name": "ProgressView",
            "bar_style": "success",
            "description": "",
            "description_tooltip": null,
            "layout": "IPY_MODEL_db3fac0c298c4d1b83b92e454e334130",
            "max": 693,
            "min": 0,
            "orientation": "horizontal",
            "style": "IPY_MODEL_55811e09abc840538bd91662935fc2f2",
            "value": 693
          }
        },
        "e15304c355214acabcef914c3a3922b2": {
          "model_module": "@jupyter-widgets/controls",
          "model_name": "HTMLModel",
          "model_module_version": "1.5.0",
          "state": {
            "_dom_classes": [],
            "_model_module": "@jupyter-widgets/controls",
            "_model_module_version": "1.5.0",
            "_model_name": "HTMLModel",
            "_view_count": null,
            "_view_module": "@jupyter-widgets/controls",
            "_view_module_version": "1.5.0",
            "_view_name": "HTMLView",
            "description": "",
            "description_tooltip": null,
            "layout": "IPY_MODEL_beb938012c0c4101b53d698d1ab51453",
            "placeholder": "​",
            "style": "IPY_MODEL_95899fa9d0dc4b25874b752342ef394b",
            "value": " 693/693 [00:00&lt;00:00, 11.2kB/s]"
          }
        },
        "c3b6dd51e9224625872461609ce5889f": {
          "model_module": "@jupyter-widgets/base",
          "model_name": "LayoutModel",
          "model_module_version": "1.2.0",
          "state": {
            "_model_module": "@jupyter-widgets/base",
            "_model_module_version": "1.2.0",
            "_model_name": "LayoutModel",
            "_view_count": null,
            "_view_module": "@jupyter-widgets/base",
            "_view_module_version": "1.2.0",
            "_view_name": "LayoutView",
            "align_content": null,
            "align_items": null,
            "align_self": null,
            "border": null,
            "bottom": null,
            "display": null,
            "flex": null,
            "flex_flow": null,
            "grid_area": null,
            "grid_auto_columns": null,
            "grid_auto_flow": null,
            "grid_auto_rows": null,
            "grid_column": null,
            "grid_gap": null,
            "grid_row": null,
            "grid_template_areas": null,
            "grid_template_columns": null,
            "grid_template_rows": null,
            "height": null,
            "justify_content": null,
            "justify_items": null,
            "left": null,
            "margin": null,
            "max_height": null,
            "max_width": null,
            "min_height": null,
            "min_width": null,
            "object_fit": null,
            "object_position": null,
            "order": null,
            "overflow": null,
            "overflow_x": null,
            "overflow_y": null,
            "padding": null,
            "right": null,
            "top": null,
            "visibility": null,
            "width": null
          }
        },
        "ff3e7edbdce24fd0b09f76a256435d52": {
          "model_module": "@jupyter-widgets/base",
          "model_name": "LayoutModel",
          "model_module_version": "1.2.0",
          "state": {
            "_model_module": "@jupyter-widgets/base",
            "_model_module_version": "1.2.0",
            "_model_name": "LayoutModel",
            "_view_count": null,
            "_view_module": "@jupyter-widgets/base",
            "_view_module_version": "1.2.0",
            "_view_name": "LayoutView",
            "align_content": null,
            "align_items": null,
            "align_self": null,
            "border": null,
            "bottom": null,
            "display": null,
            "flex": null,
            "flex_flow": null,
            "grid_area": null,
            "grid_auto_columns": null,
            "grid_auto_flow": null,
            "grid_auto_rows": null,
            "grid_column": null,
            "grid_gap": null,
            "grid_row": null,
            "grid_template_areas": null,
            "grid_template_columns": null,
            "grid_template_rows": null,
            "height": null,
            "justify_content": null,
            "justify_items": null,
            "left": null,
            "margin": null,
            "max_height": null,
            "max_width": null,
            "min_height": null,
            "min_width": null,
            "object_fit": null,
            "object_position": null,
            "order": null,
            "overflow": null,
            "overflow_x": null,
            "overflow_y": null,
            "padding": null,
            "right": null,
            "top": null,
            "visibility": null,
            "width": null
          }
        },
        "f03ca2d425a149a399da8e3842e157a9": {
          "model_module": "@jupyter-widgets/controls",
          "model_name": "DescriptionStyleModel",
          "model_module_version": "1.5.0",
          "state": {
            "_model_module": "@jupyter-widgets/controls",
            "_model_module_version": "1.5.0",
            "_model_name": "DescriptionStyleModel",
            "_view_count": null,
            "_view_module": "@jupyter-widgets/base",
            "_view_module_version": "1.2.0",
            "_view_name": "StyleView",
            "description_width": ""
          }
        },
        "db3fac0c298c4d1b83b92e454e334130": {
          "model_module": "@jupyter-widgets/base",
          "model_name": "LayoutModel",
          "model_module_version": "1.2.0",
          "state": {
            "_model_module": "@jupyter-widgets/base",
            "_model_module_version": "1.2.0",
            "_model_name": "LayoutModel",
            "_view_count": null,
            "_view_module": "@jupyter-widgets/base",
            "_view_module_version": "1.2.0",
            "_view_name": "LayoutView",
            "align_content": null,
            "align_items": null,
            "align_self": null,
            "border": null,
            "bottom": null,
            "display": null,
            "flex": null,
            "flex_flow": null,
            "grid_area": null,
            "grid_auto_columns": null,
            "grid_auto_flow": null,
            "grid_auto_rows": null,
            "grid_column": null,
            "grid_gap": null,
            "grid_row": null,
            "grid_template_areas": null,
            "grid_template_columns": null,
            "grid_template_rows": null,
            "height": null,
            "justify_content": null,
            "justify_items": null,
            "left": null,
            "margin": null,
            "max_height": null,
            "max_width": null,
            "min_height": null,
            "min_width": null,
            "object_fit": null,
            "object_position": null,
            "order": null,
            "overflow": null,
            "overflow_x": null,
            "overflow_y": null,
            "padding": null,
            "right": null,
            "top": null,
            "visibility": null,
            "width": null
          }
        },
        "55811e09abc840538bd91662935fc2f2": {
          "model_module": "@jupyter-widgets/controls",
          "model_name": "ProgressStyleModel",
          "model_module_version": "1.5.0",
          "state": {
            "_model_module": "@jupyter-widgets/controls",
            "_model_module_version": "1.5.0",
            "_model_name": "ProgressStyleModel",
            "_view_count": null,
            "_view_module": "@jupyter-widgets/base",
            "_view_module_version": "1.2.0",
            "_view_name": "StyleView",
            "bar_color": null,
            "description_width": ""
          }
        },
        "beb938012c0c4101b53d698d1ab51453": {
          "model_module": "@jupyter-widgets/base",
          "model_name": "LayoutModel",
          "model_module_version": "1.2.0",
          "state": {
            "_model_module": "@jupyter-widgets/base",
            "_model_module_version": "1.2.0",
            "_model_name": "LayoutModel",
            "_view_count": null,
            "_view_module": "@jupyter-widgets/base",
            "_view_module_version": "1.2.0",
            "_view_name": "LayoutView",
            "align_content": null,
            "align_items": null,
            "align_self": null,
            "border": null,
            "bottom": null,
            "display": null,
            "flex": null,
            "flex_flow": null,
            "grid_area": null,
            "grid_auto_columns": null,
            "grid_auto_flow": null,
            "grid_auto_rows": null,
            "grid_column": null,
            "grid_gap": null,
            "grid_row": null,
            "grid_template_areas": null,
            "grid_template_columns": null,
            "grid_template_rows": null,
            "height": null,
            "justify_content": null,
            "justify_items": null,
            "left": null,
            "margin": null,
            "max_height": null,
            "max_width": null,
            "min_height": null,
            "min_width": null,
            "object_fit": null,
            "object_position": null,
            "order": null,
            "overflow": null,
            "overflow_x": null,
            "overflow_y": null,
            "padding": null,
            "right": null,
            "top": null,
            "visibility": null,
            "width": null
          }
        },
        "95899fa9d0dc4b25874b752342ef394b": {
          "model_module": "@jupyter-widgets/controls",
          "model_name": "DescriptionStyleModel",
          "model_module_version": "1.5.0",
          "state": {
            "_model_module": "@jupyter-widgets/controls",
            "_model_module_version": "1.5.0",
            "_model_name": "DescriptionStyleModel",
            "_view_count": null,
            "_view_module": "@jupyter-widgets/base",
            "_view_module_version": "1.2.0",
            "_view_name": "StyleView",
            "description_width": ""
          }
        },
        "5981434408d74592b2f7277779e52742": {
          "model_module": "@jupyter-widgets/controls",
          "model_name": "HBoxModel",
          "model_module_version": "1.5.0",
          "state": {
            "_dom_classes": [],
            "_model_module": "@jupyter-widgets/controls",
            "_model_module_version": "1.5.0",
            "_model_name": "HBoxModel",
            "_view_count": null,
            "_view_module": "@jupyter-widgets/controls",
            "_view_module_version": "1.5.0",
            "_view_name": "HBoxView",
            "box_style": "",
            "children": [
              "IPY_MODEL_8c8e2297734444539cd23270fee0b628",
              "IPY_MODEL_b0c9b373a5294df2bdbf8faf3db44cd8",
              "IPY_MODEL_0fb5ca09be6b40b3ac3a2d39721272ec"
            ],
            "layout": "IPY_MODEL_8e682b7c97be489f9bdfc089a94fa7f7"
          }
        },
        "8c8e2297734444539cd23270fee0b628": {
          "model_module": "@jupyter-widgets/controls",
          "model_name": "HTMLModel",
          "model_module_version": "1.5.0",
          "state": {
            "_dom_classes": [],
            "_model_module": "@jupyter-widgets/controls",
            "_model_module_version": "1.5.0",
            "_model_name": "HTMLModel",
            "_view_count": null,
            "_view_module": "@jupyter-widgets/controls",
            "_view_module_version": "1.5.0",
            "_view_name": "HTMLView",
            "description": "",
            "description_tooltip": null,
            "layout": "IPY_MODEL_16b8ed5b3e41486888fb853107f4224e",
            "placeholder": "​",
            "style": "IPY_MODEL_d69315d756e048f8a5520d1ba4d1f609",
            "value": "model.safetensors: 100%"
          }
        },
        "b0c9b373a5294df2bdbf8faf3db44cd8": {
          "model_module": "@jupyter-widgets/controls",
          "model_name": "FloatProgressModel",
          "model_module_version": "1.5.0",
          "state": {
            "_dom_classes": [],
            "_model_module": "@jupyter-widgets/controls",
            "_model_module_version": "1.5.0",
            "_model_name": "FloatProgressModel",
            "_view_count": null,
            "_view_module": "@jupyter-widgets/controls",
            "_view_module_version": "1.5.0",
            "_view_name": "ProgressView",
            "bar_style": "success",
            "description": "",
            "description_tooltip": null,
            "layout": "IPY_MODEL_142488ae43384d6dadc53ea7bc96fa80",
            "max": 117529600,
            "min": 0,
            "orientation": "horizontal",
            "style": "IPY_MODEL_f838b4e841704caaa609d3b2a22669c1",
            "value": 117529600
          }
        },
        "0fb5ca09be6b40b3ac3a2d39721272ec": {
          "model_module": "@jupyter-widgets/controls",
          "model_name": "HTMLModel",
          "model_module_version": "1.5.0",
          "state": {
            "_dom_classes": [],
            "_model_module": "@jupyter-widgets/controls",
            "_model_module_version": "1.5.0",
            "_model_name": "HTMLModel",
            "_view_count": null,
            "_view_module": "@jupyter-widgets/controls",
            "_view_module_version": "1.5.0",
            "_view_name": "HTMLView",
            "description": "",
            "description_tooltip": null,
            "layout": "IPY_MODEL_0fbcb6ecddf74167b556105f6c82eab3",
            "placeholder": "​",
            "style": "IPY_MODEL_0f06e779699e4057ae1dee18c31f804a",
            "value": " 118M/118M [00:01&lt;00:00, 96.6MB/s]"
          }
        },
        "8e682b7c97be489f9bdfc089a94fa7f7": {
          "model_module": "@jupyter-widgets/base",
          "model_name": "LayoutModel",
          "model_module_version": "1.2.0",
          "state": {
            "_model_module": "@jupyter-widgets/base",
            "_model_module_version": "1.2.0",
            "_model_name": "LayoutModel",
            "_view_count": null,
            "_view_module": "@jupyter-widgets/base",
            "_view_module_version": "1.2.0",
            "_view_name": "LayoutView",
            "align_content": null,
            "align_items": null,
            "align_self": null,
            "border": null,
            "bottom": null,
            "display": null,
            "flex": null,
            "flex_flow": null,
            "grid_area": null,
            "grid_auto_columns": null,
            "grid_auto_flow": null,
            "grid_auto_rows": null,
            "grid_column": null,
            "grid_gap": null,
            "grid_row": null,
            "grid_template_areas": null,
            "grid_template_columns": null,
            "grid_template_rows": null,
            "height": null,
            "justify_content": null,
            "justify_items": null,
            "left": null,
            "margin": null,
            "max_height": null,
            "max_width": null,
            "min_height": null,
            "min_width": null,
            "object_fit": null,
            "object_position": null,
            "order": null,
            "overflow": null,
            "overflow_x": null,
            "overflow_y": null,
            "padding": null,
            "right": null,
            "top": null,
            "visibility": null,
            "width": null
          }
        },
        "16b8ed5b3e41486888fb853107f4224e": {
          "model_module": "@jupyter-widgets/base",
          "model_name": "LayoutModel",
          "model_module_version": "1.2.0",
          "state": {
            "_model_module": "@jupyter-widgets/base",
            "_model_module_version": "1.2.0",
            "_model_name": "LayoutModel",
            "_view_count": null,
            "_view_module": "@jupyter-widgets/base",
            "_view_module_version": "1.2.0",
            "_view_name": "LayoutView",
            "align_content": null,
            "align_items": null,
            "align_self": null,
            "border": null,
            "bottom": null,
            "display": null,
            "flex": null,
            "flex_flow": null,
            "grid_area": null,
            "grid_auto_columns": null,
            "grid_auto_flow": null,
            "grid_auto_rows": null,
            "grid_column": null,
            "grid_gap": null,
            "grid_row": null,
            "grid_template_areas": null,
            "grid_template_columns": null,
            "grid_template_rows": null,
            "height": null,
            "justify_content": null,
            "justify_items": null,
            "left": null,
            "margin": null,
            "max_height": null,
            "max_width": null,
            "min_height": null,
            "min_width": null,
            "object_fit": null,
            "object_position": null,
            "order": null,
            "overflow": null,
            "overflow_x": null,
            "overflow_y": null,
            "padding": null,
            "right": null,
            "top": null,
            "visibility": null,
            "width": null
          }
        },
        "d69315d756e048f8a5520d1ba4d1f609": {
          "model_module": "@jupyter-widgets/controls",
          "model_name": "DescriptionStyleModel",
          "model_module_version": "1.5.0",
          "state": {
            "_model_module": "@jupyter-widgets/controls",
            "_model_module_version": "1.5.0",
            "_model_name": "DescriptionStyleModel",
            "_view_count": null,
            "_view_module": "@jupyter-widgets/base",
            "_view_module_version": "1.2.0",
            "_view_name": "StyleView",
            "description_width": ""
          }
        },
        "142488ae43384d6dadc53ea7bc96fa80": {
          "model_module": "@jupyter-widgets/base",
          "model_name": "LayoutModel",
          "model_module_version": "1.2.0",
          "state": {
            "_model_module": "@jupyter-widgets/base",
            "_model_module_version": "1.2.0",
            "_model_name": "LayoutModel",
            "_view_count": null,
            "_view_module": "@jupyter-widgets/base",
            "_view_module_version": "1.2.0",
            "_view_name": "LayoutView",
            "align_content": null,
            "align_items": null,
            "align_self": null,
            "border": null,
            "bottom": null,
            "display": null,
            "flex": null,
            "flex_flow": null,
            "grid_area": null,
            "grid_auto_columns": null,
            "grid_auto_flow": null,
            "grid_auto_rows": null,
            "grid_column": null,
            "grid_gap": null,
            "grid_row": null,
            "grid_template_areas": null,
            "grid_template_columns": null,
            "grid_template_rows": null,
            "height": null,
            "justify_content": null,
            "justify_items": null,
            "left": null,
            "margin": null,
            "max_height": null,
            "max_width": null,
            "min_height": null,
            "min_width": null,
            "object_fit": null,
            "object_position": null,
            "order": null,
            "overflow": null,
            "overflow_x": null,
            "overflow_y": null,
            "padding": null,
            "right": null,
            "top": null,
            "visibility": null,
            "width": null
          }
        },
        "f838b4e841704caaa609d3b2a22669c1": {
          "model_module": "@jupyter-widgets/controls",
          "model_name": "ProgressStyleModel",
          "model_module_version": "1.5.0",
          "state": {
            "_model_module": "@jupyter-widgets/controls",
            "_model_module_version": "1.5.0",
            "_model_name": "ProgressStyleModel",
            "_view_count": null,
            "_view_module": "@jupyter-widgets/base",
            "_view_module_version": "1.2.0",
            "_view_name": "StyleView",
            "bar_color": null,
            "description_width": ""
          }
        },
        "0fbcb6ecddf74167b556105f6c82eab3": {
          "model_module": "@jupyter-widgets/base",
          "model_name": "LayoutModel",
          "model_module_version": "1.2.0",
          "state": {
            "_model_module": "@jupyter-widgets/base",
            "_model_module_version": "1.2.0",
            "_model_name": "LayoutModel",
            "_view_count": null,
            "_view_module": "@jupyter-widgets/base",
            "_view_module_version": "1.2.0",
            "_view_name": "LayoutView",
            "align_content": null,
            "align_items": null,
            "align_self": null,
            "border": null,
            "bottom": null,
            "display": null,
            "flex": null,
            "flex_flow": null,
            "grid_area": null,
            "grid_auto_columns": null,
            "grid_auto_flow": null,
            "grid_auto_rows": null,
            "grid_column": null,
            "grid_gap": null,
            "grid_row": null,
            "grid_template_areas": null,
            "grid_template_columns": null,
            "grid_template_rows": null,
            "height": null,
            "justify_content": null,
            "justify_items": null,
            "left": null,
            "margin": null,
            "max_height": null,
            "max_width": null,
            "min_height": null,
            "min_width": null,
            "object_fit": null,
            "object_position": null,
            "order": null,
            "overflow": null,
            "overflow_x": null,
            "overflow_y": null,
            "padding": null,
            "right": null,
            "top": null,
            "visibility": null,
            "width": null
          }
        },
        "0f06e779699e4057ae1dee18c31f804a": {
          "model_module": "@jupyter-widgets/controls",
          "model_name": "DescriptionStyleModel",
          "model_module_version": "1.5.0",
          "state": {
            "_model_module": "@jupyter-widgets/controls",
            "_model_module_version": "1.5.0",
            "_model_name": "DescriptionStyleModel",
            "_view_count": null,
            "_view_module": "@jupyter-widgets/base",
            "_view_module_version": "1.2.0",
            "_view_name": "StyleView",
            "description_width": ""
          }
        }
      }
    }
  },
  "cells": [
    {
      "cell_type": "markdown",
      "metadata": {
        "id": "view-in-github",
        "colab_type": "text"
      },
      "source": [
        "<a href=\"https://colab.research.google.com/github/Derinhelm/graph_syntax_parsing/blob/experiments/dgl_pyg.ipynb\" target=\"_parent\"><img src=\"https://colab.research.google.com/assets/colab-badge.svg\" alt=\"Open In Colab\"/></a>"
      ]
    },
    {
      "cell_type": "markdown",
      "source": [
        "# Установка библиотек"
      ],
      "metadata": {
        "id": "pFI2Mmx8Tdq7"
      }
    },
    {
      "cell_type": "code",
      "source": [
        "import torch\n",
        "import numpy as np\n",
        "import networkx as nx\n",
        "import matplotlib.pyplot as plt"
      ],
      "metadata": {
        "id": "faj53PLPws_6"
      },
      "execution_count": null,
      "outputs": []
    },
    {
      "cell_type": "code",
      "source": [
        "print(torch.__version__)\n",
        "print(torch.cuda.is_available())\n",
        "print(torch.cuda.device_count())\n",
        "print(torch.cuda.current_device())\n",
        "print(torch.cuda.device(0))\n",
        "print(torch.cuda.get_device_name(0))"
      ],
      "metadata": {
        "colab": {
          "base_uri": "https://localhost:8080/"
        },
        "id": "ESDwMGrZwwjz",
        "outputId": "d54f5583-da0c-407b-b31e-b2dc9ed74fca"
      },
      "execution_count": null,
      "outputs": [
        {
          "output_type": "stream",
          "name": "stdout",
          "text": [
            "2.1.0+cu121\n",
            "True\n",
            "1\n",
            "0\n",
            "<torch.cuda.device object at 0x7e3f52c5ab90>\n",
            "Tesla T4\n"
          ]
        }
      ]
    },
    {
      "cell_type": "code",
      "source": [
        "from IPython.display import clear_output"
      ],
      "metadata": {
        "id": "cfpYKsyoYbhe"
      },
      "execution_count": null,
      "outputs": []
    },
    {
      "cell_type": "code",
      "source": [
        "!nvcc --version"
      ],
      "metadata": {
        "colab": {
          "base_uri": "https://localhost:8080/"
        },
        "id": "uMjUMavSIj5v",
        "outputId": "fe71664a-7e77-4e84-9d1c-9d45c13a1fb9"
      },
      "execution_count": null,
      "outputs": [
        {
          "output_type": "stream",
          "name": "stdout",
          "text": [
            "nvcc: NVIDIA (R) Cuda compiler driver\n",
            "Copyright (c) 2005-2023 NVIDIA Corporation\n",
            "Built on Tue_Aug_15_22:02:13_PDT_2023\n",
            "Cuda compilation tools, release 12.2, V12.2.140\n",
            "Build cuda_12.2.r12.2/compiler.33191640_0\n"
          ]
        }
      ]
    },
    {
      "cell_type": "markdown",
      "source": [
        "Установка dgl"
      ],
      "metadata": {
        "id": "7462Ms9OYhnm"
      }
    },
    {
      "cell_type": "code",
      "source": [
        "#!pip install dgl-cu113 dglgo -f https://data.dgl.ai/wheels/repo.html\n",
        "\n",
        "#clear_output()"
      ],
      "metadata": {
        "id": "D8ceiC4Gw0jC"
      },
      "execution_count": null,
      "outputs": []
    },
    {
      "cell_type": "code",
      "source": [
        "!pip install  dgl -f https://data.dgl.ai/wheels/cu121/repo.html\n",
        "!pip install  dglgo -f https://data.dgl.ai/wheels-test/repo.html"
      ],
      "metadata": {
        "colab": {
          "base_uri": "https://localhost:8080/"
        },
        "id": "egAABDOVI6z0",
        "outputId": "6d3ae511-7159-49c6-e195-347432605814"
      },
      "execution_count": null,
      "outputs": [
        {
          "output_type": "stream",
          "name": "stdout",
          "text": [
            "Looking in links: https://data.dgl.ai/wheels/cu121/repo.html\n",
            "Collecting dgl\n",
            "  Downloading https://data.dgl.ai/wheels/cu121/dgl-2.0.0%2Bcu121-cp310-cp310-manylinux1_x86_64.whl (926.0 MB)\n",
            "\u001b[2K     \u001b[90m━━━━━━━━━━━━━━━━━━━━━━━━━━━━━━━━━━━━━━━━\u001b[0m \u001b[32m926.0/926.0 MB\u001b[0m \u001b[31m1.3 MB/s\u001b[0m eta \u001b[36m0:00:00\u001b[0m\n",
            "\u001b[?25hRequirement already satisfied: numpy>=1.14.0 in /usr/local/lib/python3.10/dist-packages (from dgl) (1.23.5)\n",
            "Requirement already satisfied: scipy>=1.1.0 in /usr/local/lib/python3.10/dist-packages (from dgl) (1.11.4)\n",
            "Requirement already satisfied: networkx>=2.1 in /usr/local/lib/python3.10/dist-packages (from dgl) (3.2.1)\n",
            "Requirement already satisfied: requests>=2.19.0 in /usr/local/lib/python3.10/dist-packages (from dgl) (2.31.0)\n",
            "Requirement already satisfied: tqdm in /usr/local/lib/python3.10/dist-packages (from dgl) (4.66.1)\n",
            "Requirement already satisfied: psutil>=5.8.0 in /usr/local/lib/python3.10/dist-packages (from dgl) (5.9.5)\n",
            "Requirement already satisfied: torchdata>=0.5.0 in /usr/local/lib/python3.10/dist-packages (from dgl) (0.7.0)\n",
            "Requirement already satisfied: charset-normalizer<4,>=2 in /usr/local/lib/python3.10/dist-packages (from requests>=2.19.0->dgl) (3.3.2)\n",
            "Requirement already satisfied: idna<4,>=2.5 in /usr/local/lib/python3.10/dist-packages (from requests>=2.19.0->dgl) (3.6)\n",
            "Requirement already satisfied: urllib3<3,>=1.21.1 in /usr/local/lib/python3.10/dist-packages (from requests>=2.19.0->dgl) (2.0.7)\n",
            "Requirement already satisfied: certifi>=2017.4.17 in /usr/local/lib/python3.10/dist-packages (from requests>=2.19.0->dgl) (2023.11.17)\n",
            "Requirement already satisfied: torch==2.1.0 in /usr/local/lib/python3.10/dist-packages (from torchdata>=0.5.0->dgl) (2.1.0+cu121)\n",
            "Requirement already satisfied: filelock in /usr/local/lib/python3.10/dist-packages (from torch==2.1.0->torchdata>=0.5.0->dgl) (3.13.1)\n",
            "Requirement already satisfied: typing-extensions in /usr/local/lib/python3.10/dist-packages (from torch==2.1.0->torchdata>=0.5.0->dgl) (4.5.0)\n",
            "Requirement already satisfied: sympy in /usr/local/lib/python3.10/dist-packages (from torch==2.1.0->torchdata>=0.5.0->dgl) (1.12)\n",
            "Requirement already satisfied: jinja2 in /usr/local/lib/python3.10/dist-packages (from torch==2.1.0->torchdata>=0.5.0->dgl) (3.1.2)\n",
            "Requirement already satisfied: fsspec in /usr/local/lib/python3.10/dist-packages (from torch==2.1.0->torchdata>=0.5.0->dgl) (2023.6.0)\n",
            "Requirement already satisfied: triton==2.1.0 in /usr/local/lib/python3.10/dist-packages (from torch==2.1.0->torchdata>=0.5.0->dgl) (2.1.0)\n",
            "Requirement already satisfied: MarkupSafe>=2.0 in /usr/local/lib/python3.10/dist-packages (from jinja2->torch==2.1.0->torchdata>=0.5.0->dgl) (2.1.3)\n",
            "Requirement already satisfied: mpmath>=0.19 in /usr/local/lib/python3.10/dist-packages (from sympy->torch==2.1.0->torchdata>=0.5.0->dgl) (1.3.0)\n",
            "Installing collected packages: dgl\n",
            "Successfully installed dgl-2.0.0+cu121\n",
            "Looking in links: https://data.dgl.ai/wheels-test/repo.html\n",
            "Collecting dglgo\n",
            "  Downloading dglgo-0.0.2-py3-none-any.whl (63 kB)\n",
            "\u001b[2K     \u001b[90m━━━━━━━━━━━━━━━━━━━━━━━━━━━━━━━━━━━━━━━━\u001b[0m \u001b[32m63.5/63.5 kB\u001b[0m \u001b[31m2.2 MB/s\u001b[0m eta \u001b[36m0:00:00\u001b[0m\n",
            "\u001b[?25hRequirement already satisfied: typer>=0.4.0 in /usr/local/lib/python3.10/dist-packages (from dglgo) (0.9.0)\n",
            "Collecting isort>=5.10.1 (from dglgo)\n",
            "  Downloading isort-5.13.2-py3-none-any.whl (92 kB)\n",
            "\u001b[2K     \u001b[90m━━━━━━━━━━━━━━━━━━━━━━━━━━━━━━━━━━━━━━━━\u001b[0m \u001b[32m92.3/92.3 kB\u001b[0m \u001b[31m5.9 MB/s\u001b[0m eta \u001b[36m0:00:00\u001b[0m\n",
            "\u001b[?25hCollecting autopep8>=1.6.0 (from dglgo)\n",
            "  Downloading autopep8-2.0.4-py2.py3-none-any.whl (45 kB)\n",
            "\u001b[2K     \u001b[90m━━━━━━━━━━━━━━━━━━━━━━━━━━━━━━━━━━━━━━━━\u001b[0m \u001b[32m45.3/45.3 kB\u001b[0m \u001b[31m6.4 MB/s\u001b[0m eta \u001b[36m0:00:00\u001b[0m\n",
            "\u001b[?25hCollecting numpydoc>=1.1.0 (from dglgo)\n",
            "  Downloading numpydoc-1.6.0-py3-none-any.whl (61 kB)\n",
            "\u001b[2K     \u001b[90m━━━━━━━━━━━━━━━━━━━━━━━━━━━━━━━━━━━━━━━━\u001b[0m \u001b[32m61.7/61.7 kB\u001b[0m \u001b[31m7.9 MB/s\u001b[0m eta \u001b[36m0:00:00\u001b[0m\n",
            "\u001b[?25hRequirement already satisfied: pydantic>=1.9.0 in /usr/local/lib/python3.10/dist-packages (from dglgo) (1.10.13)\n",
            "Collecting ruamel.yaml>=0.17.20 (from dglgo)\n",
            "  Downloading ruamel.yaml-0.18.5-py3-none-any.whl (116 kB)\n",
            "\u001b[2K     \u001b[90m━━━━━━━━━━━━━━━━━━━━━━━━━━━━━━━━━━━━━━━━\u001b[0m \u001b[32m116.4/116.4 kB\u001b[0m \u001b[31m11.8 MB/s\u001b[0m eta \u001b[36m0:00:00\u001b[0m\n",
            "\u001b[?25hRequirement already satisfied: PyYAML>=5.1 in /usr/local/lib/python3.10/dist-packages (from dglgo) (6.0.1)\n",
            "Collecting ogb>=1.3.3 (from dglgo)\n",
            "  Downloading ogb-1.3.6-py3-none-any.whl (78 kB)\n",
            "\u001b[2K     \u001b[90m━━━━━━━━━━━━━━━━━━━━━━━━━━━━━━━━━━━━━━━━\u001b[0m \u001b[32m78.8/78.8 kB\u001b[0m \u001b[31m9.1 MB/s\u001b[0m eta \u001b[36m0:00:00\u001b[0m\n",
            "\u001b[?25hCollecting rdkit-pypi (from dglgo)\n",
            "  Downloading rdkit_pypi-2022.9.5-cp310-cp310-manylinux_2_17_x86_64.manylinux2014_x86_64.whl (29.4 MB)\n",
            "\u001b[2K     \u001b[90m━━━━━━━━━━━━━━━━━━━━━━━━━━━━━━━━━━━━━━━━\u001b[0m \u001b[32m29.4/29.4 MB\u001b[0m \u001b[31m49.1 MB/s\u001b[0m eta \u001b[36m0:00:00\u001b[0m\n",
            "\u001b[?25hRequirement already satisfied: scikit-learn>=0.20.0 in /usr/local/lib/python3.10/dist-packages (from dglgo) (1.2.2)\n",
            "Collecting pycodestyle>=2.10.0 (from autopep8>=1.6.0->dglgo)\n",
            "  Downloading pycodestyle-2.11.1-py2.py3-none-any.whl (31 kB)\n",
            "Requirement already satisfied: tomli in /usr/local/lib/python3.10/dist-packages (from autopep8>=1.6.0->dglgo) (2.0.1)\n",
            "Requirement already satisfied: sphinx>=5 in /usr/local/lib/python3.10/dist-packages (from numpydoc>=1.1.0->dglgo) (5.0.2)\n",
            "Requirement already satisfied: Jinja2>=2.10 in /usr/local/lib/python3.10/dist-packages (from numpydoc>=1.1.0->dglgo) (3.1.2)\n",
            "Requirement already satisfied: tabulate>=0.8.10 in /usr/local/lib/python3.10/dist-packages (from numpydoc>=1.1.0->dglgo) (0.9.0)\n",
            "Requirement already satisfied: torch>=1.6.0 in /usr/local/lib/python3.10/dist-packages (from ogb>=1.3.3->dglgo) (2.1.0+cu121)\n",
            "Requirement already satisfied: numpy>=1.16.0 in /usr/local/lib/python3.10/dist-packages (from ogb>=1.3.3->dglgo) (1.23.5)\n",
            "Requirement already satisfied: tqdm>=4.29.0 in /usr/local/lib/python3.10/dist-packages (from ogb>=1.3.3->dglgo) (4.66.1)\n",
            "Requirement already satisfied: pandas>=0.24.0 in /usr/local/lib/python3.10/dist-packages (from ogb>=1.3.3->dglgo) (1.5.3)\n",
            "Requirement already satisfied: six>=1.12.0 in /usr/local/lib/python3.10/dist-packages (from ogb>=1.3.3->dglgo) (1.16.0)\n",
            "Requirement already satisfied: urllib3>=1.24.0 in /usr/local/lib/python3.10/dist-packages (from ogb>=1.3.3->dglgo) (2.0.7)\n",
            "Collecting outdated>=0.2.0 (from ogb>=1.3.3->dglgo)\n",
            "  Downloading outdated-0.2.2-py2.py3-none-any.whl (7.5 kB)\n",
            "Requirement already satisfied: typing-extensions>=4.2.0 in /usr/local/lib/python3.10/dist-packages (from pydantic>=1.9.0->dglgo) (4.5.0)\n",
            "Collecting ruamel.yaml.clib>=0.2.7 (from ruamel.yaml>=0.17.20->dglgo)\n",
            "  Downloading ruamel.yaml.clib-0.2.8-cp310-cp310-manylinux_2_17_x86_64.manylinux2014_x86_64.manylinux_2_24_x86_64.whl (526 kB)\n",
            "\u001b[2K     \u001b[90m━━━━━━━━━━━━━━━━━━━━━━━━━━━━━━━━━━━━━━━━\u001b[0m \u001b[32m526.7/526.7 kB\u001b[0m \u001b[31m41.0 MB/s\u001b[0m eta \u001b[36m0:00:00\u001b[0m\n",
            "\u001b[?25hRequirement already satisfied: scipy>=1.3.2 in /usr/local/lib/python3.10/dist-packages (from scikit-learn>=0.20.0->dglgo) (1.11.4)\n",
            "Requirement already satisfied: joblib>=1.1.1 in /usr/local/lib/python3.10/dist-packages (from scikit-learn>=0.20.0->dglgo) (1.3.2)\n",
            "Requirement already satisfied: threadpoolctl>=2.0.0 in /usr/local/lib/python3.10/dist-packages (from scikit-learn>=0.20.0->dglgo) (3.2.0)\n",
            "Requirement already satisfied: click<9.0.0,>=7.1.1 in /usr/local/lib/python3.10/dist-packages (from typer>=0.4.0->dglgo) (8.1.7)\n",
            "Requirement already satisfied: Pillow in /usr/local/lib/python3.10/dist-packages (from rdkit-pypi->dglgo) (9.4.0)\n",
            "Requirement already satisfied: MarkupSafe>=2.0 in /usr/local/lib/python3.10/dist-packages (from Jinja2>=2.10->numpydoc>=1.1.0->dglgo) (2.1.3)\n",
            "Requirement already satisfied: setuptools>=44 in /usr/local/lib/python3.10/dist-packages (from outdated>=0.2.0->ogb>=1.3.3->dglgo) (67.7.2)\n",
            "Collecting littleutils (from outdated>=0.2.0->ogb>=1.3.3->dglgo)\n",
            "  Downloading littleutils-0.2.2.tar.gz (6.6 kB)\n",
            "  Preparing metadata (setup.py) ... \u001b[?25l\u001b[?25hdone\n",
            "Requirement already satisfied: requests in /usr/local/lib/python3.10/dist-packages (from outdated>=0.2.0->ogb>=1.3.3->dglgo) (2.31.0)\n",
            "Requirement already satisfied: python-dateutil>=2.8.1 in /usr/local/lib/python3.10/dist-packages (from pandas>=0.24.0->ogb>=1.3.3->dglgo) (2.8.2)\n",
            "Requirement already satisfied: pytz>=2020.1 in /usr/local/lib/python3.10/dist-packages (from pandas>=0.24.0->ogb>=1.3.3->dglgo) (2023.3.post1)\n",
            "Requirement already satisfied: sphinxcontrib-applehelp in /usr/local/lib/python3.10/dist-packages (from sphinx>=5->numpydoc>=1.1.0->dglgo) (1.0.7)\n",
            "Requirement already satisfied: sphinxcontrib-devhelp in /usr/local/lib/python3.10/dist-packages (from sphinx>=5->numpydoc>=1.1.0->dglgo) (1.0.5)\n",
            "Requirement already satisfied: sphinxcontrib-jsmath in /usr/local/lib/python3.10/dist-packages (from sphinx>=5->numpydoc>=1.1.0->dglgo) (1.0.1)\n",
            "Requirement already satisfied: sphinxcontrib-htmlhelp>=2.0.0 in /usr/local/lib/python3.10/dist-packages (from sphinx>=5->numpydoc>=1.1.0->dglgo) (2.0.4)\n",
            "Requirement already satisfied: sphinxcontrib-serializinghtml>=1.1.5 in /usr/local/lib/python3.10/dist-packages (from sphinx>=5->numpydoc>=1.1.0->dglgo) (1.1.9)\n",
            "Requirement already satisfied: sphinxcontrib-qthelp in /usr/local/lib/python3.10/dist-packages (from sphinx>=5->numpydoc>=1.1.0->dglgo) (1.0.6)\n",
            "Requirement already satisfied: Pygments>=2.0 in /usr/local/lib/python3.10/dist-packages (from sphinx>=5->numpydoc>=1.1.0->dglgo) (2.16.1)\n",
            "Requirement already satisfied: docutils<0.19,>=0.14 in /usr/local/lib/python3.10/dist-packages (from sphinx>=5->numpydoc>=1.1.0->dglgo) (0.18.1)\n",
            "Requirement already satisfied: snowballstemmer>=1.1 in /usr/local/lib/python3.10/dist-packages (from sphinx>=5->numpydoc>=1.1.0->dglgo) (2.2.0)\n",
            "Requirement already satisfied: babel>=1.3 in /usr/local/lib/python3.10/dist-packages (from sphinx>=5->numpydoc>=1.1.0->dglgo) (2.14.0)\n",
            "Requirement already satisfied: alabaster<0.8,>=0.7 in /usr/local/lib/python3.10/dist-packages (from sphinx>=5->numpydoc>=1.1.0->dglgo) (0.7.13)\n",
            "Requirement already satisfied: imagesize in /usr/local/lib/python3.10/dist-packages (from sphinx>=5->numpydoc>=1.1.0->dglgo) (1.4.1)\n",
            "Requirement already satisfied: packaging in /usr/local/lib/python3.10/dist-packages (from sphinx>=5->numpydoc>=1.1.0->dglgo) (23.2)\n",
            "Requirement already satisfied: filelock in /usr/local/lib/python3.10/dist-packages (from torch>=1.6.0->ogb>=1.3.3->dglgo) (3.13.1)\n",
            "Requirement already satisfied: sympy in /usr/local/lib/python3.10/dist-packages (from torch>=1.6.0->ogb>=1.3.3->dglgo) (1.12)\n",
            "Requirement already satisfied: networkx in /usr/local/lib/python3.10/dist-packages (from torch>=1.6.0->ogb>=1.3.3->dglgo) (3.2.1)\n",
            "Requirement already satisfied: fsspec in /usr/local/lib/python3.10/dist-packages (from torch>=1.6.0->ogb>=1.3.3->dglgo) (2023.6.0)\n",
            "Requirement already satisfied: triton==2.1.0 in /usr/local/lib/python3.10/dist-packages (from torch>=1.6.0->ogb>=1.3.3->dglgo) (2.1.0)\n",
            "Requirement already satisfied: charset-normalizer<4,>=2 in /usr/local/lib/python3.10/dist-packages (from requests->outdated>=0.2.0->ogb>=1.3.3->dglgo) (3.3.2)\n",
            "Requirement already satisfied: idna<4,>=2.5 in /usr/local/lib/python3.10/dist-packages (from requests->outdated>=0.2.0->ogb>=1.3.3->dglgo) (3.6)\n",
            "Requirement already satisfied: certifi>=2017.4.17 in /usr/local/lib/python3.10/dist-packages (from requests->outdated>=0.2.0->ogb>=1.3.3->dglgo) (2023.11.17)\n",
            "Requirement already satisfied: mpmath>=0.19 in /usr/local/lib/python3.10/dist-packages (from sympy->torch>=1.6.0->ogb>=1.3.3->dglgo) (1.3.0)\n",
            "Building wheels for collected packages: littleutils\n",
            "  Building wheel for littleutils (setup.py) ... \u001b[?25l\u001b[?25hdone\n",
            "  Created wheel for littleutils: filename=littleutils-0.2.2-py3-none-any.whl size=7026 sha256=400f180a73a176ed3039489c1ce5f43a068c4afb2aedf22066653cf2cfabb3ae\n",
            "  Stored in directory: /root/.cache/pip/wheels/3d/fe/b0/27a9892da57472e538c7452a721a9cf463cc03cf7379889266\n",
            "Successfully built littleutils\n",
            "Installing collected packages: littleutils, ruamel.yaml.clib, rdkit-pypi, pycodestyle, isort, ruamel.yaml, outdated, autopep8, ogb, numpydoc, dglgo\n",
            "Successfully installed autopep8-2.0.4 dglgo-0.0.2 isort-5.13.2 littleutils-0.2.2 numpydoc-1.6.0 ogb-1.3.6 outdated-0.2.2 pycodestyle-2.11.1 rdkit-pypi-2022.9.5 ruamel.yaml-0.18.5 ruamel.yaml.clib-0.2.8\n"
          ]
        }
      ]
    },
    {
      "cell_type": "code",
      "source": [
        "# use this to install CPU-only version\n",
        "#!pip install dgl dglgo -f https://data.dgl.ai/wheels/repo.html\n",
        "#!pip install dgl==0.9 dglgo -f https://data.dgl.ai/wheels/repo.html\n",
        "\n",
        "#clear_output()"
      ],
      "metadata": {
        "id": "sf2Nj1Hpw3VR"
      },
      "execution_count": null,
      "outputs": []
    },
    {
      "cell_type": "code",
      "source": [
        "import dgl\n",
        "print(dgl.__version__)"
      ],
      "metadata": {
        "colab": {
          "base_uri": "https://localhost:8080/"
        },
        "id": "gb5obXGdw3YL",
        "outputId": "889b851a-ff10-4d72-a711-7f26ca6b434d"
      },
      "execution_count": null,
      "outputs": [
        {
          "output_type": "stream",
          "name": "stderr",
          "text": [
            "DGL backend not selected or invalid.  Assuming PyTorch for now.\n"
          ]
        },
        {
          "output_type": "stream",
          "name": "stdout",
          "text": [
            "Setting the default backend to \"pytorch\". You can change it in the ~/.dgl/config.json file or export the DGLBACKEND environment variable.  Valid options are: pytorch, mxnet, tensorflow (all lowercase)\n",
            "2.0.0+cu121\n"
          ]
        }
      ]
    },
    {
      "cell_type": "code",
      "source": [
        "import os\n",
        "os.environ['DGLBACKEND'] = 'pytorch'\n",
        "print(os.getenv('DGLBACKEND'))"
      ],
      "metadata": {
        "colab": {
          "base_uri": "https://localhost:8080/"
        },
        "id": "JZFWR8U-0dzf",
        "outputId": "a5852e3c-6886-450f-a352-3ce65bbb412c"
      },
      "execution_count": null,
      "outputs": [
        {
          "output_type": "stream",
          "name": "stdout",
          "text": [
            "pytorch\n"
          ]
        }
      ]
    },
    {
      "cell_type": "code",
      "source": [
        "!printenv DGLBACKEND"
      ],
      "metadata": {
        "colab": {
          "base_uri": "https://localhost:8080/"
        },
        "id": "hNa8DeTzzEdD",
        "outputId": "e518010d-193c-46de-cfb6-d95c9727a342"
      },
      "execution_count": null,
      "outputs": [
        {
          "output_type": "stream",
          "name": "stdout",
          "text": [
            "pytorch\n"
          ]
        }
      ]
    },
    {
      "cell_type": "markdown",
      "source": [
        "Установка pyg"
      ],
      "metadata": {
        "id": "9NcIMDD3YWJd"
      }
    },
    {
      "cell_type": "code",
      "source": [
        "!pip install torch_geometric\n",
        "\n",
        "clear_output()"
      ],
      "metadata": {
        "id": "czg9GMsYYXuP"
      },
      "execution_count": null,
      "outputs": []
    },
    {
      "cell_type": "markdown",
      "source": [
        "Для создания эмбеддингов"
      ],
      "metadata": {
        "id": "0EFZuK49WCqj"
      }
    },
    {
      "cell_type": "code",
      "source": [
        "!pip install -q transformers\n",
        "\n",
        "clear_output()"
      ],
      "metadata": {
        "id": "iGy_3V2VThpr"
      },
      "execution_count": null,
      "outputs": []
    },
    {
      "cell_type": "markdown",
      "source": [
        "Для визуализации"
      ],
      "metadata": {
        "id": "GKRGNSIWWFIl"
      }
    },
    {
      "cell_type": "code",
      "source": [
        "# graphviz is installed in Colab server, but need lib to work\n",
        "# credits to: https://gist.github.com/korakot/a80c04a1945b06e2f4a053f92fecfbf9\n",
        "!apt install libgraphviz-dev\n",
        "!pip install pygraphviz\n",
        "\n",
        "clear_output()"
      ],
      "metadata": {
        "id": "7J3nmK9PWHHl"
      },
      "execution_count": null,
      "outputs": []
    },
    {
      "cell_type": "markdown",
      "source": [
        "# Импорт библиотек"
      ],
      "metadata": {
        "id": "xaL8wQALTnZE"
      }
    },
    {
      "cell_type": "code",
      "source": [
        "import torch\n",
        "from transformers import AutoTokenizer, AutoModel"
      ],
      "metadata": {
        "id": "LRG9uPsuTpyG"
      },
      "execution_count": null,
      "outputs": []
    },
    {
      "cell_type": "markdown",
      "source": [
        "# Создание тестового предложения\n"
      ],
      "metadata": {
        "id": "4Sa-SbekP9yv"
      }
    },
    {
      "cell_type": "code",
      "source": [
        "import re\n",
        "\n",
        "\n",
        "numberRegex = re.compile(\"[0-9]+|[0-9]+\\\\.[0-9]+|[0-9]+[0-9,]+\");\n",
        "def normalize(word):\n",
        "    return 'NUM' if numberRegex.match(word) else word.lower()\n",
        "\n",
        "\n",
        "class ConllEntry:\n",
        "    def __init__(self, id, form, lemma, pos, cpos, feats=None, parent_id=None, relation=None,\n",
        "        deps=None, misc=None, treebank_id=None, proxy_tbank=None, language=None, char_rep=None):\n",
        "\n",
        "        self.id = id\n",
        "        self.form = form\n",
        "        self.char_rep = char_rep if char_rep else form\n",
        "        self.norm = normalize(self.char_rep)\n",
        "        self.cpos = cpos\n",
        "        self.pos = pos\n",
        "        self.parent_id = parent_id\n",
        "        self.relation = relation\n",
        "\n",
        "        self.lemma = lemma\n",
        "        self.feats = feats\n",
        "        self.deps = deps\n",
        "        self.misc = misc\n",
        "\n",
        "        self.pred_parent_id = None\n",
        "        self.pred_relation = None\n",
        "        self.treebank_id = treebank_id\n",
        "        self.proxy_tbank = proxy_tbank\n",
        "        self.language = language\n",
        "\n",
        "        self.pred_pos = None\n",
        "        self.pred_cpos = None\n",
        "\n",
        "\n",
        "    def __str__(self):\n",
        "        values = [str(self.id), self.form, self.lemma, \\\n",
        "                  self.pred_cpos if self.pred_cpos else self.cpos,\\\n",
        "                  self.pred_pos if self.pred_pos else self.pos,\\\n",
        "                  self.feats, str(self.pred_parent_id) if self.pred_parent_id \\\n",
        "                  is not None else str(self.parent_id), self.pred_relation if\\\n",
        "                  self.pred_relation is not None else self.relation, \\\n",
        "                  self.deps, self.misc]\n",
        "        return '\\t'.join(['_' if v is None else v for v in values])\n"
      ],
      "metadata": {
        "id": "Qm_j-qlZRq50"
      },
      "execution_count": null,
      "outputs": []
    },
    {
      "cell_type": "markdown",
      "source": [
        "He_1 said_2 he_3 will_4 now_5 consider_6 those_7 offers_8 (.)_9\n"
      ],
      "metadata": {
        "id": "_F-7619jQ-TS"
      }
    },
    {
      "cell_type": "markdown",
      "source": [
        "![граф_конфиг.png](data:image/png;base64,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)"
      ],
      "metadata": {
        "id": "QgJSm_FyRsjA"
      }
    },
    {
      "cell_type": "code",
      "source": [
        "def test_creating():\n",
        "    he1 = ConllEntry(1, \"he\", \"he\", \"\", \"\", feats=\"\", parent_id=2)\n",
        "    said2 = ConllEntry(2, \"said\", \"say\", \"\", \"\", feats=\"\", parent_id=0)\n",
        "    he3 = ConllEntry(3, \"he\", \"he\", \"\", \"\", feats=\"\", parent_id=4)\n",
        "    will4 = ConllEntry(4, \"will\", \"to be\", \"\", \"\", feats=\"\", parent_id=2)\n",
        "    now5 = ConllEntry(5, \"now\", \"now\", \"\", \"\", feats=\"\", parent_id=4)\n",
        "    consider6 = ConllEntry(6, \"consider\", \"consider\", \"\", \"\", feats=\"\", parent_id=4)\n",
        "    those7 = ConllEntry(7, \"those\", \"this\", \"\", \"\", feats=\"\")\n",
        "    offers8 = ConllEntry(8, \"offers\", \"offer\", \"\", \"\", feats=\"\")\n",
        "    point9 = ConllEntry(9, \".\", \".\", \"\", \"\", feats=\"\")\n",
        "\n",
        "    sentence = [he1, said2, he3, will4, now5, consider6, those7, offers8, point9]\n",
        "# TODO: проверить, где в исходном коде начало и конец очереди и стека\n",
        "    stack = [consider6, will4, said2]\n",
        "    buffer = [those7, offers8, point9]\n",
        "    return sentence, stack, buffer"
      ],
      "metadata": {
        "id": "wzVmm4GgP-MB"
      },
      "execution_count": null,
      "outputs": []
    },
    {
      "cell_type": "markdown",
      "source": [
        "# Создание эмбеддингов"
      ],
      "metadata": {
        "id": "baZFJjhNOREZ"
      }
    },
    {
      "cell_type": "code",
      "source": [
        "def get_embed(tokenizer, model, word):\n",
        "    inputs = tokenizer(word, return_tensors=\"pt\")\n",
        "    outputs = model(**inputs)\n",
        "    last_hidden_states = outputs.last_hidden_state[0][0]\n",
        "    return last_hidden_states.detach().cpu()\n",
        "\n",
        "def embed_creating(sentence):\n",
        "    word_embed_size = 312\n",
        "    word_embeds = torch.empty((len(sentence), word_embed_size))\n",
        "\n",
        "    tokenizer = AutoTokenizer.from_pretrained(\"cointegrated/rubert-tiny2\")\n",
        "    model = AutoModel.from_pretrained(\"cointegrated/rubert-tiny2\")\n",
        "    for i in range(len(sentence)):\n",
        "        word_embeds[i] = get_embed(tokenizer, model, sentence[i].form)\n",
        "    print(\"word_embeds.shape:\", word_embeds.shape)\n",
        "    return word_embeds, word_embed_size"
      ],
      "metadata": {
        "id": "wA29UTIQOTWw"
      },
      "execution_count": null,
      "outputs": []
    },
    {
      "cell_type": "markdown",
      "source": [
        "# DGL"
      ],
      "metadata": {
        "id": "rmADL2DEPfos"
      }
    },
    {
      "cell_type": "markdown",
      "source": [
        "## Создание DGL-графа"
      ],
      "metadata": {
        "id": "B1Avdt9uObuY"
      }
    },
    {
      "cell_type": "code",
      "source": [
        "import dgl\n",
        "import dgl.nn.pytorch as dglnn\n",
        "import dgl.nn.pytorch.conv as dglconv"
      ],
      "metadata": {
        "id": "RzvW6NhjcZ1Y"
      },
      "execution_count": null,
      "outputs": []
    },
    {
      "cell_type": "code",
      "source": [
        "# В dgl - нумерация с 0, а в датасете - с 1\n",
        "\n",
        "def dgl_graph_creating(sentence, stack, buffer, word_embeds):\n",
        "    ts = time.time()\n",
        "    graph_edges = []\n",
        "    for node in sentence:\n",
        "        if node.parent_id is not None and node.parent_id != 0:\n",
        "            graph_edges.append((node.parent_id - 1, node.id - 1))\n",
        "    stack_edges = []\n",
        "    for i in range(len(stack) - 1): # Represents every two consecutive stack nodes as an edge\n",
        "        stack_edges.append((stack[i].id - 1, stack[i + 1].id - 1))\n",
        "    buffer_edges = []\n",
        "    for i in range(len(buffer) - 1): # Represents every two consecutive buffer nodes as an edge\n",
        "        buffer_edges.append((buffer[i].id - 1, buffer[i + 1].id - 1))\n",
        "    data_dict = {\n",
        "        ('node', 'graph', 'node'): tuple(zip(*graph_edges)),\n",
        "        ('node', 'stack', 'node'): tuple(zip(*stack_edges)),\n",
        "        ('node', 'buffer', 'node'): tuple(zip(*buffer_edges))\n",
        "    }\n",
        "    data_dict = {k: (torch.tensor(v[0]), torch.tensor(v[1])) for k, v in data_dict.items()}\n",
        "    g = dgl.heterograph(data_dict)\n",
        "    g.ndata[\"x\"] = word_embeds\n",
        "    graph_time = time.time() - ts\n",
        "    return g, graph_time"
      ],
      "metadata": {
        "id": "CFFyDV5uiGVT"
      },
      "execution_count": null,
      "outputs": []
    },
    {
      "cell_type": "markdown",
      "source": [
        "## HeteroGraphConv"
      ],
      "metadata": {
        "id": "Mvq6D5l1plI3"
      }
    },
    {
      "cell_type": "code",
      "source": [
        "def dgl_evaluate_conv(g, word_embed_size, output_size):\n",
        "    feat = {'node': g.ndata[\"x\"]}\n",
        "    conv = dglnn.HeteroGraphConv({\n",
        "        'buffer' : dglnn.GraphConv(word_embed_size, output_size, norm='both', weight=True, bias=True),\n",
        "        'stack' : dglnn.GraphConv(word_embed_size, output_size, norm='both', weight=True, bias=True),\n",
        "        'graph' : dglnn.GraphConv(word_embed_size, output_size, norm='both', weight=True, bias=True)},\n",
        "        aggregate='sum')\n",
        "    res_conv = conv(g, feat)\n",
        "    return sum(res_conv[\"node\"].clone().detach())"
      ],
      "metadata": {
        "id": "JScIG1tpUksk"
      },
      "execution_count": null,
      "outputs": []
    },
    {
      "cell_type": "code",
      "source": [
        "def dgl_evaluate(g, word_embed_size, output_size, device):\n",
        "\n",
        "    ts = time.time()\n",
        "    conv = dglnn.HeteroGraphConv({\n",
        "        'buffer' : dglnn.SAGEConv(word_embed_size, output_size, 'mean', bias=True),\n",
        "        'stack' : dglnn.SAGEConv(word_embed_size, output_size, 'mean', bias=True),\n",
        "        'graph' : dglnn.SAGEConv(word_embed_size, output_size, 'mean', bias=True)},\n",
        "        aggregate='sum')\n",
        "    model_time = time.time() - ts\n",
        "\n",
        "    ts = time.time()\n",
        "    conv = conv.to(device)\n",
        "    device_g = g.to(device)\n",
        "    device_time = time.time() - ts\n",
        "    feat = {'node': device_g.ndata[\"x\"]}\n",
        "    ts = time.time()\n",
        "    res_conv = conv(device_g, feat)\n",
        "    res = sum(res_conv[\"node\"].clone().detach().cpu())\n",
        "    conv_time = time.time() - ts\n",
        "\n",
        "    return res, model_time, device_time, conv_time"
      ],
      "metadata": {
        "id": "rlCtSmlJclfa"
      },
      "execution_count": null,
      "outputs": []
    },
    {
      "cell_type": "markdown",
      "source": [
        "## Визуализация"
      ],
      "metadata": {
        "id": "pvptNlSZWm5m"
      }
    },
    {
      "cell_type": "code",
      "source": [
        "import cv2\n",
        "import pygraphviz as pgv\n",
        "from google.colab.patches import cv2_imshow\n",
        "\n",
        "# helper function\n",
        "def plot_dgl_graph(nxg, save_name):\n",
        "    ag = pgv.AGraph(strict=False, directed=True)\n",
        "    for edge_type in nxg._etypes:\n",
        "        u, v = nxg[edge_type].edges()\n",
        "        for i in range(len(u)):\n",
        "            ag.add_edge(int(u[i]), int(v[i]), label=edge_type)\n",
        "    ag.layout('dot')\n",
        "    ag.draw(save_name+'.png')\n",
        "    img = cv2.imread('base_graph.png')\n",
        "    cv2_imshow(img)"
      ],
      "metadata": {
        "id": "1fKuzGkjWopO"
      },
      "execution_count": null,
      "outputs": []
    },
    {
      "cell_type": "markdown",
      "source": [
        "# PYG"
      ],
      "metadata": {
        "id": "gxOjzcXVXFF2"
      }
    },
    {
      "cell_type": "code",
      "source": [
        "import torch_geometric.nn\n",
        "import torch_geometric.data"
      ],
      "metadata": {
        "id": "QMgFLCa5cTKM"
      },
      "execution_count": null,
      "outputs": []
    },
    {
      "cell_type": "markdown",
      "source": [
        "## Создание PYG-графа"
      ],
      "metadata": {
        "id": "8BswKaobXeNQ"
      }
    },
    {
      "cell_type": "code",
      "source": [
        "def create_stack_edges(stack):\n",
        "    if len(stack) == 0:\n",
        "        return torch.stack((torch.tensor([], dtype=torch.int32), \\\n",
        "                            torch.tensor([], dtype=torch.int32)), dim=0)\n",
        "    stack_edges = []\n",
        "    if len(stack) == 1:\n",
        "        stack_edges.append((stack[0].id - 1, stack[0].id - 1)) # temporary solution\n",
        "    else:\n",
        "        for i in range(len(stack) - 1): # Represents every two consecutive stack nodes as an edge\n",
        "            stack_edges.append((stack[i].id - 1, stack[i + 1].id - 1))\n",
        "    stack_edges = tuple(zip(*stack_edges))\n",
        "    stack_edges = [torch.tensor(stack_edges[0]), torch.tensor(stack_edges[1])]\n",
        "    return torch.stack(stack_edges, dim=0)\n",
        "\n",
        "def create_buffer_edges(buffer):\n",
        "    if len(buffer) == 0 or len(buffer) == 1: # Last element is a technical root element.\n",
        "        return torch.stack((torch.tensor([], dtype=torch.int32), \\\n",
        "                            torch.tensor([], dtype=torch.int32)), dim=0)\n",
        "    buffer_edges = []\n",
        "    if len(buffer) == 2: # Last element is a technical root element.\n",
        "        buffer_edges.append((buffer[0].id - 1, buffer[0].id - 1)) # temporary solution\n",
        "    else:\n",
        "        for i in range(len(buffer) - 2): # Last element is a technical root element.\n",
        "        # Represents every two consecutive buffer nodes as an edge\n",
        "            buffer_edges.append((buffer[i].id - 1, buffer[i + 1].id - 1))\n",
        "    buffer_edges = tuple(zip(*buffer_edges))\n",
        "    buffer_edges = [torch.tensor(buffer_edges[0]), torch.tensor(buffer_edges[1])]\n",
        "    return torch.stack(buffer_edges, dim=0)\n",
        "\n",
        "def create_graph_edges(sentence):\n",
        "    graph_edges = []\n",
        "    for node in sentence:\n",
        "        if node.pred_parent_id is not None and node.pred_parent_id != 0 \\\n",
        "            and node.pred_parent_id != -1:\n",
        "            graph_edges.append((node.pred_parent_id - 1, node.id - 1))\n",
        "    if len(graph_edges) == 0:\n",
        "        return torch.stack((torch.tensor([], dtype=torch.int32), \\\n",
        "                            torch.tensor([], dtype=torch.int32)), dim=0)\n",
        "    graph_edges = tuple(zip(*graph_edges))\n",
        "    graph_edges = [torch.tensor(graph_edges[0]), torch.tensor(graph_edges[1])]\n",
        "    return torch.stack(graph_edges, dim=0)\n",
        "\n",
        "def pyg_graph_creating(sentence, stack, buffer, word_embeds):\n",
        "    ts = time.time()\n",
        "    data = torch_geometric.data.HeteroData()\n",
        "    data['node']['x'] = word_embeds\n",
        "\n",
        "    data[('node', 'graph', 'node')].edge_index = create_graph_edges(sentence)\n",
        "    data[('node', 'stack', 'node')].edge_index = create_stack_edges(stack)\n",
        "    data[('node', 'buffer', 'node')].edge_index = create_buffer_edges(buffer)\n",
        "    graph_time = time.time() - ts\n",
        "\n",
        "    return data, graph_time"
      ],
      "metadata": {
        "id": "wmx5W370XHSk"
      },
      "execution_count": null,
      "outputs": []
    },
    {
      "cell_type": "markdown",
      "source": [
        "## Hetero GNN"
      ],
      "metadata": {
        "id": "z22VLwF3Xbfc"
      }
    },
    {
      "cell_type": "code",
      "source": [
        "class GNN(torch.nn.Module):\n",
        "    def __init__(self, word_embed_size, output_size):\n",
        "        super().__init__()\n",
        "        self.conv1 = torch_geometric.nn.SAGEConv(word_embed_size, output_size)\n",
        "\n",
        "    def forward(self, x, edge_index):\n",
        "        return self.conv1(x, edge_index)\n",
        "\n",
        "\n",
        "def pyg_evaluate(g, word_embed_size, output_size, device):\n",
        "    ts = time.time()\n",
        "    single_conv = GNN(word_embed_size, output_size)\n",
        "\n",
        "\n",
        "    metadata = (['node'], [('node', 'graph', 'node'), ('node', 'stack', 'node'),\\\n",
        "                                     ('node', 'buffer', 'node')])\n",
        "    conv = torch_geometric.nn.to_hetero(single_conv, metadata, aggr='sum')\n",
        "    model_time = time.time() - ts\n",
        "\n",
        "    ts = time.time()\n",
        "    conv = conv.to(device)\n",
        "    device_g = g.to(device)\n",
        "    device_time = time.time() - ts\n",
        "\n",
        "    ts = time.time()\n",
        "    res_conv = conv(device_g.x_dict, device_g.edge_index_dict)\n",
        "    res = torch.sum(res_conv['node'].clone().detach().cpu(), dim=0)\n",
        "    conv_time = time.time() - ts\n",
        "\n",
        "    return res, model_time, device_time, conv_time"
      ],
      "metadata": {
        "id": "iZgsFt88XUHW"
      },
      "execution_count": null,
      "outputs": []
    },
    {
      "cell_type": "markdown",
      "source": [
        "# Запуск"
      ],
      "metadata": {
        "id": "DnMh4-Z0T3a6"
      }
    },
    {
      "cell_type": "code",
      "source": [
        "#random.seed(1)"
      ],
      "metadata": {
        "id": "u-sUAON_eF3P"
      },
      "execution_count": null,
      "outputs": []
    },
    {
      "cell_type": "code",
      "source": [
        "res_size = 4"
      ],
      "metadata": {
        "id": "tEijgzCmZdDs"
      },
      "execution_count": null,
      "outputs": []
    },
    {
      "cell_type": "code",
      "source": [
        "sentence, stack, buffer = test_creating()\n",
        "word_embeds, word_embed_size = embed_creating(sentence)"
      ],
      "metadata": {
        "colab": {
          "base_uri": "https://localhost:8080/",
          "height": 350,
          "referenced_widgets": [
            "c7409f96c7e849aeb5a73700969b6242",
            "e7ca456b982f4008b9fcd6d4c4d26ecb",
            "18111372304f4871b5580521cf1a1ed1",
            "fd43575606c14b9987d9a55b0a266c22",
            "7d91318e9cdd4ba5a602866b5bf57a86",
            "329dcc43f1bb47b49f04a6e00b864f86",
            "81eb6d89004d466e8378b49aac29c7c6",
            "a323eb0c5d564cd9bd583c5da78b89d5",
            "f90bfa2570a94846995e273280470468",
            "13ecd9c8ac1a4506a201677985031117",
            "14800b585057475dacb93678c5546624",
            "b7a007a8d1244c0eb4786e96d4dae21d",
            "797d655bca7e471887a3983708b1f840",
            "b87707807e2b400988705a5cd2fc2fd6",
            "b1191a23376d4ee0bda9ca85ac117c2d",
            "237372c6569a4ae091ea33d1a28bc66c",
            "1e92908522044766a95727f034512fb1",
            "d14685f48cfb4ac4818b9c4400e4588e",
            "0363ea8266ef48ceb7a9a1c8abe2882b",
            "cde27f107dd946b981e439f21ddc6f21",
            "ddecec4ff48e474987bb1baafe9174a3",
            "d5694923136444eaabc877ee8c8354c5",
            "3e111014c764422ab5d5f4ce6b76db68",
            "537e5894b49e4cc1ac998ea9be3ebd7a",
            "fa17e304de7e487581738b9c7e441847",
            "860fe2fc91a74bf58bef8d5f66af92a7",
            "300ac9bd92124cba9a0bc2796f604b26",
            "b323d2e84db2484f9cc91b8e2db1c1c5",
            "390592bb9b4b41a5a7a77c8ea8d7e579",
            "8dec3ba3f8e84a468deb0e70c63a5e6a",
            "99c519da553b4ce180612895a283f946",
            "e9a740b87ba44c79b56d2420dd61546b",
            "621519c0fdee4dcd9782af8e1e198bc3",
            "7b9823bda8e0480b88c67a11f8b7c12e",
            "04d686c382f948e8934d0a4b108b4aac",
            "977a5e9967d4459c9bbf0659a4359bc1",
            "5949d5ec766849b693a97d6be205fa06",
            "46dde6014420443f8725f78e255f7d73",
            "e9e6afd02e1246f9a87b5578ed810e81",
            "2feee1c635b545bdb4cd5fe15fc54014",
            "09e0024db0f54e9bb79cab81a2e7c26d",
            "ad66ac1736fe4354bf4424777cc36901",
            "e6f6f585d0944c70893a480ec3ea9b15",
            "c7023493b07145299fd41d75acfb8fd2",
            "11788e4d428d4559a9643a98aef38f4d",
            "82d89f17a9ff495999ea4cd0bd742ed9",
            "a3ecaf370de6450d85e5bb0b42e28e06",
            "e15304c355214acabcef914c3a3922b2",
            "c3b6dd51e9224625872461609ce5889f",
            "ff3e7edbdce24fd0b09f76a256435d52",
            "f03ca2d425a149a399da8e3842e157a9",
            "db3fac0c298c4d1b83b92e454e334130",
            "55811e09abc840538bd91662935fc2f2",
            "beb938012c0c4101b53d698d1ab51453",
            "95899fa9d0dc4b25874b752342ef394b",
            "5981434408d74592b2f7277779e52742",
            "8c8e2297734444539cd23270fee0b628",
            "b0c9b373a5294df2bdbf8faf3db44cd8",
            "0fb5ca09be6b40b3ac3a2d39721272ec",
            "8e682b7c97be489f9bdfc089a94fa7f7",
            "16b8ed5b3e41486888fb853107f4224e",
            "d69315d756e048f8a5520d1ba4d1f609",
            "142488ae43384d6dadc53ea7bc96fa80",
            "f838b4e841704caaa609d3b2a22669c1",
            "0fbcb6ecddf74167b556105f6c82eab3",
            "0f06e779699e4057ae1dee18c31f804a"
          ]
        },
        "id": "VloyLjiJUXrN",
        "outputId": "0e113d8e-4586-421f-8ad4-608859f1f19b"
      },
      "execution_count": null,
      "outputs": [
        {
          "output_type": "stream",
          "name": "stderr",
          "text": [
            "/usr/local/lib/python3.10/dist-packages/huggingface_hub/utils/_token.py:88: UserWarning: \n",
            "The secret `HF_TOKEN` does not exist in your Colab secrets.\n",
            "To authenticate with the Hugging Face Hub, create a token in your settings tab (https://huggingface.co/settings/tokens), set it as secret in your Google Colab and restart your session.\n",
            "You will be able to reuse this secret in all of your notebooks.\n",
            "Please note that authentication is recommended but still optional to access public models or datasets.\n",
            "  warnings.warn(\n"
          ]
        },
        {
          "output_type": "display_data",
          "data": {
            "text/plain": [
              "tokenizer_config.json:   0%|          | 0.00/401 [00:00<?, ?B/s]"
            ],
            "application/vnd.jupyter.widget-view+json": {
              "version_major": 2,
              "version_minor": 0,
              "model_id": "c7409f96c7e849aeb5a73700969b6242"
            }
          },
          "metadata": {}
        },
        {
          "output_type": "display_data",
          "data": {
            "text/plain": [
              "vocab.txt:   0%|          | 0.00/1.08M [00:00<?, ?B/s]"
            ],
            "application/vnd.jupyter.widget-view+json": {
              "version_major": 2,
              "version_minor": 0,
              "model_id": "b7a007a8d1244c0eb4786e96d4dae21d"
            }
          },
          "metadata": {}
        },
        {
          "output_type": "display_data",
          "data": {
            "text/plain": [
              "tokenizer.json:   0%|          | 0.00/1.74M [00:00<?, ?B/s]"
            ],
            "application/vnd.jupyter.widget-view+json": {
              "version_major": 2,
              "version_minor": 0,
              "model_id": "3e111014c764422ab5d5f4ce6b76db68"
            }
          },
          "metadata": {}
        },
        {
          "output_type": "display_data",
          "data": {
            "text/plain": [
              "special_tokens_map.json:   0%|          | 0.00/112 [00:00<?, ?B/s]"
            ],
            "application/vnd.jupyter.widget-view+json": {
              "version_major": 2,
              "version_minor": 0,
              "model_id": "7b9823bda8e0480b88c67a11f8b7c12e"
            }
          },
          "metadata": {}
        },
        {
          "output_type": "display_data",
          "data": {
            "text/plain": [
              "config.json:   0%|          | 0.00/693 [00:00<?, ?B/s]"
            ],
            "application/vnd.jupyter.widget-view+json": {
              "version_major": 2,
              "version_minor": 0,
              "model_id": "11788e4d428d4559a9643a98aef38f4d"
            }
          },
          "metadata": {}
        },
        {
          "output_type": "display_data",
          "data": {
            "text/plain": [
              "model.safetensors:   0%|          | 0.00/118M [00:00<?, ?B/s]"
            ],
            "application/vnd.jupyter.widget-view+json": {
              "version_major": 2,
              "version_minor": 0,
              "model_id": "5981434408d74592b2f7277779e52742"
            }
          },
          "metadata": {}
        },
        {
          "output_type": "stream",
          "name": "stdout",
          "text": [
            "word_embeds.shape: torch.Size([9, 312])\n"
          ]
        }
      ]
    },
    {
      "cell_type": "code",
      "source": [
        "import time\n",
        "from collections import defaultdict"
      ],
      "metadata": {
        "id": "MLn7rn5Ja6iC"
      },
      "execution_count": null,
      "outputs": []
    },
    {
      "cell_type": "code",
      "source": [
        "n = 1000"
      ],
      "metadata": {
        "id": "BLFDKN3aKfET"
      },
      "execution_count": null,
      "outputs": []
    },
    {
      "cell_type": "code",
      "source": [
        "res = {}\n",
        "\n",
        "for device_type in [\"cuda\", \"cpu\"]:\n",
        "  device = torch.device(device_type)\n",
        "  task_key = device_type + \"_dgl\"\n",
        "  res[task_key] = defaultdict(int)\n",
        "  for _ in range(n):\n",
        "      dgl_graph, graph_time = dgl_graph_creating(sentence, stack, buffer, word_embeds)\n",
        "      dgl_res, model_time, device_time, conv_time = dgl_evaluate(dgl_graph, word_embed_size, res_size, device)\n",
        "      res[task_key][\"graph_time\"] += graph_time\n",
        "      res[task_key][\"model_time\"] += model_time\n",
        "      res[task_key][\"device_time\"] += device_time\n",
        "      res[task_key][\"conv_time\"] += conv_time\n",
        "\n",
        "  task_key = device_type + \"_pyg\"\n",
        "  res[task_key] = defaultdict(int)\n",
        "  for _ in range(n):\n",
        "      pyg_graph, graph_time = pyg_graph_creating(sentence, stack, buffer, word_embeds)\n",
        "      pyg_res, model_time, device_time, conv_time = pyg_evaluate(pyg_graph, word_embed_size, res_size, device)\n",
        "      res[task_key][\"graph_time\"] += graph_time\n",
        "      res[task_key][\"model_time\"] += model_time\n",
        "      res[task_key][\"device_time\"] += device_time\n",
        "      res[task_key][\"conv_time\"] += conv_time\n",
        "\n",
        "print(res)\n",
        "for task_key, task_dict in res.items():\n",
        "    for time_key, time_res in task_dict.items():\n",
        "        res[task_key][time_key] /= n\n",
        "print(res)\n"
      ],
      "metadata": {
        "colab": {
          "base_uri": "https://localhost:8080/"
        },
        "id": "_Tx_vTdnXPiB",
        "outputId": "04c97586-7489-4882-f7b2-59c219bc6f1f"
      },
      "execution_count": null,
      "outputs": [
        {
          "output_type": "stream",
          "name": "stdout",
          "text": [
            "{'cuda_dgl': defaultdict(<class 'int'>, {'graph_time': 1.9273815155029297, 'model_time': 2.922762632369995, 'device_time': 1.6116528511047363, 'conv_time': 9.024582386016846}), 'cuda_pyg': defaultdict(<class 'int'>, {'graph_time': 0.5104928016662598, 'model_time': 17.72251319885254, 'device_time': 1.454887866973877, 'conv_time': 5.830046892166138}), 'cpu_dgl': defaultdict(<class 'int'>, {'graph_time': 0.890819787979126, 'model_time': 1.109222173690796, 'device_time': 0.16806674003601074, 'conv_time': 2.8683712482452393}), 'cpu_pyg': defaultdict(<class 'int'>, {'graph_time': 0.25005364418029785, 'model_time': 6.728993892669678, 'device_time': 0.20688748359680176, 'conv_time': 1.0463242530822754})}\n",
            "{'cuda_dgl': defaultdict(<class 'int'>, {'graph_time': 0.0019273815155029298, 'model_time': 0.002922762632369995, 'device_time': 0.0016116528511047363, 'conv_time': 0.009024582386016845}), 'cuda_pyg': defaultdict(<class 'int'>, {'graph_time': 0.0005104928016662597, 'model_time': 0.017722513198852537, 'device_time': 0.001454887866973877, 'conv_time': 0.005830046892166138}), 'cpu_dgl': defaultdict(<class 'int'>, {'graph_time': 0.000890819787979126, 'model_time': 0.0011092221736907959, 'device_time': 0.00016806674003601074, 'conv_time': 0.0028683712482452392}), 'cpu_pyg': defaultdict(<class 'int'>, {'graph_time': 0.00025005364418029784, 'model_time': 0.006728993892669678, 'device_time': 0.00020688748359680176, 'conv_time': 0.0010463242530822754})}\n"
          ]
        }
      ]
    },
    {
      "cell_type": "code",
      "source": [
        "from pandas import DataFrame"
      ],
      "metadata": {
        "id": "dqSrNPL2M2_U"
      },
      "execution_count": null,
      "outputs": []
    },
    {
      "cell_type": "code",
      "source": [
        "lines = []\n",
        "columns = []\n",
        "for task_key, task_dict in res.items():\n",
        "    lines.append(task_key)\n",
        "    columns.append(task_dict)\n",
        "df = DataFrame(columns, index=lines)"
      ],
      "metadata": {
        "id": "MY81pAtdNNL2"
      },
      "execution_count": null,
      "outputs": []
    },
    {
      "cell_type": "code",
      "source": [
        "df"
      ],
      "metadata": {
        "colab": {
          "base_uri": "https://localhost:8080/",
          "height": 175
        },
        "id": "fnGRHjpUNNSE",
        "outputId": "99d9deff-bef7-4467-ade5-48de2a291bec"
      },
      "execution_count": null,
      "outputs": [
        {
          "output_type": "execute_result",
          "data": {
            "text/plain": [
              "          graph_time  model_time  device_time  conv_time\n",
              "cuda_dgl    0.001927    0.002923     0.001612   0.009025\n",
              "cuda_pyg    0.000510    0.017723     0.001455   0.005830\n",
              "cpu_dgl     0.000891    0.001109     0.000168   0.002868\n",
              "cpu_pyg     0.000250    0.006729     0.000207   0.001046"
            ],
            "text/html": [
              "\n",
              "  <div id=\"df-e249f849-1aab-4864-9a84-10dcfa3d0059\" class=\"colab-df-container\">\n",
              "    <div>\n",
              "<style scoped>\n",
              "    .dataframe tbody tr th:only-of-type {\n",
              "        vertical-align: middle;\n",
              "    }\n",
              "\n",
              "    .dataframe tbody tr th {\n",
              "        vertical-align: top;\n",
              "    }\n",
              "\n",
              "    .dataframe thead th {\n",
              "        text-align: right;\n",
              "    }\n",
              "</style>\n",
              "<table border=\"1\" class=\"dataframe\">\n",
              "  <thead>\n",
              "    <tr style=\"text-align: right;\">\n",
              "      <th></th>\n",
              "      <th>graph_time</th>\n",
              "      <th>model_time</th>\n",
              "      <th>device_time</th>\n",
              "      <th>conv_time</th>\n",
              "    </tr>\n",
              "  </thead>\n",
              "  <tbody>\n",
              "    <tr>\n",
              "      <th>cuda_dgl</th>\n",
              "      <td>0.001927</td>\n",
              "      <td>0.002923</td>\n",
              "      <td>0.001612</td>\n",
              "      <td>0.009025</td>\n",
              "    </tr>\n",
              "    <tr>\n",
              "      <th>cuda_pyg</th>\n",
              "      <td>0.000510</td>\n",
              "      <td>0.017723</td>\n",
              "      <td>0.001455</td>\n",
              "      <td>0.005830</td>\n",
              "    </tr>\n",
              "    <tr>\n",
              "      <th>cpu_dgl</th>\n",
              "      <td>0.000891</td>\n",
              "      <td>0.001109</td>\n",
              "      <td>0.000168</td>\n",
              "      <td>0.002868</td>\n",
              "    </tr>\n",
              "    <tr>\n",
              "      <th>cpu_pyg</th>\n",
              "      <td>0.000250</td>\n",
              "      <td>0.006729</td>\n",
              "      <td>0.000207</td>\n",
              "      <td>0.001046</td>\n",
              "    </tr>\n",
              "  </tbody>\n",
              "</table>\n",
              "</div>\n",
              "    <div class=\"colab-df-buttons\">\n",
              "\n",
              "  <div class=\"colab-df-container\">\n",
              "    <button class=\"colab-df-convert\" onclick=\"convertToInteractive('df-e249f849-1aab-4864-9a84-10dcfa3d0059')\"\n",
              "            title=\"Convert this dataframe to an interactive table.\"\n",
              "            style=\"display:none;\">\n",
              "\n",
              "  <svg xmlns=\"http://www.w3.org/2000/svg\" height=\"24px\" viewBox=\"0 -960 960 960\">\n",
              "    <path d=\"M120-120v-720h720v720H120Zm60-500h600v-160H180v160Zm220 220h160v-160H400v160Zm0 220h160v-160H400v160ZM180-400h160v-160H180v160Zm440 0h160v-160H620v160ZM180-180h160v-160H180v160Zm440 0h160v-160H620v160Z\"/>\n",
              "  </svg>\n",
              "    </button>\n",
              "\n",
              "  <style>\n",
              "    .colab-df-container {\n",
              "      display:flex;\n",
              "      gap: 12px;\n",
              "    }\n",
              "\n",
              "    .colab-df-convert {\n",
              "      background-color: #E8F0FE;\n",
              "      border: none;\n",
              "      border-radius: 50%;\n",
              "      cursor: pointer;\n",
              "      display: none;\n",
              "      fill: #1967D2;\n",
              "      height: 32px;\n",
              "      padding: 0 0 0 0;\n",
              "      width: 32px;\n",
              "    }\n",
              "\n",
              "    .colab-df-convert:hover {\n",
              "      background-color: #E2EBFA;\n",
              "      box-shadow: 0px 1px 2px rgba(60, 64, 67, 0.3), 0px 1px 3px 1px rgba(60, 64, 67, 0.15);\n",
              "      fill: #174EA6;\n",
              "    }\n",
              "\n",
              "    .colab-df-buttons div {\n",
              "      margin-bottom: 4px;\n",
              "    }\n",
              "\n",
              "    [theme=dark] .colab-df-convert {\n",
              "      background-color: #3B4455;\n",
              "      fill: #D2E3FC;\n",
              "    }\n",
              "\n",
              "    [theme=dark] .colab-df-convert:hover {\n",
              "      background-color: #434B5C;\n",
              "      box-shadow: 0px 1px 3px 1px rgba(0, 0, 0, 0.15);\n",
              "      filter: drop-shadow(0px 1px 2px rgba(0, 0, 0, 0.3));\n",
              "      fill: #FFFFFF;\n",
              "    }\n",
              "  </style>\n",
              "\n",
              "    <script>\n",
              "      const buttonEl =\n",
              "        document.querySelector('#df-e249f849-1aab-4864-9a84-10dcfa3d0059 button.colab-df-convert');\n",
              "      buttonEl.style.display =\n",
              "        google.colab.kernel.accessAllowed ? 'block' : 'none';\n",
              "\n",
              "      async function convertToInteractive(key) {\n",
              "        const element = document.querySelector('#df-e249f849-1aab-4864-9a84-10dcfa3d0059');\n",
              "        const dataTable =\n",
              "          await google.colab.kernel.invokeFunction('convertToInteractive',\n",
              "                                                    [key], {});\n",
              "        if (!dataTable) return;\n",
              "\n",
              "        const docLinkHtml = 'Like what you see? Visit the ' +\n",
              "          '<a target=\"_blank\" href=https://colab.research.google.com/notebooks/data_table.ipynb>data table notebook</a>'\n",
              "          + ' to learn more about interactive tables.';\n",
              "        element.innerHTML = '';\n",
              "        dataTable['output_type'] = 'display_data';\n",
              "        await google.colab.output.renderOutput(dataTable, element);\n",
              "        const docLink = document.createElement('div');\n",
              "        docLink.innerHTML = docLinkHtml;\n",
              "        element.appendChild(docLink);\n",
              "      }\n",
              "    </script>\n",
              "  </div>\n",
              "\n",
              "\n",
              "<div id=\"df-5cb5409e-5253-46fb-8458-51d2674480ff\">\n",
              "  <button class=\"colab-df-quickchart\" onclick=\"quickchart('df-5cb5409e-5253-46fb-8458-51d2674480ff')\"\n",
              "            title=\"Suggest charts\"\n",
              "            style=\"display:none;\">\n",
              "\n",
              "<svg xmlns=\"http://www.w3.org/2000/svg\" height=\"24px\"viewBox=\"0 0 24 24\"\n",
              "     width=\"24px\">\n",
              "    <g>\n",
              "        <path d=\"M19 3H5c-1.1 0-2 .9-2 2v14c0 1.1.9 2 2 2h14c1.1 0 2-.9 2-2V5c0-1.1-.9-2-2-2zM9 17H7v-7h2v7zm4 0h-2V7h2v10zm4 0h-2v-4h2v4z\"/>\n",
              "    </g>\n",
              "</svg>\n",
              "  </button>\n",
              "\n",
              "<style>\n",
              "  .colab-df-quickchart {\n",
              "      --bg-color: #E8F0FE;\n",
              "      --fill-color: #1967D2;\n",
              "      --hover-bg-color: #E2EBFA;\n",
              "      --hover-fill-color: #174EA6;\n",
              "      --disabled-fill-color: #AAA;\n",
              "      --disabled-bg-color: #DDD;\n",
              "  }\n",
              "\n",
              "  [theme=dark] .colab-df-quickchart {\n",
              "      --bg-color: #3B4455;\n",
              "      --fill-color: #D2E3FC;\n",
              "      --hover-bg-color: #434B5C;\n",
              "      --hover-fill-color: #FFFFFF;\n",
              "      --disabled-bg-color: #3B4455;\n",
              "      --disabled-fill-color: #666;\n",
              "  }\n",
              "\n",
              "  .colab-df-quickchart {\n",
              "    background-color: var(--bg-color);\n",
              "    border: none;\n",
              "    border-radius: 50%;\n",
              "    cursor: pointer;\n",
              "    display: none;\n",
              "    fill: var(--fill-color);\n",
              "    height: 32px;\n",
              "    padding: 0;\n",
              "    width: 32px;\n",
              "  }\n",
              "\n",
              "  .colab-df-quickchart:hover {\n",
              "    background-color: var(--hover-bg-color);\n",
              "    box-shadow: 0 1px 2px rgba(60, 64, 67, 0.3), 0 1px 3px 1px rgba(60, 64, 67, 0.15);\n",
              "    fill: var(--button-hover-fill-color);\n",
              "  }\n",
              "\n",
              "  .colab-df-quickchart-complete:disabled,\n",
              "  .colab-df-quickchart-complete:disabled:hover {\n",
              "    background-color: var(--disabled-bg-color);\n",
              "    fill: var(--disabled-fill-color);\n",
              "    box-shadow: none;\n",
              "  }\n",
              "\n",
              "  .colab-df-spinner {\n",
              "    border: 2px solid var(--fill-color);\n",
              "    border-color: transparent;\n",
              "    border-bottom-color: var(--fill-color);\n",
              "    animation:\n",
              "      spin 1s steps(1) infinite;\n",
              "  }\n",
              "\n",
              "  @keyframes spin {\n",
              "    0% {\n",
              "      border-color: transparent;\n",
              "      border-bottom-color: var(--fill-color);\n",
              "      border-left-color: var(--fill-color);\n",
              "    }\n",
              "    20% {\n",
              "      border-color: transparent;\n",
              "      border-left-color: var(--fill-color);\n",
              "      border-top-color: var(--fill-color);\n",
              "    }\n",
              "    30% {\n",
              "      border-color: transparent;\n",
              "      border-left-color: var(--fill-color);\n",
              "      border-top-color: var(--fill-color);\n",
              "      border-right-color: var(--fill-color);\n",
              "    }\n",
              "    40% {\n",
              "      border-color: transparent;\n",
              "      border-right-color: var(--fill-color);\n",
              "      border-top-color: var(--fill-color);\n",
              "    }\n",
              "    60% {\n",
              "      border-color: transparent;\n",
              "      border-right-color: var(--fill-color);\n",
              "    }\n",
              "    80% {\n",
              "      border-color: transparent;\n",
              "      border-right-color: var(--fill-color);\n",
              "      border-bottom-color: var(--fill-color);\n",
              "    }\n",
              "    90% {\n",
              "      border-color: transparent;\n",
              "      border-bottom-color: var(--fill-color);\n",
              "    }\n",
              "  }\n",
              "</style>\n",
              "\n",
              "  <script>\n",
              "    async function quickchart(key) {\n",
              "      const quickchartButtonEl =\n",
              "        document.querySelector('#' + key + ' button');\n",
              "      quickchartButtonEl.disabled = true;  // To prevent multiple clicks.\n",
              "      quickchartButtonEl.classList.add('colab-df-spinner');\n",
              "      try {\n",
              "        const charts = await google.colab.kernel.invokeFunction(\n",
              "            'suggestCharts', [key], {});\n",
              "      } catch (error) {\n",
              "        console.error('Error during call to suggestCharts:', error);\n",
              "      }\n",
              "      quickchartButtonEl.classList.remove('colab-df-spinner');\n",
              "      quickchartButtonEl.classList.add('colab-df-quickchart-complete');\n",
              "    }\n",
              "    (() => {\n",
              "      let quickchartButtonEl =\n",
              "        document.querySelector('#df-5cb5409e-5253-46fb-8458-51d2674480ff button');\n",
              "      quickchartButtonEl.style.display =\n",
              "        google.colab.kernel.accessAllowed ? 'block' : 'none';\n",
              "    })();\n",
              "  </script>\n",
              "</div>\n",
              "    </div>\n",
              "  </div>\n"
            ]
          },
          "metadata": {},
          "execution_count": 34
        }
      ]
    },
    {
      "cell_type": "code",
      "source": [
        "#plot_dgl_graph(dgl_graph, 'base_graph')"
      ],
      "metadata": {
        "id": "j-3s4C-WWlC-"
      },
      "execution_count": null,
      "outputs": []
    },
    {
      "cell_type": "code",
      "source": [],
      "metadata": {
        "id": "P95DugGd7UoW"
      },
      "execution_count": null,
      "outputs": []
    }
  ]
}