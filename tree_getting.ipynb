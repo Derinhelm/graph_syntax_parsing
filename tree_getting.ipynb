{
 "cells": [
  {
   "cell_type": "markdown",
   "id": "ff7da5cc",
   "metadata": {},
   "source": [
    "## Исследование файла из датасета."
   ]
  },
  {
   "cell_type": "code",
   "execution_count": 2,
   "id": "c76c4eb5",
   "metadata": {},
   "outputs": [
    {
     "name": "stdout",
     "output_type": "stream",
     "text": [
      "CONTRIBUTING.md  README.md\t\t\t ru_syntagrus-ud-train-b.conllu\r\n",
      "eval.log\t ru_syntagrus-ud-dev.conllu\t ru_syntagrus-ud-train-c.conllu\r\n",
      "LICENSE.txt\t ru_syntagrus-ud-test.conllu\t stats.xml\r\n",
      "not-to-release\t ru_syntagrus-ud-train-a.conllu\r\n"
     ]
    }
   ],
   "source": [
    "! cd \"UD_Russian-SynTagRus\"; ls"
   ]
  },
  {
   "cell_type": "code",
   "execution_count": 3,
   "id": "24dd4257",
   "metadata": {},
   "outputs": [],
   "source": [
    "f = open(\"./UD_Russian-SynTagRus/ru_syntagrus-ud-train-a.conllu\", \"r\")\n",
    "s = f.read()\n",
    "f.close()"
   ]
  },
  {
   "cell_type": "code",
   "execution_count": 4,
   "id": "52dc3aec",
   "metadata": {
    "scrolled": true
   },
   "outputs": [
    {
     "data": {
      "text/plain": [
       "34459446"
      ]
     },
     "execution_count": 4,
     "metadata": {},
     "output_type": "execute_result"
    }
   ],
   "source": [
    "len(s)"
   ]
  },
  {
   "cell_type": "code",
   "execution_count": 5,
   "id": "926ffd82",
   "metadata": {},
   "outputs": [
    {
     "data": {
      "text/plain": [
       "''"
      ]
     },
     "execution_count": 5,
     "metadata": {},
     "output_type": "execute_result"
    }
   ],
   "source": [
    "s.split(\"\\n\\n\")[-1] # Не учитываем последний элемент после split"
   ]
  },
  {
   "cell_type": "code",
   "execution_count": 6,
   "id": "ec70bdbb",
   "metadata": {},
   "outputs": [],
   "source": [
    "string_elem_len = set()\n",
    "for sentence in s.split(\"\\n\\n\")[:-1]:\n",
    "    for string in sentence.split(\"\\n\"):\n",
    "        if string[0] != \"#\":\n",
    "            string_elem_len.add(len(string.split(\"\\t\")))"
   ]
  },
  {
   "cell_type": "code",
   "execution_count": 7,
   "id": "336827cd",
   "metadata": {},
   "outputs": [
    {
     "data": {
      "text/plain": [
       "{10}"
      ]
     },
     "execution_count": 7,
     "metadata": {},
     "output_type": "execute_result"
    }
   ],
   "source": [
    "string_elem_len"
   ]
  },
  {
   "cell_type": "markdown",
   "id": "491990a4",
   "metadata": {},
   "source": [
    "Каждая строка с информацией о слове (узле дерева) содержит 10 элементов."
   ]
  },
  {
   "cell_type": "code",
   "execution_count": 8,
   "id": "65a48186",
   "metadata": {},
   "outputs": [
    {
     "name": "stdout",
     "output_type": "stream",
     "text": [
      "['1', 'В', 'в', 'ADP', '_', '_', '2', 'case', '2:case', '_']\n",
      "['2', 'приемной', 'приемная', 'NOUN', '_', 'Animacy=Inan|Case=Loc|Gender=Fem|Number=Sing', '6', 'obl', '6:obl:в:loc', '_']\n",
      "['3', 'его', 'он', 'PRON', '_', 'Case=Acc|Gender=Masc|Number=Sing|Person=3|PronType=Prs', '6', 'obj', '6:obj', '_']\n",
      "['4', 'с', 'с', 'ADP', '_', '_', '5', 'case', '5:case', '_']\n",
      "['5', 'утра', 'утро', 'NOUN', '_', 'Animacy=Inan|Case=Gen|Gender=Neut|Number=Sing', '6', 'obl', '6:obl:с:gen', '_']\n",
      "['6', 'ожидали', 'ожидать', 'VERB', '_', 'Aspect=Imp|Mood=Ind|Number=Plur|Tense=Past|VerbForm=Fin|Voice=Act', '0', 'root', '0:root', '_']\n",
      "['7', 'посетители', 'посетитель', 'NOUN', '_', 'Animacy=Anim|Case=Nom|Gender=Masc|Number=Plur', '6', 'nsubj', '6:nsubj', 'SpaceAfter=No']\n",
      "['8', ',', ',', 'PUNCT', '_', '_', '13', 'punct', '13:punct', '_']\n",
      "['9', '-', '-', 'PUNCT', '_', '_', '13', 'punct', '13:punct', '_']\n",
      "['10', 'кое-кто', 'кое-кто', 'PRON', '_', 'Case=Nom|PronType=Ind', '13', 'nsubj', '13:nsubj', '_']\n",
      "['11', 'с', 'с', 'ADP', '_', '_', '13', 'case', '13:case', '_']\n",
      "['12', 'важными', 'важный', 'ADJ', '_', 'Case=Ins|Degree=Pos|Number=Plur', '13', 'amod', '13:amod', '_']\n",
      "['13', 'делами', 'дело', 'NOUN', '_', 'Animacy=Inan|Case=Ins|Gender=Neut|Number=Plur', '7', 'parataxis', '7:parataxis', 'SpaceAfter=No']\n",
      "['14', ',', ',', 'PUNCT', '_', '_', '19', 'punct', '19:punct', '_']\n",
      "['15', 'а', 'а', 'CCONJ', '_', '_', '19', 'cc', '19:cc', '_']\n",
      "['16', 'кое-кто', 'кое-кто', 'PRON', '_', 'Case=Nom|PronType=Ind', '19', 'nsubj', '19:nsubj', '_']\n",
      "['17', 'и', 'и', 'PART', '_', '_', '19', 'advmod', '19:advmod', '_']\n",
      "['18', 'с', 'с', 'ADP', '_', '_', '19', 'case', '19:case', '_']\n",
      "['19', 'такими', 'такой', 'DET', '_', 'Case=Ins|Number=Plur|PronType=Dem', '13', 'det', '13:det|25:obj', 'SpaceAfter=No']\n",
      "['20', ',', ',', 'PUNCT', '_', '_', '23', 'punct', '23:punct', '_']\n",
      "['21', 'которые', 'который', 'PRON', '_', 'Case=Acc|PronType=Int,Rel', '25', 'obj', '19:ref', '_']\n",
      "['22', 'легко', 'легко', 'ADV', '_', 'Degree=Pos', '23', 'advmod', '23:advmod', '_']\n",
      "['23', 'можно', 'можно', 'ADV', '_', 'Degree=Pos', '19', 'acl:relcl', '19:acl:relcl', '_']\n",
      "['24', 'было', 'быть', 'AUX', '_', 'Aspect=Imp|Gender=Neut|Mood=Ind|Number=Sing|Tense=Past|VerbForm=Fin|Voice=Act', '23', 'cop', '23:cop', '_']\n",
      "['25', 'решить', 'решить', 'VERB', '_', 'Aspect=Perf|VerbForm=Inf|Voice=Act', '23', 'csubj', '23:csubj', '_']\n",
      "['26', 'в', 'в', 'ADP', '_', '_', '28', 'case', '28:case', '_']\n",
      "['27', 'нижестоящих', 'нижестоящий', 'ADJ', '_', 'Case=Loc|Degree=Pos|Number=Plur', '28', 'amod', '28:amod', '_']\n",
      "['28', 'инстанциях', 'инстанция', 'NOUN', '_', 'Animacy=Inan|Case=Loc|Gender=Fem|Number=Plur', '25', 'obl', '25:obl:в:loc', 'SpaceAfter=No']\n",
      "['29', ',', ',', 'PUNCT', '_', '_', '31', 'punct', '31:punct', '_']\n",
      "['30', 'не', 'не', 'PART', '_', '_', '31', 'advmod', '31:advmod', '_']\n",
      "['31', 'затрудняя', 'затруднять', 'VERB', '_', 'Aspect=Imp|Tense=Pres|VerbForm=Conv|Voice=Act', '25', 'advcl', '25:advcl', '_']\n",
      "['32', 'Семена', 'Семен', 'PROPN', '_', 'Animacy=Anim|Case=Gen|Gender=Masc|Number=Sing', '31', 'obl', '31:obl:gen', '_']\n",
      "['33', 'Еремеевича', 'Еремеевич', 'PROPN', '_', 'Animacy=Anim|Case=Gen|Gender=Masc|Number=Sing', '32', 'flat:name', '32:flat:name', 'SpaceAfter=No']\n",
      "['34', '.', '.', 'PUNCT', '_', '_', '6', 'punct', '6:punct', '_']\n"
     ]
    }
   ],
   "source": [
    "# Берем второе предложение, тк оно длиннее\n",
    "sec_sent = s.split(\"\\n\\n\")[2]\n",
    "for string in sec_sent.split(\"\\n\"):\n",
    "    if string[0] != \"#\":\n",
    "        print(string.split(\"\\t\"))"
   ]
  },
  {
   "cell_type": "markdown",
   "id": "627e65bc",
   "metadata": {},
   "source": [
    "Разметка:\n",
    "+ 0 - id слова (начиная с 1),\n",
    "+ 1 - слово,\n",
    "+ 2 - начальная форма слова,\n",
    "+ 3 - часть речи,\n",
    "+ 4 - ???\n",
    "+ 5 - морфологические характеристики,\n",
    "+ 6 - номер главного слова (для корня, главное слово - 0, тип связи - root),\n",
    "+ 7 - тип связи,\n",
    "+ 8 - номер главного слова + тип связи ???,\n",
    "+ 9 - ?????????"
   ]
  },
  {
   "cell_type": "code",
   "execution_count": 9,
   "id": "5041a9f6",
   "metadata": {},
   "outputs": [],
   "source": [
    "elem4 = set()\n",
    "elem9 = set()\n",
    "differ8 = []\n",
    "for sentence in s.split(\"\\n\\n\")[:-1]:\n",
    "    for string in sentence.split(\"\\n\"):\n",
    "        if string[0] != \"#\":\n",
    "            splitted = string.split(\"\\t\")\n",
    "            elem4.add(splitted[4])\n",
    "            elem9.add(splitted[9])\n",
    "            if splitted[6] + \":\" + splitted[7] != splitted[8]:\n",
    "                differ8.append(splitted)"
   ]
  },
  {
   "cell_type": "code",
   "execution_count": 10,
   "id": "ad42750f",
   "metadata": {},
   "outputs": [
    {
     "data": {
      "text/plain": [
       "({'_'}, {'SpaceAfter=No', '_'})"
      ]
     },
     "execution_count": 10,
     "metadata": {},
     "output_type": "execute_result"
    }
   ],
   "source": [
    "elem4, elem9"
   ]
  },
  {
   "cell_type": "markdown",
   "id": "24804b86",
   "metadata": {},
   "source": [
    "**Вывод: 4 пункт - всегда '_', 9 пункт тоже пока не учитываем.**"
   ]
  },
  {
   "cell_type": "code",
   "execution_count": 12,
   "id": "cb6b8b08",
   "metadata": {},
   "outputs": [
    {
     "data": {
      "text/plain": [
       "[['3',\n",
       "  'управления',\n",
       "  'управление',\n",
       "  'NOUN',\n",
       "  '_',\n",
       "  'Animacy=Inan|Case=Gen|Gender=Neut|Number=Sing',\n",
       "  '1',\n",
       "  'nmod',\n",
       "  '1:nmod:gen',\n",
       "  '_'],\n",
       " ['4',\n",
       "  'связи',\n",
       "  'связь',\n",
       "  'NOUN',\n",
       "  '_',\n",
       "  'Animacy=Inan|Case=Gen|Gender=Fem|Number=Sing',\n",
       "  '3',\n",
       "  'nmod',\n",
       "  '3:nmod:gen',\n",
       "  '_'],\n",
       " ['11',\n",
       "  'приходил',\n",
       "  'приходить',\n",
       "  'VERB',\n",
       "  '_',\n",
       "  'Aspect=Imp|Gender=Masc|Mood=Ind|Number=Sing|Tense=Past|VerbForm=Fin|Voice=Act',\n",
       "  '8',\n",
       "  'conj',\n",
       "  '0:root|8:conj',\n",
       "  '_']]"
      ]
     },
     "execution_count": 12,
     "metadata": {},
     "output_type": "execute_result"
    }
   ],
   "source": [
    "differ8[:3]"
   ]
  },
  {
   "cell_type": "code",
   "execution_count": 13,
   "id": "1c303b98",
   "metadata": {},
   "outputs": [
    {
     "name": "stdout",
     "output_type": "stream",
     "text": [
      "['# sent_id = 2003Anketa.xml_1', '# text = Анкета.', '1\\tАнкета\\tанкета\\tNOUN\\t_\\tAnimacy=Inan|Case=Nom|Gender=Fem|Number=Sing\\t0\\troot\\t0:root\\tSpaceAfter=No', '2\\t.\\t.\\tPUNCT\\t_\\t_\\t1\\tpunct\\t1:punct\\t_']\n",
      "-----------------------\n",
      "['# sent_id = 2003Anketa.xml_2', '# text = Начальник областного управления связи Семен Еремеевич был человек простой, приходил на работу всегда вовремя, здоровался с секретаршей за руку и иногда даже писал в стенгазету заметки под псевдонимом \"Муха\".', '1\\tНачальник\\tначальник\\tNOUN\\t_\\tAnimacy=Anim|Case=Nom|Gender=Masc|Number=Sing\\t8\\tnsubj\\t8:nsubj\\t_', '2\\tобластного\\tобластной\\tADJ\\t_\\tCase=Gen|Degree=Pos|Gender=Neut|Number=Sing\\t3\\tamod\\t3:amod\\t_', '3\\tуправления\\tуправление\\tNOUN\\t_\\tAnimacy=Inan|Case=Gen|Gender=Neut|Number=Sing\\t1\\tnmod\\t1:nmod:gen\\t_', '4\\tсвязи\\tсвязь\\tNOUN\\t_\\tAnimacy=Inan|Case=Gen|Gender=Fem|Number=Sing\\t3\\tnmod\\t3:nmod:gen\\t_', '5\\tСемен\\tСемен\\tPROPN\\t_\\tAnimacy=Anim|Case=Nom|Gender=Masc|Number=Sing\\t1\\tappos\\t1:appos\\t_', '6\\tЕремеевич\\tЕремеевич\\tPROPN\\t_\\tAnimacy=Anim|Case=Nom|Gender=Masc|Number=Sing\\t5\\tflat:name\\t5:flat:name\\t_', '7\\tбыл\\tбыть\\tAUX\\t_\\tAspect=']\n",
      "-----------------------\n"
     ]
    }
   ],
   "source": [
    "for sentence in s[:1000].split(\"\\n\\n\"):\n",
    "    print(sentence.split(\"\\n\"))\n",
    "    print(\"-----------------------\")"
   ]
  },
  {
   "cell_type": "code",
   "execution_count": 14,
   "id": "a3312107",
   "metadata": {},
   "outputs": [
    {
     "data": {
      "text/plain": [
       "[['# sent_id = 2003Anketa.xml_1'],\n",
       " ['# text = Анкета.'],\n",
       " ['1',\n",
       "  'Анкета',\n",
       "  'анкета',\n",
       "  'NOUN',\n",
       "  '_',\n",
       "  'Animacy=Inan|Case=Nom|Gender=Fem|Number=Sing',\n",
       "  '0',\n",
       "  'root',\n",
       "  '0:root',\n",
       "  'SpaceAfter=No'],\n",
       " ['2', '.', '.', 'PUNCT', '_', '_', '1', 'punct', '1:punct', '_'],\n",
       " [''],\n",
       " ['# sent_id = 2003Anketa.xml_2'],\n",
       " ['# text = Начальник областного управления связи Семен Еремеевич был человек простой, приходил на работу всегда вовремя, здоровался с секретаршей за руку и иногда даже писал в стенгазету заметки под псевдонимом \"Муха\".'],\n",
       " ['1',\n",
       "  'Начальник',\n",
       "  'начальник',\n",
       "  'NOUN',\n",
       "  '_',\n",
       "  'Animacy=Anim|Case=Nom|Gender=Masc|Number=Sing',\n",
       "  '8',\n",
       "  'nsubj',\n",
       "  '8:nsubj',\n",
       "  '_'],\n",
       " ['2',\n",
       "  'областного',\n",
       "  'областной',\n",
       "  'ADJ',\n",
       "  '_',\n",
       "  'Case=Gen|Degree=Pos|Gender=Neut|Number=Sing',\n",
       "  '3',\n",
       "  'amod',\n",
       "  '3:amod',\n",
       "  '_'],\n",
       " ['3',\n",
       "  'управления',\n",
       "  'управление',\n",
       "  'NOUN',\n",
       "  '_',\n",
       "  'Animacy=Inan|Case=Gen|Gender=Neut|Number=Sing',\n",
       "  '1',\n",
       "  'nmod',\n",
       "  '1:nmod:gen',\n",
       "  '_'],\n",
       " ['4',\n",
       "  'связи',\n",
       "  'связь',\n",
       "  'NOUN',\n",
       "  '_',\n",
       "  'Animacy=Inan|Case=Gen|Gender=Fem|Number=Sing',\n",
       "  '3',\n",
       "  'nmod',\n",
       "  '3:nmod:gen',\n",
       "  '_'],\n",
       " ['5',\n",
       "  'Семен',\n",
       "  'Семен',\n",
       "  'PROPN',\n",
       "  '_',\n",
       "  'Animacy=Anim|Case=Nom|Gender=Masc|Number=Sing',\n",
       "  '1',\n",
       "  'appos',\n",
       "  '1:appos',\n",
       "  '_'],\n",
       " ['6',\n",
       "  'Еремеевич',\n",
       "  'Еремеевич',\n",
       "  'PROPN',\n",
       "  '_',\n",
       "  'Animacy=Anim|Case=Nom|Gender=Masc|Number=Sing',\n",
       "  '5',\n",
       "  'flat:name',\n",
       "  '5:flat:name',\n",
       "  '_'],\n",
       " ['7', 'был', 'быть', 'AUX', '_', 'Aspect=']]"
      ]
     },
     "execution_count": 14,
     "metadata": {},
     "output_type": "execute_result"
    }
   ],
   "source": [
    "list(map(lambda x: x.split(\"\\t\"), s[:1000].split(\"\\n\")))"
   ]
  },
  {
   "cell_type": "code",
   "execution_count": null,
   "id": "054a2ed3",
   "metadata": {},
   "outputs": [],
   "source": []
  },
  {
   "cell_type": "code",
   "execution_count": 15,
   "id": "a44225e2",
   "metadata": {},
   "outputs": [],
   "source": [
    "import numpy as np"
   ]
  },
  {
   "cell_type": "code",
   "execution_count": 28,
   "id": "d6c28145",
   "metadata": {},
   "outputs": [
    {
     "name": "stderr",
     "output_type": "stream",
     "text": [
      "/tmp/ipykernel_13733/3421457243.py:13: VisibleDeprecationWarning: Creating an ndarray from ragged nested sequences (which is a list-or-tuple of lists-or-tuples-or ndarrays with different lengths or shapes) is deprecated. If you meant to do this, you must specify 'dtype=object' when creating the ndarray.\n",
      "  file_array = np.array(file_array)\n"
     ]
    }
   ],
   "source": [
    "file_array = []\n",
    "for sentence in s.split(\"\\n\\n\")[:-1]:\n",
    "    sent_array = []\n",
    "    for string in sentence.split(\"\\n\"):\n",
    "        if string[0] != \"#\":\n",
    "            w = string.split(\"\\t\")\n",
    "            # id слова, слово, лексема, морф.характеристики, номер главного, тип связи\n",
    "            # номер слова может быть дробным (например, 2.1)\n",
    "            string_elem = np.array([w[0], w[1], w[2], w[5], w[6], w[7]])\n",
    "            sent_array.append(string_elem)\n",
    "    sent_array = np.array(sent_array)\n",
    "    file_array.append(sent_array)\n",
    "file_array = np.array(file_array)"
   ]
  },
  {
   "cell_type": "code",
   "execution_count": 29,
   "id": "faccb805",
   "metadata": {},
   "outputs": [
    {
     "data": {
      "text/plain": [
       "(2, 6)"
      ]
     },
     "execution_count": 29,
     "metadata": {},
     "output_type": "execute_result"
    }
   ],
   "source": [
    "file_array[0].shape"
   ]
  },
  {
   "cell_type": "code",
   "execution_count": 30,
   "id": "73836ed2",
   "metadata": {},
   "outputs": [
    {
     "data": {
      "text/plain": [
       "(34, 6)"
      ]
     },
     "execution_count": 30,
     "metadata": {},
     "output_type": "execute_result"
    }
   ],
   "source": [
    "file_array[1].shape"
   ]
  },
  {
   "cell_type": "code",
   "execution_count": null,
   "id": "3f0043a7",
   "metadata": {},
   "outputs": [],
   "source": []
  },
  {
   "cell_type": "code",
   "execution_count": 24,
   "id": "0ef1b416",
   "metadata": {},
   "outputs": [
    {
     "data": {
      "text/plain": [
       "59848"
      ]
     },
     "execution_count": 24,
     "metadata": {},
     "output_type": "execute_result"
    }
   ],
   "source": [
    "s.find(\"2.1\")"
   ]
  },
  {
   "cell_type": "code",
   "execution_count": 32,
   "id": "d42c313a",
   "metadata": {},
   "outputs": [
    {
     "data": {
      "text/plain": [
       "[['ой',\n",
       "  'DET',\n",
       "  '_',\n",
       "  'Case=Nom|Gender=Fem|Number=Sing|Poss=Yes|PronType=Prs',\n",
       "  '3',\n",
       "  'det',\n",
       "  '3:det',\n",
       "  '_'],\n",
       " ['3',\n",
       "  'фамилия',\n",
       "  'фамилия',\n",
       "  'NOUN',\n",
       "  '_',\n",
       "  'Animacy=Inan|Case=Nom|Gender=Fem|Number=Sing',\n",
       "  '4',\n",
       "  'nsubj',\n",
       "  '4:nsubj',\n",
       "  '_'],\n",
       " ['4',\n",
       "  'Ефимова',\n",
       "  'Ефимова',\n",
       "  'PROPN',\n",
       "  '_',\n",
       "  'Animacy=Anim|Case=Nom|Gender=Fem|Number=Sing',\n",
       "  '0',\n",
       "  'root',\n",
       "  '0:root',\n",
       "  'SpaceAfter=No'],\n",
       " ['5', ',', ',', 'PUNCT', '_', '_', '7', 'punct', '7:punct', '_'],\n",
       " ['6', '-', '-', 'PUNCT', '_', '_', '7', 'punct', '7:punct', '_'],\n",
       " ['7',\n",
       "  'начала',\n",
       "  'начать',\n",
       "  'VERB',\n",
       "  '_',\n",
       "  'Aspect=Perf|Gender=Fem|Mood=Ind|Number=Sing|Tense=Past|VerbForm=Fin|Voice=Act',\n",
       "  '4',\n",
       "  'parataxis',\n",
       "  '4:parataxis',\n",
       "  '_'],\n",
       " ['8',\n",
       "  'назойливая',\n",
       "  'назойливый',\n",
       "  'ADJ',\n",
       "  '_',\n",
       "  'Case=Nom|Degree=Pos|Gender=Fem|Number=Sing',\n",
       "  '9',\n",
       "  'amod',\n",
       "  '9:amod',\n",
       "  '_'],\n",
       " ['9',\n",
       "  'женщина',\n",
       "  'женщина',\n",
       "  'NOUN',\n",
       "  '_',\n",
       "  'Animacy=Anim|Case=Nom|Gender=Fem|Number=Sing',\n",
       "  '7',\n",
       "  'nsubj',\n",
       "  '7:nsubj',\n",
       "  'SpaceAfter=No'],\n",
       " ['10', '.', '.', 'PUNCT', '_', '_', '4', 'punct', '4:punct', '_'],\n",
       " [''],\n",
       " ['# sent_id = 2003Anketa.xml_45'],\n",
       " ['# text = - Я насчет работы…'],\n",
       " ['1', '-', '-', 'PUNCT', '_', '_', '2', 'punct', '2:punct', '_'],\n",
       " ['2',\n",
       "  'Я',\n",
       "  'я',\n",
       "  'PRON',\n",
       "  '_',\n",
       "  'Case=Nom|Number=Sing|Person=1|PronType=Prs',\n",
       "  '0',\n",
       "  'root',\n",
       "  '0:root',\n",
       "  '_'],\n",
       " ['2.1', '_', '_', '_', '_', '_', '_', '_', '0:root', '_'],\n",
       " ['3', 'насчет', 'насчет', 'ADP', '_', '_', '4', 'case', '4:case', '_'],\n",
       " ['4',\n",
       "  'работы',\n",
       "  'работа',\n",
       "  'NOUN',\n",
       "  '_',\n",
       "  'Animacy=Inan|Case=Gen|Gender=Fem|Number=Sing',\n",
       "  '2',\n",
       "  'orphan',\n",
       "  '2.1:obl:']]"
      ]
     },
     "execution_count": 32,
     "metadata": {},
     "output_type": "execute_result"
    }
   ],
   "source": [
    "list(map(lambda x: x.split(\"\\t\"), s[59000:60000].split(\"\\n\")))"
   ]
  },
  {
   "cell_type": "markdown",
   "id": "043f8795",
   "metadata": {},
   "source": [
    "### Вывод\n",
    "Из каждой строчки, описывающей слово, извлекаем:\n",
    "- 0 - id слова (нумерация с 1),\n",
    "- 1 - слово,\n",
    "- 2 - начальная форма слова,\n",
    "- 5 - морфологические характеристики,\n",
    "- 6 - номер главного слова (для корня, главное слово - 0, тип связи - root),\n",
    "- 7 - тип связи,"
   ]
  },
  {
   "cell_type": "markdown",
   "id": "a0b86215",
   "metadata": {},
   "source": [
    "## Извлечение информации из датасета"
   ]
  },
  {
   "cell_type": "code",
   "execution_count": 20,
   "id": "5ab458af",
   "metadata": {},
   "outputs": [],
   "source": [
    "class WordFromCorpora:\n",
    "    def __init__(self, word_string):\n",
    "        self.id = word_string[0]\n",
    "        self.main_id = word_string[6]\n",
    "        self.feat = word_string[5]\n",
    "        self.word = word_string[1]\n",
    "        self.normal_form = word_string[2]\n",
    "        self.link_type = word_string[7]\n",
    "\n",
    "    def __str__(self):\n",
    "        return str(self.id) + self.word"
   ]
  },
  {
   "cell_type": "code",
   "execution_count": 21,
   "id": "1ae8c67c",
   "metadata": {},
   "outputs": [],
   "source": [
    "def get_file_words(file_name):\n",
    "    f = open(file_name, \"r\")\n",
    "    s = f.read()\n",
    "    f.close()\n",
    "\n",
    "    dataset_array = [] # Для файла из датасета\n",
    "    for sentence in s.split(\"\\n\\n\")[:-1]:\n",
    "        sent = []\n",
    "        for string in sentence.split(\"\\n\"):\n",
    "            if string[0] != \"#\":\n",
    "                w = string.split(\"\\t\")\n",
    "                # id слова, слово, лексема, морф.характеристики, номер главного, тип связи\n",
    "                # номер слова может быть дробным (например, 2.1)\n",
    "                word_info = WordFromCorpora(w)\n",
    "                sent.append(word_info)\n",
    "        dataset_array.append(sent)\n",
    "    return dataset_array"
   ]
  },
  {
   "cell_type": "code",
   "execution_count": 22,
   "id": "95a469b6",
   "metadata": {},
   "outputs": [],
   "source": [
    "train_a = get_file_words(\"./UD_Russian-SynTagRus/ru_syntagrus-ud-train-a.conllu\")\n",
    "train_b = get_file_words(\"./UD_Russian-SynTagRus/ru_syntagrus-ud-train-b.conllu\")\n",
    "train_c = get_file_words(\"./UD_Russian-SynTagRus/ru_syntagrus-ud-train-c.conllu\")\n",
    "dev = get_file_words(\"./UD_Russian-SynTagRus/ru_syntagrus-ud-dev.conllu\")\n",
    "test = get_file_words(\"./UD_Russian-SynTagRus/ru_syntagrus-ud-test.conllu\")\n"
   ]
  },
  {
   "cell_type": "code",
   "execution_count": 23,
   "id": "54417ad6",
   "metadata": {},
   "outputs": [
    {
     "data": {
      "text/plain": [
       "{'id': '1',\n",
       " 'main_id': '0',\n",
       " 'feat': 'Animacy=Inan|Case=Nom|Gender=Fem|Number=Sing',\n",
       " 'word': 'Анкета',\n",
       " 'normal_form': 'анкета',\n",
       " 'link_type': 'root'}"
      ]
     },
     "execution_count": 23,
     "metadata": {},
     "output_type": "execute_result"
    }
   ],
   "source": [
    "train_a[0][0].__dict__"
   ]
  },
  {
   "cell_type": "code",
   "execution_count": 24,
   "id": "fc9daa5e",
   "metadata": {},
   "outputs": [
    {
     "name": "stdout",
     "output_type": "stream",
     "text": [
      "Размер в байтах:\n",
      "  train_a:  200312\n",
      "  train_b:  200312\n",
      "  train_c:  178016\n",
      "  dev:      77840\n",
      "  test:     77840\n"
     ]
    }
   ],
   "source": [
    "import sys\n",
    "print(\"Размер в байтах:\")\n",
    "print(\"  train_a: \", sys.getsizeof(train_a))\n",
    "print(\"  train_b: \", sys.getsizeof(train_b))\n",
    "print(\"  train_c: \", sys.getsizeof(train_c))\n",
    "print(\"  dev:     \", sys.getsizeof(dev))\n",
    "print(\"  test:    \", sys.getsizeof(test))"
   ]
  },
  {
   "cell_type": "code",
   "execution_count": 25,
   "id": "e7e2b6df",
   "metadata": {},
   "outputs": [],
   "source": [
    "import pickle\n",
    "with open('train_a.pickle', 'wb') as f:\n",
    "     pickle.dump(train_a, f)\n",
    "with open('train_b.pickle', 'wb') as f:\n",
    "     pickle.dump(train_b, f)\n",
    "with open('train_c.pickle', 'wb') as f:\n",
    "     pickle.dump(train_c, f)\n",
    "with open('dev.pickle', 'wb') as f:\n",
    "     pickle.dump(dev, f)\n",
    "with open('test.pickle', 'wb') as f:\n",
    "     pickle.dump(test, f)"
   ]
  },
  {
   "cell_type": "code",
   "execution_count": 26,
   "id": "752de7ad",
   "metadata": {},
   "outputs": [
    {
     "name": "stdout",
     "output_type": "stream",
     "text": [
      "Размер pickle-файла (MB):\n",
      "  train_a:  37.53\n",
      "  train_b:  39.49\n",
      "  train_c:  28.69\n",
      "  dev:      13.41\n",
      "  test:     13.73\n"
     ]
    }
   ],
   "source": [
    "import os\n",
    "print(\"Размер pickle-файла (MB):\")\n",
    "print(\"  train_a: \", round(os.path.getsize(\"train_a.pickle\") / 1048576, 2))\n",
    "print(\"  train_b: \", round(os.path.getsize(\"train_b.pickle\") / 1048576, 2))\n",
    "print(\"  train_c: \", round(os.path.getsize(\"train_c.pickle\") / 1048576, 2))\n",
    "print(\"  dev:     \", round(os.path.getsize(\"dev.pickle\") / 1048576, 2))\n",
    "print(\"  test:    \", round(os.path.getsize(\"test.pickle\") / 1048576, 2))"
   ]
  }
 ],
 "metadata": {
  "kernelspec": {
   "display_name": "Python 3 (ipykernel)",
   "language": "python",
   "name": "python3"
  },
  "language_info": {
   "codemirror_mode": {
    "name": "ipython",
    "version": 3
   },
   "file_extension": ".py",
   "mimetype": "text/x-python",
   "name": "python",
   "nbconvert_exporter": "python",
   "pygments_lexer": "ipython3",
   "version": "3.8.16"
  }
 },
 "nbformat": 4,
 "nbformat_minor": 5
}
