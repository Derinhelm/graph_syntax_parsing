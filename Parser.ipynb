{
  "cells": [
    {
      "cell_type": "markdown",
      "metadata": {
        "id": "view-in-github",
        "colab_type": "text"
      },
      "source": [
        "<a href=\"https://colab.research.google.com/github/Derinhelm/graph_syntax_parsing/blob/main/Parser.ipynb\" target=\"_parent\"><img src=\"https://colab.research.google.com/assets/colab-badge.svg\" alt=\"Open In Colab\"/></a>"
      ]
    },
    {
      "cell_type": "markdown",
      "metadata": {
        "id": "iOZsD_SFlTBL"
      },
      "source": [
        "# Installation"
      ]
    },
    {
      "cell_type": "code",
      "execution_count": 1,
      "metadata": {
        "id": "vnKegDLOlSYC",
        "colab": {
          "base_uri": "https://localhost:8080/"
        },
        "outputId": "77d1aabf-1051-4fdd-f5ae-e3fb8d8d0d1a"
      },
      "outputs": [
        {
          "output_type": "stream",
          "name": "stdout",
          "text": [
            "\u001b[2K     \u001b[90m━━━━━━━━━━━━━━━━━━━━━━━━━━━━━━━━━━━━━━━━\u001b[0m \u001b[32m7.9/7.9 MB\u001b[0m \u001b[31m57.5 MB/s\u001b[0m eta \u001b[36m0:00:00\u001b[0m\n",
            "\u001b[2K     \u001b[90m━━━━━━━━━━━━━━━━━━━━━━━━━━━━━━━━━━━━━━━━\u001b[0m \u001b[32m311.2/311.2 kB\u001b[0m \u001b[31m38.7 MB/s\u001b[0m eta \u001b[36m0:00:00\u001b[0m\n",
            "\u001b[2K     \u001b[90m━━━━━━━━━━━━━━━━━━━━━━━━━━━━━━━━━━━━━━━━\u001b[0m \u001b[32m3.8/3.8 MB\u001b[0m \u001b[31m105.5 MB/s\u001b[0m eta \u001b[36m0:00:00\u001b[0m\n",
            "\u001b[2K     \u001b[90m━━━━━━━━━━━━━━━━━━━━━━━━━━━━━━━━━━━━━━━━\u001b[0m \u001b[32m1.3/1.3 MB\u001b[0m \u001b[31m60.0 MB/s\u001b[0m eta \u001b[36m0:00:00\u001b[0m\n",
            "\u001b[?25h"
          ]
        }
      ],
      "source": [
        "!pip install -q transformers"
      ]
    },
    {
      "cell_type": "code",
      "execution_count": 2,
      "metadata": {
        "id": "pvspeC3VaZil"
      },
      "outputs": [],
      "source": [
        "!pip install torch_geometric\n",
        "\n",
        "from IPython.display import clear_output\n",
        "\n",
        "clear_output()"
      ]
    },
    {
      "cell_type": "markdown",
      "metadata": {
        "id": "OShpLwXMo1bx"
      },
      "source": [
        "# Logging"
      ]
    },
    {
      "cell_type": "markdown",
      "source": [],
      "metadata": {
        "id": "AbnXZi7-E2J1"
      }
    },
    {
      "cell_type": "code",
      "execution_count": 3,
      "metadata": {
        "id": "kTho6ijao0_w"
      },
      "outputs": [],
      "source": [
        "\n",
        "import logging\n",
        "logger = logging.getLogger('my_logger')\n",
        "\n",
        "# Remove all handlers associated with the root logger object.\n",
        "for handler in logging.root.handlers[:]:\n",
        "    logging.root.removeHandler(handler)\n",
        "\n",
        "logging.basicConfig(\n",
        "    filename='app.log', # write to this file\n",
        "    filemode='a', # open in append mode\n",
        "    format='%(name)s - %(levelname)s - %(message)s'\n",
        "    )\n",
        "\n",
        "logging.getLogger().setLevel(logging.INFO)\n",
        "logging.getLogger().setLevel(logging.DEBUG)\n",
        "\n",
        "logging.getLogger(\"urllib3.connectionpool\").disabled = True\n",
        "logging.getLogger(\"filelock\").disabled = True\n",
        "\n",
        "logging.warning('This will get logged to a file')"
      ]
    },
    {
      "cell_type": "code",
      "execution_count": 4,
      "metadata": {
        "id": "h1IM4l2No4-U"
      },
      "outputs": [],
      "source": [
        "logging.warning('New warning')\n",
        "logging.debug('New debug')\n",
        "logging.info('New info')\n"
      ]
    },
    {
      "cell_type": "code",
      "execution_count": 5,
      "metadata": {
        "colab": {
          "base_uri": "https://localhost:8080/"
        },
        "id": "-V3mnSrwo6_C",
        "outputId": "6d2eefe5-0a52-4fca-eb04-43d3260f0231"
      },
      "outputs": [
        {
          "output_type": "stream",
          "name": "stdout",
          "text": [
            "root - WARNING - This will get logged to a file\n",
            "root - WARNING - New warning\n",
            "root - DEBUG - New debug\n",
            "root - INFO - New info\n",
            "\n"
          ]
        }
      ],
      "source": [
        "from pathlib import Path\n",
        "print(Path('/content/app.log').read_text())"
      ]
    },
    {
      "cell_type": "markdown",
      "metadata": {
        "id": "2yL_DsoclYTr"
      },
      "source": [
        "#uuparser/utils.py"
      ]
    },
    {
      "cell_type": "code",
      "execution_count": 6,
      "metadata": {
        "id": "Uhc-Hm49lfaf"
      },
      "outputs": [],
      "source": [
        "from collections import defaultdict, Counter\n",
        "import re\n",
        "import os, time\n",
        "from operator import itemgetter\n",
        "import random\n",
        "import json\n",
        "import pathlib\n",
        "import subprocess\n",
        "import sys\n",
        "\n",
        "import tqdm\n",
        "\n",
        "\n",
        "\n",
        "class ConllEntry:\n",
        "    def __init__(self, id, form, lemma, pos, cpos, feats=None, parent_id=None, relation=None,\n",
        "        deps=None, misc=None):\n",
        "\n",
        "        self.id = id\n",
        "        self.form = form\n",
        "        self.cpos = cpos\n",
        "        self.pos = pos\n",
        "        self.parent_id = parent_id\n",
        "        self.relation = relation\n",
        "\n",
        "        self.lemma = lemma\n",
        "        self.feats = feats\n",
        "        self.deps = deps\n",
        "        self.misc = misc\n",
        "\n",
        "        self.pred_parent_id = None\n",
        "        self.pred_relation = None\n",
        "\n",
        "        self.pred_pos = None\n",
        "        self.pred_cpos = None\n",
        "\n",
        "\n",
        "    def __str__(self):\n",
        "        '''values = [str(self.id), self.form, self.lemma, \\\n",
        "                  self.pred_cpos if self.pred_cpos else self.cpos,\\\n",
        "                  self.pred_pos if self.pred_pos else self.pos,\\\n",
        "                  self.feats, str(self.pred_parent_id) if self.pred_parent_id \\\n",
        "                  is not None else str(self.parent_id), self.pred_relation if\\\n",
        "                  self.pred_relation is not None else self.relation, \\\n",
        "                  self.deps, self.misc]\n",
        "        return '\\t'.join(['_' if v is None else v for v in values])'''\n",
        "        return self.form + \" \" + str(self.id)\n",
        "\n",
        "class ParseForest:\n",
        "    def __init__(self, sentence):\n",
        "        self.roots = list(sentence)\n",
        "\n",
        "        for root in self.roots:\n",
        "            root.children = []\n",
        "            root.scores = None # TODO: зачем?\n",
        "            root.parent = None\n",
        "            root.pred_parent_id = None\n",
        "            root.pred_relation = None\n",
        "            root.vecs = None\n",
        "\n",
        "    def __len__(self):\n",
        "        return len(self.roots)\n",
        "\n",
        "\n",
        "    def Attach(self, parent_index, child_index):\n",
        "        parent = self.roots[parent_index]\n",
        "        child = self.roots[child_index]\n",
        "\n",
        "        child.pred_parent_id = parent.id\n",
        "        del self.roots[child_index]\n",
        "\n",
        "    def __str__(self):\n",
        "        return \" \".join(map(str, self.roots))\n",
        "\n",
        "\n",
        "def isProj(sentence):\n",
        "    forest = ParseForest(sentence)\n",
        "    unassigned = {entry.id: sum([1 for pentry in sentence if pentry.parent_id == entry.id]) for entry in sentence}\n",
        "\n",
        "    for _ in xrange(len(sentence)):\n",
        "        for i in xrange(len(forest.roots) - 1):\n",
        "            if forest.roots[i].parent_id == forest.roots[i+1].id and unassigned[forest.roots[i].id] == 0:\n",
        "                unassigned[forest.roots[i+1].id]-=1\n",
        "                forest.Attach(i+1, i)\n",
        "                break\n",
        "            if forest.roots[i+1].parent_id == forest.roots[i].id and unassigned[forest.roots[i+1].id] == 0:\n",
        "                unassigned[forest.roots[i].id]-=1\n",
        "                forest.Attach(i, i+1)\n",
        "                break\n",
        "\n",
        "    return len(forest.roots) == 1\n",
        "\n",
        "\n",
        "def get_irels(data):\n",
        "    \"\"\"\n",
        "    Collect frequencies of words, cpos, pos and deprels + languages.\n",
        "    \"\"\"\n",
        "\n",
        "    # could use sets directly rather than counters for most of these,\n",
        "    # but having the counts might be useful in the future or possibly for debugging etc\n",
        "    relCount = Counter()\n",
        "\n",
        "    for sentence in data:\n",
        "        for node in sentence:\n",
        "            if isinstance(node, ConllEntry):\n",
        "                relCount.update([node.relation])\n",
        "\n",
        "    return list(relCount.keys())\n",
        "\n",
        "\n",
        "def generate_root_token():\n",
        "    return ConllEntry(0, '*root*', '*root*', 'ROOT-POS', 'ROOT-CPOS', '_', -1,\n",
        "        'rroot', '_', '_')\n",
        "\n",
        "\n",
        "def read_conll(filename, drop_nproj=False, train=True):\n",
        "    fh = open(filename,'r',encoding='utf-8')\n",
        "    logging.info(f\"Reading {filename}\")\n",
        "    ts = time.time()\n",
        "    dropped = 0\n",
        "    sents_read = 0\n",
        "    sentences = []\n",
        "    tokens = [generate_root_token()]\n",
        "    words = set() # all words from the dataset file\n",
        "    for line in fh:\n",
        "        tok = line.strip().split('\\t')\n",
        "        if not tok or line.strip() == '': # empty line, add sentence to list or yield\n",
        "            if len(tokens) > 1:\n",
        "                sents_read += 1\n",
        "                conll_tokens = [t for t in tokens if isinstance(t,ConllEntry)]\n",
        "                if not drop_nproj or isProj(conll_tokens):\n",
        "                    # keep going if it's projective or we're not dropping non-projective sents\n",
        "                    if train:\n",
        "                        inorder_tokens = inorder(conll_tokens)\n",
        "                        for i,t in enumerate(inorder_tokens):\n",
        "                            t.projective_order = i\n",
        "                        for tok in conll_tokens:\n",
        "                            tok.rdeps = [i.id for i in conll_tokens if i.parent_id == tok.id]\n",
        "                            if tok.id != 0:\n",
        "                                tok.parent_entry = [i for i in conll_tokens if i.id == tok.parent_id][0]\n",
        "                    sentences.append(tokens)\n",
        "                else:\n",
        "                    logging.debug('Non-projective sentence dropped')\n",
        "                    dropped += 1\n",
        "            tokens = [generate_root_token()]\n",
        "        else:\n",
        "            if line[0] == '#' or '-' in tok[0] or '.' in tok[0]: # a comment line, add to tokens as is\n",
        "                tokens.append(line.strip())\n",
        "            else: # an actual ConllEntry, add to tokens\n",
        "                if tok[2] == \"_\":\n",
        "                    tok[2] = tok[1].lower()\n",
        "                lemma = tok[2]\n",
        "                words.add(lemma)\n",
        "                token = ConllEntry(int(tok[0]), tok[1], lemma, tok[4], tok[3], tok[5], \\\n",
        "                    int(tok[6]) if tok[6] != '_' else -1, tok[7], tok[8], tok[9])\n",
        "\n",
        "                tokens.append(token)\n",
        "\n",
        "# deal with case where there are still tokens, that aren`t in sentences list\n",
        "# e.g. when there is no newline at end of file\n",
        "    if len(tokens) > 1:\n",
        "        sentences.append(tokens)\n",
        "\n",
        "    logging.debug(f'{sents_read} sentences read')\n",
        "\n",
        "    te = time.time()\n",
        "    logging.info(f'Time: {te-ts:.2g}s')\n",
        "    return sentences, words\n",
        "\n",
        "\n",
        "def write_conll(fn, conll_gen):\n",
        "    logging.info(f\"Writing to {fn}\")\n",
        "    sents = 0\n",
        "    with open(fn, 'w', encoding='utf-8') as fh:\n",
        "        for sentence in conll_gen:\n",
        "            sents += 1\n",
        "            for entry in sentence[1:]:\n",
        "                fh.write(str(entry) + '\\n')\n",
        "            fh.write('\\n')\n",
        "        logging.debug(f\"Wrote {sents} sentences\")\n",
        "\n",
        "\n",
        "numberRegex = re.compile(\"[0-9]+|[0-9]+\\\\.[0-9]+|[0-9]+[0-9,]+\");\n",
        "def normalize(word):\n",
        "    return 'NUM' if numberRegex.match(word) else word.lower()\n",
        "\n",
        "\n",
        "def inorder(sentence):\n",
        "    queue = [sentence[0]]\n",
        "    def inorder_helper(sentence,i):\n",
        "        results = []\n",
        "        left_children = [entry for entry in sentence[:i] if entry.parent_id == i]\n",
        "        for child in left_children:\n",
        "            results += inorder_helper(sentence,child.id)\n",
        "        results.append(sentence[i])\n",
        "\n",
        "        right_children = [entry for entry in sentence[i:] if entry.parent_id == i ]\n",
        "        for child in right_children:\n",
        "            results += inorder_helper(sentence,child.id)\n",
        "        return results\n",
        "    return inorder_helper(sentence,queue[0].id)\n",
        "\n",
        "\n",
        "def set_seeds():\n",
        "    python_seed = 1\n",
        "    logging.debug(\"Using default Python seed\")\n",
        "    random.seed(python_seed)\n",
        "\n",
        "\n",
        "def generate_seed():\n",
        "    return random.randint(0,10**9) # this range seems to work for Dynet and Python's random function\n"
      ]
    },
    {
      "cell_type": "markdown",
      "metadata": {
        "id": "0jMvUaVzlnEt"
      },
      "source": [
        "# uuparser/multilayer_perceptron.py\n"
      ]
    },
    {
      "cell_type": "code",
      "execution_count": 7,
      "metadata": {
        "id": "bqNBhJ3ilnPT"
      },
      "outputs": [],
      "source": [
        "import torch\n",
        "import torch.nn as nn\n",
        "import torch.nn.functional as F\n",
        "\n",
        "from torch_geometric.nn import SAGEConv, to_hetero\n",
        "import torch\n",
        "\n",
        "class GNNBlock(torch.nn.Module):\n",
        "    def __init__(self, hidden_channels, out_channels):\n",
        "        super().__init__()\n",
        "        self.conv1 = SAGEConv(312, hidden_channels)\n",
        "        self.conv2 = SAGEConv(hidden_channels, out_channels)\n",
        "\n",
        "    def forward(self, x, edge_index):\n",
        "        x = self.conv1(x, edge_index).relu()\n",
        "        x = self.conv2(x, edge_index)\n",
        "        return x\n",
        "\n",
        "\n"
      ]
    },
    {
      "cell_type": "markdown",
      "metadata": {
        "id": "CHwx8pKPlyQb"
      },
      "source": [
        "# uuparser/arc_hybrid.py"
      ]
    },
    {
      "cell_type": "code",
      "execution_count": 8,
      "metadata": {
        "id": "3zYFbQ4ivwnL"
      },
      "outputs": [],
      "source": [
        "from operator import itemgetter\n",
        "from itertools import chain\n",
        "import time, random\n",
        "import numpy as np\n",
        "from copy import deepcopy\n",
        "from collections import defaultdict\n",
        "import json\n",
        "\n",
        "import torch\n",
        "import torch.nn as nn\n",
        "import torch.optim as optim\n",
        "\n",
        "import tqdm\n",
        "\n",
        "\n",
        "from jax.numpy import int32\n",
        "from torch_geometric.data import HeteroData\n",
        "\n",
        "import torch"
      ]
    },
    {
      "cell_type": "markdown",
      "metadata": {
        "id": "FeMXyAEjgagf"
      },
      "source": [
        "## Config"
      ]
    },
    {
      "cell_type": "code",
      "execution_count": 9,
      "metadata": {
        "id": "b0hMZDgY7MC_"
      },
      "outputs": [],
      "source": [
        "def create_stack_edges(stack):\n",
        "    if len(stack) == 0:\n",
        "        return torch.stack((torch.tensor([], dtype=torch.int32), torch.tensor([], dtype=torch.int32)), dim=0)\n",
        "    stack_edges = []\n",
        "    if len(stack) == 1:\n",
        "        stack_edges.append((stack[0].id - 1, stack[0].id - 1)) # temporary solution\n",
        "    else:\n",
        "        for i in range(len(stack) - 1): # Represents every two consecutive stack nodes as an edge\n",
        "            stack_edges.append((stack[i].id - 1, stack[i + 1].id - 1))\n",
        "    stack_edges = tuple(zip(*stack_edges))\n",
        "    stack_edges = [torch.tensor(stack_edges[0]), torch.tensor(stack_edges[1])]\n",
        "    return torch.stack(stack_edges, dim=0)\n",
        "\n",
        "def create_buffer_edges(buffer):\n",
        "    if len(buffer) == 0 or len(buffer) == 1: # Last element is a technical root element.\n",
        "        return torch.stack((torch.tensor([], dtype=torch.int32), torch.tensor([], dtype=torch.int32)), dim=0)\n",
        "    buffer_edges = []\n",
        "    if len(buffer) == 2: # Last element is a technical root element.\n",
        "        buffer_edges.append((buffer[0].id - 1, buffer[0].id - 1)) # temporary solution\n",
        "    else:\n",
        "        for i in range(len(buffer) - 2): # Last element is a technical root element.\n",
        "        # Represents every two consecutive buffer nodes as an edge\n",
        "            buffer_edges.append((buffer[i].id - 1, buffer[i + 1].id - 1))\n",
        "    buffer_edges = tuple(zip(*buffer_edges))\n",
        "    buffer_edges = [torch.tensor(buffer_edges[0]), torch.tensor(buffer_edges[1])]\n",
        "    return torch.stack(buffer_edges, dim=0)\n",
        "\n",
        "def create_graph_edges(sentence):\n",
        "    graph_edges = []\n",
        "    for node in sentence:\n",
        "        if node.pred_parent_id is not None and node.pred_parent_id != 0 and node.pred_parent_id != -1:\n",
        "            graph_edges.append((node.pred_parent_id - 1, node.id - 1))\n",
        "    if len(graph_edges) == 0:\n",
        "        return torch.stack((torch.tensor([], dtype=torch.int32), torch.tensor([], dtype=torch.int32)), dim=0)\n",
        "    graph_edges = tuple(zip(*graph_edges))\n",
        "    graph_edges = [torch.tensor(graph_edges[0]), torch.tensor(graph_edges[1])]\n",
        "    return torch.stack(graph_edges, dim=0)\n",
        "\n",
        "class Configuration:\n",
        "    def __init__(self, sentence, irels):\n",
        "        self.sentence = deepcopy(sentence)\n",
        "        # ensures we are working with a clean copy of sentence and allows memory to be recycled each time round the loop\n",
        "        self.sentence = [entry for entry in self.sentence if isinstance(entry, ConllEntry)]\n",
        "        self.sentence = self.sentence[1:] + [self.sentence[0]]\n",
        "        self.stack = ParseForest([])\n",
        "        self.buffer = ParseForest(self.sentence)\n",
        "        for root in self.sentence:\n",
        "            root.relation = root.relation if root.relation in irels else 'runk'\n",
        "\n",
        "\n",
        "    def config_to_graph(self, embeds):\n",
        "        word_embeds = torch.empty((len(self.sentence), 312))\n",
        "        for i in range(len(self.sentence) - 1): # Last element is a technical root element.\n",
        "            word_embeds[i] = embeds[self.sentence[i].lemma]\n",
        "\n",
        "        data = HeteroData()\n",
        "        data['node']['x'] = word_embeds\n",
        "\n",
        "        data[('node', 'graph', 'node')].edge_index = create_graph_edges(self.sentence)\n",
        "        data[('node', 'stack', 'node')].edge_index = create_stack_edges(self.stack.roots)\n",
        "        data[('node', 'buffer', 'node')].edge_index = create_buffer_edges(self.buffer.roots)\n",
        "        return data\n",
        "\n",
        "    def apply_transition(self, best):\n",
        "        if best[1] == SHIFT:\n",
        "            self.stack.roots.append(self.buffer.roots[0])\n",
        "            del self.buffer.roots[0]\n",
        "\n",
        "        elif best[1] == SWAP:\n",
        "            child = self.stack.roots.pop()\n",
        "            self.buffer.roots.insert(1,child)\n",
        "\n",
        "        elif best[1] == LEFT_ARC:\n",
        "            child = self.stack.roots.pop()\n",
        "            parent = self.buffer.roots[0]\n",
        "\n",
        "        elif best[1] == RIGHT_ARC:\n",
        "            child = self.stack.roots.pop()\n",
        "            parent = self.stack.roots[-1]\n",
        "\n",
        "        if best[1] == LEFT_ARC or best[1] == RIGHT_ARC:\n",
        "            #attach\n",
        "            child.pred_parent_id = parent.id\n",
        "            child.pred_relation = best[0]\n",
        "\n",
        "    def get_stack_ids(self):\n",
        "        return [sitem.id for sitem in self.stack.roots]\n",
        "\n",
        "    def is_stack_not_empty(self):\n",
        "        return len(self.stack) > 0\n",
        "\n",
        "    def get_stack_last_element(self):\n",
        "        return self.stack.roots[-1] # Last stack element\n",
        "\n",
        "    def get_stack_penultimate_element(self):\n",
        "        return self.stack.roots[-2] # Penultimate stack element\n",
        "\n",
        "    def get_buffer_head(self):\n",
        "        return self.buffer.roots[0] # Head buffer element\n",
        "\n",
        "    def get_buffer_tail(self):\n",
        "        return self.buffer.roots[1:] if len(self.buffer) > 1 else [] # Tail of buffer\n",
        "\n",
        "    def get_sentence(self):\n",
        "        return self.sentence\n",
        "\n",
        "    def is_end(self):\n",
        "        return len(self.buffer) == 1 and len(self.stack) == 0\n",
        "\n",
        "    def check_left_arc_conditions(self):\n",
        "        return len(self.stack) > 0\n",
        "\n",
        "    def check_not_train_left_arc_conditions(self):\n",
        "            #(avoiding the multiple roots problem: disallow left-arc from root\n",
        "            #if stack has more than one element\n",
        "        return self.check_left_arc_conditions() and not (self.buffer.roots[0].id == 0 and len(self.stack) > 1)\n",
        "\n",
        "    def check_right_arc_conditions(self):\n",
        "        return len(self.stack) > 1\n",
        "\n",
        "    def check_shift_conditions(self):\n",
        "        return self.buffer.roots[0].id != 0\n",
        "\n",
        "    def check_swap_conditions(self):\n",
        "        return len(self.stack) > 0 and self.stack.roots[-1].id < self.buffer.roots[0].id\n",
        "\n",
        "    def __str__(self):\n",
        "        return \"stack:\" + str(self.stack) + \"\\n\" + \"buffer:\" + str(self.buffer) + \"\\n\"\n",
        "\n",
        "    def calculate_left_cost(self):\n",
        "        if not self.check_left_arc_conditions():\n",
        "            return 1\n",
        "\n",
        "        s0 = self.get_stack_last_element() # Last stack element\n",
        "        b = self.get_buffer_head() # Head buffer element\n",
        "        left_cost = len(s0.rdeps) + int(s0.parent_id != b.id and s0.id in s0.parent_entry.rdeps)\n",
        "\n",
        "        if self.check_swap_conditions() and s0.projective_order > b.projective_order:\n",
        "            left_cost = 1\n",
        "        return left_cost\n",
        "\n",
        "    def calculate_right_cost(self):\n",
        "        if not self.check_right_arc_conditions():\n",
        "            return 1\n",
        "\n",
        "        s1 = self.get_stack_penultimate_element() # Penultimate stack element\n",
        "        s0 = self.get_stack_last_element() # Last stack element\n",
        "        b = self.get_buffer_head() # Head buffer element\n",
        "\n",
        "        right_cost = len(s0.rdeps) + int(s0.parent_id != s1.id and s0.id in s0.parent_entry.rdeps)\n",
        "\n",
        "        if self.check_swap_conditions() and s0.projective_order > b.projective_order:\n",
        "            right_cost = 1\n",
        "\n",
        "        return right_cost\n",
        "\n",
        "    def calculate_shift_cost(self):\n",
        "        if not self.check_shift_conditions():\n",
        "            shift_cost = 1\n",
        "            shift_case = 0\n",
        "            return shift_cost, shift_case\n",
        "\n",
        "        b = self.get_buffer_head() # Head buffer element\n",
        "        beta = self.get_buffer_tail() # Tail (list) of buffer\n",
        "\n",
        "        if len([item for item in beta if item.projective_order < b.projective_order and item.id > b.id ])> 0:\n",
        "            shift_cost = 0\n",
        "            shift_case = 1\n",
        "        else:\n",
        "            stack_ids = self.get_stack_ids()\n",
        "            shift_cost = len([d for d in b.rdeps if d in stack_ids]) + \\\n",
        "                int(self.is_stack_not_empty() and b.parent_id in stack_ids[:-1] and b.id in b.parent_entry.rdeps)\n",
        "            shift_case = 2\n",
        "\n",
        "        if self.check_swap_conditions():\n",
        "            s0 = self.get_stack_last_element() # Last stack element\n",
        "            if s0.projective_order > b.projective_order:\n",
        "                shift_cost = 1\n",
        "\n",
        "        return shift_cost, shift_case\n",
        "\n",
        "    def calculate_swap_cost(self):\n",
        "        if not self.check_swap_conditions():\n",
        "            return 1\n",
        "\n",
        "        s0 = self.get_stack_last_element() # Last stack element\n",
        "        b = self.get_buffer_head() # Head buffer element\n",
        "\n",
        "        if s0.projective_order > b.projective_order:\n",
        "            swap_cost = 0\n",
        "        else:\n",
        "            swap_cost = 1\n",
        "\n",
        "        return swap_cost\n",
        "\n",
        "    def dynamic_oracle_updates(self, best, shift_case):\n",
        "        stack_ids = self.get_stack_ids()\n",
        "        if best[1] == SHIFT:\n",
        "            if shift_case == 2:\n",
        "                b = self.get_buffer_head() # Head buffer element\n",
        "                if b.parent_entry.id in stack_ids[:-1] and b.id in b.parent_entry.rdeps:\n",
        "                    b.parent_entry.rdeps.remove(b.id)\n",
        "                blocked_deps = [d for d in b.rdeps if d in stack_ids]\n",
        "                for d in blocked_deps:\n",
        "                    b.rdeps.remove(d)\n",
        "\n",
        "        elif best[1] == LEFT_ARC or best[1] == RIGHT_ARC:\n",
        "            s0 = self.get_stack_last_element() # Last stack element\n",
        "            s0.rdeps = []\n",
        "            if s0.id in s0.parent_entry.rdeps:\n",
        "                s0.parent_entry.rdeps.remove(s0.id)"
      ]
    },
    {
      "cell_type": "code",
      "execution_count": 10,
      "metadata": {
        "id": "jbk7OAiM3Dc4"
      },
      "outputs": [],
      "source": [
        "evaluate_time = 0\n",
        "transform_time = 0\n",
        "\n",
        "class GNNNet:\n",
        "    def __init__(self, options, out_irels_dims):\n",
        "        self.hidden_dims = options[\"hidden_dims\"]\n",
        "        self.out_irels_dims = out_irels_dims\n",
        "\n",
        "        self.metadata = (['node'], [('node', 'graph', 'node'), ('node', 'stack', 'node'), ('node', 'buffer', 'node')])\n",
        "        self.unlabeled_GNN = GNNBlock(hidden_channels=self.hidden_dims, out_channels=4)\n",
        "        self.unlabeled_GNN = to_hetero(self.unlabeled_GNN, self.metadata, aggr='sum')\n",
        "\n",
        "        self.labeled_GNN = GNNBlock(hidden_channels=self.hidden_dims, out_channels=2*self.out_irels_dims+2)\n",
        "        self.labeled_GNN = to_hetero(self.labeled_GNN, self.metadata, aggr='sum')\n",
        "\n",
        "        self.unlabeled_optimizer = optim.Adam(self.unlabeled_GNN.parameters(), lr=options[\"learning_rate\"])\n",
        "        self.labeled_optimizer = optim.Adam(self.labeled_GNN.parameters(), lr=options[\"learning_rate\"])\n",
        "\n",
        "    def Load(self, epoch):\n",
        "        unlab_path = 'models/model_unlab' + '_' + str(epoch)\n",
        "        lab_path = 'models/model_lab' + '_' + str(epoch)\n",
        "\n",
        "        self.unlabeled_GNN = GNNBlock(hidden_channels=self.hidden_dims, out_channels=4)\n",
        "        self.labeled_GNN = GNNBlock(hidden_channels=self.hidden_dims, out_channels=2*self.out_irels_dims+2)\n",
        "\n",
        "        unlab_checkpoint = torch.load(unlab_path)\n",
        "        self.unlabeled_GNN.load_state_dict(unlab_checkpoint['model_state_dict'], strict=False)\n",
        "\n",
        "        self.unlabeled_GNN = to_hetero(self.unlabeled_GNN, self.metadata, aggr='sum')\n",
        "        self.labeled_GNN = to_hetero(self.labeled_GNN, self.metadata, aggr='sum')\n",
        "\n",
        "        lab_checkpoint = torch.load(lab_path)\n",
        "        self.labeled_GNN.load_state_dict(lab_checkpoint['model_state_dict'], strict=False)\n",
        "\n",
        "    def Save(self, epoch):\n",
        "        unlab_path = 'models/model_unlab' + '_' + str(epoch)\n",
        "        lab_path = 'models/model_lab' + '_' + str(epoch)\n",
        "        logging.info(f'Saving unlabeled model to {unlab_path}')\n",
        "        torch.save({'epoch': epoch, 'model_state_dict': self.unlabeled_GNN.state_dict()}, unlab_path)\n",
        "        logging.info(f'Saving labeled model to {lab_path}')\n",
        "        torch.save({'epoch': epoch, 'model_state_dict': self.labeled_GNN.state_dict()}, lab_path)\n",
        "\n",
        "    def evaluate(self, config, embeds):\n",
        "        global evaluate_time, transform_time\n",
        "        ts = time.time()\n",
        "        graph = config.config_to_graph(embeds)\n",
        "        te = time.time() - ts\n",
        "        transform_time += te\n",
        "        ts = time.time()\n",
        "        uscrs = self.unlabeled_GNN(graph.x_dict, graph.edge_index_dict)\n",
        "        uscrs = torch.sum(uscrs['node'], dim=0)\n",
        "        scrs = self.labeled_GNN(graph.x_dict, graph.edge_index_dict)\n",
        "        scrs = torch.sum(scrs['node'], dim=0)\n",
        "        te2 = time.time() - ts\n",
        "        evaluate_time += te2\n",
        "        return scrs, uscrs\n",
        "\n",
        "    def error_processing(self, errs):\n",
        "        self.labeled_optimizer.zero_grad()\n",
        "        self.unlabeled_optimizer.zero_grad()\n",
        "        eerrs = torch.sum(torch.tensor(errs, requires_grad=True))\n",
        "        eerrs.backward()\n",
        "        self.labeled_optimizer.step() # TODO Какой из оптимизаторов ???\n",
        "        self.unlabeled_optimizer.step()"
      ]
    },
    {
      "cell_type": "markdown",
      "metadata": {
        "id": "weEVVEh23Dc5"
      },
      "source": [
        "## Oracle"
      ]
    },
    {
      "cell_type": "code",
      "execution_count": 11,
      "metadata": {
        "id": "SQxTfeQv3Dc5"
      },
      "outputs": [],
      "source": [
        "class Oracle:\n",
        "    def __init__(self, options, irels, embeds):\n",
        "        self.net = GNNNet(options, len(irels))\n",
        "        self.irels = irels\n",
        "        self.train_info = self.create_train_info()\n",
        "        self.embeds = embeds\n",
        "\n",
        "    def create_train_info(self):\n",
        "        t_info = {}\n",
        "        t_info[\"mloss\"], t_info[\"eloss\"], t_info[\"eerrors\"], t_info[\"lerrors\"], t_info[\"etotal\"] \\\n",
        "            = 0.0, 0.0, 0, 0, 0\n",
        "        t_info[\"errs\"] = []\n",
        "        t_info[\"iSentence\"] = -1\n",
        "        t_info[\"start\"] = time.time()\n",
        "        return t_info\n",
        "\n",
        "    def Load(self, epoch):\n",
        "        self.net.Load(epoch)\n",
        "\n",
        "    def Save(self, epoch):\n",
        "        self.net.Save(epoch)\n",
        "\n",
        "\n",
        "    def test_evaluate(self, config):\n",
        "        \"\"\"\n",
        "        ret = [left arc,\n",
        "               right arc\n",
        "               shift]\n",
        "\n",
        "        RET[i] = (rel, transition, score1) for shift, l_arc and r_arc\n",
        "         shift = 2 (==> rel=None) ; l_arc = 0; r_acr = 1\n",
        "        \"\"\"\n",
        "        scrs, uscrs = self.net.evaluate(config, self.embeds)\n",
        "\n",
        "        #transition conditions\n",
        "        right_arc_conditions = config.check_right_arc_conditions()\n",
        "        shift_conditions = config.check_shift_conditions()\n",
        "        swap_conditions = config.check_swap_conditions()\n",
        "\n",
        "        #(avoiding the multiple roots problem: disallow left-arc from root\n",
        "        #if stack has more than one element\n",
        "        left_arc_conditions = config.check_not_train_left_arc_conditions()\n",
        "\n",
        "        s1,r1 = max(zip(scrs[2::2], self.irels))\n",
        "        s2,r2 = max(zip(scrs[3::2], self.irels))\n",
        "        s1 = s1 + uscrs[2]\n",
        "        s2 = s2 + uscrs[3]\n",
        "        ret = [ [ (r1, LEFT_ARC, s1) ] if left_arc_conditions else [],\n",
        "                [ (r2, RIGHT_ARC, s2) ] if right_arc_conditions else [],\n",
        "                [ (None, SHIFT, scrs[0] + uscrs[0]) ] if shift_conditions else [] ,\n",
        "                [ (None, SWAP, scrs[1] + uscrs[1]) ] if swap_conditions else [] ]\n",
        "        return ret\n",
        "\n",
        "    def create_test_transition(self, config, iSwap, max_swap):\n",
        "        scores = self.test_evaluate(config)\n",
        "        best = max(chain(*(scores if iSwap < max_swap else scores[:3] )), key = itemgetter(2) )\n",
        "        return best\n",
        "\n",
        "    def calculate_left_scores(self, config, scrs, uscrs):\n",
        "        left_arc_conditions = config.check_left_arc_conditions()\n",
        "        if not left_arc_conditions:\n",
        "            return [], []\n",
        "        left_cost = config.calculate_left_cost()\n",
        "        left_scores = [(rel, LEFT_ARC, scrs[2 + j * 2] + uscrs[2]) \\\n",
        "                    for j, rel in enumerate(self.irels)]\n",
        "        if left_cost == 0:\n",
        "            left_valid_scores = [(rel, trans, sc) for (rel, trans, sc) in left_scores \\\n",
        "                if rel == config.get_stack_last_element().relation]\n",
        "            left_wrong_scores = [(rel, trans, sc) for (rel, trans, sc) in left_scores \\\n",
        "                if rel != config.get_stack_last_element().relation]\n",
        "\n",
        "        else:\n",
        "            left_valid_scores = []\n",
        "            left_wrong_scores = left_scores\n",
        "        return left_valid_scores, left_wrong_scores\n",
        "\n",
        "    def calculate_right_scores(self, config, scrs, uscrs):\n",
        "        right_arc_conditions = config.check_right_arc_conditions()\n",
        "        if not right_arc_conditions:\n",
        "            return [], []\n",
        "        right_cost = config.calculate_right_cost()\n",
        "        right_scores = [ (rel, RIGHT_ARC, scrs[3 + j * 2] + uscrs[3]) \\\n",
        "                    for j, rel in enumerate(self.irels) ]\n",
        "\n",
        "        if right_cost == 0:\n",
        "            right_valid_scores = [(rel, trans, sc) for (rel, trans, sc) in right_scores \\\n",
        "                if rel == config.get_stack_last_element().relation]\n",
        "            right_wrong_scores = [(rel, trans, sc) for (rel, trans, sc) in right_scores \\\n",
        "                if rel != config.get_stack_last_element().relation]\n",
        "        else:\n",
        "            right_valid_scores = []\n",
        "            right_wrong_scores = right_scores\n",
        "\n",
        "        return right_valid_scores, right_wrong_scores\n",
        "\n",
        "\n",
        "    def calculate_shift_scores(self, config, scrs, uscrs):\n",
        "        shift_cost, shift_case = config.calculate_shift_cost()\n",
        "        shift_conditions = config.check_shift_conditions()\n",
        "        if not shift_conditions:\n",
        "             return [], [], shift_case\n",
        "\n",
        "        shift_scores = [ (None, SHIFT, scrs[0] + uscrs[0]) ]\n",
        "\n",
        "        if shift_cost == 0:\n",
        "            shift_valid_scores = shift_scores\n",
        "            shift_wrong_scores = []\n",
        "        else:\n",
        "            shift_valid_scores = []\n",
        "            shift_wrong_scores = shift_scores\n",
        "\n",
        "        return shift_valid_scores, shift_wrong_scores, shift_case\n",
        "\n",
        "    def calculate_swap_scores(self, config, scrs, uscrs):\n",
        "        swap_conditions = config.check_swap_conditions()\n",
        "        swap_cost = config.calculate_swap_cost()\n",
        "        if not swap_conditions:\n",
        "            return [], [], swap_cost\n",
        "\n",
        "        swap_scores = [(None, SWAP, scrs[1] + uscrs[1])]\n",
        "\n",
        "        if swap_cost == 0:\n",
        "            swap_valid_scores = swap_scores\n",
        "            swap_wrong_scores = []\n",
        "        else:\n",
        "            swap_valid_scores = []\n",
        "            swap_wrong_scores = swap_scores\n",
        "\n",
        "        return swap_valid_scores, swap_wrong_scores, swap_cost\n",
        "\n",
        "    def error_append(self, best, bestValid, bestWrong, config):\n",
        "        #labeled errors\n",
        "        if best[1] == LEFT_ARC or best[1] == RIGHT_ARC:\n",
        "            child = config.get_stack_last_element() # Last stack element\n",
        "            if (child.pred_parent_id != child.parent_id or child.pred_relation != child.relation):\n",
        "                self.train_info[\"lerrors\"] += 1\n",
        "                #attachment error\n",
        "                if child.pred_parent_id != child.parent_id:\n",
        "                    self.train_info[\"eerrors\"] += 1\n",
        "\n",
        "        if bestValid[2] < bestWrong[2] + 1.0:\n",
        "            loss = bestWrong[2] - bestValid[2]\n",
        "            self.train_info[\"mloss\"] += 1.0 + bestWrong[2] - bestValid[2]\n",
        "            self.train_info[\"eloss\"] += 1.0 + bestWrong[2] - bestValid[2]\n",
        "            self.train_info[\"errs\"].append(loss)\n",
        "\n",
        "        #??? when did this happen and why?\n",
        "        if best[1] == 0 or best[1] == 2:\n",
        "            self.train_info[\"etotal\"] += 1\n",
        "\n",
        "    def create_valid_wrong(self, config, scrs, uscrs):\n",
        "        left_valid, left_wrong = self.calculate_left_scores(config, scrs, uscrs)\n",
        "        right_valid, right_wrong = self.calculate_right_scores(config, scrs, uscrs)\n",
        "        shift_valid, shift_wrong, shift_case = self.calculate_shift_scores(config, scrs, uscrs)\n",
        "        swap_valid, swap_wrong, swap_cost = self.calculate_swap_scores(config, scrs, uscrs)\n",
        "\n",
        "        valid = chain(left_valid, right_valid, shift_valid, swap_valid)\n",
        "        wrong = chain(left_wrong, right_wrong, shift_wrong, swap_wrong, [(None, 4, -float('inf'))])\n",
        "        # (None, 4, -float('inf')) is used to ensure that at least one element will be.\n",
        "        return valid, wrong, shift_case, swap_cost\n",
        "\n",
        "    def create_best(self, bestValid, bestWrong, swap_cost, config, dynamic_oracle):\n",
        "        #force swap\n",
        "        if swap_cost == 0:\n",
        "            best = bestValid\n",
        "        else:\n",
        "        #select a transition to follow\n",
        "        # + aggresive exploration\n",
        "        #1: might want to experiment with that parameter\n",
        "            if bestWrong[1] == SWAP:\n",
        "                best = bestValid\n",
        "            else:\n",
        "                best = bestValid if ( (not dynamic_oracle) or (bestValid[2] - bestWrong[2] > 1.0) \\\n",
        "                    or (bestValid[2] > bestWrong[2] and random.random() > 0.1) ) else bestWrong\n",
        "\n",
        "        return best\n",
        "\n",
        "    def create_train_transition(self, config, dynamic_oracle):\n",
        "        scrs, uscrs = self.net.evaluate(config, self.embeds)\n",
        "        valid, wrong, shift_case, swap_cost = self.create_valid_wrong(config, scrs, uscrs)\n",
        "\n",
        "        best_valid = max(valid, key=itemgetter(2))\n",
        "        best_wrong = max(wrong, key=itemgetter(2))\n",
        "        best = self.create_best(best_valid, best_wrong, swap_cost, config, dynamic_oracle)\n",
        "        self.error_append(best, best_valid, best_wrong, config)\n",
        "        return best, shift_case\n",
        "\n",
        "    def train_logging(self):\n",
        "        loss_message = (\n",
        "            f'Processing sentence number: {self.train_info[\"iSentence\"]}'\n",
        "            f' Loss: {self.train_info[\"eloss\"] / self.train_info[\"etotal\"]:.3f}'\n",
        "            f' Errors: {self.train_info[\"eerrors\"] / self.train_info[\"etotal\"]:.3f}'\n",
        "            f' Labeled Errors: {self.train_info[\"lerrors\"] / self.train_info[\"etotal\"]:.3f}'\n",
        "            f' Time: {time.time() - self.train_info[\"start\"]:.3f}s'\n",
        "        )\n",
        "        logging.debug(loss_message)\n",
        "        self.train_info[\"start\"] = time.time() # TODO: зачем этот параметр ?\n",
        "        self.train_info[\"eerrors\"], self.train_info[\"eloss\"], self.train_info[\"etotal\"], self.train_info[\"lerrors\"] = \\\n",
        "            0, 0.0, 0, 0 # TODO: Почему здесь зануляем?\n",
        "\n",
        "    def error_processing(self, is_final):\n",
        "        # len(self.train_info[\"errs\"]) > 50 is used because of footnote 8 in Eli's original paper\n",
        "        if (is_final and len(self.train_info[\"errs\"]) > 0) or (len(self.train_info[\"errs\"]) > 50):\n",
        "            self.net.error_processing(self.train_info[\"errs\"])\n",
        "            self.train_info[\"errs\"] = []\n",
        "\n",
        "    def get_mloss(self):\n",
        "        return self.train_info['mloss']\n",
        "\n",
        "    def change_sentence_number(self, iSentence):\n",
        "        self.train_info[\"iSentence\"] = iSentence\n",
        "\n"
      ]
    },
    {
      "cell_type": "markdown",
      "metadata": {
        "id": "gxiPi0Trgh1_"
      },
      "source": [
        "## Parser"
      ]
    },
    {
      "cell_type": "code",
      "execution_count": 12,
      "metadata": {
        "id": "eQsABNd7lnST"
      },
      "outputs": [],
      "source": [
        "class Parser:\n",
        "    def __init__(self, options, irels, embeds):\n",
        "\n",
        "        global LEFT_ARC, RIGHT_ARC, SHIFT, SWAP\n",
        "        LEFT_ARC, RIGHT_ARC, SHIFT, SWAP = 0, 1, 2, 3 # TODO: сделать глобальными переменными, используются в Configuration.\n",
        "\n",
        "        self.dynamic_oracle = options[\"dynamic_oracle\"]\n",
        "        self.oracle = Oracle(options, irels, embeds)\n",
        "\n",
        "    def Load(self, epoch):\n",
        "        self.oracle.Load(epoch)\n",
        "\n",
        "    def Save(self, epoch):\n",
        "        self.oracle.Save(epoch)\n",
        "\n",
        "    def Predict(self, data):\n",
        "        reached_max_swap = 0\n",
        "\n",
        "        pbar = tqdm.tqdm(\n",
        "            data,\n",
        "            desc=\"Parsing\",\n",
        "            unit=\"sentences\",\n",
        "            mininterval=1.0,\n",
        "            leave=False,\n",
        "            disable=False,\n",
        "        )\n",
        "\n",
        "        for iSentence, osentence in enumerate(pbar,1):\n",
        "            config = Configuration(osentence, self.oracle.irels)\n",
        "            max_swap = 2*len(osentence)\n",
        "            reached_swap_for_i_sentence = False\n",
        "            iSwap = 0\n",
        "\n",
        "            while not config.is_end():\n",
        "                best = self.oracle.create_test_transition(config, iSwap, max_swap)\n",
        "                if iSwap == max_swap and not reached_swap_for_i_sentence:\n",
        "                    reached_max_swap += 1\n",
        "                    reached_swap_for_i_sentence = True\n",
        "                    logging.debug(f\"reached max swap in {reached_max_swap:d} out of {iSentence:d} sentences\")\n",
        "                config.apply_transition(best)\n",
        "                if best[1] == SWAP:\n",
        "                    iSwap += 1\n",
        "\n",
        "            #keep in memory the information we need, not all the vectors\n",
        "            oconll_sentence = [entry for entry in osentence if isinstance(entry, ConllEntry)]\n",
        "            oconll_sentence = oconll_sentence[1:] + [oconll_sentence[0]]\n",
        "            conll_sentence = config.get_sentence()\n",
        "            for tok_o, tok in zip(oconll_sentence, conll_sentence):\n",
        "                tok_o.pred_relation = tok.pred_relation\n",
        "                tok_o.pred_parent_id = tok.pred_parent_id\n",
        "            yield osentence\n",
        "\n",
        "    def train_sentence(self, sentence):\n",
        "        config = Configuration(sentence, self.oracle.irels)\n",
        "\n",
        "        while not config.is_end():\n",
        "            best, shift_case = self.oracle.create_train_transition(config, self.dynamic_oracle)\n",
        "\n",
        "            #updates for the dynamic oracle\n",
        "            if self.dynamic_oracle: # TODO: проверить, что значит True/False (где dynamic/static)\n",
        "                config.dynamic_oracle_updates(best, shift_case)\n",
        "\n",
        "            config.apply_transition(best)\n",
        "        return\n",
        "\n",
        "    def Train(self, trainData):\n",
        "        random.shuffle(trainData)\n",
        "        # in certain cases the data will already have been shuffled after being read from file or while creating dev data\n",
        "        logging.info(f\"Length of training data: {len(trainData)}\")\n",
        "\n",
        "        beg = time.time()\n",
        "\n",
        "        pbar = tqdm.tqdm(\n",
        "            trainData, desc=\"Training\", unit=\"sentences\",\n",
        "            mininterval=1.0, leave=False, disable=False,\n",
        "        )\n",
        "\n",
        "        for iSentence, sentence in enumerate(pbar,1):\n",
        "            self.oracle.change_sentence_number(iSentence)\n",
        "            if iSentence % 100 == 0:\n",
        "                self.oracle.train_logging()\n",
        "\n",
        "            self.train_sentence(sentence)\n",
        "            self.oracle.error_processing(False)\n",
        "\n",
        "        self.oracle.error_processing(True)\n",
        "\n",
        "        mloss = self.oracle.get_mloss()\n",
        "\n",
        "        logging.info(f\"Loss: {mloss / iSentence}\")\n",
        "        logging.info(f\"Total Training Time: {time.time() - beg:.2g}s\")\n"
      ]
    },
    {
      "cell_type": "markdown",
      "metadata": {
        "id": "j01G-nT6mB7H"
      },
      "source": [
        "# uuparser/parser.py"
      ]
    },
    {
      "cell_type": "code",
      "execution_count": 13,
      "metadata": {
        "id": "484-h9BXlnU7"
      },
      "outputs": [],
      "source": [
        "import pickle, os, time, sys, copy, itertools, re, random\n",
        "\n",
        "from shutil import copyfile\n",
        "\n",
        "def evaluate_uas(sentence_descr):\n",
        "    #sentence_descr is a list, in which elements 0, 1, 2 are auxiliary\n",
        "    right_parent_tokens = 0\n",
        "    for token in sentence_descr[3:]:\n",
        "        if isinstance(token, ConllEntry): # TODO: изучить случаи, когда не ConllEntry - ошибка считывания?\n",
        "          if token.pred_parent_id == token.parent_id:\n",
        "              right_parent_tokens += 1\n",
        "        #print(\"pred_parent:\", token.pred_parent_id, \"real_parent:\", token.parent_id)\n",
        "    uas = right_parent_tokens / (len(sentence_descr) - 3)\n",
        "    return uas\n",
        "\n",
        "def evaluate_uas_epoche(sentence_list):\n",
        "    summ_uas = 0\n",
        "    for sent in sentence_list:\n",
        "        summ_uas += evaluate_uas(sent)\n",
        "    return summ_uas / len(sentence_list)\n",
        "\n",
        "def run(traindata, valdata, testdata, embeds, options):\n",
        "\n",
        "    irels = get_irels(traindata)\n",
        "    logging.debug('Initializing the model')\n",
        "    parser = Parser(options, irels, embeds)\n",
        "\n",
        "    dev_best = [options[\"epochs\"],-1.0] # best epoch, best score\n",
        "\n",
        "    for epoch in range(options[\"first_epoch\"], options[\"epochs\"] + 1):\n",
        "        # Training\n",
        "        logging.info(f'Starting epoch {epoch} (training)')\n",
        "        parser.Train(traindata)\n",
        "        logging.info(f'Finished epoch {epoch} (training)')\n",
        "\n",
        "        parser.Save(epoch)\n",
        "\n",
        "        logging.info(f\"Predicting on dev data\")\n",
        "        dev_pred = list(parser.Predict(valdata))\n",
        "        mean_dev_score = evaluate_uas_epoche(dev_pred)\n",
        "        logging.info(f\"Dev score {mean_dev_score:.2f} at epoch {epoch:d}\")\n",
        "        print(f\"Dev score {mean_dev_score:.2f} at epoch {epoch:d}\")\n",
        "\n",
        "        if mean_dev_score > dev_best[1]:\n",
        "            dev_best = [epoch,mean_dev_score] # update best dev score\n",
        "\n",
        "    logging.info(f\"Loading best model from epoche{dev_best[0]:d}\")\n",
        "    # Loading best_models to parser.labeled_GNN and parser.unlabeled_GNN\n",
        "    parser.Load(epoch)\n",
        "\n",
        "    logging.info(f\"Predicting on test data\")\n",
        "\n",
        "    test_pred = list(parser.Predict(testdata))\n",
        "    mean_test_score = evaluate_uas_epoche(test_pred)\n",
        "\n",
        "    logging.info(f\"On test obtained UAS score of {mean_test_score:.2f}\")\n",
        "    print(f\"On test obtained UAS score of {mean_test_score:.2f}\")\n",
        "\n",
        "\n",
        "    logging.debug('Finished predicting')\n"
      ]
    },
    {
      "cell_type": "markdown",
      "source": [
        "# Execution"
      ],
      "metadata": {
        "id": "piyEERqI0aM2"
      }
    },
    {
      "cell_type": "code",
      "source": [
        "'''from google.colab import output\n",
        "!wget -m https://raw.githubusercontent.com/Derinhelm/graph_syntax_parsing/main/UD_Russian-SynTagRus-small/ru_syntagrus-ud-train.conllu\n",
        "!wget -m https://raw.githubusercontent.com/Derinhelm/graph_syntax_parsing/main/UD_Russian-SynTagRus-small/ru_syntagrus-ud-dev.conllu\n",
        "!wget -m https://raw.githubusercontent.com/Derinhelm/graph_syntax_parsing/main/UD_Russian-SynTagRus-small/ru_syntagrus-ud-test.conllu\n",
        "!wget -m https://github.com/Derinhelm/graph_syntax_parsing/raw/main/UD_Russian-SynTagRus-small/embeds.pickle\n",
        "\n",
        "\n",
        "!mv \"/content/raw.githubusercontent.com/Derinhelm/graph_syntax_parsing/main/UD_Russian-SynTagRus-small/ru_syntagrus-ud-train.conllu\" \"/content/ru_syntagrus-ud-train.conllu\"\n",
        "!mv \"/content/raw.githubusercontent.com/Derinhelm/graph_syntax_parsing/main/UD_Russian-SynTagRus-small/ru_syntagrus-ud-dev.conllu\" \"/content/ru_syntagrus-ud-dev.conllu\"\n",
        "!mv \"/content/raw.githubusercontent.com/Derinhelm/graph_syntax_parsing/main/UD_Russian-SynTagRus-small/ru_syntagrus-ud-test.conllu\" \"/content/ru_syntagrus-ud-test.conllu\"\n",
        "!mv \"/content/github.com/Derinhelm/graph_syntax_parsing/raw/main/UD_Russian-SynTagRus-small/embeds.pickle\" \"/content/embeds.pickle\"\n",
        "!rm -R \"/content/raw.githubusercontent.com\"\n",
        "output.clear()'''"
      ],
      "metadata": {
        "id": "4_mqW9tFfuro",
        "colab": {
          "base_uri": "https://localhost:8080/",
          "height": 175
        },
        "outputId": "ecc0ad8d-a7a1-4e7c-b571-a1d5da5c8a50"
      },
      "execution_count": 14,
      "outputs": [
        {
          "output_type": "execute_result",
          "data": {
            "text/plain": [
              "'from google.colab import output\\n!wget -m https://raw.githubusercontent.com/Derinhelm/graph_syntax_parsing/main/UD_Russian-SynTagRus-small/ru_syntagrus-ud-train.conllu\\n!wget -m https://raw.githubusercontent.com/Derinhelm/graph_syntax_parsing/main/UD_Russian-SynTagRus-small/ru_syntagrus-ud-dev.conllu\\n!wget -m https://raw.githubusercontent.com/Derinhelm/graph_syntax_parsing/main/UD_Russian-SynTagRus-small/ru_syntagrus-ud-test.conllu\\n!wget -m https://github.com/Derinhelm/graph_syntax_parsing/raw/main/UD_Russian-SynTagRus-small/embeds.pickle\\n\\n\\n!mv \"/content/raw.githubusercontent.com/Derinhelm/graph_syntax_parsing/main/UD_Russian-SynTagRus-small/ru_syntagrus-ud-train.conllu\" \"/content/ru_syntagrus-ud-train.conllu\"\\n!mv \"/content/raw.githubusercontent.com/Derinhelm/graph_syntax_parsing/main/UD_Russian-SynTagRus-small/ru_syntagrus-ud-dev.conllu\" \"/content/ru_syntagrus-ud-dev.conllu\"\\n!mv \"/content/raw.githubusercontent.com/Derinhelm/graph_syntax_parsing/main/UD_Russian-SynTagRus-small/ru_syntagrus-ud-test.conllu\" \"/content/ru_syntagrus-ud-test.conllu\"\\n!mv \"/content/github.com/Derinhelm/graph_syntax_parsing/raw/main/UD_Russian-SynTagRus-small/embeds.pickle\" \"/content/embeds.pickle\"\\n!rm -R \"/content/raw.githubusercontent.com\"\\noutput.clear()'"
            ],
            "application/vnd.google.colaboratory.intrinsic+json": {
              "type": "string"
            }
          },
          "metadata": {},
          "execution_count": 14
        }
      ]
    },
    {
      "cell_type": "code",
      "source": [
        "from google.colab import output\n",
        "!wget -m https://github.com/Derinhelm/graph_syntax_parsing/raw/main/UD_Russian-SynTagRus/ru_syntagrus-ud-train-a.conllu\n",
        "!wget -m https://github.com/Derinhelm/graph_syntax_parsing/raw/main/UD_Russian-SynTagRus/ru_syntagrus-ud-train-b.conllu\n",
        "!wget -m https://github.com/Derinhelm/graph_syntax_parsing/raw/main/UD_Russian-SynTagRus/ru_syntagrus-ud-train-c.conllu\n",
        "\n",
        "!wget -m https://github.com/Derinhelm/graph_syntax_parsing/raw/main/UD_Russian-SynTagRus/ru_syntagrus-ud-dev.conllu\n",
        "!wget -m https://github.com/Derinhelm/graph_syntax_parsing/raw/main/UD_Russian-SynTagRus/ru_syntagrus-ud-test.conllu\n",
        "\n",
        "!wget -m https://github.com/Derinhelm/graph_syntax_parsing/raw/main/UD_Russian-SynTagRus/embeds.pickle\n",
        "\n",
        "\n",
        "!mv \"/content/github.com/Derinhelm/graph_syntax_parsing/raw/main/UD_Russian-SynTagRus/ru_syntagrus-ud-train-a.conllu\" \"/content/ru_syntagrus-ud-train-a.conllu\"\n",
        "!mv \"/content/github.com/Derinhelm/graph_syntax_parsing/raw/main/UD_Russian-SynTagRus/ru_syntagrus-ud-train-b.conllu\" \"/content/ru_syntagrus-ud-train-b.conllu\"\n",
        "!mv \"/content/github.com/Derinhelm/graph_syntax_parsing/raw/main/UD_Russian-SynTagRus/ru_syntagrus-ud-train-c.conllu\" \"/content/ru_syntagrus-ud-train-c.conllu\"\n",
        "\n",
        "!mv \"/content/github.com/Derinhelm/graph_syntax_parsing/raw/main/UD_Russian-SynTagRus/ru_syntagrus-ud-dev.conllu\" \"/content/ru_syntagrus-ud-dev.conllu\"\n",
        "!mv \"/content/github.com/Derinhelm/graph_syntax_parsing/raw/main/UD_Russian-SynTagRus/ru_syntagrus-ud-test.conllu\" \"/content/ru_syntagrus-ud-test.conllu\"\n",
        "\n",
        "!mv \"/content/github.com/Derinhelm/graph_syntax_parsing/raw/main/UD_Russian-SynTagRus/embeds.pickle\" \"/content/embeds.pickle\"\n",
        "\n",
        "!rm -R \"/content/github.com\"\n",
        "output.clear()"
      ],
      "metadata": {
        "id": "QYwn3Jc8t-yq"
      },
      "execution_count": 15,
      "outputs": []
    },
    {
      "cell_type": "code",
      "source": [
        "!mkdir \"/content/models\""
      ],
      "metadata": {
        "id": "TRsWauYAsgXt"
      },
      "execution_count": 16,
      "outputs": []
    },
    {
      "cell_type": "code",
      "execution_count": 17,
      "metadata": {
        "id": "5J4o7_QiH6JH"
      },
      "outputs": [],
      "source": [
        "options = {}\n",
        "options[\"hidden_dims\"] = 100 # MLP hidden layer dimensions\n",
        "options[\"learning_rate\"] = 0.001 # Learning rate for neural network optimizer\n",
        "\n",
        "options[\"dynamic_oracle\"] = True # Use the static oracle instead of the dynamic oracle\n",
        "\n",
        "options[\"epochs\"] = 10 # Number of epochs\n",
        "options[\"first_epoch\"] = 1\n",
        "\n",
        "# really important to do this before anything else to make experiments reproducible\n",
        "set_seeds()\n",
        "\n",
        "train_a_dir = 'ru_syntagrus-ud-train-a.conllu'\n",
        "train_b_dir = 'ru_syntagrus-ud-train-b.conllu'\n",
        "train_c_dir = 'ru_syntagrus-ud-train-c.conllu'\n",
        "\n",
        "val_dir = 'ru_syntagrus-ud-dev.conllu'\n",
        "test_dir = 'ru_syntagrus-ud-test.conllu'\n",
        "\n",
        "train_a, train_words_a = read_conll(train_a_dir)\n",
        "train_b, train_words_b = read_conll(train_b_dir)\n",
        "train_c, train_words_c = read_conll(train_c_dir)\n",
        "train = train_a + train_b + train_c\n",
        "\n",
        "val, val_words = read_conll(val_dir)\n",
        "test, test_words = read_conll(test_dir)\n",
        "# all_words = train_words_a | train_words_b | train_words_c | val_words | test_words # TODO: убрать!"
      ]
    },
    {
      "cell_type": "code",
      "execution_count": 18,
      "metadata": {
        "id": "0fDj1MJpJBV3"
      },
      "outputs": [],
      "source": [
        "#from transformers import AutoTokenizer, BertModel\n",
        "def get_embed(tokenizer, model, word): # TODO: переписать или убрать!\n",
        "    inputs = tokenizer(word, return_tensors=\"pt\")\n",
        "    outputs = model(**inputs)\n",
        "\n",
        "    last_hidden_states = outputs.last_hidden_state[0][0]\n",
        "    return last_hidden_states.detach().cpu()\n",
        "\n",
        "def create_embeds(embed_pickle=None):\n",
        "    if embed_pickle is None:\n",
        "        embeds = {}\n",
        "        tokenizer = AutoTokenizer.from_pretrained(\"bert-base-uncased\")\n",
        "        model = BertModel.from_pretrained(\"bert-base-uncased\")\n",
        "\n",
        "        logging.debug('Creating embeddings')\n",
        "        ts = time.time()\n",
        "        for word in all_words:\n",
        "            embeds[word] = get_embed(tokenizer, model, word)\n",
        "        logging.debug(f'{len(embeds)} embeddings were created')\n",
        "        te = time.time()\n",
        "        logging.info(f'Time of embedding creation: {te-ts:.2g}s')\n",
        "    else:\n",
        "        ts = time.time()\n",
        "        embeds = []\n",
        "        with open(embed_pickle, 'rb') as f:\n",
        "            embeds = pickle.load(f)\n",
        "        te = time.time()\n",
        "        logging.info(f'Time of embedding downloading: {te-ts:.2g}s')\n",
        "    return embeds"
      ]
    },
    {
      "cell_type": "code",
      "source": [
        "import time\n",
        "import pickle\n",
        "embeds = create_embeds(\"embeds.pickle\")"
      ],
      "metadata": {
        "id": "LUSU6RwuIaAM"
      },
      "execution_count": 19,
      "outputs": []
    },
    {
      "cell_type": "code",
      "source": [
        "len(embeds)"
      ],
      "metadata": {
        "colab": {
          "base_uri": "https://localhost:8080/"
        },
        "id": "gCrdg03Vvrid",
        "outputId": "88f12d4b-1f48-4867-fced-734cfc086496"
      },
      "execution_count": 20,
      "outputs": [
        {
          "output_type": "execute_result",
          "data": {
            "text/plain": [
              "53925"
            ]
          },
          "metadata": {},
          "execution_count": 20
        }
      ]
    },
    {
      "cell_type": "code",
      "execution_count": 21,
      "metadata": {
        "colab": {
          "base_uri": "https://localhost:8080/"
        },
        "id": "y4dk0TJSIASC",
        "outputId": "910e4418-3b68-427a-d5ea-84617d9a2395"
      },
      "outputs": [
        {
          "output_type": "execute_result",
          "data": {
            "text/plain": [
              "69630"
            ]
          },
          "metadata": {},
          "execution_count": 21
        }
      ],
      "source": [
        "len(train)"
      ]
    },
    {
      "cell_type": "code",
      "execution_count": 22,
      "metadata": {
        "colab": {
          "base_uri": "https://localhost:8080/"
        },
        "id": "-IbKLEjhM2L9",
        "outputId": "f8c96078-f722-4944-cbd1-fd5a1da73871"
      },
      "outputs": [
        {
          "output_type": "stream",
          "name": "stdout",
          "text": [
            "root - WARNING - This will get logged to a file\n",
            "root - WARNING - New warning\n",
            "root - DEBUG - New debug\n",
            "root - INFO - New info\n",
            "jaxlib.mlir._mlir_libs - DEBUG - Initializing MLIR with module: _site_initialize_0\n",
            "jaxlib.mlir._mlir_libs - DEBUG - Registering dialects from initializer <module 'jaxlib.mlir._mlir_libs._site_initialize_0' from '/usr/local/lib/python3.10/dist-packages/jaxlib/mlir/_mlir_libs/_site_initialize_0.so'>\n",
            "jax._src.path - DEBUG - etils.epath found. Using etils.epath for file I/O.\n",
            "root - DEBUG - Using default Python seed\n",
            "root - INFO - Reading ru_syntagrus-ud-train-a.conllu\n",
            "root - DEBUG - 24516 sentences read\n",
            "root - INFO - Time: 11s\n",
            "root - INFO - Reading ru_syntagrus-ud-train-b.conllu\n",
            "root - DEBUG - 24298 sentences read\n",
            "root - INFO - Time: 6.2s\n",
            "root - INFO - Reading ru_syntagrus-ud-train-c.conllu\n",
            "root - DEBUG - 20816 sentences read\n",
            "root - INFO - Time: 5.2s\n",
            "root - INFO - Reading ru_syntagrus-ud-dev.conllu\n",
            "root - DEBUG - 8906 sentences read\n",
            "root - INFO - Time: 4.2s\n",
            "root - INFO - Reading ru_syntagrus-ud-test.conllu\n",
            "root - DEBUG - 8800 sentences read\n",
            "root - INFO - Time: 1.7s\n",
            "root - INFO - Time of embedding downloading: 3.8s\n",
            "\n"
          ]
        }
      ],
      "source": [
        "print(Path('/content/app.log').read_text())"
      ]
    },
    {
      "cell_type": "code",
      "execution_count": 23,
      "metadata": {
        "colab": {
          "base_uri": "https://localhost:8080/",
          "height": 1000
        },
        "id": "oNypIrvK-8yt",
        "outputId": "76b57c2b-7ab6-4c28-853d-e91c3bfd6896"
      },
      "outputs": [
        {
          "output_type": "stream",
          "name": "stderr",
          "text": [
            "\rTraining:   0%|          | 0/69630 [00:00<?, ?sentences/s]"
          ]
        },
        {
          "output_type": "stream",
          "name": "stdout",
          "text": [
            "evaluate_time = 0.14290547370910645 transform_time = 0.020421266555786133\n",
            "evaluate_time = 0.20794200897216797 transform_time = 0.020415306091308594\n",
            "evaluate_time = 0.07475066184997559 transform_time = 0.006123781204223633\n",
            "evaluate_time = 0.06215929985046387 transform_time = 0.005908012390136719\n"
          ]
        },
        {
          "output_type": "stream",
          "name": "stderr",
          "text": [
            "\rTraining:   0%|          | 6/69630 [00:01<3:23:10,  5.71sentences/s]"
          ]
        },
        {
          "output_type": "stream",
          "name": "stdout",
          "text": [
            "evaluate_time = 0.22632455825805664 transform_time = 0.021255016326904297\n",
            "evaluate_time = 0.07305145263671875 transform_time = 0.007074832916259766\n",
            "evaluate_time = 0.060729026794433594 transform_time = 0.004268169403076172\n",
            "evaluate_time = 0.03323864936828613 transform_time = 0.0021753311157226562\n",
            "evaluate_time = 0.14443206787109375 transform_time = 0.012238025665283203\n",
            "evaluate_time = 0.019992351531982422 transform_time = 0.002005338668823242\n",
            "evaluate_time = 0.02992105484008789 transform_time = 0.003557920455932617\n",
            "evaluate_time = 0.03413271903991699 transform_time = 0.003564596176147461\n",
            "evaluate_time = 0.39841675758361816 transform_time = 0.04225468635559082\n",
            "evaluate_time = 0.03838801383972168 transform_time = 0.002885103225708008\n"
          ]
        },
        {
          "output_type": "stream",
          "name": "stderr",
          "text": [
            "\rTraining:   0%|          | 15/69630 [00:02<2:58:42,  6.49sentences/s]"
          ]
        },
        {
          "output_type": "stream",
          "name": "stdout",
          "text": [
            "evaluate_time = 0.27315592765808105 transform_time = 0.024886369705200195\n",
            "evaluate_time = 0.1008749008178711 transform_time = 0.007610321044921875\n",
            "evaluate_time = 0.1637439727783203 transform_time = 0.014140844345092773\n",
            "evaluate_time = 0.0402226448059082 transform_time = 0.004345417022705078\n",
            "evaluate_time = 0.16611170768737793 transform_time = 0.015062332153320312\n",
            "evaluate_time = 0.06952524185180664 transform_time = 0.005896568298339844\n",
            "evaluate_time = 0.1629037857055664 transform_time = 0.013592720031738281\n"
          ]
        },
        {
          "output_type": "stream",
          "name": "stderr",
          "text": [
            "\rTraining:   0%|          | 22/69630 [00:03<3:05:04,  6.27sentences/s]"
          ]
        },
        {
          "output_type": "stream",
          "name": "stdout",
          "text": [
            "evaluate_time = 0.22520017623901367 transform_time = 0.017866849899291992\n",
            "evaluate_time = 0.13655424118041992 transform_time = 0.010961771011352539\n",
            "evaluate_time = 0.16905570030212402 transform_time = 0.013197898864746094\n",
            "evaluate_time = 0.08313822746276855 transform_time = 0.006318569183349609\n",
            "evaluate_time = 0.07577991485595703 transform_time = 0.00547480583190918\n",
            "evaluate_time = 0.26349329948425293 transform_time = 0.022714853286743164\n",
            "evaluate_time = 0.07884383201599121 transform_time = 0.00722503662109375\n"
          ]
        },
        {
          "output_type": "stream",
          "name": "stderr",
          "text": [
            "\rTraining:   0%|          | 29/69630 [00:04<3:18:19,  5.85sentences/s]"
          ]
        },
        {
          "output_type": "stream",
          "name": "stdout",
          "text": [
            "evaluate_time = 0.2371959686279297 transform_time = 0.02069401741027832\n",
            "evaluate_time = 0.17734146118164062 transform_time = 0.014117002487182617\n",
            "evaluate_time = 0.15541696548461914 transform_time = 0.015081405639648438\n",
            "evaluate_time = 0.08052253723144531 transform_time = 0.006314754486083984\n",
            "evaluate_time = 0.12805461883544922 transform_time = 0.009098529815673828\n",
            "evaluate_time = 0.34087610244750977 transform_time = 0.032563209533691406\n"
          ]
        },
        {
          "output_type": "stream",
          "name": "stderr",
          "text": [
            "\rTraining:   0%|          | 35/69630 [00:06<3:53:10,  4.97sentences/s]"
          ]
        },
        {
          "output_type": "stream",
          "name": "stdout",
          "text": [
            "evaluate_time = 0.3733327388763428 transform_time = 0.034845590591430664\n",
            "evaluate_time = 0.17486977577209473 transform_time = 0.014001131057739258\n",
            "evaluate_time = 0.025964975357055664 transform_time = 0.0018508434295654297\n",
            "evaluate_time = 0.14926838874816895 transform_time = 0.011698007583618164\n",
            "evaluate_time = 0.09428191184997559 transform_time = 0.006767749786376953\n",
            "evaluate_time = 0.05328845977783203 transform_time = 0.003535032272338867\n",
            "evaluate_time = 0.24924254417419434 transform_time = 0.019965648651123047\n"
          ]
        },
        {
          "output_type": "stream",
          "name": "stderr",
          "text": [
            "\rTraining:   0%|          | 42/69630 [00:07<3:44:11,  5.17sentences/s]"
          ]
        },
        {
          "output_type": "stream",
          "name": "stdout",
          "text": [
            "evaluate_time = 0.24885153770446777 transform_time = 0.019896268844604492\n",
            "evaluate_time = 0.19601869583129883 transform_time = 0.015217065811157227\n",
            "evaluate_time = 0.2838568687438965 transform_time = 0.02387380599975586\n",
            "evaluate_time = 0.11485624313354492 transform_time = 0.008082151412963867\n",
            "evaluate_time = 0.030888795852661133 transform_time = 0.0019736289978027344\n"
          ]
        },
        {
          "output_type": "stream",
          "name": "stderr",
          "text": [
            "\rTraining:   0%|          | 48/69630 [00:08<3:48:08,  5.08sentences/s]"
          ]
        },
        {
          "output_type": "stream",
          "name": "stdout",
          "text": [
            "evaluate_time = 0.23471832275390625 transform_time = 0.021538257598876953\n",
            "evaluate_time = 0.12447595596313477 transform_time = 0.009023427963256836\n",
            "evaluate_time = 0.1763439178466797 transform_time = 0.012959480285644531\n",
            "evaluate_time = 0.10293388366699219 transform_time = 0.009958267211914062\n",
            "evaluate_time = 0.2725534439086914 transform_time = 0.02414393424987793\n",
            "evaluate_time = 0.12362217903137207 transform_time = 0.009832620620727539\n",
            "evaluate_time = 0.027311086654663086 transform_time = 0.003254413604736328\n"
          ]
        },
        {
          "output_type": "stream",
          "name": "stderr",
          "text": [
            "\rTraining:   0%|          | 55/69630 [00:09<3:28:45,  5.55sentences/s]"
          ]
        },
        {
          "output_type": "stream",
          "name": "stdout",
          "text": [
            "evaluate_time = 0.023881196975708008 transform_time = 0.0014111995697021484\n",
            "evaluate_time = 0.08912777900695801 transform_time = 0.008024930953979492\n",
            "evaluate_time = 0.04284977912902832 transform_time = 0.0028603076934814453\n",
            "evaluate_time = 0.11901402473449707 transform_time = 0.01073598861694336\n",
            "evaluate_time = 0.09880423545837402 transform_time = 0.008958816528320312\n",
            "evaluate_time = 0.14229464530944824 transform_time = 0.011800527572631836\n",
            "evaluate_time = 0.16227507591247559 transform_time = 0.014328956604003906\n",
            "evaluate_time = 0.07999992370605469 transform_time = 0.006474018096923828\n",
            "evaluate_time = 0.0972750186920166 transform_time = 0.0072345733642578125\n",
            "evaluate_time = 0.019532203674316406 transform_time = 0.00290679931640625\n"
          ]
        },
        {
          "output_type": "stream",
          "name": "stderr",
          "text": [
            "\rTraining:   0%|          | 64/69630 [00:11<3:22:58,  5.71sentences/s]"
          ]
        },
        {
          "output_type": "stream",
          "name": "stdout",
          "text": [
            "evaluate_time = 0.4387388229370117 transform_time = 0.04676961898803711\n",
            "evaluate_time = 0.10279560089111328 transform_time = 0.007634401321411133\n",
            "evaluate_time = 0.11882305145263672 transform_time = 0.00944209098815918\n",
            "evaluate_time = 0.044260263442993164 transform_time = 0.004552364349365234\n",
            "evaluate_time = 0.025710582733154297 transform_time = 0.0019495487213134766\n",
            "evaluate_time = 0.1421658992767334 transform_time = 0.012887716293334961\n",
            "evaluate_time = 0.058916330337524414 transform_time = 0.004307985305786133\n",
            "evaluate_time = 0.13417792320251465 transform_time = 0.012381553649902344\n"
          ]
        },
        {
          "output_type": "stream",
          "name": "stderr",
          "text": [
            "\rTraining:   0%|          | 72/69630 [00:12<3:06:01,  6.23sentences/s]"
          ]
        },
        {
          "output_type": "stream",
          "name": "stdout",
          "text": [
            "evaluate_time = 0.20436668395996094 transform_time = 0.019148826599121094\n",
            "evaluate_time = 0.09141397476196289 transform_time = 0.007222414016723633\n",
            "evaluate_time = 0.23944973945617676 transform_time = 0.02140522003173828\n",
            "evaluate_time = 0.1165153980255127 transform_time = 0.010205745697021484\n",
            "evaluate_time = 0.12403607368469238 transform_time = 0.010147571563720703\n",
            "evaluate_time = 0.012722015380859375 transform_time = 0.0015153884887695312\n"
          ]
        },
        {
          "output_type": "stream",
          "name": "stderr",
          "text": [
            "\rTraining:   0%|          | 79/69630 [00:13<3:04:04,  6.30sentences/s]"
          ]
        },
        {
          "output_type": "stream",
          "name": "stdout",
          "text": [
            "evaluate_time = 0.19454622268676758 transform_time = 0.018497943878173828\n",
            "evaluate_time = 0.08542943000793457 transform_time = 0.008045673370361328\n",
            "evaluate_time = 0.1385209560394287 transform_time = 0.011786222457885742\n",
            "evaluate_time = 0.04133749008178711 transform_time = 0.00445866584777832\n",
            "evaluate_time = 0.2093198299407959 transform_time = 0.02097177505493164\n",
            "evaluate_time = 0.17434430122375488 transform_time = 0.01523733139038086\n",
            "evaluate_time = 0.06298446655273438 transform_time = 0.0056018829345703125\n",
            "evaluate_time = 0.04763293266296387 transform_time = 0.0032851696014404297\n",
            "evaluate_time = 0.06827855110168457 transform_time = 0.006367921829223633\n"
          ]
        },
        {
          "output_type": "stream",
          "name": "stderr",
          "text": [
            "\rTraining:   0%|          | 87/69630 [00:14<3:00:39,  6.42sentences/s]"
          ]
        },
        {
          "output_type": "stream",
          "name": "stdout",
          "text": [
            "evaluate_time = 0.2109081745147705 transform_time = 0.0185394287109375\n",
            "evaluate_time = 0.5215542316436768 transform_time = 0.05523252487182617\n",
            "evaluate_time = 0.592397928237915 transform_time = 0.06334400177001953\n",
            "evaluate_time = 0.09727644920349121 transform_time = 0.008636713027954102\n",
            "evaluate_time = 0.17079830169677734 transform_time = 0.015413999557495117\n",
            "evaluate_time = 0.05157351493835449 transform_time = 0.005872011184692383\n"
          ]
        },
        {
          "output_type": "stream",
          "name": "stderr",
          "text": [
            "\rTraining:   0%|          | 94/69630 [00:16<3:49:37,  5.05sentences/s]"
          ]
        },
        {
          "output_type": "stream",
          "name": "stdout",
          "text": [
            "evaluate_time = 0.1640150547027588 transform_time = 0.014030933380126953\n",
            "evaluate_time = 0.11804580688476562 transform_time = 0.00981903076171875\n",
            "evaluate_time = 0.23533844947814941 transform_time = 0.020854949951171875\n",
            "evaluate_time = 0.30233073234558105 transform_time = 0.029224395751953125\n",
            "evaluate_time = 0.1074371337890625 transform_time = 0.008183717727661133\n"
          ]
        },
        {
          "output_type": "stream",
          "name": "stderr",
          "text": [
            "\rTraining:   0%|          | 101/69630 [00:17<3:34:43,  5.40sentences/s]"
          ]
        },
        {
          "output_type": "stream",
          "name": "stdout",
          "text": [
            "evaluate_time = 0.06187748908996582 transform_time = 0.00429534912109375\n",
            "evaluate_time = 0.03398299217224121 transform_time = 0.003983497619628906\n",
            "evaluate_time = 0.03395199775695801 transform_time = 0.004643678665161133\n",
            "evaluate_time = 0.07823801040649414 transform_time = 0.007750988006591797\n",
            "evaluate_time = 0.0820014476776123 transform_time = 0.006705284118652344\n",
            "evaluate_time = 0.04813361167907715 transform_time = 0.003715038299560547\n",
            "evaluate_time = 0.29585766792297363 transform_time = 0.029166460037231445\n",
            "evaluate_time = 0.15427327156066895 transform_time = 0.013803958892822266\n",
            "evaluate_time = 0.33989667892456055 transform_time = 0.03343009948730469\n"
          ]
        },
        {
          "output_type": "stream",
          "name": "stderr",
          "text": [
            "\rTraining:   0%|          | 107/69630 [00:19<3:47:40,  5.09sentences/s]"
          ]
        },
        {
          "output_type": "stream",
          "name": "stdout",
          "text": [
            "evaluate_time = 0.17511940002441406 transform_time = 0.012637138366699219\n",
            "evaluate_time = 0.21578407287597656 transform_time = 0.016869306564331055\n",
            "evaluate_time = 0.0640113353729248 transform_time = 0.0048024654388427734\n",
            "evaluate_time = 0.44820404052734375 transform_time = 0.04162311553955078\n",
            "evaluate_time = 0.14690232276916504 transform_time = 0.011798858642578125\n"
          ]
        },
        {
          "output_type": "stream",
          "name": "stderr",
          "text": [
            "\rTraining:   0%|          | 113/69630 [00:20<3:56:46,  4.89sentences/s]"
          ]
        },
        {
          "output_type": "stream",
          "name": "stdout",
          "text": [
            "evaluate_time = 0.08897018432617188 transform_time = 0.0106964111328125\n",
            "evaluate_time = 0.10406374931335449 transform_time = 0.007010459899902344\n",
            "evaluate_time = 0.09680795669555664 transform_time = 0.006871223449707031\n",
            "evaluate_time = 0.20780563354492188 transform_time = 0.017290353775024414\n",
            "evaluate_time = 0.1382286548614502 transform_time = 0.011454105377197266\n",
            "evaluate_time = 0.08830714225769043 transform_time = 0.006044149398803711\n",
            "evaluate_time = 0.07605862617492676 transform_time = 0.005471467971801758\n",
            "evaluate_time = 0.08209729194641113 transform_time = 0.006409406661987305\n"
          ]
        },
        {
          "output_type": "stream",
          "name": "stderr",
          "text": [
            "\rTraining:   0%|          | 120/69630 [00:22<3:56:21,  4.90sentences/s]"
          ]
        },
        {
          "output_type": "stream",
          "name": "stdout",
          "text": [
            "evaluate_time = 0.4334745407104492 transform_time = 0.043427228927612305\n",
            "evaluate_time = 0.2756917476654053 transform_time = 0.023333072662353516\n",
            "evaluate_time = 0.26673340797424316 transform_time = 0.023488283157348633\n",
            "evaluate_time = 0.12166309356689453 transform_time = 0.008934974670410156\n",
            "evaluate_time = 0.40851497650146484 transform_time = 0.03612565994262695\n",
            "evaluate_time = 0.1252281665802002 transform_time = 0.008513689041137695\n"
          ]
        },
        {
          "output_type": "stream",
          "name": "stderr",
          "text": [
            "\rTraining:   0%|          | 126/69630 [00:23<4:19:57,  4.46sentences/s]"
          ]
        },
        {
          "output_type": "stream",
          "name": "stdout",
          "text": [
            "evaluate_time = 0.13968348503112793 transform_time = 0.010216712951660156\n",
            "evaluate_time = 0.5703287124633789 transform_time = 0.05471396446228027\n",
            "evaluate_time = 0.1442561149597168 transform_time = 0.011687755584716797\n",
            "evaluate_time = 0.1838972568511963 transform_time = 0.014586925506591797\n",
            "evaluate_time = 0.26731324195861816 transform_time = 0.02150893211364746\n"
          ]
        },
        {
          "output_type": "stream",
          "name": "stderr",
          "text": [
            "\rTraining:   0%|          | 131/69630 [00:25<4:58:04,  3.89sentences/s]"
          ]
        },
        {
          "output_type": "stream",
          "name": "stdout",
          "text": [
            "evaluate_time = 0.28159451484680176 transform_time = 0.026041030883789062\n",
            "evaluate_time = 0.14053845405578613 transform_time = 0.011717557907104492\n",
            "evaluate_time = 0.06208014488220215 transform_time = 0.005736112594604492\n",
            "evaluate_time = 0.14128780364990234 transform_time = 0.011497020721435547\n",
            "evaluate_time = 0.07387995719909668 transform_time = 0.006480693817138672\n",
            "evaluate_time = 0.1660773754119873 transform_time = 0.013742446899414062\n",
            "evaluate_time = 0.0437009334564209 transform_time = 0.004470348358154297\n",
            "evaluate_time = 0.06347155570983887 transform_time = 0.004770040512084961\n"
          ]
        },
        {
          "output_type": "stream",
          "name": "stderr",
          "text": [
            "\rTraining:   0%|          | 140/69630 [00:26<4:01:04,  4.80sentences/s]"
          ]
        },
        {
          "output_type": "stream",
          "name": "stdout",
          "text": [
            "evaluate_time = 0.09944558143615723 transform_time = 0.007270097732543945\n",
            "evaluate_time = 0.15119385719299316 transform_time = 0.013791084289550781\n",
            "evaluate_time = 0.10620427131652832 transform_time = 0.007131338119506836\n",
            "evaluate_time = 0.3352837562561035 transform_time = 0.03260970115661621\n",
            "evaluate_time = 0.07692265510559082 transform_time = 0.005336761474609375\n",
            "evaluate_time = 0.18332672119140625 transform_time = 0.016333818435668945\n"
          ]
        },
        {
          "output_type": "stream",
          "name": "stderr",
          "text": [
            "\rTraining:   0%|          | 146/69630 [00:27<3:56:29,  4.90sentences/s]"
          ]
        },
        {
          "output_type": "stream",
          "name": "stdout",
          "text": [
            "evaluate_time = 0.1853654384613037 transform_time = 0.017489194869995117\n",
            "evaluate_time = 0.0470123291015625 transform_time = 0.003313779830932617\n",
            "evaluate_time = 0.032979488372802734 transform_time = 0.006047964096069336\n",
            "evaluate_time = 0.1390061378479004 transform_time = 0.01138925552368164\n",
            "evaluate_time = 0.26776599884033203 transform_time = 0.022175073623657227\n",
            "evaluate_time = 0.18610215187072754 transform_time = 0.016028881072998047\n",
            "evaluate_time = 0.1826944351196289 transform_time = 0.015313386917114258\n"
          ]
        },
        {
          "output_type": "stream",
          "name": "stderr",
          "text": [
            "\rTraining:   0%|          | 152/69630 [00:29<3:58:29,  4.86sentences/s]"
          ]
        },
        {
          "output_type": "stream",
          "name": "stdout",
          "text": [
            "evaluate_time = 0.20285725593566895 transform_time = 0.01752638816833496\n",
            "evaluate_time = 0.10667085647583008 transform_time = 0.009230613708496094\n",
            "evaluate_time = 0.12667512893676758 transform_time = 0.010404825210571289\n",
            "evaluate_time = 0.021172523498535156 transform_time = 0.002615690231323242\n",
            "evaluate_time = 0.025581836700439453 transform_time = 0.001958131790161133\n",
            "evaluate_time = 0.15807247161865234 transform_time = 0.013948202133178711\n",
            "evaluate_time = 0.11513733863830566 transform_time = 0.009008646011352539\n",
            "evaluate_time = 0.10794925689697266 transform_time = 0.008540868759155273\n"
          ]
        },
        {
          "output_type": "stream",
          "name": "stderr",
          "text": [
            "\rTraining:   0%|          | 160/69630 [00:30<3:29:28,  5.53sentences/s]"
          ]
        },
        {
          "output_type": "stream",
          "name": "stdout",
          "text": [
            "evaluate_time = 0.19254446029663086 transform_time = 0.01662921905517578\n",
            "evaluate_time = 0.06523704528808594 transform_time = 0.005364656448364258\n",
            "evaluate_time = 0.10401391983032227 transform_time = 0.009657144546508789\n",
            "evaluate_time = 0.17325544357299805 transform_time = 0.014563560485839844\n",
            "evaluate_time = 0.29699087142944336 transform_time = 0.029610395431518555\n",
            "evaluate_time = 0.07453465461730957 transform_time = 0.005575418472290039\n"
          ]
        },
        {
          "output_type": "stream",
          "name": "stderr",
          "text": [
            "\rTraining:   0%|          | 166/69630 [00:31<3:28:59,  5.54sentences/s]"
          ]
        },
        {
          "output_type": "stream",
          "name": "stdout",
          "text": [
            "evaluate_time = 0.15150022506713867 transform_time = 0.013778209686279297\n",
            "evaluate_time = 0.11952328681945801 transform_time = 0.010810375213623047\n",
            "evaluate_time = 0.11950421333312988 transform_time = 0.010391712188720703\n",
            "evaluate_time = 0.054549455642700195 transform_time = 0.004077911376953125\n",
            "evaluate_time = 0.12364315986633301 transform_time = 0.011133432388305664\n",
            "evaluate_time = 0.1575930118560791 transform_time = 0.013616085052490234\n",
            "evaluate_time = 0.043587684631347656 transform_time = 0.0028848648071289062\n",
            "evaluate_time = 0.04986095428466797 transform_time = 0.005424976348876953\n",
            "evaluate_time = 0.049546003341674805 transform_time = 0.003999948501586914\n"
          ]
        },
        {
          "output_type": "stream",
          "name": "stderr",
          "text": [
            "\rTraining:   0%|          | 175/69630 [00:32<3:03:44,  6.30sentences/s]"
          ]
        },
        {
          "output_type": "stream",
          "name": "stdout",
          "text": [
            "evaluate_time = 0.1510019302368164 transform_time = 0.01423335075378418\n",
            "evaluate_time = 0.04573798179626465 transform_time = 0.0028743743896484375\n",
            "evaluate_time = 0.1540534496307373 transform_time = 0.01365971565246582\n",
            "evaluate_time = 0.12227129936218262 transform_time = 0.009537935256958008\n",
            "evaluate_time = 0.31975388526916504 transform_time = 0.03161811828613281\n"
          ]
        },
        {
          "output_type": "stream",
          "name": "stderr",
          "text": [
            "\rTraining:   0%|          | 182/69630 [00:33<3:07:33,  6.17sentences/s]"
          ]
        },
        {
          "output_type": "stream",
          "name": "stdout",
          "text": [
            "evaluate_time = 0.18042564392089844 transform_time = 0.015305042266845703\n",
            "evaluate_time = 0.04554176330566406 transform_time = 0.0036897659301757812\n",
            "evaluate_time = 0.09166431427001953 transform_time = 0.00859379768371582\n",
            "evaluate_time = 0.06418585777282715 transform_time = 0.005304098129272461\n",
            "evaluate_time = 0.033438682556152344 transform_time = 0.0030040740966796875\n",
            "evaluate_time = 0.0831611156463623 transform_time = 0.006115913391113281\n",
            "evaluate_time = 0.10857653617858887 transform_time = 0.009824275970458984\n",
            "evaluate_time = 0.19794559478759766 transform_time = 0.017072439193725586\n",
            "evaluate_time = 0.07036209106445312 transform_time = 0.005282163619995117\n",
            "evaluate_time = 0.15951800346374512 transform_time = 0.013955116271972656\n"
          ]
        },
        {
          "output_type": "stream",
          "name": "stderr",
          "text": [
            "\rTraining:   0%|          | 190/69630 [00:34<3:02:13,  6.35sentences/s]"
          ]
        },
        {
          "output_type": "stream",
          "name": "stdout",
          "text": [
            "evaluate_time = 0.22914433479309082 transform_time = 0.021183013916015625\n",
            "evaluate_time = 0.15013837814331055 transform_time = 0.011976480484008789\n",
            "evaluate_time = 0.035797119140625 transform_time = 0.002367258071899414\n",
            "evaluate_time = 0.11866188049316406 transform_time = 0.00907278060913086\n",
            "evaluate_time = 0.20532989501953125 transform_time = 0.015917301177978516\n",
            "evaluate_time = 0.1357865333557129 transform_time = 0.0132904052734375\n",
            "evaluate_time = 0.3704235553741455 transform_time = 0.03459811210632324\n"
          ]
        },
        {
          "output_type": "stream",
          "name": "stderr",
          "text": [
            "\rTraining:   0%|          | 197/69630 [00:36<3:33:12,  5.43sentences/s]"
          ]
        },
        {
          "output_type": "stream",
          "name": "stdout",
          "text": [
            "evaluate_time = 0.35939669609069824 transform_time = 0.03161764144897461\n",
            "evaluate_time = 0.2831685543060303 transform_time = 0.030246734619140625\n",
            "evaluate_time = 0.808342456817627 transform_time = 0.08090329170227051\n",
            "evaluate_time = 0.11437129974365234 transform_time = 0.009878396987915039\n",
            "evaluate_time = 0.0741720199584961 transform_time = 0.0063207149505615234\n",
            "evaluate_time = 0.17022037506103516 transform_time = 0.020592689514160156\n"
          ]
        },
        {
          "output_type": "stream",
          "name": "stderr",
          "text": [
            "\rTraining:   0%|          | 203/69630 [00:39<4:41:57,  4.10sentences/s]"
          ]
        },
        {
          "output_type": "stream",
          "name": "stdout",
          "text": [
            "evaluate_time = 0.48533058166503906 transform_time = 0.044057607650756836\n",
            "evaluate_time = 0.24330544471740723 transform_time = 0.020285367965698242\n",
            "evaluate_time = 0.24977397918701172 transform_time = 0.022168874740600586\n",
            "evaluate_time = 1.6948964595794678 transform_time = 0.018391132354736328\n",
            "evaluate_time = 0.1372687816619873 transform_time = 0.011122703552246094\n"
          ]
        },
        {
          "output_type": "stream",
          "name": "stderr",
          "text": [
            "\rTraining:   0%|          | 208/69630 [00:41<6:06:46,  3.15sentences/s]"
          ]
        },
        {
          "output_type": "stream",
          "name": "stdout",
          "text": [
            "evaluate_time = 0.19518756866455078 transform_time = 0.017659664154052734\n",
            "evaluate_time = 0.14142298698425293 transform_time = 0.011682748794555664\n",
            "evaluate_time = 0.11475300788879395 transform_time = 0.008956193923950195\n",
            "evaluate_time = 0.3137540817260742 transform_time = 0.03225541114807129\n",
            "evaluate_time = 0.02652740478515625 transform_time = 0.0020875930786132812\n"
          ]
        },
        {
          "output_type": "stream",
          "name": "stderr",
          "text": [
            "\rTraining:   0%|          | 214/69630 [00:42<5:17:25,  3.64sentences/s]"
          ]
        },
        {
          "output_type": "stream",
          "name": "stdout",
          "text": [
            "evaluate_time = 0.16428637504577637 transform_time = 0.014316797256469727\n",
            "evaluate_time = 0.05026555061340332 transform_time = 0.004162311553955078\n",
            "evaluate_time = 0.06319499015808105 transform_time = 0.004338502883911133\n",
            "evaluate_time = 0.030989408493041992 transform_time = 0.003581523895263672\n",
            "evaluate_time = 0.05391693115234375 transform_time = 0.0038607120513916016\n",
            "evaluate_time = 0.04498457908630371 transform_time = 0.003299236297607422\n",
            "evaluate_time = 0.08498644828796387 transform_time = 0.008041143417358398\n",
            "evaluate_time = 0.18797802925109863 transform_time = 0.017289400100708008\n",
            "evaluate_time = 0.033821821212768555 transform_time = 0.0034995079040527344\n",
            "evaluate_time = 0.06787872314453125 transform_time = 0.005057573318481445\n"
          ]
        },
        {
          "output_type": "stream",
          "name": "stderr",
          "text": [
            "\rTraining:   0%|          | 225/69630 [00:43<3:48:39,  5.06sentences/s]"
          ]
        },
        {
          "output_type": "stream",
          "name": "stdout",
          "text": [
            "evaluate_time = 0.12119698524475098 transform_time = 0.009518623352050781\n",
            "evaluate_time = 0.06535983085632324 transform_time = 0.004935741424560547\n",
            "evaluate_time = 0.08241820335388184 transform_time = 0.007670402526855469\n",
            "evaluate_time = 0.17148947715759277 transform_time = 0.014715909957885742\n",
            "evaluate_time = 0.23208212852478027 transform_time = 0.020035505294799805\n",
            "evaluate_time = 0.14422202110290527 transform_time = 0.013030767440795898\n",
            "evaluate_time = 0.16228628158569336 transform_time = 0.01616072654724121\n",
            "evaluate_time = 0.18089008331298828 transform_time = 0.015145063400268555\n"
          ]
        },
        {
          "output_type": "stream",
          "name": "stderr",
          "text": [
            "\rTraining:   0%|          | 232/69630 [00:45<3:52:49,  4.97sentences/s]"
          ]
        },
        {
          "output_type": "stream",
          "name": "stdout",
          "text": [
            "evaluate_time = 0.23315167427062988 transform_time = 0.021929502487182617\n",
            "evaluate_time = 0.05611920356750488 transform_time = 0.004052877426147461\n",
            "evaluate_time = 0.07629203796386719 transform_time = 0.005484342575073242\n",
            "evaluate_time = 0.27039527893066406 transform_time = 0.024787187576293945\n",
            "evaluate_time = 0.08437895774841309 transform_time = 0.006308794021606445\n",
            "evaluate_time = 0.3988027572631836 transform_time = 0.041352033615112305\n"
          ]
        },
        {
          "output_type": "stream",
          "name": "stderr",
          "text": [
            "\rTraining:   0%|          | 238/69630 [00:46<4:02:53,  4.76sentences/s]"
          ]
        },
        {
          "output_type": "stream",
          "name": "stdout",
          "text": [
            "evaluate_time = 0.19896435737609863 transform_time = 0.016880035400390625\n",
            "evaluate_time = 0.10547184944152832 transform_time = 0.008427143096923828\n",
            "evaluate_time = 0.08618402481079102 transform_time = 0.0063629150390625\n",
            "evaluate_time = 0.11944437026977539 transform_time = 0.011321783065795898\n",
            "evaluate_time = 0.13077306747436523 transform_time = 0.010941028594970703\n",
            "evaluate_time = 0.14568519592285156 transform_time = 0.011696815490722656\n",
            "evaluate_time = 0.08344817161560059 transform_time = 0.007905006408691406\n",
            "evaluate_time = 0.06113457679748535 transform_time = 0.0046155452728271484\n"
          ]
        },
        {
          "output_type": "stream",
          "name": "stderr",
          "text": [
            "\rTraining:   0%|          | 246/69630 [00:47<3:35:36,  5.36sentences/s]"
          ]
        },
        {
          "output_type": "stream",
          "name": "stdout",
          "text": [
            "evaluate_time = 0.13850879669189453 transform_time = 0.011113405227661133\n",
            "evaluate_time = 0.11464881896972656 transform_time = 0.009381294250488281\n",
            "evaluate_time = 0.17268109321594238 transform_time = 0.015127897262573242\n",
            "evaluate_time = 0.11896991729736328 transform_time = 0.01138615608215332\n",
            "evaluate_time = 0.17341995239257812 transform_time = 0.014315366744995117\n",
            "evaluate_time = 0.23636555671691895 transform_time = 0.02099299430847168\n",
            "evaluate_time = 0.027818918228149414 transform_time = 0.0036537647247314453\n"
          ]
        },
        {
          "output_type": "stream",
          "name": "stderr",
          "text": [
            "\rTraining:   0%|          | 252/69630 [00:48<3:34:40,  5.39sentences/s]"
          ]
        },
        {
          "output_type": "stream",
          "name": "stdout",
          "text": [
            "evaluate_time = 0.15512990951538086 transform_time = 0.012736082077026367\n",
            "evaluate_time = 0.08333396911621094 transform_time = 0.006236076354980469\n",
            "evaluate_time = 0.013138771057128906 transform_time = 0.0008215904235839844\n",
            "evaluate_time = 0.09373950958251953 transform_time = 0.00701904296875\n",
            "evaluate_time = 0.05238080024719238 transform_time = 0.0051898956298828125\n",
            "evaluate_time = 0.2816023826599121 transform_time = 0.02595829963684082\n",
            "evaluate_time = 0.11056733131408691 transform_time = 0.010197639465332031\n",
            "evaluate_time = 0.014322042465209961 transform_time = 0.0009539127349853516\n"
          ]
        },
        {
          "output_type": "stream",
          "name": "stderr",
          "text": [
            "\rTraining:   0%|          | 260/69630 [00:49<3:11:58,  6.02sentences/s]"
          ]
        },
        {
          "output_type": "stream",
          "name": "stdout",
          "text": [
            "evaluate_time = 0.1591346263885498 transform_time = 0.013616561889648438\n",
            "evaluate_time = 0.149916410446167 transform_time = 0.012754201889038086\n",
            "evaluate_time = 0.5241293907165527 transform_time = 0.05301022529602051\n",
            "evaluate_time = 0.1036996841430664 transform_time = 0.008337259292602539\n",
            "evaluate_time = 0.05678558349609375 transform_time = 0.00474858283996582\n",
            "evaluate_time = 0.35660815238952637 transform_time = 0.03325009346008301\n",
            "evaluate_time = 0.23387670516967773 transform_time = 0.01991128921508789\n"
          ]
        },
        {
          "output_type": "stream",
          "name": "stderr",
          "text": [
            "\rTraining:   0%|          | 267/69630 [00:52<3:59:51,  4.82sentences/s]"
          ]
        },
        {
          "output_type": "stream",
          "name": "stdout",
          "text": [
            "evaluate_time = 0.30269622802734375 transform_time = 0.02844715118408203\n",
            "evaluate_time = 0.04794430732727051 transform_time = 0.00328826904296875\n",
            "evaluate_time = 0.07533931732177734 transform_time = 0.005480527877807617\n",
            "evaluate_time = 0.15980148315429688 transform_time = 0.012008905410766602\n",
            "evaluate_time = 0.13083243370056152 transform_time = 0.0099334716796875\n",
            "evaluate_time = 0.28401780128479004 transform_time = 0.025800228118896484\n",
            "evaluate_time = 0.08088469505310059 transform_time = 0.005805253982543945\n"
          ]
        },
        {
          "output_type": "stream",
          "name": "stderr",
          "text": [
            "\rTraining:   0%|          | 274/69630 [00:53<3:49:35,  5.03sentences/s]"
          ]
        },
        {
          "output_type": "stream",
          "name": "stdout",
          "text": [
            "evaluate_time = 0.2032783031463623 transform_time = 0.01772928237915039\n",
            "evaluate_time = 0.4099094867706299 transform_time = 0.0373690128326416\n",
            "evaluate_time = 0.42421388626098633 transform_time = 0.04284214973449707\n",
            "evaluate_time = 0.02929210662841797 transform_time = 0.0027968883514404297\n",
            "evaluate_time = 0.07801508903503418 transform_time = 0.005920886993408203\n"
          ]
        },
        {
          "output_type": "stream",
          "name": "stderr",
          "text": [
            "\rTraining:   0%|          | 280/69630 [00:55<4:13:53,  4.55sentences/s]"
          ]
        },
        {
          "output_type": "stream",
          "name": "stdout",
          "text": [
            "evaluate_time = 0.29685068130493164 transform_time = 0.0266721248626709\n",
            "evaluate_time = 0.09617114067077637 transform_time = 0.0070912837982177734\n",
            "evaluate_time = 0.2783374786376953 transform_time = 0.0236968994140625\n",
            "evaluate_time = 0.1667029857635498 transform_time = 0.012363433837890625\n",
            "evaluate_time = 0.13461732864379883 transform_time = 0.009454965591430664\n",
            "evaluate_time = 0.20551729202270508 transform_time = 0.015620946884155273\n"
          ]
        },
        {
          "output_type": "stream",
          "name": "stderr",
          "text": [
            "\rTraining:   0%|          | 285/69630 [00:56<4:57:07,  3.89sentences/s]"
          ]
        },
        {
          "output_type": "stream",
          "name": "stdout",
          "text": [
            "evaluate_time = 0.741065502166748 transform_time = 0.0730593204498291\n",
            "evaluate_time = 0.14931201934814453 transform_time = 0.01072072982788086\n",
            "evaluate_time = 0.10305023193359375 transform_time = 0.008247613906860352\n",
            "evaluate_time = 0.17565250396728516 transform_time = 0.014183282852172852\n",
            "evaluate_time = 0.16903924942016602 transform_time = 0.014746904373168945\n",
            "evaluate_time = 0.04945850372314453 transform_time = 0.0037696361541748047\n",
            "evaluate_time = 0.12255859375 transform_time = 0.010896682739257812\n"
          ]
        },
        {
          "output_type": "stream",
          "name": "stderr",
          "text": [
            "\rTraining:   0%|          | 292/69630 [00:58<4:24:07,  4.38sentences/s]"
          ]
        },
        {
          "output_type": "stream",
          "name": "stdout",
          "text": [
            "evaluate_time = 0.18620991706848145 transform_time = 0.0160067081451416\n",
            "evaluate_time = 0.15969562530517578 transform_time = 0.0157623291015625\n",
            "evaluate_time = 0.12373876571655273 transform_time = 0.010483741760253906\n",
            "evaluate_time = 0.18362855911254883 transform_time = 0.016683578491210938\n",
            "evaluate_time = 0.018779516220092773 transform_time = 0.002832651138305664\n",
            "evaluate_time = 0.2636744976043701 transform_time = 0.024806737899780273\n",
            "evaluate_time = 0.039026498794555664 transform_time = 0.003003835678100586\n"
          ]
        },
        {
          "output_type": "stream",
          "name": "stderr",
          "text": [
            "\rTraining:   0%|          | 299/69630 [00:59<4:00:00,  4.81sentences/s]"
          ]
        },
        {
          "output_type": "stream",
          "name": "stdout",
          "text": [
            "evaluate_time = 0.12349534034729004 transform_time = 0.011123180389404297\n",
            "evaluate_time = 0.1890730857849121 transform_time = 0.017234325408935547\n",
            "evaluate_time = 0.5654172897338867 transform_time = 0.06382465362548828\n",
            "evaluate_time = 0.2109217643737793 transform_time = 0.020754337310791016\n",
            "evaluate_time = 0.10840916633605957 transform_time = 0.009159088134765625\n"
          ]
        },
        {
          "output_type": "stream",
          "name": "stderr",
          "text": [
            "\rTraining:   0%|          | 305/69630 [01:00<4:20:55,  4.43sentences/s]"
          ]
        },
        {
          "output_type": "stream",
          "name": "stdout",
          "text": [
            "evaluate_time = 0.1392810344696045 transform_time = 0.01186513900756836\n",
            "evaluate_time = 0.08346223831176758 transform_time = 0.006160736083984375\n",
            "evaluate_time = 0.16917991638183594 transform_time = 0.013889551162719727\n",
            "evaluate_time = 0.07821440696716309 transform_time = 0.006526470184326172\n",
            "evaluate_time = 0.11773395538330078 transform_time = 0.009724617004394531\n",
            "evaluate_time = 0.15887951850891113 transform_time = 0.012938261032104492\n",
            "evaluate_time = 0.028961658477783203 transform_time = 0.0024111270904541016\n",
            "evaluate_time = 0.03151202201843262 transform_time = 0.004240274429321289\n",
            "evaluate_time = 0.07169508934020996 transform_time = 0.005794048309326172\n"
          ]
        },
        {
          "output_type": "stream",
          "name": "stderr",
          "text": [
            "\rTraining:   0%|          | 314/69630 [01:02<3:39:39,  5.26sentences/s]"
          ]
        },
        {
          "output_type": "stream",
          "name": "stdout",
          "text": [
            "evaluate_time = 0.13877177238464355 transform_time = 0.011367321014404297\n",
            "evaluate_time = 0.14378857612609863 transform_time = 0.011751890182495117\n",
            "evaluate_time = 0.2447812557220459 transform_time = 0.02506732940673828\n",
            "evaluate_time = 0.17017531394958496 transform_time = 0.016054153442382812\n",
            "evaluate_time = 0.1509230136871338 transform_time = 0.012247562408447266\n",
            "evaluate_time = 0.0288083553314209 transform_time = 0.003228902816772461\n",
            "evaluate_time = 0.0672309398651123 transform_time = 0.006367206573486328\n"
          ]
        },
        {
          "output_type": "stream",
          "name": "stderr",
          "text": [
            "\rTraining:   0%|          | 320/69630 [01:03<3:36:31,  5.34sentences/s]"
          ]
        },
        {
          "output_type": "stream",
          "name": "stdout",
          "text": [
            "evaluate_time = 0.20178914070129395 transform_time = 0.017776012420654297\n",
            "evaluate_time = 0.3185582160949707 transform_time = 0.03005361557006836\n",
            "evaluate_time = 0.18345928192138672 transform_time = 0.01724100112915039\n",
            "evaluate_time = 0.08190274238586426 transform_time = 0.0064318180084228516\n",
            "evaluate_time = 0.014656543731689453 transform_time = 0.0013959407806396484\n"
          ]
        },
        {
          "output_type": "stream",
          "name": "stderr",
          "text": [
            "\rTraining:   0%|          | 327/69630 [01:04<3:25:14,  5.63sentences/s]"
          ]
        },
        {
          "output_type": "stream",
          "name": "stdout",
          "text": [
            "evaluate_time = 0.12470698356628418 transform_time = 0.010381698608398438\n",
            "evaluate_time = 0.025781869888305664 transform_time = 0.0032737255096435547\n",
            "evaluate_time = 0.12095260620117188 transform_time = 0.011166810989379883\n",
            "evaluate_time = 0.1441190242767334 transform_time = 0.01143503189086914\n",
            "evaluate_time = 0.026602983474731445 transform_time = 0.0024428367614746094\n",
            "evaluate_time = 0.19385313987731934 transform_time = 0.01792001724243164\n",
            "evaluate_time = 0.10782647132873535 transform_time = 0.008991718292236328\n",
            "evaluate_time = 0.07941126823425293 transform_time = 0.005747795104980469\n",
            "evaluate_time = 0.10914421081542969 transform_time = 0.008769989013671875\n"
          ]
        },
        {
          "output_type": "stream",
          "name": "stderr",
          "text": [
            "\rTraining:   0%|          | 335/69630 [01:05<3:06:25,  6.20sentences/s]"
          ]
        },
        {
          "output_type": "stream",
          "name": "stdout",
          "text": [
            "evaluate_time = 0.07429361343383789 transform_time = 0.006787538528442383\n",
            "evaluate_time = 0.08574461936950684 transform_time = 0.008155584335327148\n",
            "evaluate_time = 0.053923606872558594 transform_time = 0.0038444995880126953\n",
            "evaluate_time = 0.15245461463928223 transform_time = 0.012178182601928711\n",
            "evaluate_time = 0.3498544692993164 transform_time = 0.035347938537597656\n",
            "evaluate_time = 0.12921690940856934 transform_time = 0.010473489761352539\n"
          ]
        },
        {
          "output_type": "stream",
          "name": "stderr",
          "text": [
            "\rTraining:   0%|          | 342/69630 [01:06<3:06:32,  6.19sentences/s]"
          ]
        },
        {
          "output_type": "stream",
          "name": "stdout",
          "text": [
            "evaluate_time = 0.1276390552520752 transform_time = 0.011604070663452148\n",
            "evaluate_time = 0.03587174415588379 transform_time = 0.0038156509399414062\n",
            "evaluate_time = 0.05985665321350098 transform_time = 0.005729198455810547\n",
            "evaluate_time = 0.0759270191192627 transform_time = 0.005505084991455078\n",
            "evaluate_time = 0.05277752876281738 transform_time = 0.003675222396850586\n",
            "evaluate_time = 0.07280898094177246 transform_time = 0.006379604339599609\n",
            "evaluate_time = 0.06256484985351562 transform_time = 0.006124973297119141\n",
            "evaluate_time = 0.020567655563354492 transform_time = 0.0026900768280029297\n",
            "evaluate_time = 0.0887296199798584 transform_time = 0.007992744445800781\n",
            "evaluate_time = 0.05572366714477539 transform_time = 0.003727436065673828\n",
            "evaluate_time = 0.12887215614318848 transform_time = 0.010330438613891602\n"
          ]
        },
        {
          "output_type": "stream",
          "name": "stderr",
          "text": [
            "\rTraining:   1%|          | 351/69630 [01:07<2:49:46,  6.80sentences/s]"
          ]
        },
        {
          "output_type": "stream",
          "name": "stdout",
          "text": [
            "evaluate_time = 0.3063817024230957 transform_time = 0.0280609130859375\n",
            "evaluate_time = 0.19317126274108887 transform_time = 0.014473438262939453\n",
            "evaluate_time = 0.15189290046691895 transform_time = 0.012125968933105469\n",
            "evaluate_time = 0.17493915557861328 transform_time = 0.014447450637817383\n",
            "evaluate_time = 0.08820080757141113 transform_time = 0.006440162658691406\n",
            "evaluate_time = 0.24738359451293945 transform_time = 0.02039623260498047\n",
            "evaluate_time = 0.23878717422485352 transform_time = 0.02089381217956543\n"
          ]
        },
        {
          "output_type": "stream",
          "name": "stderr",
          "text": [
            "\rTraining:   1%|          | 358/69630 [01:09<3:27:40,  5.56sentences/s]"
          ]
        },
        {
          "output_type": "stream",
          "name": "stdout",
          "text": [
            "evaluate_time = 0.3856983184814453 transform_time = 0.03697776794433594\n",
            "evaluate_time = 0.20842337608337402 transform_time = 0.017867326736450195\n",
            "evaluate_time = 0.06588482856750488 transform_time = 0.004683256149291992\n",
            "evaluate_time = 0.28922247886657715 transform_time = 0.02596759796142578\n",
            "evaluate_time = 0.18601179122924805 transform_time = 0.014751434326171875\n"
          ]
        },
        {
          "output_type": "stream",
          "name": "stderr",
          "text": [
            "\rTraining:   1%|          | 364/69630 [01:10<3:43:17,  5.17sentences/s]"
          ]
        },
        {
          "output_type": "stream",
          "name": "stdout",
          "text": [
            "evaluate_time = 0.2077033519744873 transform_time = 0.017030954360961914\n",
            "evaluate_time = 0.15313315391540527 transform_time = 0.01163172721862793\n",
            "evaluate_time = 0.33104467391967773 transform_time = 0.0290682315826416\n",
            "evaluate_time = 0.2349226474761963 transform_time = 0.022310972213745117\n",
            "evaluate_time = 0.09091615676879883 transform_time = 0.0061075687408447266\n",
            "evaluate_time = 0.08376002311706543 transform_time = 0.005394935607910156\n",
            "evaluate_time = 0.3719139099121094 transform_time = 0.031874895095825195\n"
          ]
        },
        {
          "output_type": "stream",
          "name": "stderr",
          "text": [
            "\rTraining:   1%|          | 370/69630 [01:12<4:06:16,  4.69sentences/s]"
          ]
        },
        {
          "output_type": "stream",
          "name": "stdout",
          "text": [
            "evaluate_time = 0.18421030044555664 transform_time = 0.013617515563964844\n",
            "evaluate_time = 0.2741255760192871 transform_time = 0.026432275772094727\n",
            "evaluate_time = 0.30548715591430664 transform_time = 0.02752208709716797\n",
            "evaluate_time = 0.15431809425354004 transform_time = 0.011388778686523438\n",
            "evaluate_time = 0.055289268493652344 transform_time = 0.003805398941040039\n"
          ]
        },
        {
          "output_type": "stream",
          "name": "stderr",
          "text": [
            "\rTraining:   1%|          | 375/69630 [01:13<4:14:55,  4.53sentences/s]"
          ]
        },
        {
          "output_type": "stream",
          "name": "stdout",
          "text": [
            "evaluate_time = 0.1868760585784912 transform_time = 0.01654505729675293\n",
            "evaluate_time = 0.04839277267456055 transform_time = 0.007565021514892578\n",
            "evaluate_time = 0.4374985694885254 transform_time = 0.04574847221374512\n",
            "evaluate_time = 0.04239511489868164 transform_time = 0.0029497146606445312\n",
            "evaluate_time = 0.07097911834716797 transform_time = 0.005799770355224609\n"
          ]
        },
        {
          "output_type": "stream",
          "name": "stderr",
          "text": [
            "\rTraining:   1%|          | 381/69630 [01:14<3:57:08,  4.87sentences/s]"
          ]
        },
        {
          "output_type": "stream",
          "name": "stdout",
          "text": [
            "evaluate_time = 0.1796727180480957 transform_time = 0.016640663146972656\n",
            "evaluate_time = 0.02637648582458496 transform_time = 0.0022988319396972656\n",
            "evaluate_time = 0.08924651145935059 transform_time = 0.006574869155883789\n",
            "evaluate_time = 0.10216760635375977 transform_time = 0.007317304611206055\n",
            "evaluate_time = 0.06091904640197754 transform_time = 0.006517887115478516\n",
            "evaluate_time = 0.1278846263885498 transform_time = 0.010629415512084961\n",
            "evaluate_time = 0.08546829223632812 transform_time = 0.006531238555908203\n",
            "evaluate_time = 0.10206055641174316 transform_time = 0.009144783020019531\n"
          ]
        },
        {
          "output_type": "stream",
          "name": "stderr",
          "text": [
            "\rTraining:   1%|          | 388/69630 [01:15<3:39:06,  5.27sentences/s]"
          ]
        },
        {
          "output_type": "stream",
          "name": "stdout",
          "text": [
            "evaluate_time = 0.32215189933776855 transform_time = 0.02991175651550293\n",
            "evaluate_time = 0.11798405647277832 transform_time = 0.011228322982788086\n",
            "evaluate_time = 0.13929486274719238 transform_time = 0.01154327392578125\n",
            "evaluate_time = 0.30115246772766113 transform_time = 0.02902388572692871\n",
            "evaluate_time = 0.047204017639160156 transform_time = 0.0032777786254882812\n"
          ]
        },
        {
          "output_type": "stream",
          "name": "stderr",
          "text": [
            "\rTraining:   1%|          | 394/69630 [01:16<3:31:45,  5.45sentences/s]"
          ]
        },
        {
          "output_type": "stream",
          "name": "stdout",
          "text": [
            "evaluate_time = 0.18679475784301758 transform_time = 0.015732765197753906\n",
            "evaluate_time = 0.012805461883544922 transform_time = 0.0015964508056640625\n",
            "evaluate_time = 0.06931686401367188 transform_time = 0.004948616027832031\n",
            "evaluate_time = 0.10448741912841797 transform_time = 0.009670019149780273\n",
            "evaluate_time = 0.08324575424194336 transform_time = 0.006430864334106445\n",
            "evaluate_time = 0.1720447540283203 transform_time = 0.014841556549072266\n",
            "evaluate_time = 0.04504561424255371 transform_time = 0.003823995590209961\n",
            "evaluate_time = 0.07209038734436035 transform_time = 0.00557255744934082\n"
          ]
        },
        {
          "output_type": "stream",
          "name": "stderr",
          "text": [
            "\rTraining:   1%|          | 402/69630 [01:17<3:08:49,  6.11sentences/s]"
          ]
        },
        {
          "output_type": "stream",
          "name": "stdout",
          "text": [
            "evaluate_time = 0.10280108451843262 transform_time = 0.007486581802368164\n",
            "evaluate_time = 0.1563858985900879 transform_time = 0.013717889785766602\n",
            "evaluate_time = 0.05049777030944824 transform_time = 0.003206491470336914\n",
            "evaluate_time = 0.19188427925109863 transform_time = 0.01749277114868164\n",
            "evaluate_time = 0.10107207298278809 transform_time = 0.007799625396728516\n",
            "evaluate_time = 0.20854496955871582 transform_time = 0.018392562866210938\n",
            "evaluate_time = 0.12195992469787598 transform_time = 0.011221647262573242\n"
          ]
        },
        {
          "output_type": "stream",
          "name": "stderr",
          "text": [
            "\rTraining:   1%|          | 409/69630 [01:18<3:11:34,  6.02sentences/s]"
          ]
        },
        {
          "output_type": "stream",
          "name": "stdout",
          "text": [
            "evaluate_time = 0.26238584518432617 transform_time = 0.02527928352355957\n",
            "evaluate_time = 0.0272674560546875 transform_time = 0.0021920204162597656\n",
            "evaluate_time = 0.08342957496643066 transform_time = 0.006068229675292969\n",
            "evaluate_time = 0.07837939262390137 transform_time = 0.0063228607177734375\n",
            "evaluate_time = 0.05082082748413086 transform_time = 0.003529071807861328\n",
            "evaluate_time = 0.11901187896728516 transform_time = 0.010169506072998047\n",
            "evaluate_time = 0.040854454040527344 transform_time = 0.0035614967346191406\n",
            "evaluate_time = 0.22336673736572266 transform_time = 0.020452260971069336\n",
            "evaluate_time = 0.06174612045288086 transform_time = 0.004603862762451172\n",
            "evaluate_time = 0.06228232383728027 transform_time = 0.0061187744140625\n"
          ]
        },
        {
          "output_type": "stream",
          "name": "stderr",
          "text": [
            "\rTraining:   1%|          | 419/69630 [01:19<2:48:34,  6.84sentences/s]"
          ]
        },
        {
          "output_type": "stream",
          "name": "stdout",
          "text": [
            "evaluate_time = 0.057135820388793945 transform_time = 0.004296302795410156\n",
            "evaluate_time = 0.13655686378479004 transform_time = 0.012005329132080078\n",
            "evaluate_time = 0.11204147338867188 transform_time = 0.00856637954711914\n",
            "evaluate_time = 0.20487284660339355 transform_time = 0.0182037353515625\n",
            "evaluate_time = 0.19913506507873535 transform_time = 0.018863201141357422\n",
            "evaluate_time = 0.04715442657470703 transform_time = 0.003454923629760742\n"
          ]
        },
        {
          "output_type": "stream",
          "name": "stderr",
          "text": [
            "\rTraining:   1%|          | 426/69630 [01:21<2:58:59,  6.44sentences/s]"
          ]
        },
        {
          "output_type": "stream",
          "name": "stdout",
          "text": [
            "evaluate_time = 0.3176565170288086 transform_time = 0.03312993049621582\n",
            "evaluate_time = 0.09583544731140137 transform_time = 0.00932002067565918\n",
            "evaluate_time = 0.024344682693481445 transform_time = 0.0017609596252441406\n",
            "evaluate_time = 0.2703056335449219 transform_time = 0.025545120239257812\n",
            "evaluate_time = 0.21664023399353027 transform_time = 0.020605802536010742\n",
            "evaluate_time = 0.06109738349914551 transform_time = 0.004618644714355469\n",
            "evaluate_time = 0.01805281639099121 transform_time = 0.001392364501953125\n",
            "evaluate_time = 0.060712337493896484 transform_time = 0.0059375762939453125\n"
          ]
        },
        {
          "output_type": "stream",
          "name": "stderr",
          "text": [
            "\rTraining:   1%|          | 433/69630 [01:22<2:56:42,  6.53sentences/s]"
          ]
        },
        {
          "output_type": "stream",
          "name": "stdout",
          "text": [
            "evaluate_time = 0.09216475486755371 transform_time = 0.008325338363647461\n",
            "evaluate_time = 0.1059255599975586 transform_time = 0.009457588195800781\n",
            "evaluate_time = 0.0994868278503418 transform_time = 0.0077440738677978516\n",
            "evaluate_time = 0.0944981575012207 transform_time = 0.007516622543334961\n",
            "evaluate_time = 0.03146076202392578 transform_time = 0.003661632537841797\n",
            "evaluate_time = 0.05046367645263672 transform_time = 0.0037865638732910156\n",
            "evaluate_time = 0.0708005428314209 transform_time = 0.006616353988647461\n",
            "evaluate_time = 0.1485457420349121 transform_time = 0.013864278793334961\n",
            "evaluate_time = 0.02627277374267578 transform_time = 0.0018281936645507812\n",
            "evaluate_time = 0.11724042892456055 transform_time = 0.010920286178588867\n"
          ]
        },
        {
          "output_type": "stream",
          "name": "stderr",
          "text": [
            "\rTraining:   1%|          | 443/69630 [01:23<2:38:20,  7.28sentences/s]"
          ]
        },
        {
          "output_type": "stream",
          "name": "stdout",
          "text": [
            "evaluate_time = 0.10829949378967285 transform_time = 0.00978541374206543\n",
            "evaluate_time = 0.12837767601013184 transform_time = 0.011014699935913086\n",
            "evaluate_time = 0.16634488105773926 transform_time = 0.011123895645141602\n",
            "evaluate_time = 0.3072519302368164 transform_time = 0.03364157676696777\n",
            "evaluate_time = 0.1405022144317627 transform_time = 0.010993719100952148\n",
            "evaluate_time = 0.15608000755310059 transform_time = 0.011536836624145508\n",
            "evaluate_time = 0.03429412841796875 transform_time = 0.0024526119232177734\n",
            "evaluate_time = 0.07507634162902832 transform_time = 0.00538945198059082\n"
          ]
        },
        {
          "output_type": "stream",
          "name": "stderr",
          "text": [
            "\rTraining:   1%|          | 451/69630 [01:24<2:49:35,  6.80sentences/s]"
          ]
        },
        {
          "output_type": "stream",
          "name": "stdout",
          "text": [
            "evaluate_time = 0.11471176147460938 transform_time = 0.007593870162963867\n",
            "evaluate_time = 0.09308600425720215 transform_time = 0.007541656494140625\n",
            "evaluate_time = 0.16553664207458496 transform_time = 0.01317596435546875\n",
            "evaluate_time = 0.3586549758911133 transform_time = 0.03199601173400879\n",
            "evaluate_time = 0.1989154815673828 transform_time = 0.020903348922729492\n",
            "evaluate_time = 0.20562005043029785 transform_time = 0.01677870750427246\n",
            "evaluate_time = 0.08445382118225098 transform_time = 0.006226062774658203\n"
          ]
        },
        {
          "output_type": "stream",
          "name": "stderr",
          "text": [
            "\rTraining:   1%|          | 458/69630 [01:26<3:07:32,  6.15sentences/s]"
          ]
        },
        {
          "output_type": "stream",
          "name": "stdout",
          "text": [
            "evaluate_time = 0.10189342498779297 transform_time = 0.007022380828857422\n",
            "evaluate_time = 0.02594447135925293 transform_time = 0.0017445087432861328\n",
            "evaluate_time = 0.07971310615539551 transform_time = 0.0058650970458984375\n",
            "evaluate_time = 0.18791675567626953 transform_time = 0.01501321792602539\n",
            "evaluate_time = 0.21056008338928223 transform_time = 0.018714189529418945\n",
            "evaluate_time = 0.07326483726501465 transform_time = 0.00523686408996582\n",
            "evaluate_time = 0.22976469993591309 transform_time = 0.01931309700012207\n",
            "evaluate_time = 0.21641874313354492 transform_time = 0.016230344772338867\n"
          ]
        },
        {
          "output_type": "stream",
          "name": "stderr",
          "text": [
            "\rTraining:   1%|          | 465/69630 [01:27<3:32:19,  5.43sentences/s]"
          ]
        },
        {
          "output_type": "stream",
          "name": "stdout",
          "text": [
            "evaluate_time = 0.3497660160064697 transform_time = 0.030881166458129883\n",
            "evaluate_time = 0.3231182098388672 transform_time = 0.02713632583618164\n",
            "evaluate_time = 0.4968886375427246 transform_time = 0.046010494232177734\n",
            "evaluate_time = 0.04213571548461914 transform_time = 0.002911806106567383\n",
            "evaluate_time = 0.10588836669921875 transform_time = 0.007465839385986328\n",
            "evaluate_time = 0.25696682929992676 transform_time = 0.021983623504638672\n"
          ]
        },
        {
          "output_type": "stream",
          "name": "stderr",
          "text": [
            "\rTraining:   1%|          | 471/69630 [01:29<4:08:34,  4.64sentences/s]"
          ]
        },
        {
          "output_type": "stream",
          "name": "stdout",
          "text": [
            "evaluate_time = 0.2710402011871338 transform_time = 0.023825645446777344\n",
            "evaluate_time = 0.05675482749938965 transform_time = 0.004001617431640625\n",
            "evaluate_time = 0.039992332458496094 transform_time = 0.0027379989624023438\n",
            "evaluate_time = 0.09629154205322266 transform_time = 0.008258819580078125\n",
            "evaluate_time = 0.32429051399230957 transform_time = 0.03159689903259277\n"
          ]
        },
        {
          "output_type": "stream",
          "name": "stderr",
          "text": [
            "\rTraining:   1%|          | 477/69630 [01:30<3:59:49,  4.81sentences/s]"
          ]
        },
        {
          "output_type": "stream",
          "name": "stdout",
          "text": [
            "evaluate_time = 0.240525484085083 transform_time = 0.020777225494384766\n",
            "evaluate_time = 0.14539575576782227 transform_time = 0.012678861618041992\n",
            "evaluate_time = 0.19733047485351562 transform_time = 0.017169713973999023\n",
            "evaluate_time = 0.12000584602355957 transform_time = 0.009456157684326172\n",
            "evaluate_time = 0.0671854019165039 transform_time = 0.004709720611572266\n",
            "evaluate_time = 0.08419156074523926 transform_time = 0.00699305534362793\n"
          ]
        },
        {
          "output_type": "stream",
          "name": "stderr",
          "text": [
            "\rTraining:   1%|          | 483/69630 [01:31<3:54:33,  4.91sentences/s]"
          ]
        },
        {
          "output_type": "stream",
          "name": "stdout",
          "text": [
            "evaluate_time = 0.33539581298828125 transform_time = 0.03295636177062988\n",
            "evaluate_time = 0.11913228034973145 transform_time = 0.009859800338745117\n",
            "evaluate_time = 0.21722030639648438 transform_time = 0.01890110969543457\n",
            "evaluate_time = 0.03248715400695801 transform_time = 0.003966808319091797\n",
            "evaluate_time = 0.08976030349731445 transform_time = 0.008121490478515625\n",
            "evaluate_time = 0.3079235553741455 transform_time = 0.030315876007080078\n"
          ]
        },
        {
          "output_type": "stream",
          "name": "stderr",
          "text": [
            "\rTraining:   1%|          | 489/69630 [01:33<3:58:50,  4.82sentences/s]"
          ]
        },
        {
          "output_type": "stream",
          "name": "stdout",
          "text": [
            "evaluate_time = 0.24010324478149414 transform_time = 0.02290034294128418\n",
            "evaluate_time = 0.15630578994750977 transform_time = 0.01351308822631836\n",
            "evaluate_time = 0.14193439483642578 transform_time = 0.011744976043701172\n",
            "evaluate_time = 0.11368894577026367 transform_time = 0.00954127311706543\n",
            "evaluate_time = 0.11641502380371094 transform_time = 0.009007930755615234\n",
            "evaluate_time = 0.5223269462585449 transform_time = 0.05571746826171875\n"
          ]
        },
        {
          "output_type": "stream",
          "name": "stderr",
          "text": [
            "\rTraining:   1%|          | 494/69630 [01:34<4:16:13,  4.50sentences/s]"
          ]
        },
        {
          "output_type": "stream",
          "name": "stdout",
          "text": [
            "evaluate_time = 0.1785116195678711 transform_time = 0.015520811080932617\n",
            "evaluate_time = 0.04278206825256348 transform_time = 0.005346536636352539\n",
            "evaluate_time = 0.04763984680175781 transform_time = 0.0038917064666748047\n",
            "evaluate_time = 0.019623756408691406 transform_time = 0.001322031021118164\n",
            "evaluate_time = 0.20976710319519043 transform_time = 0.018757343292236328\n",
            "evaluate_time = 0.04499697685241699 transform_time = 0.0031218528747558594\n",
            "evaluate_time = 0.34781885147094727 transform_time = 0.03480935096740723\n"
          ]
        },
        {
          "output_type": "stream",
          "name": "stderr",
          "text": [
            "\rTraining:   1%|          | 501/69630 [01:35<3:55:26,  4.89sentences/s]"
          ]
        },
        {
          "output_type": "stream",
          "name": "stdout",
          "text": [
            "evaluate_time = 0.2181541919708252 transform_time = 0.01956462860107422\n",
            "evaluate_time = 0.1144719123840332 transform_time = 0.009187698364257812\n",
            "evaluate_time = 0.12584829330444336 transform_time = 0.010677099227905273\n",
            "evaluate_time = 0.07523775100708008 transform_time = 0.0075075626373291016\n",
            "evaluate_time = 0.2874162197113037 transform_time = 0.027796030044555664\n"
          ]
        },
        {
          "output_type": "stream",
          "name": "stderr",
          "text": [
            "\rTraining:   1%|          | 506/69630 [01:36<3:55:12,  4.90sentences/s]"
          ]
        },
        {
          "output_type": "stream",
          "name": "stdout",
          "text": [
            "evaluate_time = 0.2114100456237793 transform_time = 0.01967763900756836\n",
            "evaluate_time = 0.28445911407470703 transform_time = 0.02710723876953125\n",
            "evaluate_time = 0.06894659996032715 transform_time = 0.005060434341430664\n",
            "evaluate_time = 0.06440901756286621 transform_time = 0.005980730056762695\n",
            "evaluate_time = 0.03742623329162598 transform_time = 0.003221273422241211\n",
            "evaluate_time = 0.06358885765075684 transform_time = 0.004503965377807617\n",
            "evaluate_time = 0.15607047080993652 transform_time = 0.014760494232177734\n",
            "evaluate_time = 0.03392958641052246 transform_time = 0.002589702606201172\n"
          ]
        },
        {
          "output_type": "stream",
          "name": "stderr",
          "text": [
            "\rTraining:   1%|          | 514/69630 [01:38<3:34:29,  5.37sentences/s]"
          ]
        },
        {
          "output_type": "stream",
          "name": "stdout",
          "text": [
            "evaluate_time = 0.28462958335876465 transform_time = 0.028052330017089844\n",
            "evaluate_time = 0.1423664093017578 transform_time = 0.014331817626953125\n",
            "evaluate_time = 0.11483407020568848 transform_time = 0.009115934371948242\n",
            "evaluate_time = 0.041597604751586914 transform_time = 0.003010988235473633\n",
            "evaluate_time = 0.18178415298461914 transform_time = 0.0165250301361084\n",
            "evaluate_time = 0.09307742118835449 transform_time = 0.007410764694213867\n",
            "evaluate_time = 0.11324119567871094 transform_time = 0.008817434310913086\n",
            "evaluate_time = 0.06112790107727051 transform_time = 0.0064280033111572266\n",
            "evaluate_time = 0.04183197021484375 transform_time = 0.004291534423828125\n"
          ]
        },
        {
          "output_type": "stream",
          "name": "stderr",
          "text": [
            "\rTraining:   1%|          | 523/69630 [01:39<3:17:14,  5.84sentences/s]"
          ]
        },
        {
          "output_type": "stream",
          "name": "stdout",
          "text": [
            "evaluate_time = 0.25375938415527344 transform_time = 0.024016380310058594\n",
            "evaluate_time = 0.15807008743286133 transform_time = 0.012024879455566406\n",
            "evaluate_time = 0.17247605323791504 transform_time = 0.013904571533203125\n",
            "evaluate_time = 0.21840405464172363 transform_time = 0.017729759216308594\n",
            "evaluate_time = 0.20512986183166504 transform_time = 0.017042875289916992\n",
            "evaluate_time = 0.08590006828308105 transform_time = 0.006326436996459961\n"
          ]
        },
        {
          "output_type": "stream",
          "name": "stderr",
          "text": [
            "\rTraining:   1%|          | 529/69630 [01:40<3:24:39,  5.63sentences/s]"
          ]
        },
        {
          "output_type": "stream",
          "name": "stdout",
          "text": [
            "evaluate_time = 0.09384608268737793 transform_time = 0.006682872772216797\n",
            "evaluate_time = 0.31603050231933594 transform_time = 0.027701854705810547\n",
            "evaluate_time = 0.04355502128601074 transform_time = 0.003030061721801758\n",
            "evaluate_time = 0.1077728271484375 transform_time = 0.007509946823120117\n",
            "evaluate_time = 0.09077191352844238 transform_time = 0.006203651428222656\n"
          ]
        },
        {
          "output_type": "stream",
          "name": "stderr",
          "text": [
            "\rTraining:   1%|          | 535/69630 [01:41<3:30:21,  5.47sentences/s]"
          ]
        },
        {
          "output_type": "stream",
          "name": "stdout",
          "text": [
            "evaluate_time = 0.26442718505859375 transform_time = 0.023131608963012695\n",
            "evaluate_time = 0.1097261905670166 transform_time = 0.008251428604125977\n",
            "evaluate_time = 0.03850960731506348 transform_time = 0.0024652481079101562\n",
            "evaluate_time = 0.19007587432861328 transform_time = 0.01823115348815918\n",
            "evaluate_time = 0.23736929893493652 transform_time = 0.019507169723510742\n",
            "evaluate_time = 0.15896916389465332 transform_time = 0.014393806457519531\n",
            "evaluate_time = 0.14696860313415527 transform_time = 0.011416912078857422\n"
          ]
        },
        {
          "output_type": "stream",
          "name": "stderr",
          "text": [
            "\rTraining:   1%|          | 541/69630 [01:42<3:32:26,  5.42sentences/s]"
          ]
        },
        {
          "output_type": "stream",
          "name": "stdout",
          "text": [
            "evaluate_time = 0.1319282054901123 transform_time = 0.01084756851196289\n",
            "evaluate_time = 0.19643878936767578 transform_time = 0.017644405364990234\n",
            "evaluate_time = 0.3900308609008789 transform_time = 0.03300118446350098\n",
            "evaluate_time = 0.07208824157714844 transform_time = 0.004775285720825195\n",
            "evaluate_time = 0.12683820724487305 transform_time = 0.008503913879394531\n"
          ]
        },
        {
          "output_type": "stream",
          "name": "stderr",
          "text": [
            "\rTraining:   1%|          | 547/69630 [01:44<4:03:48,  4.72sentences/s]"
          ]
        },
        {
          "output_type": "stream",
          "name": "stdout",
          "text": [
            "evaluate_time = 0.45963573455810547 transform_time = 0.04002118110656738\n",
            "evaluate_time = 0.11825680732727051 transform_time = 0.007999181747436523\n",
            "evaluate_time = 0.1116180419921875 transform_time = 0.008135318756103516\n",
            "evaluate_time = 0.29647064208984375 transform_time = 0.027321338653564453\n",
            "evaluate_time = 0.16190361976623535 transform_time = 0.012113332748413086\n",
            "evaluate_time = 0.06910037994384766 transform_time = 0.005062580108642578\n",
            "evaluate_time = 0.15531563758850098 transform_time = 0.011137723922729492\n"
          ]
        },
        {
          "output_type": "stream",
          "name": "stderr",
          "text": [
            "\rTraining:   1%|          | 553/69630 [01:45<4:06:29,  4.67sentences/s]"
          ]
        },
        {
          "output_type": "stream",
          "name": "stdout",
          "text": [
            "evaluate_time = 0.25963330268859863 transform_time = 0.023877859115600586\n",
            "evaluate_time = 0.16533279418945312 transform_time = 0.013567209243774414\n",
            "evaluate_time = 0.13028335571289062 transform_time = 0.01066899299621582\n",
            "evaluate_time = 0.09351444244384766 transform_time = 0.007472991943359375\n",
            "evaluate_time = 0.048546552658081055 transform_time = 0.004190921783447266\n"
          ]
        },
        {
          "output_type": "stream",
          "name": "stderr",
          "text": [
            "\rTraining:   1%|          | 559/69630 [01:46<3:55:58,  4.88sentences/s]"
          ]
        },
        {
          "output_type": "stream",
          "name": "stdout",
          "text": [
            "evaluate_time = 0.35201311111450195 transform_time = 0.033098697662353516\n",
            "evaluate_time = 0.08630084991455078 transform_time = 0.006437063217163086\n",
            "evaluate_time = 0.06508755683898926 transform_time = 0.004747867584228516\n",
            "evaluate_time = 0.09073758125305176 transform_time = 0.0068817138671875\n",
            "evaluate_time = 0.1256697177886963 transform_time = 0.01051950454711914\n",
            "evaluate_time = 0.2046351432800293 transform_time = 0.017830610275268555\n"
          ]
        },
        {
          "output_type": "stream",
          "name": "stderr",
          "text": [
            "\rTraining:   1%|          | 565/69630 [01:48<3:46:33,  5.08sentences/s]"
          ]
        },
        {
          "output_type": "stream",
          "name": "stdout",
          "text": [
            "evaluate_time = 0.3063647747039795 transform_time = 0.02881765365600586\n",
            "evaluate_time = 0.06005597114562988 transform_time = 0.006104946136474609\n",
            "evaluate_time = 0.27012157440185547 transform_time = 0.02516794204711914\n",
            "evaluate_time = 0.17452764511108398 transform_time = 0.015741825103759766\n",
            "evaluate_time = 0.25028014183044434 transform_time = 0.023117542266845703\n",
            "evaluate_time = 0.05169939994812012 transform_time = 0.003738880157470703\n",
            "evaluate_time = 0.19907379150390625 transform_time = 0.018637418746948242\n"
          ]
        },
        {
          "output_type": "stream",
          "name": "stderr",
          "text": [
            "\rTraining:   1%|          | 571/69630 [01:49<3:58:46,  4.82sentences/s]"
          ]
        },
        {
          "output_type": "stream",
          "name": "stdout",
          "text": [
            "evaluate_time = 0.17209553718566895 transform_time = 0.01660466194152832\n",
            "evaluate_time = 0.04079866409301758 transform_time = 0.0029754638671875\n",
            "evaluate_time = 0.08217215538024902 transform_time = 0.0075397491455078125\n",
            "evaluate_time = 0.026030302047729492 transform_time = 0.0033011436462402344\n",
            "evaluate_time = 0.05778646469116211 transform_time = 0.005219221115112305\n",
            "evaluate_time = 0.04565763473510742 transform_time = 0.0053102970123291016\n",
            "evaluate_time = 0.1317276954650879 transform_time = 0.011614799499511719\n",
            "evaluate_time = 0.038060903549194336 transform_time = 0.0026068687438964844\n",
            "evaluate_time = 0.047139883041381836 transform_time = 0.0047605037689208984\n",
            "evaluate_time = 0.019873857498168945 transform_time = 0.0012519359588623047\n",
            "evaluate_time = 0.14859795570373535 transform_time = 0.013548135757446289\n",
            "evaluate_time = 0.05054044723510742 transform_time = 0.0033693313598632812\n",
            "evaluate_time = 0.08317828178405762 transform_time = 0.006097078323364258\n"
          ]
        },
        {
          "output_type": "stream",
          "name": "stderr",
          "text": [
            "\rTraining:   1%|          | 584/69630 [01:50<2:51:20,  6.72sentences/s]"
          ]
        },
        {
          "output_type": "stream",
          "name": "stdout",
          "text": [
            "evaluate_time = 0.10757327079772949 transform_time = 0.008178234100341797\n",
            "evaluate_time = 0.05697035789489746 transform_time = 0.003983497619628906\n",
            "evaluate_time = 0.04175138473510742 transform_time = 0.0028052330017089844\n",
            "evaluate_time = 0.31783509254455566 transform_time = 0.03148150444030762\n",
            "evaluate_time = 0.08023619651794434 transform_time = 0.005796670913696289\n",
            "evaluate_time = 0.09623265266418457 transform_time = 0.008601188659667969\n",
            "evaluate_time = 0.13254475593566895 transform_time = 0.011060237884521484\n"
          ]
        },
        {
          "output_type": "stream",
          "name": "stderr",
          "text": [
            "\rTraining:   1%|          | 592/69630 [01:51<2:46:41,  6.90sentences/s]"
          ]
        },
        {
          "output_type": "stream",
          "name": "stdout",
          "text": [
            "evaluate_time = 0.03453874588012695 transform_time = 0.004495859146118164\n",
            "evaluate_time = 0.10660696029663086 transform_time = 0.00886225700378418\n",
            "evaluate_time = 0.02235698699951172 transform_time = 0.0015277862548828125\n",
            "evaluate_time = 0.041011810302734375 transform_time = 0.004058837890625\n",
            "evaluate_time = 0.0799868106842041 transform_time = 0.007216691970825195\n",
            "evaluate_time = 0.20155763626098633 transform_time = 0.01904582977294922\n",
            "evaluate_time = 0.25832104682922363 transform_time = 0.024608850479125977\n",
            "evaluate_time = 0.20892333984375 transform_time = 0.019113540649414062\n",
            "evaluate_time = 0.05816173553466797 transform_time = 0.005901336669921875\n"
          ]
        },
        {
          "output_type": "stream",
          "name": "stderr",
          "text": [
            "\rTraining:   1%|          | 600/69630 [01:52<2:52:36,  6.67sentences/s]"
          ]
        },
        {
          "output_type": "stream",
          "name": "stdout",
          "text": [
            "evaluate_time = 0.15973615646362305 transform_time = 0.014989852905273438\n",
            "evaluate_time = 0.08791947364807129 transform_time = 0.007229328155517578\n",
            "evaluate_time = 0.2425541877746582 transform_time = 0.023776769638061523\n",
            "evaluate_time = 0.04803204536437988 transform_time = 0.00413060188293457\n",
            "evaluate_time = 0.10774636268615723 transform_time = 0.008293867111206055\n",
            "evaluate_time = 0.17834210395812988 transform_time = 0.014078855514526367\n",
            "evaluate_time = 0.02511286735534668 transform_time = 0.0023984909057617188\n"
          ]
        },
        {
          "output_type": "stream",
          "name": "stderr",
          "text": [
            "\rTraining:   1%|          | 607/69630 [01:53<2:54:20,  6.60sentences/s]"
          ]
        },
        {
          "output_type": "stream",
          "name": "stdout",
          "text": [
            "evaluate_time = 0.17862987518310547 transform_time = 0.015063047409057617\n",
            "evaluate_time = 0.03562307357788086 transform_time = 0.00234222412109375\n",
            "evaluate_time = 0.1192784309387207 transform_time = 0.009865999221801758\n",
            "evaluate_time = 0.1085202693939209 transform_time = 0.009788990020751953\n",
            "evaluate_time = 0.2349681854248047 transform_time = 0.02187943458557129\n"
          ]
        },
        {
          "output_type": "stream",
          "name": "stderr",
          "text": [
            "\rTraining:   1%|          | 614/69630 [01:55<3:02:05,  6.32sentences/s]"
          ]
        },
        {
          "output_type": "stream",
          "name": "stdout",
          "text": [
            "evaluate_time = 0.329578161239624 transform_time = 0.03237295150756836\n",
            "evaluate_time = 0.06470799446105957 transform_time = 0.0064585208892822266\n",
            "evaluate_time = 0.09226083755493164 transform_time = 0.0072879791259765625\n",
            "evaluate_time = 0.10247230529785156 transform_time = 0.007958412170410156\n",
            "evaluate_time = 0.05483102798461914 transform_time = 0.005379915237426758\n",
            "evaluate_time = 0.02483987808227539 transform_time = 0.0028824806213378906\n",
            "evaluate_time = 0.5039138793945312 transform_time = 0.0510401725769043\n",
            "evaluate_time = 0.05314493179321289 transform_time = 0.003892183303833008\n"
          ]
        },
        {
          "output_type": "stream",
          "name": "stderr",
          "text": [
            "\rTraining:   1%|          | 621/69630 [01:56<3:11:58,  5.99sentences/s]"
          ]
        },
        {
          "output_type": "stream",
          "name": "stdout",
          "text": [
            "evaluate_time = 0.17727327346801758 transform_time = 0.013273000717163086\n",
            "evaluate_time = 0.13613176345825195 transform_time = 0.010928153991699219\n",
            "evaluate_time = 0.17361164093017578 transform_time = 0.012884140014648438\n",
            "evaluate_time = 0.39110469818115234 transform_time = 0.03823447227478027\n",
            "evaluate_time = 0.046225547790527344 transform_time = 0.003215312957763672\n",
            "evaluate_time = 0.1242523193359375 transform_time = 0.009117364883422852\n",
            "evaluate_time = 0.13567471504211426 transform_time = 0.010445594787597656\n",
            "evaluate_time = 0.1808919906616211 transform_time = 0.015289068222045898\n"
          ]
        },
        {
          "output_type": "stream",
          "name": "stderr",
          "text": [
            "\rTraining:   1%|          | 628/69630 [01:58<3:34:09,  5.37sentences/s]"
          ]
        },
        {
          "output_type": "stream",
          "name": "stdout",
          "text": [
            "evaluate_time = 0.24675202369689941 transform_time = 0.02193450927734375\n",
            "evaluate_time = 0.08911752700805664 transform_time = 0.0069653987884521484\n",
            "evaluate_time = 0.1175084114074707 transform_time = 0.014351367950439453\n",
            "evaluate_time = 0.2606987953186035 transform_time = 0.02216958999633789\n",
            "evaluate_time = 0.30434465408325195 transform_time = 0.02614450454711914\n"
          ]
        },
        {
          "output_type": "stream",
          "name": "stderr",
          "text": [
            "\rTraining:   1%|          | 634/69630 [01:59<3:47:10,  5.06sentences/s]"
          ]
        },
        {
          "output_type": "stream",
          "name": "stdout",
          "text": [
            "evaluate_time = 0.22393035888671875 transform_time = 0.017787933349609375\n",
            "evaluate_time = 0.09783196449279785 transform_time = 0.0066754817962646484\n",
            "evaluate_time = 0.8162083625793457 transform_time = 0.0787038803100586\n",
            "evaluate_time = 0.47868943214416504 transform_time = 0.04359745979309082\n",
            "evaluate_time = 0.7532720565795898 transform_time = 0.07988381385803223\n"
          ]
        },
        {
          "output_type": "stream",
          "name": "stderr",
          "text": [
            "\rTraining:   1%|          | 640/69630 [02:02<5:16:22,  3.63sentences/s]"
          ]
        },
        {
          "output_type": "stream",
          "name": "stdout",
          "text": [
            "evaluate_time = 0.2143082618713379 transform_time = 0.019054889678955078\n",
            "evaluate_time = 0.03574347496032715 transform_time = 0.0040073394775390625\n",
            "evaluate_time = 0.053423404693603516 transform_time = 0.005427360534667969\n",
            "evaluate_time = 0.2415752410888672 transform_time = 0.019710302352905273\n",
            "evaluate_time = 0.5499558448791504 transform_time = 0.05166935920715332\n",
            "evaluate_time = 0.10565853118896484 transform_time = 0.009974241256713867\n"
          ]
        },
        {
          "output_type": "stream",
          "name": "stderr",
          "text": [
            "\rTraining:   1%|          | 645/69630 [02:03<5:14:04,  3.66sentences/s]"
          ]
        },
        {
          "output_type": "stream",
          "name": "stdout",
          "text": [
            "evaluate_time = 0.14846515655517578 transform_time = 0.01041555404663086\n",
            "evaluate_time = 0.030315637588500977 transform_time = 0.002131938934326172\n",
            "evaluate_time = 0.07925677299499512 transform_time = 0.00840902328491211\n",
            "evaluate_time = 0.2601916790008545 transform_time = 0.021718502044677734\n",
            "evaluate_time = 0.154449462890625 transform_time = 0.015844345092773438\n",
            "evaluate_time = 0.13155722618103027 transform_time = 0.012034177780151367\n"
          ]
        },
        {
          "output_type": "stream",
          "name": "stderr",
          "text": [
            "\rTraining:   1%|          | 650/69630 [02:04<5:00:33,  3.83sentences/s]"
          ]
        },
        {
          "output_type": "stream",
          "name": "stdout",
          "text": [
            "evaluate_time = 0.28243494033813477 transform_time = 0.02563762664794922\n",
            "evaluate_time = 0.05359959602355957 transform_time = 0.003964424133300781\n",
            "evaluate_time = 0.11319661140441895 transform_time = 0.008827686309814453\n",
            "evaluate_time = 0.20856690406799316 transform_time = 0.017862796783447266\n",
            "evaluate_time = 0.1853935718536377 transform_time = 0.016442060470581055\n",
            "evaluate_time = 0.10948562622070312 transform_time = 0.009045124053955078\n"
          ]
        },
        {
          "output_type": "stream",
          "name": "stderr",
          "text": [
            "\rTraining:   1%|          | 656/69630 [02:06<4:34:58,  4.18sentences/s]"
          ]
        },
        {
          "output_type": "stream",
          "name": "stdout",
          "text": [
            "evaluate_time = 0.2375791072845459 transform_time = 0.022492647171020508\n",
            "evaluate_time = 0.16683506965637207 transform_time = 0.015855789184570312\n",
            "evaluate_time = 0.23055219650268555 transform_time = 0.01946258544921875\n",
            "evaluate_time = 0.1426103115081787 transform_time = 0.01290750503540039\n"
          ]
        },
        {
          "output_type": "stream",
          "name": "stderr",
          "text": [
            "\rTraining:   1%|          | 661/69630 [02:07<4:27:02,  4.30sentences/s]"
          ]
        },
        {
          "output_type": "stream",
          "name": "stdout",
          "text": [
            "evaluate_time = 0.2066822052001953 transform_time = 0.019124507904052734\n",
            "evaluate_time = 0.10566282272338867 transform_time = 0.008816719055175781\n",
            "evaluate_time = 0.14433073997497559 transform_time = 0.011144876480102539\n",
            "evaluate_time = 0.047097206115722656 transform_time = 0.004764080047607422\n",
            "evaluate_time = 0.12639236450195312 transform_time = 0.011064529418945312\n",
            "evaluate_time = 0.09755301475524902 transform_time = 0.00776362419128418\n",
            "evaluate_time = 0.11594367027282715 transform_time = 0.010532379150390625\n",
            "evaluate_time = 0.013374567031860352 transform_time = 0.0023632049560546875\n"
          ]
        },
        {
          "output_type": "stream",
          "name": "stderr",
          "text": [
            "\rTraining:   1%|          | 668/69630 [02:08<3:54:41,  4.90sentences/s]"
          ]
        },
        {
          "output_type": "stream",
          "name": "stdout",
          "text": [
            "evaluate_time = 0.3062703609466553 transform_time = 0.029929637908935547\n",
            "evaluate_time = 0.23201847076416016 transform_time = 0.02183675765991211\n",
            "evaluate_time = 0.192124605178833 transform_time = 0.0192258358001709\n",
            "evaluate_time = 0.06091809272766113 transform_time = 0.00451970100402832\n",
            "evaluate_time = 0.28861165046691895 transform_time = 0.027750730514526367\n",
            "evaluate_time = 0.07581257820129395 transform_time = 0.007413625717163086\n"
          ]
        },
        {
          "output_type": "stream",
          "name": "stderr",
          "text": [
            "\rTraining:   1%|          | 674/69630 [02:09<3:56:58,  4.85sentences/s]"
          ]
        },
        {
          "output_type": "stream",
          "name": "stdout",
          "text": [
            "evaluate_time = 0.1659705638885498 transform_time = 0.014062881469726562\n",
            "evaluate_time = 0.05298447608947754 transform_time = 0.003462553024291992\n",
            "evaluate_time = 0.156158447265625 transform_time = 0.013985872268676758\n",
            "evaluate_time = 0.03235626220703125 transform_time = 0.002756834030151367\n",
            "evaluate_time = 0.22756290435791016 transform_time = 0.01992177963256836\n",
            "evaluate_time = 0.08305501937866211 transform_time = 0.007066011428833008\n"
          ]
        },
        {
          "output_type": "stream",
          "name": "stderr",
          "text": [
            "\rTraining:   1%|          | 681/69630 [02:10<3:34:00,  5.37sentences/s]"
          ]
        },
        {
          "output_type": "stream",
          "name": "stdout",
          "text": [
            "evaluate_time = 0.18461227416992188 transform_time = 0.01649951934814453\n",
            "evaluate_time = 0.08519959449768066 transform_time = 0.0060269832611083984\n",
            "evaluate_time = 0.16264963150024414 transform_time = 0.01339864730834961\n",
            "evaluate_time = 0.07581710815429688 transform_time = 0.0071179866790771484\n",
            "evaluate_time = 0.1513526439666748 transform_time = 0.013705730438232422\n",
            "evaluate_time = 0.3295018672943115 transform_time = 0.03079700469970703\n",
            "evaluate_time = 0.15727949142456055 transform_time = 0.015140056610107422\n"
          ]
        },
        {
          "output_type": "stream",
          "name": "stderr",
          "text": [
            "\rTraining:   1%|          | 687/69630 [02:12<3:56:34,  4.86sentences/s]"
          ]
        },
        {
          "output_type": "stream",
          "name": "stdout",
          "text": [
            "evaluate_time = 0.3476288318634033 transform_time = 0.03440976142883301\n",
            "evaluate_time = 0.13294649124145508 transform_time = 0.010202169418334961\n",
            "evaluate_time = 0.34562039375305176 transform_time = 0.04177546501159668\n",
            "evaluate_time = 0.10814332962036133 transform_time = 0.00784158706665039\n"
          ]
        },
        {
          "output_type": "stream",
          "name": "stderr",
          "text": [
            "\rTraining:   1%|          | 693/69630 [02:13<3:46:48,  5.07sentences/s]"
          ]
        },
        {
          "output_type": "stream",
          "name": "stdout",
          "text": [
            "evaluate_time = 0.1418924331665039 transform_time = 0.011170148849487305\n",
            "evaluate_time = 0.07311630249023438 transform_time = 0.005642890930175781\n",
            "evaluate_time = 0.02584075927734375 transform_time = 0.0017952919006347656\n",
            "evaluate_time = 0.09636783599853516 transform_time = 0.006460428237915039\n",
            "evaluate_time = 0.14885830879211426 transform_time = 0.01170492172241211\n",
            "evaluate_time = 0.12837696075439453 transform_time = 0.011001348495483398\n",
            "evaluate_time = 0.1319429874420166 transform_time = 0.009423971176147461\n",
            "evaluate_time = 0.11675810813903809 transform_time = 0.00819849967956543\n",
            "evaluate_time = 0.08752274513244629 transform_time = 0.006555795669555664\n"
          ]
        },
        {
          "output_type": "stream",
          "name": "stderr",
          "text": [
            "\rTraining:   1%|          | 700/69630 [02:14<3:26:18,  5.57sentences/s]"
          ]
        },
        {
          "output_type": "stream",
          "name": "stdout",
          "text": [
            "evaluate_time = 0.07327961921691895 transform_time = 0.005218982696533203\n",
            "evaluate_time = 0.44745802879333496 transform_time = 0.049730539321899414\n",
            "evaluate_time = 0.06041598320007324 transform_time = 0.004408836364746094\n",
            "evaluate_time = 0.2577393054962158 transform_time = 0.023843050003051758\n",
            "evaluate_time = 0.18647336959838867 transform_time = 0.015610456466674805\n",
            "evaluate_time = 0.1265883445739746 transform_time = 0.009894132614135742\n"
          ]
        },
        {
          "output_type": "stream",
          "name": "stderr",
          "text": [
            "\rTraining:   1%|          | 706/69630 [02:15<3:54:56,  4.89sentences/s]"
          ]
        },
        {
          "output_type": "stream",
          "name": "stdout",
          "text": [
            "evaluate_time = 0.18384385108947754 transform_time = 0.014674186706542969\n",
            "evaluate_time = 0.1651463508605957 transform_time = 0.016144514083862305\n",
            "evaluate_time = 0.214860200881958 transform_time = 0.016533374786376953\n",
            "evaluate_time = 0.24067234992980957 transform_time = 0.022779464721679688\n"
          ]
        },
        {
          "output_type": "stream",
          "name": "stderr",
          "text": [
            "\rTraining:   1%|          | 712/69630 [02:17<4:25:26,  4.33sentences/s]"
          ]
        },
        {
          "output_type": "stream",
          "name": "stdout",
          "text": [
            "evaluate_time = 0.6733543872833252 transform_time = 0.06821441650390625\n",
            "evaluate_time = 0.06109356880187988 transform_time = 0.00397944450378418\n",
            "evaluate_time = 0.07856559753417969 transform_time = 0.006796360015869141\n",
            "evaluate_time = 0.24411487579345703 transform_time = 0.01933455467224121\n",
            "evaluate_time = 0.08018684387207031 transform_time = 0.005471229553222656\n",
            "evaluate_time = 0.2555503845214844 transform_time = 0.02197575569152832\n"
          ]
        },
        {
          "output_type": "stream",
          "name": "stderr",
          "text": [
            "\rTraining:   1%|          | 717/69630 [02:18<4:41:13,  4.08sentences/s]"
          ]
        },
        {
          "output_type": "stream",
          "name": "stdout",
          "text": [
            "evaluate_time = 0.46573901176452637 transform_time = 0.04839754104614258\n",
            "evaluate_time = 0.09868884086608887 transform_time = 0.007939815521240234\n",
            "evaluate_time = 0.6534876823425293 transform_time = 0.07729148864746094\n",
            "evaluate_time = 0.06962800025939941 transform_time = 0.004951953887939453\n",
            "evaluate_time = 0.06752514839172363 transform_time = 0.005110740661621094\n"
          ]
        },
        {
          "output_type": "stream",
          "name": "stderr",
          "text": [
            "\rTraining:   1%|          | 722/69630 [02:20<4:38:29,  4.12sentences/s]"
          ]
        },
        {
          "output_type": "stream",
          "name": "stdout",
          "text": [
            "evaluate_time = 0.07064223289489746 transform_time = 0.007394552230834961\n",
            "evaluate_time = 0.08177971839904785 transform_time = 0.0065157413482666016\n",
            "evaluate_time = 0.16177988052368164 transform_time = 0.013755083084106445\n",
            "evaluate_time = 0.13292336463928223 transform_time = 0.010998964309692383\n",
            "evaluate_time = 0.07741045951843262 transform_time = 0.005690813064575195\n",
            "evaluate_time = 0.29322385787963867 transform_time = 0.028482913970947266\n",
            "evaluate_time = 0.07968783378601074 transform_time = 0.005993366241455078\n"
          ]
        },
        {
          "output_type": "stream",
          "name": "stderr",
          "text": [
            "\rTraining:   1%|          | 728/69630 [02:21<4:41:52,  4.07sentences/s]"
          ]
        },
        {
          "output_type": "stream",
          "name": "stdout",
          "text": [
            "evaluate_time = 0.4708828926086426 transform_time = 0.046288490295410156\n",
            "evaluate_time = 0.044832706451416016 transform_time = 0.0029320716857910156\n",
            "evaluate_time = 0.15852713584899902 transform_time = 0.012798786163330078\n",
            "evaluate_time = 0.15951943397521973 transform_time = 0.014251947402954102\n",
            "evaluate_time = 0.10742878913879395 transform_time = 0.010833263397216797\n"
          ]
        },
        {
          "output_type": "stream",
          "name": "stderr",
          "text": [
            "\rTraining:   1%|          | 734/69630 [02:22<4:21:54,  4.38sentences/s]"
          ]
        },
        {
          "output_type": "stream",
          "name": "stdout",
          "text": [
            "evaluate_time = 0.30959200859069824 transform_time = 0.028470516204833984\n",
            "evaluate_time = 0.129929780960083 transform_time = 0.012511014938354492\n",
            "evaluate_time = 0.19125604629516602 transform_time = 0.01724720001220703\n",
            "evaluate_time = 0.24925589561462402 transform_time = 0.02160358428955078\n",
            "evaluate_time = 0.05473017692565918 transform_time = 0.0039670467376708984\n",
            "evaluate_time = 0.08204817771911621 transform_time = 0.007536649703979492\n"
          ]
        },
        {
          "output_type": "stream",
          "name": "stderr",
          "text": [
            "\rTraining:   1%|          | 739/69630 [02:23<4:13:16,  4.53sentences/s]"
          ]
        },
        {
          "output_type": "stream",
          "name": "stdout",
          "text": [
            "evaluate_time = 0.22544193267822266 transform_time = 0.02118229866027832\n",
            "evaluate_time = 0.21059489250183105 transform_time = 0.020174503326416016\n",
            "evaluate_time = 0.10566926002502441 transform_time = 0.008214950561523438\n",
            "evaluate_time = 0.2971315383911133 transform_time = 0.02923297882080078\n",
            "evaluate_time = 0.11236166954040527 transform_time = 0.010697603225708008\n"
          ]
        },
        {
          "output_type": "stream",
          "name": "stderr",
          "text": [
            "\rTraining:   1%|          | 745/69630 [02:24<3:59:56,  4.78sentences/s]"
          ]
        },
        {
          "output_type": "stream",
          "name": "stdout",
          "text": [
            "evaluate_time = 0.05794644355773926 transform_time = 0.003851175308227539\n",
            "evaluate_time = 0.09639620780944824 transform_time = 0.00887918472290039\n",
            "evaluate_time = 0.140336275100708 transform_time = 0.011833667755126953\n",
            "evaluate_time = 0.09803938865661621 transform_time = 0.009326696395874023\n",
            "evaluate_time = 0.1623070240020752 transform_time = 0.013573884963989258\n",
            "evaluate_time = 0.09057188034057617 transform_time = 0.008363723754882812\n",
            "evaluate_time = 0.02422356605529785 transform_time = 0.002966642379760742\n"
          ]
        },
        {
          "output_type": "stream",
          "name": "stderr",
          "text": [
            "\rTraining:   1%|          | 751/69630 [02:25<3:48:45,  5.02sentences/s]"
          ]
        },
        {
          "output_type": "stream",
          "name": "stdout",
          "text": [
            "evaluate_time = 0.3411843776702881 transform_time = 0.03270673751831055\n",
            "evaluate_time = 0.05920100212097168 transform_time = 0.004231929779052734\n",
            "evaluate_time = 0.04692864418029785 transform_time = 0.00467991828918457\n",
            "evaluate_time = 0.03975272178649902 transform_time = 0.003442049026489258\n",
            "evaluate_time = 0.34056639671325684 transform_time = 0.03664088249206543\n",
            "evaluate_time = 0.12617874145507812 transform_time = 0.009968757629394531\n",
            "evaluate_time = 0.06532788276672363 transform_time = 0.005696535110473633\n"
          ]
        },
        {
          "output_type": "stream",
          "name": "stderr",
          "text": [
            "\rTraining:   1%|          | 758/69630 [02:27<3:51:13,  4.96sentences/s]"
          ]
        },
        {
          "output_type": "stream",
          "name": "stdout",
          "text": [
            "evaluate_time = 0.47644591331481934 transform_time = 0.0496821403503418\n",
            "evaluate_time = 0.10890078544616699 transform_time = 0.008573055267333984\n",
            "evaluate_time = 0.03891468048095703 transform_time = 0.0032739639282226562\n",
            "evaluate_time = 0.2849571704864502 transform_time = 0.027055978775024414\n",
            "evaluate_time = 0.02038264274597168 transform_time = 0.0014102458953857422\n",
            "evaluate_time = 0.15074992179870605 transform_time = 0.012676000595092773\n"
          ]
        },
        {
          "output_type": "stream",
          "name": "stderr",
          "text": [
            "\rTraining:   1%|          | 764/69630 [02:28<3:47:05,  5.05sentences/s]"
          ]
        },
        {
          "output_type": "stream",
          "name": "stdout",
          "text": [
            "evaluate_time = 0.3047952651977539 transform_time = 0.02708292007446289\n",
            "evaluate_time = 0.2604496479034424 transform_time = 0.028615474700927734\n",
            "evaluate_time = 0.2066500186920166 transform_time = 0.016647815704345703\n",
            "evaluate_time = 0.5507493019104004 transform_time = 0.05869650840759277\n",
            "evaluate_time = 0.10059285163879395 transform_time = 0.007642030715942383\n",
            "evaluate_time = 0.05564570426940918 transform_time = 0.003898143768310547\n"
          ]
        },
        {
          "output_type": "stream",
          "name": "stderr",
          "text": [
            "\rTraining:   1%|          | 770/69630 [02:30<4:28:55,  4.27sentences/s]"
          ]
        },
        {
          "output_type": "stream",
          "name": "stdout",
          "text": [
            "evaluate_time = 0.3476080894470215 transform_time = 0.03344392776489258\n",
            "evaluate_time = 0.27710890769958496 transform_time = 0.02580094337463379\n",
            "evaluate_time = 0.12454819679260254 transform_time = 0.009000062942504883\n",
            "evaluate_time = 0.0666968822479248 transform_time = 0.004506587982177734\n",
            "evaluate_time = 0.20201706886291504 transform_time = 0.016784191131591797\n"
          ]
        },
        {
          "output_type": "stream",
          "name": "stderr",
          "text": [
            "\rTraining:   1%|          | 775/69630 [02:31<4:25:57,  4.31sentences/s]"
          ]
        },
        {
          "output_type": "stream",
          "name": "stdout",
          "text": [
            "evaluate_time = 0.21805500984191895 transform_time = 0.01911759376525879\n",
            "evaluate_time = 0.02867913246154785 transform_time = 0.001589059829711914\n",
            "evaluate_time = 0.17592787742614746 transform_time = 0.01644277572631836\n",
            "evaluate_time = 1.0068438053131104 transform_time = 0.09587454795837402\n",
            "evaluate_time = 0.21530413627624512 transform_time = 0.018924713134765625\n"
          ]
        },
        {
          "output_type": "stream",
          "name": "stderr",
          "text": [
            "\rTraining:   1%|          | 780/69630 [02:33<5:42:39,  3.35sentences/s]"
          ]
        },
        {
          "output_type": "stream",
          "name": "stdout",
          "text": [
            "evaluate_time = 0.5012383460998535 transform_time = 0.048685312271118164\n",
            "evaluate_time = 0.15757417678833008 transform_time = 0.012869834899902344\n",
            "evaluate_time = 0.22706007957458496 transform_time = 0.02304863929748535\n",
            "evaluate_time = 0.20843243598937988 transform_time = 0.018796205520629883\n",
            "evaluate_time = 0.14535093307495117 transform_time = 0.012619733810424805\n"
          ]
        },
        {
          "output_type": "stream",
          "name": "stderr",
          "text": [
            "\rTraining:   1%|          | 785/69630 [02:34<5:16:04,  3.63sentences/s]"
          ]
        },
        {
          "output_type": "stream",
          "name": "stdout",
          "text": [
            "evaluate_time = 0.12558674812316895 transform_time = 0.010171890258789062\n",
            "evaluate_time = 0.0984654426574707 transform_time = 0.007845163345336914\n",
            "evaluate_time = 0.046785831451416016 transform_time = 0.00474095344543457\n",
            "evaluate_time = 0.36180686950683594 transform_time = 0.03619670867919922\n",
            "evaluate_time = 0.06977963447570801 transform_time = 0.006039619445800781\n",
            "evaluate_time = 0.07046365737915039 transform_time = 0.005318164825439453\n"
          ]
        },
        {
          "output_type": "stream",
          "name": "stderr",
          "text": [
            "\rTraining:   1%|          | 791/69630 [02:35<4:37:30,  4.13sentences/s]"
          ]
        },
        {
          "output_type": "stream",
          "name": "stdout",
          "text": [
            "evaluate_time = 0.17820191383361816 transform_time = 0.016101360321044922\n",
            "evaluate_time = 0.029831647872924805 transform_time = 0.0018122196197509766\n",
            "evaluate_time = 0.13015317916870117 transform_time = 0.010694503784179688\n",
            "evaluate_time = 0.11862611770629883 transform_time = 0.008738517761230469\n",
            "evaluate_time = 0.12305307388305664 transform_time = 0.00954890251159668\n",
            "evaluate_time = 0.1503467559814453 transform_time = 0.012903690338134766\n"
          ]
        },
        {
          "output_type": "stream",
          "name": "stderr",
          "text": [
            "\rTraining:   1%|          | 797/69630 [02:37<4:15:05,  4.50sentences/s]"
          ]
        },
        {
          "output_type": "stream",
          "name": "stdout",
          "text": [
            "evaluate_time = 0.31951379776000977 transform_time = 0.03068065643310547\n",
            "evaluate_time = 0.02982926368713379 transform_time = 0.0020072460174560547\n",
            "evaluate_time = 0.08650469779968262 transform_time = 0.007846832275390625\n",
            "evaluate_time = 0.21585726737976074 transform_time = 0.02012777328491211\n",
            "evaluate_time = 0.019234657287597656 transform_time = 0.0015845298767089844\n",
            "evaluate_time = 0.08746886253356934 transform_time = 0.008495092391967773\n",
            "evaluate_time = 0.0850989818572998 transform_time = 0.00599217414855957\n",
            "evaluate_time = 0.10746383666992188 transform_time = 0.00872492790222168\n",
            "evaluate_time = 0.03125143051147461 transform_time = 0.0027921199798583984\n"
          ]
        },
        {
          "output_type": "stream",
          "name": "stderr",
          "text": [
            "\rTraining:   1%|          | 807/69630 [02:38<3:18:16,  5.79sentences/s]"
          ]
        },
        {
          "output_type": "stream",
          "name": "stdout",
          "text": [
            "evaluate_time = 0.07203412055969238 transform_time = 0.0060460567474365234\n",
            "evaluate_time = 0.10538768768310547 transform_time = 0.008313179016113281\n",
            "evaluate_time = 0.14320039749145508 transform_time = 0.01204228401184082\n",
            "evaluate_time = 0.10811996459960938 transform_time = 0.009852886199951172\n",
            "evaluate_time = 0.08868765830993652 transform_time = 0.006738424301147461\n",
            "evaluate_time = 0.33745503425598145 transform_time = 0.033634185791015625\n",
            "evaluate_time = 0.11523675918579102 transform_time = 0.008740663528442383\n"
          ]
        },
        {
          "output_type": "stream",
          "name": "stderr",
          "text": [
            "\rTraining:   1%|          | 814/69630 [02:39<3:29:04,  5.49sentences/s]"
          ]
        },
        {
          "output_type": "stream",
          "name": "stdout",
          "text": [
            "evaluate_time = 0.23357176780700684 transform_time = 0.022298336029052734\n",
            "evaluate_time = 0.12005352973937988 transform_time = 0.009747982025146484\n",
            "evaluate_time = 0.28414177894592285 transform_time = 0.02669811248779297\n",
            "evaluate_time = 0.23209643363952637 transform_time = 0.021291255950927734\n",
            "evaluate_time = 0.10601019859313965 transform_time = 0.008931159973144531\n",
            "evaluate_time = 0.15335345268249512 transform_time = 0.015775680541992188\n",
            "evaluate_time = 0.0385129451751709 transform_time = 0.003458261489868164\n"
          ]
        },
        {
          "output_type": "stream",
          "name": "stderr",
          "text": [
            "\rTraining:   1%|          | 820/69630 [02:40<3:39:23,  5.23sentences/s]"
          ]
        },
        {
          "output_type": "stream",
          "name": "stdout",
          "text": [
            "evaluate_time = 0.21882987022399902 transform_time = 0.01902461051940918\n",
            "evaluate_time = 0.05229783058166504 transform_time = 0.003367185592651367\n",
            "evaluate_time = 0.06097984313964844 transform_time = 0.004775524139404297\n",
            "evaluate_time = 0.09473371505737305 transform_time = 0.007758617401123047\n",
            "evaluate_time = 0.14370107650756836 transform_time = 0.012735605239868164\n",
            "evaluate_time = 0.12792658805847168 transform_time = 0.011738300323486328\n",
            "evaluate_time = 0.11013555526733398 transform_time = 0.008896112442016602\n"
          ]
        },
        {
          "output_type": "stream",
          "name": "stderr",
          "text": [
            "\rTraining:   1%|          | 828/69630 [02:41<3:17:08,  5.82sentences/s]"
          ]
        },
        {
          "output_type": "stream",
          "name": "stdout",
          "text": [
            "evaluate_time = 0.13022136688232422 transform_time = 0.013499736785888672\n",
            "evaluate_time = 0.13546395301818848 transform_time = 0.01264810562133789\n",
            "evaluate_time = 0.030545949935913086 transform_time = 0.002109527587890625\n",
            "evaluate_time = 0.18270397186279297 transform_time = 0.016290903091430664\n",
            "evaluate_time = 0.07833099365234375 transform_time = 0.007395267486572266\n",
            "evaluate_time = 0.20517730712890625 transform_time = 0.01994776725769043\n",
            "evaluate_time = 0.13405489921569824 transform_time = 0.011130094528198242\n",
            "evaluate_time = 0.09340929985046387 transform_time = 0.0084381103515625\n"
          ]
        },
        {
          "output_type": "stream",
          "name": "stderr",
          "text": [
            "\rTraining:   1%|          | 835/69630 [02:43<3:16:50,  5.82sentences/s]"
          ]
        },
        {
          "output_type": "stream",
          "name": "stdout",
          "text": [
            "evaluate_time = 0.23523783683776855 transform_time = 0.022185564041137695\n",
            "evaluate_time = 0.08624577522277832 transform_time = 0.006186008453369141\n",
            "evaluate_time = 0.2694394588470459 transform_time = 0.025779008865356445\n",
            "evaluate_time = 0.04686617851257324 transform_time = 0.004839897155761719\n",
            "evaluate_time = 0.07383894920349121 transform_time = 0.005497455596923828\n",
            "evaluate_time = 0.18013834953308105 transform_time = 0.01648259162902832\n"
          ]
        },
        {
          "output_type": "stream",
          "name": "stderr",
          "text": [
            "\rTraining:   1%|          | 841/69630 [02:44<3:25:31,  5.58sentences/s]"
          ]
        },
        {
          "output_type": "stream",
          "name": "stdout",
          "text": [
            "evaluate_time = 0.3030421733856201 transform_time = 0.03239631652832031\n",
            "evaluate_time = 0.13868999481201172 transform_time = 0.010567188262939453\n",
            "evaluate_time = 0.10496830940246582 transform_time = 0.00803685188293457\n",
            "evaluate_time = 0.26738667488098145 transform_time = 0.024507999420166016\n",
            "evaluate_time = 0.137739896774292 transform_time = 0.010145902633666992\n",
            "evaluate_time = 0.291994571685791 transform_time = 0.025595903396606445\n"
          ]
        },
        {
          "output_type": "stream",
          "name": "stderr",
          "text": [
            "\rTraining:   1%|          | 847/69630 [02:45<3:53:52,  4.90sentences/s]"
          ]
        },
        {
          "output_type": "stream",
          "name": "stdout",
          "text": [
            "evaluate_time = 0.3352322578430176 transform_time = 0.03477287292480469\n",
            "evaluate_time = 0.2862205505371094 transform_time = 0.030263900756835938\n",
            "evaluate_time = 0.1080479621887207 transform_time = 0.008498430252075195\n",
            "evaluate_time = 0.09136533737182617 transform_time = 0.006123781204223633\n",
            "evaluate_time = 0.16773247718811035 transform_time = 0.013454675674438477\n",
            "evaluate_time = 0.08667588233947754 transform_time = 0.006590127944946289\n"
          ]
        },
        {
          "output_type": "stream",
          "name": "stderr",
          "text": [
            "\rTraining:   1%|          | 853/69630 [02:47<4:01:01,  4.76sentences/s]"
          ]
        },
        {
          "output_type": "stream",
          "name": "stdout",
          "text": [
            "evaluate_time = 0.3383650779724121 transform_time = 0.029869556427001953\n",
            "evaluate_time = 0.22109246253967285 transform_time = 0.01749277114868164\n",
            "evaluate_time = 0.07711076736450195 transform_time = 0.0055158138275146484\n",
            "evaluate_time = 0.4292118549346924 transform_time = 0.03984832763671875\n",
            "evaluate_time = 0.03481745719909668 transform_time = 0.0020825862884521484\n",
            "evaluate_time = 0.12687420845031738 transform_time = 0.008649587631225586\n"
          ]
        },
        {
          "output_type": "stream",
          "name": "stderr",
          "text": [
            "\rTraining:   1%|          | 858/69630 [02:48<4:04:36,  4.69sentences/s]"
          ]
        },
        {
          "output_type": "stream",
          "name": "stdout",
          "text": [
            "evaluate_time = 0.18647193908691406 transform_time = 0.014248371124267578\n",
            "evaluate_time = 0.34307003021240234 transform_time = 0.029407978057861328\n",
            "evaluate_time = 0.09015822410583496 transform_time = 0.006195068359375\n",
            "evaluate_time = 0.48654818534851074 transform_time = 0.04471230506896973\n"
          ]
        },
        {
          "output_type": "stream",
          "name": "stderr",
          "text": [
            "\rTraining:   1%|          | 863/69630 [02:50<4:41:11,  4.08sentences/s]"
          ]
        },
        {
          "output_type": "stream",
          "name": "stdout",
          "text": [
            "evaluate_time = 0.24950242042541504 transform_time = 0.019612789154052734\n",
            "evaluate_time = 0.2308821678161621 transform_time = 0.02072739601135254\n",
            "evaluate_time = 0.15777230262756348 transform_time = 0.014642000198364258\n",
            "evaluate_time = 0.10016846656799316 transform_time = 0.007544040679931641\n",
            "evaluate_time = 0.15632081031799316 transform_time = 0.014847278594970703\n",
            "evaluate_time = 0.05178427696228027 transform_time = 0.00519108772277832\n"
          ]
        },
        {
          "output_type": "stream",
          "name": "stderr",
          "text": [
            "\rTraining:   1%|          | 869/69630 [02:51<4:18:19,  4.44sentences/s]"
          ]
        },
        {
          "output_type": "stream",
          "name": "stdout",
          "text": [
            "evaluate_time = 0.17220544815063477 transform_time = 0.015033721923828125\n",
            "evaluate_time = 0.1383533477783203 transform_time = 0.01155853271484375\n",
            "evaluate_time = 0.18213224411010742 transform_time = 0.015924692153930664\n",
            "evaluate_time = 0.08482027053833008 transform_time = 0.007917642593383789\n",
            "evaluate_time = 0.040886878967285156 transform_time = 0.0026226043701171875\n",
            "evaluate_time = 0.08560419082641602 transform_time = 0.007903814315795898\n",
            "evaluate_time = 0.012266397476196289 transform_time = 0.0023941993713378906\n"
          ]
        },
        {
          "output_type": "stream",
          "name": "stderr",
          "text": [
            "\rTraining:   1%|▏         | 877/69630 [02:52<3:36:10,  5.30sentences/s]"
          ]
        },
        {
          "output_type": "stream",
          "name": "stdout",
          "text": [
            "evaluate_time = 0.22726058959960938 transform_time = 0.0227048397064209\n",
            "evaluate_time = 0.038390398025512695 transform_time = 0.004459381103515625\n",
            "evaluate_time = 0.0850677490234375 transform_time = 0.0075109004974365234\n",
            "evaluate_time = 0.052019596099853516 transform_time = 0.005924224853515625\n",
            "evaluate_time = 0.08203482627868652 transform_time = 0.005848407745361328\n",
            "evaluate_time = 0.2832975387573242 transform_time = 0.028118371963500977\n",
            "evaluate_time = 0.08574795722961426 transform_time = 0.006412982940673828\n",
            "evaluate_time = 0.1300952434539795 transform_time = 0.011136531829833984\n"
          ]
        },
        {
          "output_type": "stream",
          "name": "stderr",
          "text": [
            "\rTraining:   1%|▏         | 884/69630 [02:53<3:25:51,  5.57sentences/s]"
          ]
        },
        {
          "output_type": "stream",
          "name": "stdout",
          "text": [
            "evaluate_time = 0.17852091789245605 transform_time = 0.01612257957458496\n",
            "evaluate_time = 0.18384099006652832 transform_time = 0.017020225524902344\n",
            "evaluate_time = 0.05471301078796387 transform_time = 0.00473332405090332\n",
            "evaluate_time = 0.12197303771972656 transform_time = 0.00999903678894043\n",
            "evaluate_time = 0.19573187828063965 transform_time = 0.0175936222076416\n",
            "evaluate_time = 0.0493321418762207 transform_time = 0.003430604934692383\n",
            "evaluate_time = 0.019780635833740234 transform_time = 0.002667665481567383\n",
            "evaluate_time = 0.051454782485961914 transform_time = 0.0037527084350585938\n"
          ]
        },
        {
          "output_type": "stream",
          "name": "stderr",
          "text": [
            "\rTraining:   1%|▏         | 893/69630 [02:54<3:05:23,  6.18sentences/s]"
          ]
        },
        {
          "output_type": "stream",
          "name": "stdout",
          "text": [
            "evaluate_time = 0.10663580894470215 transform_time = 0.00961446762084961\n",
            "evaluate_time = 0.15677118301391602 transform_time = 0.013575553894042969\n",
            "evaluate_time = 0.08282327651977539 transform_time = 0.006165981292724609\n",
            "evaluate_time = 0.24614334106445312 transform_time = 0.022922277450561523\n",
            "evaluate_time = 0.02041912078857422 transform_time = 0.002887725830078125\n",
            "evaluate_time = 0.08275580406188965 transform_time = 0.006246328353881836\n",
            "evaluate_time = 0.1536262035369873 transform_time = 0.01223611831665039\n",
            "evaluate_time = 0.15150952339172363 transform_time = 0.012477397918701172\n"
          ]
        },
        {
          "output_type": "stream",
          "name": "stderr",
          "text": [
            "\rTraining:   1%|▏         | 901/69630 [02:55<2:58:25,  6.42sentences/s]"
          ]
        },
        {
          "output_type": "stream",
          "name": "stdout",
          "text": [
            "evaluate_time = 0.040941715240478516 transform_time = 0.005536317825317383\n",
            "evaluate_time = 0.1263256072998047 transform_time = 0.011093854904174805\n",
            "evaluate_time = 0.23321938514709473 transform_time = 0.020911216735839844\n",
            "evaluate_time = 0.10205364227294922 transform_time = 0.009526729583740234\n",
            "evaluate_time = 0.04071927070617676 transform_time = 0.0029926300048828125\n",
            "evaluate_time = 0.05700874328613281 transform_time = 0.004385471343994141\n",
            "evaluate_time = 0.04641103744506836 transform_time = 0.003212451934814453\n"
          ]
        },
        {
          "output_type": "stream",
          "name": "stderr",
          "text": [
            "\rTraining:   1%|▏         | 908/69630 [02:56<2:55:32,  6.52sentences/s]"
          ]
        },
        {
          "output_type": "stream",
          "name": "stdout",
          "text": [
            "evaluate_time = 0.23334288597106934 transform_time = 0.021636486053466797\n",
            "evaluate_time = 0.10845541954040527 transform_time = 0.009857654571533203\n",
            "evaluate_time = 0.051248788833618164 transform_time = 0.0034170150756835938\n",
            "evaluate_time = 0.3169209957122803 transform_time = 0.030735254287719727\n",
            "evaluate_time = 0.026031970977783203 transform_time = 0.0035185813903808594\n",
            "evaluate_time = 0.18561148643493652 transform_time = 0.018983840942382812\n",
            "evaluate_time = 0.15404367446899414 transform_time = 0.012699127197265625\n"
          ]
        },
        {
          "output_type": "stream",
          "name": "stderr",
          "text": [
            "\rTraining:   1%|▏         | 915/69630 [02:57<3:04:47,  6.20sentences/s]"
          ]
        },
        {
          "output_type": "stream",
          "name": "stdout",
          "text": [
            "evaluate_time = 0.22651076316833496 transform_time = 0.022726774215698242\n",
            "evaluate_time = 0.05492663383483887 transform_time = 0.004651308059692383\n",
            "evaluate_time = 0.44417452812194824 transform_time = 0.045534372329711914\n",
            "evaluate_time = 0.12989473342895508 transform_time = 0.011709928512573242\n",
            "evaluate_time = 0.07539892196655273 transform_time = 0.005575656890869141\n",
            "evaluate_time = 0.12853312492370605 transform_time = 0.010591745376586914\n"
          ]
        },
        {
          "output_type": "stream",
          "name": "stderr",
          "text": [
            "\rTraining:   1%|▏         | 922/69630 [02:59<3:08:16,  6.08sentences/s]"
          ]
        },
        {
          "output_type": "stream",
          "name": "stdout",
          "text": [
            "evaluate_time = 0.12255096435546875 transform_time = 0.011136770248413086\n",
            "evaluate_time = 0.03277254104614258 transform_time = 0.002653360366821289\n",
            "evaluate_time = 0.030965566635131836 transform_time = 0.002269268035888672\n",
            "evaluate_time = 0.10184097290039062 transform_time = 0.007952451705932617\n",
            "evaluate_time = 0.17277288436889648 transform_time = 0.015221595764160156\n",
            "evaluate_time = 0.08307147026062012 transform_time = 0.009695053100585938\n",
            "evaluate_time = 0.08422684669494629 transform_time = 0.00722193717956543\n",
            "evaluate_time = 0.06211566925048828 transform_time = 0.004600048065185547\n",
            "evaluate_time = 0.09768414497375488 transform_time = 0.007499217987060547\n",
            "evaluate_time = 0.12703537940979004 transform_time = 0.010225057601928711\n",
            "evaluate_time = 0.06596970558166504 transform_time = 0.006292581558227539\n"
          ]
        },
        {
          "output_type": "stream",
          "name": "stderr",
          "text": [
            "\rTraining:   1%|▏         | 931/69630 [03:00<3:01:25,  6.31sentences/s]"
          ]
        },
        {
          "output_type": "stream",
          "name": "stdout",
          "text": [
            "evaluate_time = 0.2552509307861328 transform_time = 0.030125141143798828\n",
            "evaluate_time = 0.26288318634033203 transform_time = 0.02185344696044922\n",
            "evaluate_time = 0.32661962509155273 transform_time = 0.02891373634338379\n",
            "evaluate_time = 0.1359260082244873 transform_time = 0.010475873947143555\n",
            "evaluate_time = 0.1592421531677246 transform_time = 0.012946844100952148\n",
            "evaluate_time = 0.3260080814361572 transform_time = 0.02832341194152832\n",
            "evaluate_time = 0.0936574935913086 transform_time = 0.006811857223510742\n"
          ]
        },
        {
          "output_type": "stream",
          "name": "stderr",
          "text": [
            "\rTraining:   1%|▏         | 938/69630 [03:02<3:34:30,  5.34sentences/s]"
          ]
        },
        {
          "output_type": "stream",
          "name": "stdout",
          "text": [
            "evaluate_time = 0.1654186248779297 transform_time = 0.012881994247436523\n",
            "evaluate_time = 0.22287511825561523 transform_time = 0.01762700080871582\n",
            "evaluate_time = 0.18425393104553223 transform_time = 0.014657020568847656\n",
            "evaluate_time = 0.2805945873260498 transform_time = 0.024595022201538086\n",
            "evaluate_time = 0.3015768527984619 transform_time = 0.025193214416503906\n",
            "evaluate_time = 0.4655773639678955 transform_time = 0.04310894012451172\n"
          ]
        },
        {
          "output_type": "stream",
          "name": "stderr",
          "text": [
            "\rTraining:   1%|▏         | 944/69630 [03:04<4:23:32,  4.34sentences/s]"
          ]
        },
        {
          "output_type": "stream",
          "name": "stdout",
          "text": [
            "evaluate_time = 0.2517664432525635 transform_time = 0.028087854385375977\n",
            "evaluate_time = 0.1749260425567627 transform_time = 0.013219118118286133\n",
            "evaluate_time = 0.5237886905670166 transform_time = 0.04946756362915039\n",
            "evaluate_time = 0.3445868492126465 transform_time = 0.03179597854614258\n",
            "evaluate_time = 0.05147218704223633 transform_time = 0.004853248596191406\n"
          ]
        },
        {
          "output_type": "stream",
          "name": "stderr",
          "text": [
            "\rTraining:   1%|▏         | 949/69630 [03:06<4:58:25,  3.84sentences/s]"
          ]
        },
        {
          "output_type": "stream",
          "name": "stdout",
          "text": [
            "evaluate_time = 0.36732935905456543 transform_time = 0.03395795822143555\n",
            "evaluate_time = 0.0371708869934082 transform_time = 0.002544879913330078\n",
            "evaluate_time = 0.19150352478027344 transform_time = 0.017049074172973633\n",
            "evaluate_time = 0.030791521072387695 transform_time = 0.003412008285522461\n",
            "evaluate_time = 0.03094196319580078 transform_time = 0.002223491668701172\n",
            "evaluate_time = 0.14797306060791016 transform_time = 0.014160633087158203\n",
            "evaluate_time = 0.18920660018920898 transform_time = 0.015853166580200195\n",
            "evaluate_time = 0.11205267906188965 transform_time = 0.009297609329223633\n"
          ]
        },
        {
          "output_type": "stream",
          "name": "stderr",
          "text": [
            "\rTraining:   1%|▏         | 957/69630 [03:07<4:08:44,  4.60sentences/s]"
          ]
        },
        {
          "output_type": "stream",
          "name": "stdout",
          "text": [
            "evaluate_time = 0.12543511390686035 transform_time = 0.012595415115356445\n",
            "evaluate_time = 0.17704987525939941 transform_time = 0.015242576599121094\n",
            "evaluate_time = 0.05363178253173828 transform_time = 0.004450082778930664\n",
            "evaluate_time = 0.09252667427062988 transform_time = 0.00697636604309082\n",
            "evaluate_time = 0.15493178367614746 transform_time = 0.01432347297668457\n",
            "evaluate_time = 0.03884577751159668 transform_time = 0.0025413036346435547\n",
            "evaluate_time = 0.10246419906616211 transform_time = 0.009042501449584961\n"
          ]
        },
        {
          "output_type": "stream",
          "name": "stderr",
          "text": [
            "\rTraining:   1%|▏         | 965/69630 [03:08<3:34:53,  5.33sentences/s]"
          ]
        },
        {
          "output_type": "stream",
          "name": "stdout",
          "text": [
            "evaluate_time = 0.03891801834106445 transform_time = 0.004150867462158203\n",
            "evaluate_time = 0.1610574722290039 transform_time = 0.0144500732421875\n",
            "evaluate_time = 0.11532831192016602 transform_time = 0.008630514144897461\n",
            "evaluate_time = 0.12349724769592285 transform_time = 0.010138511657714844\n",
            "evaluate_time = 0.05957150459289551 transform_time = 0.004178524017333984\n",
            "evaluate_time = 0.174912691116333 transform_time = 0.015058755874633789\n",
            "evaluate_time = 0.1458425521850586 transform_time = 0.011985540390014648\n"
          ]
        },
        {
          "output_type": "stream",
          "name": "stderr",
          "text": [
            "\rTraining:   1%|▏         | 971/69630 [03:09<3:35:23,  5.31sentences/s]"
          ]
        },
        {
          "output_type": "stream",
          "name": "stdout",
          "text": [
            "evaluate_time = 0.2953610420227051 transform_time = 0.02774667739868164\n",
            "evaluate_time = 0.22506928443908691 transform_time = 0.020121097564697266\n",
            "evaluate_time = 0.03965950012207031 transform_time = 0.0026488304138183594\n",
            "evaluate_time = 0.14608430862426758 transform_time = 0.012846708297729492\n",
            "evaluate_time = 0.039498329162597656 transform_time = 0.0034987926483154297\n",
            "evaluate_time = 0.1391613483428955 transform_time = 0.012227296829223633\n",
            "evaluate_time = 0.16535377502441406 transform_time = 0.013617753982543945\n"
          ]
        },
        {
          "output_type": "stream",
          "name": "stderr",
          "text": [
            "\rTraining:   1%|▏         | 978/69630 [03:10<3:27:43,  5.51sentences/s]"
          ]
        },
        {
          "output_type": "stream",
          "name": "stdout",
          "text": [
            "evaluate_time = 0.17789840698242188 transform_time = 0.015700340270996094\n",
            "evaluate_time = 0.3036651611328125 transform_time = 0.02843499183654785\n",
            "evaluate_time = 0.29236721992492676 transform_time = 0.026688814163208008\n",
            "evaluate_time = 0.09679675102233887 transform_time = 0.008728265762329102\n",
            "evaluate_time = 0.04465055465698242 transform_time = 0.0038030147552490234\n",
            "evaluate_time = 0.1467604637145996 transform_time = 0.012001514434814453\n"
          ]
        },
        {
          "output_type": "stream",
          "name": "stderr",
          "text": [
            "\rTraining:   1%|▏         | 984/69630 [03:11<3:40:51,  5.18sentences/s]"
          ]
        },
        {
          "output_type": "stream",
          "name": "stdout",
          "text": [
            "evaluate_time = 0.19652295112609863 transform_time = 0.018450260162353516\n",
            "evaluate_time = 0.0900731086730957 transform_time = 0.007069826126098633\n",
            "evaluate_time = 0.10531115531921387 transform_time = 0.0075609683990478516\n",
            "evaluate_time = 0.1505885124206543 transform_time = 0.012108802795410156\n",
            "evaluate_time = 0.12767577171325684 transform_time = 0.011819601058959961\n",
            "evaluate_time = 0.046796321868896484 transform_time = 0.004001140594482422\n",
            "evaluate_time = 0.08253216743469238 transform_time = 0.006899356842041016\n",
            "evaluate_time = 0.0565800666809082 transform_time = 0.004743337631225586\n",
            "evaluate_time = 0.10188722610473633 transform_time = 0.008830070495605469\n"
          ]
        },
        {
          "output_type": "stream",
          "name": "stderr",
          "text": [
            "\rTraining:   1%|▏         | 993/69630 [03:13<3:10:07,  6.02sentences/s]"
          ]
        },
        {
          "output_type": "stream",
          "name": "stdout",
          "text": [
            "evaluate_time = 0.10088443756103516 transform_time = 0.009897947311401367\n",
            "evaluate_time = 0.8126578330993652 transform_time = 0.09821105003356934\n",
            "evaluate_time = 0.07503366470336914 transform_time = 0.00561213493347168\n",
            "evaluate_time = 0.12621140480041504 transform_time = 0.011447906494140625\n",
            "evaluate_time = 0.03273200988769531 transform_time = 0.003717660903930664\n",
            "evaluate_time = 0.049076080322265625 transform_time = 0.005007743835449219\n"
          ]
        },
        {
          "output_type": "stream",
          "name": "stderr",
          "text": [
            "\rTraining:   1%|▏         | 1000/69630 [03:14<3:33:56,  5.35sentences/s]"
          ]
        },
        {
          "output_type": "stream",
          "name": "stdout",
          "text": [
            "evaluate_time = 0.2202301025390625 transform_time = 0.019005537033081055\n",
            "evaluate_time = 0.013408422470092773 transform_time = 0.00366973876953125\n",
            "evaluate_time = 0.049010276794433594 transform_time = 0.0036134719848632812\n",
            "evaluate_time = 0.04472064971923828 transform_time = 0.003923654556274414\n",
            "evaluate_time = 0.3535282611846924 transform_time = 0.036016225814819336\n",
            "evaluate_time = 0.18920183181762695 transform_time = 0.01710057258605957\n",
            "evaluate_time = 0.1248323917388916 transform_time = 0.011955022811889648\n"
          ]
        },
        {
          "output_type": "stream",
          "name": "stderr",
          "text": [
            "\rTraining:   1%|▏         | 1006/69630 [03:15<3:40:00,  5.20sentences/s]"
          ]
        },
        {
          "output_type": "stream",
          "name": "stdout",
          "text": [
            "evaluate_time = 0.2245161533355713 transform_time = 0.02003955841064453\n",
            "evaluate_time = 0.1349177360534668 transform_time = 0.010970354080200195\n",
            "evaluate_time = 0.05458426475524902 transform_time = 0.005308628082275391\n",
            "evaluate_time = 0.23762011528015137 transform_time = 0.023600101470947266\n",
            "evaluate_time = 0.10801219940185547 transform_time = 0.0078084468841552734\n"
          ]
        },
        {
          "output_type": "stream",
          "name": "stderr",
          "text": [
            "\rTraining:   1%|▏         | 1012/69630 [03:17<3:40:34,  5.18sentences/s]"
          ]
        },
        {
          "output_type": "stream",
          "name": "stdout",
          "text": [
            "evaluate_time = 0.23306035995483398 transform_time = 0.02194523811340332\n",
            "evaluate_time = 0.1559908390045166 transform_time = 0.012605905532836914\n",
            "evaluate_time = 0.2783527374267578 transform_time = 0.025681495666503906\n",
            "evaluate_time = 0.08469438552856445 transform_time = 0.0066797733306884766\n",
            "evaluate_time = 0.43022990226745605 transform_time = 0.04432082176208496\n",
            "evaluate_time = 0.1986708641052246 transform_time = 0.01721668243408203\n",
            "evaluate_time = 0.2706582546234131 transform_time = 0.02524113655090332\n"
          ]
        },
        {
          "output_type": "stream",
          "name": "stderr",
          "text": [
            "\rTraining:   1%|▏         | 1018/69630 [03:19<4:29:31,  4.24sentences/s]"
          ]
        },
        {
          "output_type": "stream",
          "name": "stdout",
          "text": [
            "evaluate_time = 0.3768162727355957 transform_time = 0.0350947380065918\n",
            "evaluate_time = 0.14012670516967773 transform_time = 0.009408950805664062\n",
            "evaluate_time = 0.08529901504516602 transform_time = 0.005568742752075195\n",
            "evaluate_time = 0.22785687446594238 transform_time = 0.02002120018005371\n",
            "evaluate_time = 0.10996818542480469 transform_time = 0.008845090866088867\n",
            "evaluate_time = 0.17983722686767578 transform_time = 0.017400026321411133\n"
          ]
        },
        {
          "output_type": "stream",
          "name": "stderr",
          "text": [
            "\rTraining:   1%|▏         | 1024/69630 [03:20<4:16:28,  4.46sentences/s]"
          ]
        },
        {
          "output_type": "stream",
          "name": "stdout",
          "text": [
            "evaluate_time = 0.18896842002868652 transform_time = 0.01610565185546875\n",
            "evaluate_time = 0.20570874214172363 transform_time = 0.01584315299987793\n",
            "evaluate_time = 0.11353635787963867 transform_time = 0.007953882217407227\n",
            "evaluate_time = 0.1709582805633545 transform_time = 0.012768268585205078\n",
            "evaluate_time = 0.2394847869873047 transform_time = 0.019980907440185547\n",
            "evaluate_time = 0.06585121154785156 transform_time = 0.004178524017333984\n"
          ]
        },
        {
          "output_type": "stream",
          "name": "stderr",
          "text": [
            "\rTraining:   1%|▏         | 1030/69630 [03:22<4:40:50,  4.07sentences/s]"
          ]
        },
        {
          "output_type": "stream",
          "name": "stdout",
          "text": [
            "evaluate_time = 0.6504344940185547 transform_time = 0.06393218040466309\n",
            "evaluate_time = 0.2196359634399414 transform_time = 0.016974925994873047\n",
            "evaluate_time = 0.1165003776550293 transform_time = 0.010493993759155273\n",
            "evaluate_time = 0.01939249038696289 transform_time = 0.0026907920837402344\n",
            "evaluate_time = 0.08863091468811035 transform_time = 0.008099079132080078\n",
            "evaluate_time = 0.09850287437438965 transform_time = 0.007710456848144531\n",
            "evaluate_time = 0.07089114189147949 transform_time = 0.00499725341796875\n",
            "evaluate_time = 0.06923413276672363 transform_time = 0.005444049835205078\n",
            "evaluate_time = 0.027564287185668945 transform_time = 0.003050088882446289\n"
          ]
        },
        {
          "output_type": "stream",
          "name": "stderr",
          "text": [
            "\rTraining:   1%|▏         | 1039/69630 [03:23<3:49:21,  4.98sentences/s]"
          ]
        },
        {
          "output_type": "stream",
          "name": "stdout",
          "text": [
            "evaluate_time = 0.21500515937805176 transform_time = 0.018198251724243164\n",
            "evaluate_time = 0.1422290802001953 transform_time = 0.014083147048950195\n",
            "evaluate_time = 0.04213380813598633 transform_time = 0.002666950225830078\n",
            "evaluate_time = 0.11467099189758301 transform_time = 0.010910749435424805\n",
            "evaluate_time = 0.1094045639038086 transform_time = 0.008733987808227539\n",
            "evaluate_time = 0.040560245513916016 transform_time = 0.0042722225189208984\n",
            "evaluate_time = 0.049141883850097656 transform_time = 0.0034384727478027344\n",
            "evaluate_time = 0.05853128433227539 transform_time = 0.0047338008880615234\n",
            "evaluate_time = 0.06466484069824219 transform_time = 0.004381656646728516\n",
            "evaluate_time = 0.13663148880004883 transform_time = 0.012157440185546875\n"
          ]
        },
        {
          "output_type": "stream",
          "name": "stderr",
          "text": [
            "\rTraining:   2%|▏         | 1049/69630 [03:24<3:13:17,  5.91sentences/s]"
          ]
        },
        {
          "output_type": "stream",
          "name": "stdout",
          "text": [
            "evaluate_time = 0.17830610275268555 transform_time = 0.01479649543762207\n",
            "evaluate_time = 0.0238339900970459 transform_time = 0.0013935565948486328\n",
            "evaluate_time = 0.10481953620910645 transform_time = 0.00798797607421875\n",
            "evaluate_time = 0.029506683349609375 transform_time = 0.0022628307342529297\n",
            "evaluate_time = 0.042716264724731445 transform_time = 0.005027055740356445\n",
            "evaluate_time = 0.0348970890045166 transform_time = 0.003349781036376953\n",
            "evaluate_time = 0.10235047340393066 transform_time = 0.007764101028442383\n",
            "evaluate_time = 0.020235538482666016 transform_time = 0.0013318061828613281\n",
            "evaluate_time = 0.16225671768188477 transform_time = 0.013024091720581055\n",
            "evaluate_time = 0.052266597747802734 transform_time = 0.003604888916015625\n"
          ]
        },
        {
          "output_type": "stream",
          "name": "stderr",
          "text": [
            "\rTraining:   2%|▏         | 1059/69630 [03:25<2:47:06,  6.84sentences/s]"
          ]
        },
        {
          "output_type": "stream",
          "name": "stdout",
          "text": [
            "evaluate_time = 0.25353050231933594 transform_time = 0.022505521774291992\n",
            "evaluate_time = 0.12929749488830566 transform_time = 0.010447502136230469\n",
            "evaluate_time = 0.25323939323425293 transform_time = 0.023003101348876953\n",
            "evaluate_time = 0.14637470245361328 transform_time = 0.012552022933959961\n",
            "evaluate_time = 0.1399686336517334 transform_time = 0.011128425598144531\n",
            "evaluate_time = 0.24238204956054688 transform_time = 0.02263927459716797\n",
            "evaluate_time = 0.21733641624450684 transform_time = 0.020369529724121094\n",
            "evaluate_time = 0.16786646842956543 transform_time = 0.014688491821289062\n"
          ]
        },
        {
          "output_type": "stream",
          "name": "stderr",
          "text": [
            "\rTraining:   2%|▏         | 1067/69630 [03:28<3:43:27,  5.11sentences/s]"
          ]
        },
        {
          "output_type": "stream",
          "name": "stdout",
          "text": [
            "evaluate_time = 0.7541255950927734 transform_time = 0.08504056930541992\n",
            "evaluate_time = 0.514528751373291 transform_time = 0.041253089904785156\n",
            "evaluate_time = 0.04446983337402344 transform_time = 0.001935720443725586\n",
            "evaluate_time = 0.14447569847106934 transform_time = 0.015358686447143555\n",
            "evaluate_time = 0.08594441413879395 transform_time = 0.006703376770019531\n",
            "evaluate_time = 0.16633152961730957 transform_time = 0.016263484954833984\n"
          ]
        },
        {
          "output_type": "stream",
          "name": "stderr",
          "text": [
            "\rTraining:   2%|▏         | 1074/69630 [03:29<3:51:04,  4.94sentences/s]"
          ]
        },
        {
          "output_type": "stream",
          "name": "stdout",
          "text": [
            "evaluate_time = 0.25214242935180664 transform_time = 0.02217411994934082\n",
            "evaluate_time = 0.02348637580871582 transform_time = 0.0016942024230957031\n",
            "evaluate_time = 0.3758964538574219 transform_time = 0.03666949272155762\n",
            "evaluate_time = 0.05701041221618652 transform_time = 0.005900144577026367\n",
            "evaluate_time = 0.08676886558532715 transform_time = 0.006071805953979492\n",
            "evaluate_time = 0.2466285228729248 transform_time = 0.025353670120239258\n",
            "evaluate_time = 0.06346511840820312 transform_time = 0.0051305294036865234\n"
          ]
        },
        {
          "output_type": "stream",
          "name": "stderr",
          "text": [
            "\rTraining:   2%|▏         | 1080/69630 [03:30<3:55:19,  4.85sentences/s]"
          ]
        },
        {
          "output_type": "stream",
          "name": "stdout",
          "text": [
            "evaluate_time = 0.2167062759399414 transform_time = 0.021145105361938477\n",
            "evaluate_time = 0.15658164024353027 transform_time = 0.013230085372924805\n",
            "evaluate_time = 0.17681479454040527 transform_time = 0.017012596130371094\n",
            "evaluate_time = 1.4534063339233398 transform_time = 0.1829695701599121\n",
            "evaluate_time = 0.12575292587280273 transform_time = 0.009614944458007812\n",
            "evaluate_time = 0.2720975875854492 transform_time = 0.023906469345092773\n"
          ]
        },
        {
          "output_type": "stream",
          "name": "stderr",
          "text": [
            "\rTraining:   2%|▏         | 1086/69630 [03:34<5:27:15,  3.49sentences/s]"
          ]
        },
        {
          "output_type": "stream",
          "name": "stdout",
          "text": [
            "evaluate_time = 0.3051748275756836 transform_time = 0.031389713287353516\n",
            "evaluate_time = 0.20525836944580078 transform_time = 0.016508817672729492\n",
            "evaluate_time = 0.10587906837463379 transform_time = 0.00794363021850586\n",
            "evaluate_time = 0.3556067943572998 transform_time = 0.031542301177978516\n",
            "evaluate_time = 0.12187075614929199 transform_time = 0.00918436050415039\n"
          ]
        },
        {
          "output_type": "stream",
          "name": "stderr",
          "text": [
            "\rTraining:   2%|▏         | 1091/69630 [03:35<5:09:51,  3.69sentences/s]"
          ]
        },
        {
          "output_type": "stream",
          "name": "stdout",
          "text": [
            "evaluate_time = 0.09502363204956055 transform_time = 0.009912490844726562\n",
            "evaluate_time = 0.10793232917785645 transform_time = 0.008196830749511719\n",
            "evaluate_time = 0.2474050521850586 transform_time = 0.021769046783447266\n",
            "evaluate_time = 0.10738348960876465 transform_time = 0.006567716598510742\n",
            "evaluate_time = 0.2558140754699707 transform_time = 0.021970272064208984\n"
          ]
        },
        {
          "output_type": "stream",
          "name": "stderr",
          "text": [
            "\rTraining:   2%|▏         | 1096/69630 [03:40<9:00:47,  2.11sentences/s]"
          ]
        },
        {
          "output_type": "stream",
          "name": "stdout",
          "text": [
            "evaluate_time = 3.927845001220703 transform_time = 0.31258463859558105\n",
            "evaluate_time = 0.11170268058776855 transform_time = 0.009012460708618164\n",
            "evaluate_time = 0.2933378219604492 transform_time = 0.027046918869018555\n",
            "evaluate_time = 0.059090614318847656 transform_time = 0.004666566848754883\n",
            "evaluate_time = 0.16924285888671875 transform_time = 0.01610422134399414\n",
            "evaluate_time = 0.05575990676879883 transform_time = 0.004947185516357422\n",
            "evaluate_time = 0.09006023406982422 transform_time = 0.008393049240112305\n"
          ]
        },
        {
          "output_type": "stream",
          "name": "stderr",
          "text": [
            "\rTraining:   2%|▏         | 1103/69630 [03:41<7:01:04,  2.71sentences/s]"
          ]
        },
        {
          "output_type": "stream",
          "name": "stdout",
          "text": [
            "evaluate_time = 0.10187101364135742 transform_time = 0.008590936660766602\n",
            "evaluate_time = 0.13442540168762207 transform_time = 0.011134862899780273\n",
            "evaluate_time = 0.17915821075439453 transform_time = 0.014490842819213867\n",
            "evaluate_time = 0.19067978858947754 transform_time = 0.017611980438232422\n",
            "evaluate_time = 0.23056507110595703 transform_time = 0.02336716651916504\n",
            "evaluate_time = 0.06432509422302246 transform_time = 0.004611015319824219\n"
          ]
        },
        {
          "output_type": "stream",
          "name": "stderr",
          "text": [
            "\rTraining:   2%|▏         | 1109/69630 [03:42<6:09:55,  3.09sentences/s]"
          ]
        },
        {
          "output_type": "stream",
          "name": "stdout",
          "text": [
            "evaluate_time = 0.23558354377746582 transform_time = 0.021419763565063477\n",
            "evaluate_time = 0.0789186954498291 transform_time = 0.009769439697265625\n",
            "evaluate_time = 0.14333438873291016 transform_time = 0.011463403701782227\n",
            "evaluate_time = 0.15679407119750977 transform_time = 0.012737274169921875\n",
            "evaluate_time = 0.0629584789276123 transform_time = 0.0051953792572021484\n",
            "evaluate_time = 0.061833858489990234 transform_time = 0.004526853561401367\n",
            "evaluate_time = 0.11493825912475586 transform_time = 0.010015010833740234\n",
            "evaluate_time = 0.07618188858032227 transform_time = 0.00598454475402832\n",
            "evaluate_time = 0.04630112648010254 transform_time = 0.004149436950683594\n"
          ]
        },
        {
          "output_type": "stream",
          "name": "stderr",
          "text": [
            "\rTraining:   2%|▏         | 1118/69630 [03:44<4:47:37,  3.97sentences/s]"
          ]
        },
        {
          "output_type": "stream",
          "name": "stdout",
          "text": [
            "evaluate_time = 0.23764252662658691 transform_time = 0.022255420684814453\n",
            "evaluate_time = 0.15108919143676758 transform_time = 0.012257575988769531\n",
            "evaluate_time = 0.0773160457611084 transform_time = 0.0061511993408203125\n",
            "evaluate_time = 0.16019940376281738 transform_time = 0.014167070388793945\n",
            "evaluate_time = 0.1840367317199707 transform_time = 0.015242576599121094\n",
            "evaluate_time = 0.143402099609375 transform_time = 0.009496450424194336\n"
          ]
        },
        {
          "output_type": "stream",
          "name": "stderr",
          "text": [
            "\rTraining:   2%|▏         | 1124/69630 [03:45<4:31:03,  4.21sentences/s]"
          ]
        },
        {
          "output_type": "stream",
          "name": "stdout",
          "text": [
            "evaluate_time = 0.24068188667297363 transform_time = 0.02225017547607422\n",
            "evaluate_time = 0.19928193092346191 transform_time = 0.0173799991607666\n",
            "evaluate_time = 0.10618162155151367 transform_time = 0.006628990173339844\n",
            "evaluate_time = 0.23855304718017578 transform_time = 0.025743722915649414\n",
            "evaluate_time = 0.1666722297668457 transform_time = 0.014313459396362305\n"
          ]
        },
        {
          "output_type": "stream",
          "name": "stderr",
          "text": [
            "\rTraining:   2%|▏         | 1130/69630 [03:46<4:19:32,  4.40sentences/s]"
          ]
        },
        {
          "output_type": "stream",
          "name": "stdout",
          "text": [
            "evaluate_time = 0.16185545921325684 transform_time = 0.014026641845703125\n",
            "evaluate_time = 0.09567499160766602 transform_time = 0.007322788238525391\n",
            "evaluate_time = 0.09726071357727051 transform_time = 0.007209300994873047\n",
            "evaluate_time = 0.1447441577911377 transform_time = 0.011968851089477539\n",
            "evaluate_time = 0.16555333137512207 transform_time = 0.01415705680847168\n",
            "evaluate_time = 0.0463864803314209 transform_time = 0.0032896995544433594\n",
            "evaluate_time = 0.017592430114746094 transform_time = 0.0013225078582763672\n"
          ]
        },
        {
          "output_type": "stream",
          "name": "stderr",
          "text": [
            "\rTraining:   2%|▏         | 1136/69630 [03:47<4:01:50,  4.72sentences/s]"
          ]
        },
        {
          "output_type": "stream",
          "name": "stdout",
          "text": [
            "evaluate_time = 0.3595585823059082 transform_time = 0.03548884391784668\n",
            "evaluate_time = 0.03590989112854004 transform_time = 0.0024001598358154297\n",
            "evaluate_time = 0.1035776138305664 transform_time = 0.009752750396728516\n",
            "evaluate_time = 0.14722156524658203 transform_time = 0.013369321823120117\n",
            "evaluate_time = 0.2976961135864258 transform_time = 0.030163049697875977\n",
            "evaluate_time = 0.06778454780578613 transform_time = 0.0055506229400634766\n",
            "evaluate_time = 0.03973388671875 transform_time = 0.0034775733947753906\n"
          ]
        },
        {
          "output_type": "stream",
          "name": "stderr",
          "text": [
            "\rTraining:   2%|▏         | 1143/69630 [03:48<3:40:26,  5.18sentences/s]"
          ]
        },
        {
          "output_type": "stream",
          "name": "stdout",
          "text": [
            "evaluate_time = 0.16731643676757812 transform_time = 0.015373468399047852\n",
            "evaluate_time = 0.1480579376220703 transform_time = 0.013579368591308594\n",
            "evaluate_time = 0.3201436996459961 transform_time = 0.026392459869384766\n",
            "evaluate_time = 0.2246108055114746 transform_time = 0.01791071891784668\n",
            "evaluate_time = 0.14946746826171875 transform_time = 0.012090206146240234\n"
          ]
        },
        {
          "output_type": "stream",
          "name": "stderr",
          "text": [
            "\rTraining:   2%|▏         | 1149/69630 [03:49<3:45:21,  5.06sentences/s]"
          ]
        },
        {
          "output_type": "stream",
          "name": "stdout",
          "text": [
            "evaluate_time = 0.12717247009277344 transform_time = 0.009146928787231445\n",
            "evaluate_time = 0.02823638916015625 transform_time = 0.0017795562744140625\n",
            "evaluate_time = 0.5725150108337402 transform_time = 0.057695627212524414\n",
            "evaluate_time = 0.08572769165039062 transform_time = 0.006515979766845703\n",
            "evaluate_time = 0.868873119354248 transform_time = 0.10912847518920898\n",
            "evaluate_time = 0.02514481544494629 transform_time = 0.004113912582397461\n",
            "evaluate_time = 0.16865229606628418 transform_time = 0.013680696487426758\n"
          ]
        },
        {
          "output_type": "stream",
          "name": "stderr",
          "text": [
            "\rTraining:   2%|▏         | 1155/69630 [03:52<5:14:47,  3.63sentences/s]"
          ]
        },
        {
          "output_type": "stream",
          "name": "stdout",
          "text": [
            "evaluate_time = 0.5293054580688477 transform_time = 0.05979347229003906\n",
            "evaluate_time = 0.26135873794555664 transform_time = 0.021853208541870117\n",
            "evaluate_time = 0.28313207626342773 transform_time = 0.0247189998626709\n",
            "evaluate_time = 0.08797454833984375 transform_time = 0.006110429763793945\n",
            "evaluate_time = 0.0418853759765625 transform_time = 0.002682924270629883\n"
          ]
        },
        {
          "output_type": "stream",
          "name": "stderr",
          "text": [
            "\rTraining:   2%|▏         | 1160/69630 [03:53<4:56:59,  3.84sentences/s]"
          ]
        },
        {
          "output_type": "stream",
          "name": "stdout",
          "text": [
            "evaluate_time = 0.19016432762145996 transform_time = 0.014768838882446289\n",
            "evaluate_time = 0.1617717742919922 transform_time = 0.011969327926635742\n",
            "evaluate_time = 0.46437788009643555 transform_time = 0.04314422607421875\n",
            "evaluate_time = 0.09491181373596191 transform_time = 0.006243705749511719\n"
          ]
        },
        {
          "output_type": "stream",
          "name": "stderr",
          "text": [
            "\rTraining:   2%|▏         | 1165/69630 [03:55<4:53:38,  3.89sentences/s]"
          ]
        },
        {
          "output_type": "stream",
          "name": "stdout",
          "text": [
            "evaluate_time = 0.23240423202514648 transform_time = 0.017851829528808594\n",
            "evaluate_time = 0.05471634864807129 transform_time = 0.0043981075286865234\n",
            "evaluate_time = 0.07703542709350586 transform_time = 0.008168697357177734\n",
            "evaluate_time = 0.1588425636291504 transform_time = 0.01314687728881836\n",
            "evaluate_time = 0.4028913974761963 transform_time = 0.04074740409851074\n",
            "evaluate_time = 0.09723663330078125 transform_time = 0.007462263107299805\n"
          ]
        },
        {
          "output_type": "stream",
          "name": "stderr",
          "text": [
            "\rTraining:   2%|▏         | 1170/69630 [03:56<4:50:46,  3.92sentences/s]"
          ]
        },
        {
          "output_type": "stream",
          "name": "stdout",
          "text": [
            "evaluate_time = 0.26143407821655273 transform_time = 0.023251056671142578\n",
            "evaluate_time = 0.07637310028076172 transform_time = 0.0056667327880859375\n",
            "evaluate_time = 0.1291501522064209 transform_time = 0.012205123901367188\n",
            "evaluate_time = 0.2025146484375 transform_time = 0.017824649810791016\n",
            "evaluate_time = 0.10251545906066895 transform_time = 0.008607149124145508\n",
            "evaluate_time = 0.12266087532043457 transform_time = 0.00964045524597168\n",
            "evaluate_time = 0.04584145545959473 transform_time = 0.0032160282135009766\n",
            "evaluate_time = 0.01859736442565918 transform_time = 0.0025746822357177734\n",
            "evaluate_time = 0.025888681411743164 transform_time = 0.0017757415771484375\n"
          ]
        },
        {
          "output_type": "stream",
          "name": "stderr",
          "text": [
            "\rTraining:   2%|▏         | 1179/69630 [03:57<3:46:02,  5.05sentences/s]"
          ]
        },
        {
          "output_type": "stream",
          "name": "stdout",
          "text": [
            "evaluate_time = 0.12355923652648926 transform_time = 0.010905742645263672\n",
            "evaluate_time = 0.022734642028808594 transform_time = 0.0014827251434326172\n",
            "evaluate_time = 0.09768056869506836 transform_time = 0.008952140808105469\n",
            "evaluate_time = 0.05334973335266113 transform_time = 0.0050237178802490234\n",
            "evaluate_time = 0.06106424331665039 transform_time = 0.004385948181152344\n",
            "evaluate_time = 0.05332493782043457 transform_time = 0.0038137435913085938\n",
            "evaluate_time = 0.10993623733520508 transform_time = 0.009777307510375977\n",
            "evaluate_time = 0.12355709075927734 transform_time = 0.010424137115478516\n",
            "evaluate_time = 0.10286569595336914 transform_time = 0.009323596954345703\n",
            "evaluate_time = 0.0444493293762207 transform_time = 0.003139495849609375\n",
            "evaluate_time = 0.0257415771484375 transform_time = 0.002549409866333008\n"
          ]
        },
        {
          "output_type": "stream",
          "name": "stderr",
          "text": [
            "\rTraining:   2%|▏         | 1190/69630 [03:58<3:05:47,  6.14sentences/s]"
          ]
        },
        {
          "output_type": "stream",
          "name": "stdout",
          "text": [
            "evaluate_time = 0.30669474601745605 transform_time = 0.028883934020996094\n",
            "evaluate_time = 0.07809257507324219 transform_time = 0.005507946014404297\n",
            "evaluate_time = 0.19141340255737305 transform_time = 0.016604900360107422\n",
            "evaluate_time = 0.09633231163024902 transform_time = 0.009113073348999023\n",
            "evaluate_time = 0.12166523933410645 transform_time = 0.009794235229492188\n"
          ]
        },
        {
          "output_type": "stream",
          "name": "stderr",
          "text": [
            "\rTraining:   2%|▏         | 1197/69630 [03:59<3:01:55,  6.27sentences/s]"
          ]
        },
        {
          "output_type": "stream",
          "name": "stdout",
          "text": [
            "evaluate_time = 0.23847436904907227 transform_time = 0.020235061645507812\n",
            "evaluate_time = 0.04650068283081055 transform_time = 0.004066944122314453\n",
            "evaluate_time = 0.07438135147094727 transform_time = 0.006829023361206055\n",
            "evaluate_time = 0.05213594436645508 transform_time = 0.002889394760131836\n",
            "evaluate_time = 0.050969839096069336 transform_time = 0.0035059452056884766\n",
            "evaluate_time = 0.07097220420837402 transform_time = 0.005741119384765625\n",
            "evaluate_time = 0.28215503692626953 transform_time = 0.029574871063232422\n",
            "evaluate_time = 0.09494137763977051 transform_time = 0.007201671600341797\n",
            "evaluate_time = 0.03875160217285156 transform_time = 0.0029010772705078125\n"
          ]
        },
        {
          "output_type": "stream",
          "name": "stderr",
          "text": [
            "\rTraining:   2%|▏         | 1205/69630 [04:00<2:52:49,  6.60sentences/s]"
          ]
        },
        {
          "output_type": "stream",
          "name": "stdout",
          "text": [
            "evaluate_time = 0.12166476249694824 transform_time = 0.010760784149169922\n",
            "evaluate_time = 0.130326509475708 transform_time = 0.012355566024780273\n",
            "evaluate_time = 0.32004594802856445 transform_time = 0.029387950897216797\n",
            "evaluate_time = 0.0802912712097168 transform_time = 0.006147146224975586\n"
          ]
        },
        {
          "output_type": "stream",
          "name": "stderr",
          "text": [
            "\r                                                                       "
          ]
        },
        {
          "output_type": "stream",
          "name": "stdout",
          "text": [
            "evaluate_time = 0.16021442413330078 transform_time = 0.013928413391113281\n"
          ]
        },
        {
          "output_type": "stream",
          "name": "stderr",
          "text": [
            "\r"
          ]
        },
        {
          "output_type": "error",
          "ename": "KeyboardInterrupt",
          "evalue": "ignored",
          "traceback": [
            "\u001b[0;31m---------------------------------------------------------------------------\u001b[0m",
            "\u001b[0;31mKeyboardInterrupt\u001b[0m                         Traceback (most recent call last)",
            "\u001b[0;32m<ipython-input-23-3a4ee747aa9b>\u001b[0m in \u001b[0;36m<cell line: 1>\u001b[0;34m()\u001b[0m\n\u001b[0;32m----> 1\u001b[0;31m \u001b[0mrun\u001b[0m\u001b[0;34m(\u001b[0m\u001b[0mtrain\u001b[0m\u001b[0;34m,\u001b[0m \u001b[0mval\u001b[0m\u001b[0;34m,\u001b[0m \u001b[0mtest\u001b[0m\u001b[0;34m,\u001b[0m \u001b[0membeds\u001b[0m\u001b[0;34m,\u001b[0m \u001b[0moptions\u001b[0m\u001b[0;34m)\u001b[0m\u001b[0;34m\u001b[0m\u001b[0;34m\u001b[0m\u001b[0m\n\u001b[0m",
            "\u001b[0;32m<ipython-input-13-7f45e7d62c2e>\u001b[0m in \u001b[0;36mrun\u001b[0;34m(traindata, valdata, testdata, embeds, options)\u001b[0m\n\u001b[1;32m     31\u001b[0m         \u001b[0;31m# Training\u001b[0m\u001b[0;34m\u001b[0m\u001b[0;34m\u001b[0m\u001b[0m\n\u001b[1;32m     32\u001b[0m         \u001b[0mlogging\u001b[0m\u001b[0;34m.\u001b[0m\u001b[0minfo\u001b[0m\u001b[0;34m(\u001b[0m\u001b[0;34mf'Starting epoch {epoch} (training)'\u001b[0m\u001b[0;34m)\u001b[0m\u001b[0;34m\u001b[0m\u001b[0;34m\u001b[0m\u001b[0m\n\u001b[0;32m---> 33\u001b[0;31m         \u001b[0mparser\u001b[0m\u001b[0;34m.\u001b[0m\u001b[0mTrain\u001b[0m\u001b[0;34m(\u001b[0m\u001b[0mtraindata\u001b[0m\u001b[0;34m)\u001b[0m\u001b[0;34m\u001b[0m\u001b[0;34m\u001b[0m\u001b[0m\n\u001b[0m\u001b[1;32m     34\u001b[0m         \u001b[0mlogging\u001b[0m\u001b[0;34m.\u001b[0m\u001b[0minfo\u001b[0m\u001b[0;34m(\u001b[0m\u001b[0;34mf'Finished epoch {epoch} (training)'\u001b[0m\u001b[0;34m)\u001b[0m\u001b[0;34m\u001b[0m\u001b[0;34m\u001b[0m\u001b[0m\n\u001b[1;32m     35\u001b[0m \u001b[0;34m\u001b[0m\u001b[0m\n",
            "\u001b[0;32m<ipython-input-12-39fb7b8f05dc>\u001b[0m in \u001b[0;36mTrain\u001b[0;34m(self, trainData)\u001b[0m\n\u001b[1;32m     86\u001b[0m                 \u001b[0mself\u001b[0m\u001b[0;34m.\u001b[0m\u001b[0moracle\u001b[0m\u001b[0;34m.\u001b[0m\u001b[0mtrain_logging\u001b[0m\u001b[0;34m(\u001b[0m\u001b[0;34m)\u001b[0m\u001b[0;34m\u001b[0m\u001b[0;34m\u001b[0m\u001b[0m\n\u001b[1;32m     87\u001b[0m \u001b[0;34m\u001b[0m\u001b[0m\n\u001b[0;32m---> 88\u001b[0;31m             \u001b[0mself\u001b[0m\u001b[0;34m.\u001b[0m\u001b[0mtrain_sentence\u001b[0m\u001b[0;34m(\u001b[0m\u001b[0msentence\u001b[0m\u001b[0;34m)\u001b[0m\u001b[0;34m\u001b[0m\u001b[0;34m\u001b[0m\u001b[0m\n\u001b[0m\u001b[1;32m     89\u001b[0m             \u001b[0mself\u001b[0m\u001b[0;34m.\u001b[0m\u001b[0moracle\u001b[0m\u001b[0;34m.\u001b[0m\u001b[0merror_processing\u001b[0m\u001b[0;34m(\u001b[0m\u001b[0;32mFalse\u001b[0m\u001b[0;34m)\u001b[0m\u001b[0;34m\u001b[0m\u001b[0;34m\u001b[0m\u001b[0m\n\u001b[1;32m     90\u001b[0m \u001b[0;34m\u001b[0m\u001b[0m\n",
            "\u001b[0;32m<ipython-input-12-39fb7b8f05dc>\u001b[0m in \u001b[0;36mtrain_sentence\u001b[0;34m(self, sentence)\u001b[0m\n\u001b[1;32m     55\u001b[0m \u001b[0;34m\u001b[0m\u001b[0m\n\u001b[1;32m     56\u001b[0m         \u001b[0;32mwhile\u001b[0m \u001b[0;32mnot\u001b[0m \u001b[0mconfig\u001b[0m\u001b[0;34m.\u001b[0m\u001b[0mis_end\u001b[0m\u001b[0;34m(\u001b[0m\u001b[0;34m)\u001b[0m\u001b[0;34m:\u001b[0m\u001b[0;34m\u001b[0m\u001b[0;34m\u001b[0m\u001b[0m\n\u001b[0;32m---> 57\u001b[0;31m             \u001b[0mbest\u001b[0m\u001b[0;34m,\u001b[0m \u001b[0mshift_case\u001b[0m \u001b[0;34m=\u001b[0m \u001b[0mself\u001b[0m\u001b[0;34m.\u001b[0m\u001b[0moracle\u001b[0m\u001b[0;34m.\u001b[0m\u001b[0mcreate_train_transition\u001b[0m\u001b[0;34m(\u001b[0m\u001b[0mconfig\u001b[0m\u001b[0;34m,\u001b[0m \u001b[0mself\u001b[0m\u001b[0;34m.\u001b[0m\u001b[0mdynamic_oracle\u001b[0m\u001b[0;34m)\u001b[0m\u001b[0;34m\u001b[0m\u001b[0;34m\u001b[0m\u001b[0m\n\u001b[0m\u001b[1;32m     58\u001b[0m \u001b[0;34m\u001b[0m\u001b[0m\n\u001b[1;32m     59\u001b[0m             \u001b[0;31m#updates for the dynamic oracle\u001b[0m\u001b[0;34m\u001b[0m\u001b[0;34m\u001b[0m\u001b[0m\n",
            "\u001b[0;32m<ipython-input-11-6767eee305f3>\u001b[0m in \u001b[0;36mcreate_train_transition\u001b[0;34m(self, config, dynamic_oracle)\u001b[0m\n\u001b[1;32m    183\u001b[0m         \u001b[0mbest_wrong\u001b[0m \u001b[0;34m=\u001b[0m \u001b[0mmax\u001b[0m\u001b[0;34m(\u001b[0m\u001b[0mwrong\u001b[0m\u001b[0;34m,\u001b[0m \u001b[0mkey\u001b[0m\u001b[0;34m=\u001b[0m\u001b[0mitemgetter\u001b[0m\u001b[0;34m(\u001b[0m\u001b[0;36m2\u001b[0m\u001b[0;34m)\u001b[0m\u001b[0;34m)\u001b[0m\u001b[0;34m\u001b[0m\u001b[0;34m\u001b[0m\u001b[0m\n\u001b[1;32m    184\u001b[0m         \u001b[0mbest\u001b[0m \u001b[0;34m=\u001b[0m \u001b[0mself\u001b[0m\u001b[0;34m.\u001b[0m\u001b[0mcreate_best\u001b[0m\u001b[0;34m(\u001b[0m\u001b[0mbest_valid\u001b[0m\u001b[0;34m,\u001b[0m \u001b[0mbest_wrong\u001b[0m\u001b[0;34m,\u001b[0m \u001b[0mswap_cost\u001b[0m\u001b[0;34m,\u001b[0m \u001b[0mconfig\u001b[0m\u001b[0;34m,\u001b[0m \u001b[0mdynamic_oracle\u001b[0m\u001b[0;34m)\u001b[0m\u001b[0;34m\u001b[0m\u001b[0;34m\u001b[0m\u001b[0m\n\u001b[0;32m--> 185\u001b[0;31m         \u001b[0mself\u001b[0m\u001b[0;34m.\u001b[0m\u001b[0merror_append\u001b[0m\u001b[0;34m(\u001b[0m\u001b[0mbest\u001b[0m\u001b[0;34m,\u001b[0m \u001b[0mbest_valid\u001b[0m\u001b[0;34m,\u001b[0m \u001b[0mbest_wrong\u001b[0m\u001b[0;34m,\u001b[0m \u001b[0mconfig\u001b[0m\u001b[0;34m)\u001b[0m\u001b[0;34m\u001b[0m\u001b[0;34m\u001b[0m\u001b[0m\n\u001b[0m\u001b[1;32m    186\u001b[0m         \u001b[0;32mreturn\u001b[0m \u001b[0mbest\u001b[0m\u001b[0;34m,\u001b[0m \u001b[0mshift_case\u001b[0m\u001b[0;34m\u001b[0m\u001b[0;34m\u001b[0m\u001b[0m\n\u001b[1;32m    187\u001b[0m \u001b[0;34m\u001b[0m\u001b[0m\n",
            "\u001b[0;32m<ipython-input-11-6767eee305f3>\u001b[0m in \u001b[0;36merror_append\u001b[0;34m(self, best, bestValid, bestWrong, config)\u001b[0m\n\u001b[1;32m    143\u001b[0m             \u001b[0mself\u001b[0m\u001b[0;34m.\u001b[0m\u001b[0mtrain_info\u001b[0m\u001b[0;34m[\u001b[0m\u001b[0;34m\"mloss\"\u001b[0m\u001b[0;34m]\u001b[0m \u001b[0;34m+=\u001b[0m \u001b[0;36m1.0\u001b[0m \u001b[0;34m+\u001b[0m \u001b[0mbestWrong\u001b[0m\u001b[0;34m[\u001b[0m\u001b[0;36m2\u001b[0m\u001b[0;34m]\u001b[0m \u001b[0;34m-\u001b[0m \u001b[0mbestValid\u001b[0m\u001b[0;34m[\u001b[0m\u001b[0;36m2\u001b[0m\u001b[0;34m]\u001b[0m\u001b[0;34m\u001b[0m\u001b[0;34m\u001b[0m\u001b[0m\n\u001b[1;32m    144\u001b[0m             \u001b[0mself\u001b[0m\u001b[0;34m.\u001b[0m\u001b[0mtrain_info\u001b[0m\u001b[0;34m[\u001b[0m\u001b[0;34m\"eloss\"\u001b[0m\u001b[0;34m]\u001b[0m \u001b[0;34m+=\u001b[0m \u001b[0;36m1.0\u001b[0m \u001b[0;34m+\u001b[0m \u001b[0mbestWrong\u001b[0m\u001b[0;34m[\u001b[0m\u001b[0;36m2\u001b[0m\u001b[0;34m]\u001b[0m \u001b[0;34m-\u001b[0m \u001b[0mbestValid\u001b[0m\u001b[0;34m[\u001b[0m\u001b[0;36m2\u001b[0m\u001b[0;34m]\u001b[0m\u001b[0;34m\u001b[0m\u001b[0;34m\u001b[0m\u001b[0m\n\u001b[0;32m--> 145\u001b[0;31m             \u001b[0mself\u001b[0m\u001b[0;34m.\u001b[0m\u001b[0mtrain_info\u001b[0m\u001b[0;34m[\u001b[0m\u001b[0;34m\"errs\"\u001b[0m\u001b[0;34m]\u001b[0m\u001b[0;34m.\u001b[0m\u001b[0mappend\u001b[0m\u001b[0;34m(\u001b[0m\u001b[0mloss\u001b[0m\u001b[0;34m)\u001b[0m\u001b[0;34m\u001b[0m\u001b[0;34m\u001b[0m\u001b[0m\n\u001b[0m\u001b[1;32m    146\u001b[0m \u001b[0;34m\u001b[0m\u001b[0m\n\u001b[1;32m    147\u001b[0m         \u001b[0;31m#??? when did this happen and why?\u001b[0m\u001b[0;34m\u001b[0m\u001b[0;34m\u001b[0m\u001b[0m\n",
            "\u001b[0;31mKeyboardInterrupt\u001b[0m: "
          ]
        }
      ],
      "source": [
        "run(train, val, test, embeds, options)"
      ]
    },
    {
      "cell_type": "code",
      "source": [
        "logging.info(f'evaluate_time: {evaluate_time:.2g}s, transform_time:{transform_time:.2g}')"
      ],
      "metadata": {
        "id": "Nowty9TabFph"
      },
      "execution_count": 24,
      "outputs": []
    },
    {
      "cell_type": "code",
      "source": [
        "from google.colab import files\n",
        "\n",
        "files.download(\"app.log\")"
      ],
      "metadata": {
        "id": "EqEC-RRSWbUR"
      },
      "execution_count": null,
      "outputs": []
    },
    {
      "cell_type": "markdown",
      "metadata": {
        "id": "sB8WaJlLkGDT"
      },
      "source": [
        "# TODO"
      ]
    },
    {
      "cell_type": "markdown",
      "metadata": {
        "id": "q0jIrXhiBLRM"
      },
      "source": [
        "TODO:\n",
        "В sentence последний элемент -\n",
        "\n",
        "{'id': 0,\n",
        " 'form': '*root*',\n",
        " 'char_rep': '*root*',\n",
        " 'norm': '*root*',\n",
        " 'cpos': 'ROOT-CPOS',\n",
        " 'pos': 'ROOT-POS',\n",
        " 'parent_id': -1,\n",
        " 'relation': 'rroot',\n",
        " 'lemma': '*root*',\n",
        " 'feats': '_',\n",
        " 'deps': '_',\n",
        " 'misc': '_',\n",
        " 'pred_parent_id': None,\n",
        " 'pred_relation': None,\n",
        " 'treebank_id': None,\n",
        " 'proxy_tbank': None,\n",
        " 'pred_pos': None,\n",
        " 'pred_cpos': None,\n",
        " 'projective_order': 0,\n",
        " 'rdeps': [8],\n",
        " 'children': [],\n",
        " 'scores': None,\n",
        " 'parent': None,\n",
        " 'vecs': None}\n"
      ]
    },
    {
      "cell_type": "markdown",
      "metadata": {
        "id": "V1apfPV9kHRa"
      },
      "source": [
        "В какую сторону стек в коде сейчас ?\n",
        "Используют stack[-1], stack[-2].\n",
        "Стек или очередь ?"
      ]
    },
    {
      "cell_type": "markdown",
      "metadata": {
        "id": "Su65X20Amqjk"
      },
      "source": [
        "Разобраться, какие метрики считают при обучении (на train)"
      ]
    }
  ],
  "metadata": {
    "colab": {
      "provenance": [],
      "toc_visible": true,
      "gpuType": "T4",
      "include_colab_link": true
    },
    "kernelspec": {
      "display_name": "Python 3",
      "name": "python3"
    },
    "language_info": {
      "name": "python"
    },
    "accelerator": "GPU"
  },
  "nbformat": 4,
  "nbformat_minor": 0
}