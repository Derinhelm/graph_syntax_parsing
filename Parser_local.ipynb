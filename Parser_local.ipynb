{
  "cells": [
    {
      "cell_type": "markdown",
      "metadata": {
        "id": "j01G-nT6mB7H"
      },
      "source": [
        "# uuparser/parser.py"
      ]
    },
    {
      "cell_type": "code",
      "execution_count": 1,
      "metadata": {
        "id": "HPp79TnLK5WC",
        "outputId": "be640e68-e10f-4737-9070-6c6cf9d6f066"
      },
      "outputs": [],
      "source": [
        "from utils import set_seeds, read_conll\n",
        "from project_logging import logging\n",
        "from run import run\n",
        "from embeddings import create_embeds, load_embeds"
      ]
    },
    {
      "cell_type": "markdown",
      "metadata": {
        "id": "piyEERqI0aM2"
      },
      "source": [
        "# Execution"
      ]
    },
    {
      "cell_type": "code",
      "execution_count": 10,
      "metadata": {
        "id": "z6WsiWLHK4ae"
      },
      "outputs": [],
      "source": [
        "real_dataset = False\n",
        "embed_pickle_using = True"
      ]
    },
    {
      "cell_type": "code",
      "execution_count": 11,
      "metadata": {
        "id": "NXLJlVWzHu90"
      },
      "outputs": [],
      "source": [
        "if real_dataset:\n",
        "  train_a_dir = 'UD_Russian-SynTagRus/ru_syntagrus-ud-train-a.conllu'\n",
        "  train_b_dir = 'UD_Russian-SynTagRus/ru_syntagrus-ud-train-b.conllu'\n",
        "  train_c_dir = 'UD_Russian-SynTagRus/ru_syntagrus-ud-train-c.conllu'\n",
        "\n",
        "  val_dir = 'UD_Russian-SynTagRus/ru_syntagrus-ud-dev.conllu'\n",
        "  test_dir = 'UD_Russian-SynTagRus/ru_syntagrus-ud-test.conllu'\n",
        "\n",
        "  train_a, train_words_a = read_conll(train_a_dir)\n",
        "  train_b, train_words_b = read_conll(train_b_dir)\n",
        "  train_c, train_words_c = read_conll(train_c_dir)\n",
        "  train = train_a + train_b + train_c\n",
        "else:\n",
        "  train_dir = 'UD_Russian-SynTagRus-small/ru_syntagrus-ud-train.conllu'\n",
        "  val_dir = 'UD_Russian-SynTagRus-small/ru_syntagrus-ud-dev.conllu'\n",
        "  test_dir = 'UD_Russian-SynTagRus-small/ru_syntagrus-ud-test.conllu'\n",
        "  \n",
        "  train, train_words = read_conll(train_dir)\n",
        "val, val_words = read_conll(val_dir)\n",
        "test, test_words = read_conll(test_dir)"
      ]
    },
    {
      "cell_type": "code",
      "execution_count": 12,
      "metadata": {
        "id": "LUSU6RwuIaAM"
      },
      "outputs": [],
      "source": [
        "\n",
        "if embed_pickle_using:\n",
        "  if real_dataset:\n",
        "    embeds = load_embeds(\"UD_Russian-SynTagRus/embeds.pickle\")\n",
        "  else:\n",
        "    embeds = load_embeds(\"UD_Russian-SynTagRus-small/embeds.pickle\")\n",
        "else:\n",
        "  if real_dataset:\n",
        "    all_words = train_words_a | train_words_b | train_words_c | val_words | test_words\n",
        "  else:\n",
        "    all_words = train_words | val_words | test_words\n",
        "  embeds = create_embeds(all_words)\n"
      ]
    },
    {
      "cell_type": "code",
      "execution_count": 13,
      "metadata": {
        "colab": {
          "base_uri": "https://localhost:8080/"
        },
        "id": "gCrdg03Vvrid",
        "outputId": "d02655ef-735a-4aa3-88ed-4cd6e7dd0a2b"
      },
      "outputs": [
        {
          "data": {
            "text/plain": [
              "516"
            ]
          },
          "execution_count": 13,
          "metadata": {},
          "output_type": "execute_result"
        }
      ],
      "source": [
        "len(embeds)"
      ]
    },
    {
      "cell_type": "code",
      "execution_count": 14,
      "metadata": {
        "colab": {
          "base_uri": "https://localhost:8080/"
        },
        "id": "y4dk0TJSIASC",
        "outputId": "3fd88185-35fa-4d5b-bc00-20ffed315823"
      },
      "outputs": [
        {
          "data": {
            "text/plain": [
              "5"
            ]
          },
          "execution_count": 14,
          "metadata": {},
          "output_type": "execute_result"
        }
      ],
      "source": [
        "len(train)"
      ]
    },
    {
      "cell_type": "code",
      "execution_count": 15,
      "metadata": {
        "colab": {
          "base_uri": "https://localhost:8080/"
        },
        "id": "-IbKLEjhM2L9",
        "outputId": "aac1d464-d6e8-4f46-8a86-8dcd38333833"
      },
      "outputs": [
        {
          "name": "stdout",
          "output_type": "stream",
          "text": [
            "root - WARNING - This will get logged to a file\n",
            "root - WARNING - New warning\n",
            "root - DEBUG - New debug\n",
            "root - INFO - New info\n",
            "root - INFO - Reading UD_Russian-SynTagRus/ru_syntagrus-ud-train-a.conllu\n",
            "root - DEBUG - 24516 sentences read\n",
            "root - INFO - Time: 8s\n",
            "root - INFO - Reading UD_Russian-SynTagRus/ru_syntagrus-ud-train-b.conllu\n",
            "root - DEBUG - 24298 sentences read\n",
            "root - INFO - Time: 7.7s\n",
            "root - INFO - Reading UD_Russian-SynTagRus/ru_syntagrus-ud-train-c.conllu\n",
            "root - DEBUG - 20816 sentences read\n",
            "root - INFO - Time: 6.6s\n",
            "root - INFO - Reading UD_Russian-SynTagRus/ru_syntagrus-ud-dev.conllu\n",
            "root - DEBUG - 8906 sentences read\n",
            "root - INFO - Time: 2.3s\n",
            "root - INFO - Reading UD_Russian-SynTagRus/ru_syntagrus-ud-test.conllu\n",
            "root - DEBUG - 8800 sentences read\n",
            "root - INFO - Time: 3.5s\n",
            "root - INFO - Time of embedding downloading: 13s\n",
            "root - DEBUG - Using default Python seed\n",
            "root - DEBUG - Initializing the model\n",
            "root - INFO - Starting epoch 1 (training)\n",
            "root - INFO - Length of training data: 69630\n",
            "root - INFO - Reading UD_Russian-SynTagRus-small/ru_syntagrus-ud-train.conllu\n",
            "root - DEBUG - 5 sentences read\n",
            "root - INFO - Time: 0.11s\n",
            "root - INFO - Reading UD_Russian-SynTagRus-small/ru_syntagrus-ud-dev.conllu\n",
            "root - DEBUG - 25 sentences read\n",
            "root - INFO - Time: 0.37s\n",
            "root - INFO - Reading UD_Russian-SynTagRus-small/ru_syntagrus-ud-test.conllu\n",
            "root - DEBUG - 27 sentences read\n",
            "root - INFO - Time: 0.37s\n",
            "root - INFO - Time of embedding downloading: 1.5s\n",
            "\n"
          ]
        }
      ],
      "source": [
        "from pathlib import Path\n",
        "\n",
        "print(Path('app.log').read_text())"
      ]
    },
    {
      "cell_type": "code",
      "execution_count": 16,
      "metadata": {},
      "outputs": [],
      "source": [
        "options = {}\n",
        "options[\"hidden_dims\"] = 100 # MLP hidden layer dimensions\n",
        "options[\"learning_rate\"] = 0.001 # Learning rate for neural network optimizer\n",
        "\n",
        "options[\"dynamic_oracle\"] = True # Use the static oracle instead of the dynamic oracle\n",
        "\n",
        "options[\"epochs\"] = 3 # Number of epochs\n",
        "options[\"first_epoch\"] = 1\n",
        "\n",
        "# really important to do this before anything else to make experiments reproducible\n",
        "set_seeds()"
      ]
    },
    {
      "cell_type": "code",
      "execution_count": 17,
      "metadata": {
        "colab": {
          "base_uri": "https://localhost:8080/",
          "height": 338
        },
        "id": "oNypIrvK-8yt",
        "outputId": "06058dc4-df93-431d-fd18-64a8eeba4bbe"
      },
      "outputs": [
        {
          "name": "stdout",
          "output_type": "stream",
          "text": [
            "device: cpu\n"
          ]
        },
        {
          "name": "stderr",
          "output_type": "stream",
          "text": [
            "                                                               \r"
          ]
        },
        {
          "name": "stdout",
          "output_type": "stream",
          "text": [
            "Dev score 0.26 at epoch 1\n"
          ]
        },
        {
          "name": "stderr",
          "output_type": "stream",
          "text": [
            "                                                               \r"
          ]
        },
        {
          "name": "stdout",
          "output_type": "stream",
          "text": [
            "Dev score 0.26 at epoch 2\n"
          ]
        },
        {
          "name": "stderr",
          "output_type": "stream",
          "text": [
            "                                                               \r"
          ]
        },
        {
          "name": "stdout",
          "output_type": "stream",
          "text": [
            "Dev score 0.26 at epoch 3\n"
          ]
        },
        {
          "name": "stderr",
          "output_type": "stream",
          "text": [
            "                                                               "
          ]
        },
        {
          "name": "stdout",
          "output_type": "stream",
          "text": [
            "On test obtained UAS score of 0.07\n"
          ]
        },
        {
          "name": "stderr",
          "output_type": "stream",
          "text": [
            "\r"
          ]
        }
      ],
      "source": [
        "run(train, val, test, embeds, options)"
      ]
    },
    {
      "cell_type": "markdown",
      "metadata": {
        "id": "sB8WaJlLkGDT"
      },
      "source": [
        "# TODO"
      ]
    },
    {
      "cell_type": "markdown",
      "metadata": {
        "id": "q0jIrXhiBLRM"
      },
      "source": [
        "TODO:\n",
        "В sentence последний элемент -\n",
        "\n",
        "{'id': 0,\n",
        " 'form': '*root*',\n",
        " 'char_rep': '*root*',\n",
        " 'norm': '*root*',\n",
        " 'cpos': 'ROOT-CPOS',\n",
        " 'pos': 'ROOT-POS',\n",
        " 'parent_id': -1,\n",
        " 'relation': 'rroot',\n",
        " 'lemma': '*root*',\n",
        " 'feats': '_',\n",
        " 'deps': '_',\n",
        " 'misc': '_',\n",
        " 'pred_parent_id': None,\n",
        " 'pred_relation': None,\n",
        " 'treebank_id': None,\n",
        " 'proxy_tbank': None,\n",
        " 'pred_pos': None,\n",
        " 'pred_cpos': None,\n",
        " 'projective_order': 0,\n",
        " 'rdeps': [8],\n",
        " 'children': [],\n",
        " 'scores': None,\n",
        " 'parent': None,\n",
        " 'vecs': None}\n"
      ]
    },
    {
      "cell_type": "markdown",
      "metadata": {
        "id": "V1apfPV9kHRa"
      },
      "source": [
        "В какую сторону стек в коде сейчас ?\n",
        "Используют stack[-1], stack[-2].\n",
        "Стек или очередь ?"
      ]
    },
    {
      "cell_type": "markdown",
      "metadata": {
        "id": "Su65X20Amqjk"
      },
      "source": [
        "Разобраться, какие метрики считают при обучении (на train)"
      ]
    }
  ],
  "metadata": {
    "accelerator": "GPU",
    "colab": {
      "gpuType": "T4",
      "include_colab_link": true,
      "provenance": []
    },
    "kernelspec": {
      "display_name": "parser",
      "language": "python",
      "name": "python3"
    },
    "language_info": {
      "codemirror_mode": {
        "name": "ipython",
        "version": 3
      },
      "file_extension": ".py",
      "mimetype": "text/x-python",
      "name": "python",
      "nbconvert_exporter": "python",
      "pygments_lexer": "ipython3",
      "version": "3.8.16"
    },
    "vscode": {
      "interpreter": {
        "hash": "295da3d0ebec4dde19960e38ff6ce7e234f6104bf62c8e3125e3dc4dacac9942"
      }
    }
  },
  "nbformat": 4,
  "nbformat_minor": 0
}
