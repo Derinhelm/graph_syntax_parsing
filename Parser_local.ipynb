{
  "cells": [
    {
      "cell_type": "markdown",
      "metadata": {
        "colab_type": "text",
        "id": "view-in-github"
      },
      "source": [
        "<a href=\"https://colab.research.google.com/github/Derinhelm/graph_syntax_parsing/blob/main/Parser.ipynb\" target=\"_parent\"><img src=\"https://colab.research.google.com/assets/colab-badge.svg\" alt=\"Open In Colab\"/></a>"
      ]
    },
    {
      "cell_type": "markdown",
      "metadata": {
        "id": "iOZsD_SFlTBL"
      },
      "source": [
        "# Installation"
      ]
    },
    {
      "cell_type": "code",
      "execution_count": 1,
      "metadata": {
        "id": "vnKegDLOlSYC"
      },
      "outputs": [],
      "source": [
        "!pip install -q transformers"
      ]
    },
    {
      "cell_type": "code",
      "execution_count": 2,
      "metadata": {
        "id": "pvspeC3VaZil"
      },
      "outputs": [],
      "source": [
        "!pip install torch_geometric\n",
        "\n",
        "from IPython.display import clear_output\n",
        "\n",
        "clear_output()"
      ]
    },
    {
      "cell_type": "code",
      "execution_count": 3,
      "metadata": {
        "id": "3lOEPDrgK5V-"
      },
      "outputs": [],
      "source": [
        "!pip install jax\n",
        "\n"
      ]
    },
    {
      "cell_type": "code",
      "execution_count": 5,
      "metadata": {},
      "outputs": [],
      "source": [
        "!pip install -U \"jax[cuda12_pip]\" -f https://storage.googleapis.com/jax-releases/jax_cuda_releases.html\n",
        "\n",
        "clear_output()"
      ]
    },
    {
      "cell_type": "markdown",
      "metadata": {
        "id": "j01G-nT6mB7H"
      },
      "source": [
        "# uuparser/parser.py"
      ]
    },
    {
      "cell_type": "code",
      "execution_count": 9,
      "metadata": {
        "id": "HPp79TnLK5WC",
        "outputId": "be640e68-e10f-4737-9070-6c6cf9d6f066"
      },
      "outputs": [],
      "source": [
        "from utils import set_seeds, read_conll\n",
        "from project_logging import logging\n",
        "from run import run\n",
        "from embeddings import create_embeds, load_embeds"
      ]
    },
    {
      "cell_type": "markdown",
      "metadata": {
        "id": "piyEERqI0aM2"
      },
      "source": [
        "# Execution"
      ]
    },
    {
      "cell_type": "code",
      "execution_count": 24,
      "metadata": {
        "id": "z6WsiWLHK4ae"
      },
      "outputs": [],
      "source": [
        "real_dataset = False\n",
        "embed_pickle_using = False"
      ]
    },
    {
      "cell_type": "code",
      "execution_count": 16,
      "metadata": {
        "id": "NXLJlVWzHu90"
      },
      "outputs": [],
      "source": [
        "if real_dataset:\n",
        "  train_a_dir = 'UD_Russian-SynTagRus/ru_syntagrus-ud-train-a.conllu'\n",
        "  train_b_dir = 'UD_Russian-SynTagRus/ru_syntagrus-ud-train-b.conllu'\n",
        "  train_c_dir = 'UD_Russian-SynTagRus/ru_syntagrus-ud-train-c.conllu'\n",
        "\n",
        "  val_dir = 'UD_Russian-SynTagRus/ru_syntagrus-ud-dev.conllu'\n",
        "  test_dir = 'UD_Russian-SynTagRus/ru_syntagrus-ud-test.conllu'\n",
        "\n",
        "  train_a, train_words_a = read_conll(train_a_dir)\n",
        "  train_b, train_words_b = read_conll(train_b_dir)\n",
        "  train_c, train_words_c = read_conll(train_c_dir)\n",
        "  train = train_a + train_b + train_c\n",
        "else:\n",
        "  train_dir = 'UD_Russian-SynTagRus-small/ru_syntagrus-ud-train.conllu'\n",
        "  val_dir = 'UD_Russian-SynTagRus-small/ru_syntagrus-ud-dev.conllu'\n",
        "  test_dir = 'UD_Russian-SynTagRus-small/ru_syntagrus-ud-test.conllu'\n",
        "  \n",
        "  train, train_words = read_conll(train_dir)\n",
        "val, val_words = read_conll(val_dir)\n",
        "test, test_words = read_conll(test_dir)"
      ]
    },
    {
      "cell_type": "code",
      "execution_count": 25,
      "metadata": {
        "id": "LUSU6RwuIaAM"
      },
      "outputs": [
        {
          "data": {
            "application/vnd.jupyter.widget-view+json": {
              "model_id": "34df370d563448e8aa5f78f46550f820",
              "version_major": 2,
              "version_minor": 0
            },
            "text/plain": [
              "Downloading:   0%|          | 0.00/28.0 [00:00<?, ?B/s]"
            ]
          },
          "metadata": {},
          "output_type": "display_data"
        },
        {
          "data": {
            "application/vnd.jupyter.widget-view+json": {
              "model_id": "71c15384cf8249e5b05d83dc94b2d80d",
              "version_major": 2,
              "version_minor": 0
            },
            "text/plain": [
              "Downloading:   0%|          | 0.00/570 [00:00<?, ?B/s]"
            ]
          },
          "metadata": {},
          "output_type": "display_data"
        },
        {
          "data": {
            "application/vnd.jupyter.widget-view+json": {
              "model_id": "a44a0610bd684ae18b8a0132489ed100",
              "version_major": 2,
              "version_minor": 0
            },
            "text/plain": [
              "Downloading:   0%|          | 0.00/232k [00:00<?, ?B/s]"
            ]
          },
          "metadata": {},
          "output_type": "display_data"
        },
        {
          "data": {
            "application/vnd.jupyter.widget-view+json": {
              "model_id": "b7f3a1ad7a644f2eb69f277fefc861a7",
              "version_major": 2,
              "version_minor": 0
            },
            "text/plain": [
              "Downloading:   0%|          | 0.00/466k [00:00<?, ?B/s]"
            ]
          },
          "metadata": {},
          "output_type": "display_data"
        },
        {
          "data": {
            "application/vnd.jupyter.widget-view+json": {
              "model_id": "cf7a86d3e5c247628c80f178f7bd7ddc",
              "version_major": 2,
              "version_minor": 0
            },
            "text/plain": [
              "Downloading:   0%|          | 0.00/440M [00:00<?, ?B/s]"
            ]
          },
          "metadata": {},
          "output_type": "display_data"
        },
        {
          "name": "stderr",
          "output_type": "stream",
          "text": [
            "Some weights of the model checkpoint at bert-base-uncased were not used when initializing BertModel: ['cls.predictions.transform.dense.bias', 'cls.predictions.bias', 'cls.predictions.transform.dense.weight', 'cls.predictions.transform.LayerNorm.bias', 'cls.seq_relationship.bias', 'cls.predictions.decoder.weight', 'cls.seq_relationship.weight', 'cls.predictions.transform.LayerNorm.weight']\n",
            "- This IS expected if you are initializing BertModel from the checkpoint of a model trained on another task or with another architecture (e.g. initializing a BertForSequenceClassification model from a BertForPreTraining model).\n",
            "- This IS NOT expected if you are initializing BertModel from the checkpoint of a model that you expect to be exactly identical (initializing a BertForSequenceClassification model from a BertForSequenceClassification model).\n"
          ]
        }
      ],
      "source": [
        "\n",
        "if embed_pickle_using:\n",
        "  if real_dataset:\n",
        "    embeds = load_embeds(\"UD_Russian-SynTagRus/embeds.pickle\")\n",
        "  else:\n",
        "    embeds = load_embeds(\"UD_Russian-SynTagRus-small/embeds.pickle\")\n",
        "else:\n",
        "  if real_dataset:\n",
        "    all_words = train_words_a | train_words_b | train_words_c | val_words | test_words\n",
        "  else:\n",
        "    all_words = train_words | val_words | test_words\n",
        "  embeds = create_embeds(all_words)\n"
      ]
    },
    {
      "cell_type": "code",
      "execution_count": 26,
      "metadata": {
        "colab": {
          "base_uri": "https://localhost:8080/"
        },
        "id": "gCrdg03Vvrid",
        "outputId": "d02655ef-735a-4aa3-88ed-4cd6e7dd0a2b"
      },
      "outputs": [
        {
          "data": {
            "text/plain": [
              "516"
            ]
          },
          "execution_count": 26,
          "metadata": {},
          "output_type": "execute_result"
        }
      ],
      "source": [
        "len(embeds)"
      ]
    },
    {
      "cell_type": "code",
      "execution_count": 27,
      "metadata": {
        "colab": {
          "base_uri": "https://localhost:8080/"
        },
        "id": "y4dk0TJSIASC",
        "outputId": "3fd88185-35fa-4d5b-bc00-20ffed315823"
      },
      "outputs": [
        {
          "data": {
            "text/plain": [
              "5"
            ]
          },
          "execution_count": 27,
          "metadata": {},
          "output_type": "execute_result"
        }
      ],
      "source": [
        "len(train)"
      ]
    },
    {
      "cell_type": "code",
      "execution_count": 28,
      "metadata": {
        "colab": {
          "base_uri": "https://localhost:8080/"
        },
        "id": "-IbKLEjhM2L9",
        "outputId": "aac1d464-d6e8-4f46-8a86-8dcd38333833"
      },
      "outputs": [
        {
          "name": "stdout",
          "output_type": "stream",
          "text": [
            "root - WARNING - This will get logged to a file\n",
            "root - WARNING - New warning\n",
            "root - DEBUG - New debug\n",
            "root - INFO - New info\n",
            "root - WARNING - This will get logged to a file\n",
            "root - WARNING - New warning\n",
            "root - DEBUG - New debug\n",
            "root - INFO - New info\n",
            "root - WARNING - This will get logged to a file\n",
            "root - WARNING - New warning\n",
            "root - DEBUG - New debug\n",
            "root - INFO - New info\n",
            "root - WARNING - This will get logged to a file\n",
            "root - WARNING - New warning\n",
            "root - DEBUG - New debug\n",
            "root - INFO - New info\n",
            "root - WARNING - This will get logged to a file\n",
            "root - WARNING - New warning\n",
            "root - DEBUG - New debug\n",
            "root - INFO - New info\n",
            "jaxlib.mlir._mlir_libs - DEBUG - Initializing MLIR with module: _site_initialize_0\n",
            "jaxlib.mlir._mlir_libs - DEBUG - Registering dialects from initializer <module 'jaxlib.mlir._mlir_libs._site_initialize_0' from '/home/derin/anaconda3/lib/python3.8/site-packages/jaxlib/mlir/_mlir_libs/_site_initialize_0.so'>\n",
            "jax._src.xla_bridge - DEBUG - No jax_plugins namespace packages available\n",
            "jax._src.path - DEBUG - etils.epath was not found. Using pathlib for file I/O.\n",
            "root - INFO - Reading UD_Russian-SynTagRus-small/ru_syntagrus-ud-train.conllu\n",
            "root - DEBUG - 5 sentences read\n",
            "root - INFO - Time: 0.056s\n",
            "root - INFO - Reading UD_Russian-SynTagRus-small/ru_syntagrus-ud-dev.conllu\n",
            "root - DEBUG - 25 sentences read\n",
            "root - INFO - Time: 0.32s\n",
            "root - INFO - Reading UD_Russian-SynTagRus-small/ru_syntagrus-ud-test.conllu\n",
            "root - DEBUG - 27 sentences read\n",
            "root - INFO - Time: 0.083s\n",
            "root - INFO - Time of embedding downloading: 1.3s\n",
            "root - DEBUG - Using default Python seed\n",
            "root - DEBUG - Initializing the model\n",
            "root - INFO - Starting epoch 1 (training)\n",
            "root - INFO - Length of training data: 5\n",
            "root - DEBUG - Creating embeddings\n",
            "root - DEBUG - 516 embeddings were created\n",
            "root - INFO - Time of embedding creation: 48s\n",
            "Comm - DEBUG - handle_close[a06222bd6d074b248bbf32fb18b1f2fd]({'header': {'date': datetime.datetime(2023, 11, 19, 16, 49, 25, 134000, tzinfo=tzutc()), 'msg_id': '25af51ed-e18f-4d43-8305-1617318481d7', 'msg_type': 'comm_close', 'session': '469d9de6-e38e-4979-8113-967e42b7cc20', 'username': 'e4d7e73d-8039-4737-a64e-a68d91fc6768', 'version': '5.2'}, 'msg_id': '25af51ed-e18f-4d43-8305-1617318481d7', 'msg_type': 'comm_close', 'parent_header': {}, 'metadata': {}, 'content': {'comm_id': 'a06222bd6d074b248bbf32fb18b1f2fd', 'data': {}}, 'buffers': []})\n",
            "Comm - DEBUG - handle_close[8485aac1b1494478b0cc66c5f9a43aef]({'header': {'date': datetime.datetime(2023, 11, 19, 16, 49, 25, 140000, tzinfo=tzutc()), 'msg_id': '69667cbb-847e-4ce5-9ded-f38a07673f72', 'msg_type': 'comm_close', 'session': '469d9de6-e38e-4979-8113-967e42b7cc20', 'username': 'e4d7e73d-8039-4737-a64e-a68d91fc6768', 'version': '5.2'}, 'msg_id': '69667cbb-847e-4ce5-9ded-f38a07673f72', 'msg_type': 'comm_close', 'parent_header': {}, 'metadata': {}, 'content': {'comm_id': '8485aac1b1494478b0cc66c5f9a43aef', 'data': {}}, 'buffers': []})\n",
            "Comm - DEBUG - handle_close[31dbc840f213426687d2262066164be8]({'header': {'date': datetime.datetime(2023, 11, 19, 16, 49, 25, 150000, tzinfo=tzutc()), 'msg_id': '0af3fae4-608f-4efc-8d6f-075c46f45d5b', 'msg_type': 'comm_close', 'session': '469d9de6-e38e-4979-8113-967e42b7cc20', 'username': 'e4d7e73d-8039-4737-a64e-a68d91fc6768', 'version': '5.2'}, 'msg_id': '0af3fae4-608f-4efc-8d6f-075c46f45d5b', 'msg_type': 'comm_close', 'parent_header': {}, 'metadata': {}, 'content': {'comm_id': '31dbc840f213426687d2262066164be8', 'data': {}}, 'buffers': []})\n",
            "Comm - DEBUG - handle_close[4c5f821220174a1c921dcc8c1e0760d0]({'header': {'date': datetime.datetime(2023, 11, 19, 16, 49, 25, 157000, tzinfo=tzutc()), 'msg_id': '654ce056-4ddb-4619-8b40-ba05bbc9fea6', 'msg_type': 'comm_close', 'session': '469d9de6-e38e-4979-8113-967e42b7cc20', 'username': 'e4d7e73d-8039-4737-a64e-a68d91fc6768', 'version': '5.2'}, 'msg_id': '654ce056-4ddb-4619-8b40-ba05bbc9fea6', 'msg_type': 'comm_close', 'parent_header': {}, 'metadata': {}, 'content': {'comm_id': '4c5f821220174a1c921dcc8c1e0760d0', 'data': {}}, 'buffers': []})\n",
            "Comm - DEBUG - handle_close[34df370d563448e8aa5f78f46550f820]({'header': {'date': datetime.datetime(2023, 11, 19, 16, 49, 25, 168000, tzinfo=tzutc()), 'msg_id': 'ae34bdf6-8247-4135-a109-6777f034c3b7', 'msg_type': 'comm_close', 'session': '469d9de6-e38e-4979-8113-967e42b7cc20', 'username': 'e4d7e73d-8039-4737-a64e-a68d91fc6768', 'version': '5.2'}, 'msg_id': 'ae34bdf6-8247-4135-a109-6777f034c3b7', 'msg_type': 'comm_close', 'parent_header': {}, 'metadata': {}, 'content': {'comm_id': '34df370d563448e8aa5f78f46550f820', 'data': {}}, 'buffers': []})\n",
            "Comm - DEBUG - handle_close[8a9579439a0446769b1f8eb7144120bb]({'header': {'date': datetime.datetime(2023, 11, 19, 16, 49, 25, 824000, tzinfo=tzutc()), 'msg_id': '0d8ebf62-74c8-44c6-8758-5091e74b632c', 'msg_type': 'comm_close', 'session': '469d9de6-e38e-4979-8113-967e42b7cc20', 'username': 'e4d7e73d-8039-4737-a64e-a68d91fc6768', 'version': '5.2'}, 'msg_id': '0d8ebf62-74c8-44c6-8758-5091e74b632c', 'msg_type': 'comm_close', 'parent_header': {}, 'metadata': {}, 'content': {'comm_id': '8a9579439a0446769b1f8eb7144120bb', 'data': {}}, 'buffers': []})\n",
            "Comm - DEBUG - handle_close[e9cb449523e043279e3509b3a0f8fe4e]({'header': {'date': datetime.datetime(2023, 11, 19, 16, 49, 25, 830000, tzinfo=tzutc()), 'msg_id': '4766d757-9212-4f46-a71e-0a6d73a2f376', 'msg_type': 'comm_close', 'session': '469d9de6-e38e-4979-8113-967e42b7cc20', 'username': 'e4d7e73d-8039-4737-a64e-a68d91fc6768', 'version': '5.2'}, 'msg_id': '4766d757-9212-4f46-a71e-0a6d73a2f376', 'msg_type': 'comm_close', 'parent_header': {}, 'metadata': {}, 'content': {'comm_id': 'e9cb449523e043279e3509b3a0f8fe4e', 'data': {}}, 'buffers': []})\n",
            "Comm - DEBUG - handle_close[8f0514c3562a45a2bad41dc2a3be76f1]({'header': {'date': datetime.datetime(2023, 11, 19, 16, 49, 25, 840000, tzinfo=tzutc()), 'msg_id': '9b428177-db64-4156-b0c1-8f00065f9535', 'msg_type': 'comm_close', 'session': '469d9de6-e38e-4979-8113-967e42b7cc20', 'username': 'e4d7e73d-8039-4737-a64e-a68d91fc6768', 'version': '5.2'}, 'msg_id': '9b428177-db64-4156-b0c1-8f00065f9535', 'msg_type': 'comm_close', 'parent_header': {}, 'metadata': {}, 'content': {'comm_id': '8f0514c3562a45a2bad41dc2a3be76f1', 'data': {}}, 'buffers': []})\n",
            "Comm - DEBUG - handle_close[62139a3e7f39488b9bdcc7e69c32d232]({'header': {'date': datetime.datetime(2023, 11, 19, 16, 49, 25, 850000, tzinfo=tzutc()), 'msg_id': 'd95009f0-f6d9-4f52-b4f7-1a0cb594a111', 'msg_type': 'comm_close', 'session': '469d9de6-e38e-4979-8113-967e42b7cc20', 'username': 'e4d7e73d-8039-4737-a64e-a68d91fc6768', 'version': '5.2'}, 'msg_id': 'd95009f0-f6d9-4f52-b4f7-1a0cb594a111', 'msg_type': 'comm_close', 'parent_header': {}, 'metadata': {}, 'content': {'comm_id': '62139a3e7f39488b9bdcc7e69c32d232', 'data': {}}, 'buffers': []})\n",
            "Comm - DEBUG - handle_close[71c15384cf8249e5b05d83dc94b2d80d]({'header': {'date': datetime.datetime(2023, 11, 19, 16, 49, 25, 862000, tzinfo=tzutc()), 'msg_id': 'a25c3b67-da06-4ca1-9235-a3b0b73702b1', 'msg_type': 'comm_close', 'session': '469d9de6-e38e-4979-8113-967e42b7cc20', 'username': 'e4d7e73d-8039-4737-a64e-a68d91fc6768', 'version': '5.2'}, 'msg_id': 'a25c3b67-da06-4ca1-9235-a3b0b73702b1', 'msg_type': 'comm_close', 'parent_header': {}, 'metadata': {}, 'content': {'comm_id': '71c15384cf8249e5b05d83dc94b2d80d', 'data': {}}, 'buffers': []})\n",
            "Comm - DEBUG - handle_close[13ac69ed44cf4bde9e72c919ef542eb8]({'header': {'date': datetime.datetime(2023, 11, 19, 16, 49, 26, 595000, tzinfo=tzutc()), 'msg_id': 'bfeff275-625e-4181-b7c1-0608267f07ff', 'msg_type': 'comm_close', 'session': '469d9de6-e38e-4979-8113-967e42b7cc20', 'username': 'e4d7e73d-8039-4737-a64e-a68d91fc6768', 'version': '5.2'}, 'msg_id': 'bfeff275-625e-4181-b7c1-0608267f07ff', 'msg_type': 'comm_close', 'parent_header': {}, 'metadata': {}, 'content': {'comm_id': '13ac69ed44cf4bde9e72c919ef542eb8', 'data': {}}, 'buffers': []})\n",
            "Comm - DEBUG - handle_close[ff315a73bb2c45ab910717dcfd43ea6b]({'header': {'date': datetime.datetime(2023, 11, 19, 16, 49, 26, 600000, tzinfo=tzutc()), 'msg_id': 'a238e118-982a-4820-adb6-27f63f1af106', 'msg_type': 'comm_close', 'session': '469d9de6-e38e-4979-8113-967e42b7cc20', 'username': 'e4d7e73d-8039-4737-a64e-a68d91fc6768', 'version': '5.2'}, 'msg_id': 'a238e118-982a-4820-adb6-27f63f1af106', 'msg_type': 'comm_close', 'parent_header': {}, 'metadata': {}, 'content': {'comm_id': 'ff315a73bb2c45ab910717dcfd43ea6b', 'data': {}}, 'buffers': []})\n",
            "Comm - DEBUG - handle_close[5fe2d9eb54674b989e81efedeafa64ef]({'header': {'date': datetime.datetime(2023, 11, 19, 16, 49, 26, 623000, tzinfo=tzutc()), 'msg_id': 'cf00c32b-3791-4c1e-a9e8-bb7d7a2ce837', 'msg_type': 'comm_close', 'session': '469d9de6-e38e-4979-8113-967e42b7cc20', 'username': 'e4d7e73d-8039-4737-a64e-a68d91fc6768', 'version': '5.2'}, 'msg_id': 'cf00c32b-3791-4c1e-a9e8-bb7d7a2ce837', 'msg_type': 'comm_close', 'parent_header': {}, 'metadata': {}, 'content': {'comm_id': '5fe2d9eb54674b989e81efedeafa64ef', 'data': {}}, 'buffers': []})\n",
            "Comm - DEBUG - handle_close[51cfdd9ef03b4e419986b8ee831316ec]({'header': {'date': datetime.datetime(2023, 11, 19, 16, 49, 26, 630000, tzinfo=tzutc()), 'msg_id': '13baa99d-a191-4504-adb2-830c3ff76358', 'msg_type': 'comm_close', 'session': '469d9de6-e38e-4979-8113-967e42b7cc20', 'username': 'e4d7e73d-8039-4737-a64e-a68d91fc6768', 'version': '5.2'}, 'msg_id': '13baa99d-a191-4504-adb2-830c3ff76358', 'msg_type': 'comm_close', 'parent_header': {}, 'metadata': {}, 'content': {'comm_id': '51cfdd9ef03b4e419986b8ee831316ec', 'data': {}}, 'buffers': []})\n",
            "Comm - DEBUG - handle_close[a44a0610bd684ae18b8a0132489ed100]({'header': {'date': datetime.datetime(2023, 11, 19, 16, 49, 26, 641000, tzinfo=tzutc()), 'msg_id': '48c03774-064c-4677-be78-4aa9afbcb932', 'msg_type': 'comm_close', 'session': '469d9de6-e38e-4979-8113-967e42b7cc20', 'username': 'e4d7e73d-8039-4737-a64e-a68d91fc6768', 'version': '5.2'}, 'msg_id': '48c03774-064c-4677-be78-4aa9afbcb932', 'msg_type': 'comm_close', 'parent_header': {}, 'metadata': {}, 'content': {'comm_id': 'a44a0610bd684ae18b8a0132489ed100', 'data': {}}, 'buffers': []})\n",
            "Comm - DEBUG - handle_close[46ff11ad89b54d7fbf146d2cacae038c]({'header': {'date': datetime.datetime(2023, 11, 19, 16, 49, 27, 680000, tzinfo=tzutc()), 'msg_id': 'ae3b046e-c025-4103-b8b0-68673d7417d0', 'msg_type': 'comm_close', 'session': '469d9de6-e38e-4979-8113-967e42b7cc20', 'username': 'e4d7e73d-8039-4737-a64e-a68d91fc6768', 'version': '5.2'}, 'msg_id': 'ae3b046e-c025-4103-b8b0-68673d7417d0', 'msg_type': 'comm_close', 'parent_header': {}, 'metadata': {}, 'content': {'comm_id': '46ff11ad89b54d7fbf146d2cacae038c', 'data': {}}, 'buffers': []})\n",
            "Comm - DEBUG - handle_close[8c2c369d79144e61bddc797818196327]({'header': {'date': datetime.datetime(2023, 11, 19, 16, 49, 27, 687000, tzinfo=tzutc()), 'msg_id': '3179a5a3-f57d-4ef6-9b4a-87a0224a9bc0', 'msg_type': 'comm_close', 'session': '469d9de6-e38e-4979-8113-967e42b7cc20', 'username': 'e4d7e73d-8039-4737-a64e-a68d91fc6768', 'version': '5.2'}, 'msg_id': '3179a5a3-f57d-4ef6-9b4a-87a0224a9bc0', 'msg_type': 'comm_close', 'parent_header': {}, 'metadata': {}, 'content': {'comm_id': '8c2c369d79144e61bddc797818196327', 'data': {}}, 'buffers': []})\n",
            "Comm - DEBUG - handle_close[7319fd2ba9cd41e3884a55d3247dbac0]({'header': {'date': datetime.datetime(2023, 11, 19, 16, 49, 27, 699000, tzinfo=tzutc()), 'msg_id': '39decb60-19ec-43e4-99a4-dc98b09c9bba', 'msg_type': 'comm_close', 'session': '469d9de6-e38e-4979-8113-967e42b7cc20', 'username': 'e4d7e73d-8039-4737-a64e-a68d91fc6768', 'version': '5.2'}, 'msg_id': '39decb60-19ec-43e4-99a4-dc98b09c9bba', 'msg_type': 'comm_close', 'parent_header': {}, 'metadata': {}, 'content': {'comm_id': '7319fd2ba9cd41e3884a55d3247dbac0', 'data': {}}, 'buffers': []})\n",
            "Comm - DEBUG - handle_close[7ce96e0a82f4496fa38e53773004f697]({'header': {'date': datetime.datetime(2023, 11, 19, 16, 49, 27, 705000, tzinfo=tzutc()), 'msg_id': '2dfa5804-d518-4219-ae3d-306aff7d9014', 'msg_type': 'comm_close', 'session': '469d9de6-e38e-4979-8113-967e42b7cc20', 'username': 'e4d7e73d-8039-4737-a64e-a68d91fc6768', 'version': '5.2'}, 'msg_id': '2dfa5804-d518-4219-ae3d-306aff7d9014', 'msg_type': 'comm_close', 'parent_header': {}, 'metadata': {}, 'content': {'comm_id': '7ce96e0a82f4496fa38e53773004f697', 'data': {}}, 'buffers': []})\n",
            "Comm - DEBUG - handle_close[b7f3a1ad7a644f2eb69f277fefc861a7]({'header': {'date': datetime.datetime(2023, 11, 19, 16, 49, 27, 719000, tzinfo=tzutc()), 'msg_id': 'fa0a3a2c-af21-43f1-80c1-af62db4844ea', 'msg_type': 'comm_close', 'session': '469d9de6-e38e-4979-8113-967e42b7cc20', 'username': 'e4d7e73d-8039-4737-a64e-a68d91fc6768', 'version': '5.2'}, 'msg_id': 'fa0a3a2c-af21-43f1-80c1-af62db4844ea', 'msg_type': 'comm_close', 'parent_header': {}, 'metadata': {}, 'content': {'comm_id': 'b7f3a1ad7a644f2eb69f277fefc861a7', 'data': {}}, 'buffers': []})\n",
            "Comm - DEBUG - handle_close[f90c88b2148845819a465f5c6c271268]({'header': {'date': datetime.datetime(2023, 11, 19, 16, 49, 30, 287000, tzinfo=tzutc()), 'msg_id': '19dcee8d-c508-411f-8fbe-398e58c36c36', 'msg_type': 'comm_close', 'session': '469d9de6-e38e-4979-8113-967e42b7cc20', 'username': 'e4d7e73d-8039-4737-a64e-a68d91fc6768', 'version': '5.2'}, 'msg_id': '19dcee8d-c508-411f-8fbe-398e58c36c36', 'msg_type': 'comm_close', 'parent_header': {}, 'metadata': {}, 'content': {'comm_id': 'f90c88b2148845819a465f5c6c271268', 'data': {}}, 'buffers': []})\n",
            "Comm - DEBUG - handle_close[304bda5b7adb44d1ba25565ee7e73d8f]({'header': {'date': datetime.datetime(2023, 11, 19, 16, 49, 30, 294000, tzinfo=tzutc()), 'msg_id': '6985f9af-4aec-4c3a-bd8a-069a163828f8', 'msg_type': 'comm_close', 'session': '469d9de6-e38e-4979-8113-967e42b7cc20', 'username': 'e4d7e73d-8039-4737-a64e-a68d91fc6768', 'version': '5.2'}, 'msg_id': '6985f9af-4aec-4c3a-bd8a-069a163828f8', 'msg_type': 'comm_close', 'parent_header': {}, 'metadata': {}, 'content': {'comm_id': '304bda5b7adb44d1ba25565ee7e73d8f', 'data': {}}, 'buffers': []})\n",
            "Comm - DEBUG - handle_close[7606dfaf3ce346ff9c1de380f36173af]({'header': {'date': datetime.datetime(2023, 11, 19, 16, 49, 30, 306000, tzinfo=tzutc()), 'msg_id': 'd29fc285-2236-48ea-b75c-b45c6d0e5a59', 'msg_type': 'comm_close', 'session': '469d9de6-e38e-4979-8113-967e42b7cc20', 'username': 'e4d7e73d-8039-4737-a64e-a68d91fc6768', 'version': '5.2'}, 'msg_id': 'd29fc285-2236-48ea-b75c-b45c6d0e5a59', 'msg_type': 'comm_close', 'parent_header': {}, 'metadata': {}, 'content': {'comm_id': '7606dfaf3ce346ff9c1de380f36173af', 'data': {}}, 'buffers': []})\n",
            "Comm - DEBUG - handle_close[b68a5165cb50447db2556c1907cf4e51]({'header': {'date': datetime.datetime(2023, 11, 19, 16, 49, 30, 311000, tzinfo=tzutc()), 'msg_id': '990176d5-cc93-4229-846f-aa672e0eaedd', 'msg_type': 'comm_close', 'session': '469d9de6-e38e-4979-8113-967e42b7cc20', 'username': 'e4d7e73d-8039-4737-a64e-a68d91fc6768', 'version': '5.2'}, 'msg_id': '990176d5-cc93-4229-846f-aa672e0eaedd', 'msg_type': 'comm_close', 'parent_header': {}, 'metadata': {}, 'content': {'comm_id': 'b68a5165cb50447db2556c1907cf4e51', 'data': {}}, 'buffers': []})\n",
            "Comm - DEBUG - handle_close[cf7a86d3e5c247628c80f178f7bd7ddc]({'header': {'date': datetime.datetime(2023, 11, 19, 16, 49, 30, 326000, tzinfo=tzutc()), 'msg_id': 'ee203b63-8e15-4694-bcd7-7582751249d3', 'msg_type': 'comm_close', 'session': '469d9de6-e38e-4979-8113-967e42b7cc20', 'username': 'e4d7e73d-8039-4737-a64e-a68d91fc6768', 'version': '5.2'}, 'msg_id': 'ee203b63-8e15-4694-bcd7-7582751249d3', 'msg_type': 'comm_close', 'parent_header': {}, 'metadata': {}, 'content': {'comm_id': 'cf7a86d3e5c247628c80f178f7bd7ddc', 'data': {}}, 'buffers': []})\n",
            "\n"
          ]
        }
      ],
      "source": [
        "from pathlib import Path\n",
        "\n",
        "print(Path('app.log').read_text())"
      ]
    },
    {
      "cell_type": "code",
      "execution_count": 30,
      "metadata": {},
      "outputs": [],
      "source": [
        "options = {}\n",
        "options[\"hidden_dims\"] = 100 # MLP hidden layer dimensions\n",
        "options[\"learning_rate\"] = 0.001 # Learning rate for neural network optimizer\n",
        "\n",
        "options[\"dynamic_oracle\"] = True # Use the static oracle instead of the dynamic oracle\n",
        "\n",
        "options[\"epochs\"] = 3 # Number of epochs\n",
        "options[\"first_epoch\"] = 1\n",
        "\n",
        "# really important to do this before anything else to make experiments reproducible\n",
        "set_seeds()"
      ]
    },
    {
      "cell_type": "code",
      "execution_count": 31,
      "metadata": {
        "colab": {
          "base_uri": "https://localhost:8080/",
          "height": 338
        },
        "id": "oNypIrvK-8yt",
        "outputId": "06058dc4-df93-431d-fd18-64a8eeba4bbe"
      },
      "outputs": [
        {
          "name": "stderr",
          "output_type": "stream",
          "text": [
            "                                                      \r"
          ]
        },
        {
          "ename": "RuntimeError",
          "evalue": "The expanded size of the tensor (312) must match the existing size (768) at non-singleton dimension 0.  Target sizes: [312].  Tensor sizes: [768]",
          "output_type": "error",
          "traceback": [
            "\u001b[0;31m---------------------------------------------------------------------------\u001b[0m",
            "\u001b[0;31mRuntimeError\u001b[0m                              Traceback (most recent call last)",
            "Cell \u001b[0;32mIn[31], line 1\u001b[0m\n\u001b[0;32m----> 1\u001b[0m run(train, val, test, embeds, options)\n",
            "File \u001b[0;32m/media/derin/DATA/Aspirantura/my_parser/graph_syntax_parsing/run.py:38\u001b[0m, in \u001b[0;36mrun\u001b[0;34m(traindata, valdata, testdata, embeds, options)\u001b[0m\n\u001b[1;32m     35\u001b[0m \u001b[39mfor\u001b[39;00m epoch \u001b[39min\u001b[39;00m \u001b[39mrange\u001b[39m(options[\u001b[39m\"\u001b[39m\u001b[39mfirst_epoch\u001b[39m\u001b[39m\"\u001b[39m], options[\u001b[39m\"\u001b[39m\u001b[39mepochs\u001b[39m\u001b[39m\"\u001b[39m] \u001b[39m+\u001b[39m \u001b[39m1\u001b[39m):\n\u001b[1;32m     36\u001b[0m     \u001b[39m# Training\u001b[39;00m\n\u001b[1;32m     37\u001b[0m     logging\u001b[39m.\u001b[39minfo(\u001b[39mf\u001b[39m\u001b[39m'\u001b[39m\u001b[39mStarting epoch \u001b[39m\u001b[39m{\u001b[39;00mepoch\u001b[39m}\u001b[39;00m\u001b[39m (training)\u001b[39m\u001b[39m'\u001b[39m)\n\u001b[0;32m---> 38\u001b[0m     parser\u001b[39m.\u001b[39;49mTrain(traindata)\n\u001b[1;32m     39\u001b[0m     logging\u001b[39m.\u001b[39minfo(\u001b[39mf\u001b[39m\u001b[39m'\u001b[39m\u001b[39mFinished epoch \u001b[39m\u001b[39m{\u001b[39;00mepoch\u001b[39m}\u001b[39;00m\u001b[39m (training)\u001b[39m\u001b[39m'\u001b[39m)\n\u001b[1;32m     41\u001b[0m     parser\u001b[39m.\u001b[39mSave(epoch)\n",
            "File \u001b[0;32m/media/derin/DATA/Aspirantura/my_parser/graph_syntax_parsing/project_parser.py:93\u001b[0m, in \u001b[0;36mParser.Train\u001b[0;34m(self, trainData)\u001b[0m\n\u001b[1;32m     90\u001b[0m     \u001b[39mif\u001b[39;00m iSentence \u001b[39m%\u001b[39m \u001b[39m100\u001b[39m \u001b[39m==\u001b[39m \u001b[39m0\u001b[39m:\n\u001b[1;32m     91\u001b[0m         \u001b[39mself\u001b[39m\u001b[39m.\u001b[39moracle\u001b[39m.\u001b[39mtrain_logging()\n\u001b[0;32m---> 93\u001b[0m     \u001b[39mself\u001b[39;49m\u001b[39m.\u001b[39;49mtrain_sentence(sentence)\n\u001b[1;32m     94\u001b[0m     \u001b[39mself\u001b[39m\u001b[39m.\u001b[39moracle\u001b[39m.\u001b[39merror_processing(\u001b[39mFalse\u001b[39;00m)\n\u001b[1;32m     96\u001b[0m \u001b[39mself\u001b[39m\u001b[39m.\u001b[39moracle\u001b[39m.\u001b[39merror_processing(\u001b[39mTrue\u001b[39;00m)\n",
            "File \u001b[0;32m/media/derin/DATA/Aspirantura/my_parser/graph_syntax_parsing/project_parser.py:67\u001b[0m, in \u001b[0;36mParser.train_sentence\u001b[0;34m(self, sentence)\u001b[0m\n\u001b[1;32m     64\u001b[0m config \u001b[39m=\u001b[39m Configuration(sentence, \u001b[39mself\u001b[39m\u001b[39m.\u001b[39moracle\u001b[39m.\u001b[39mirels)\n\u001b[1;32m     66\u001b[0m \u001b[39mwhile\u001b[39;00m \u001b[39mnot\u001b[39;00m config\u001b[39m.\u001b[39mis_end():\n\u001b[0;32m---> 67\u001b[0m     best, shift_case \u001b[39m=\u001b[39m \u001b[39mself\u001b[39;49m\u001b[39m.\u001b[39;49moracle\u001b[39m.\u001b[39;49mcreate_train_transition(config, \u001b[39mself\u001b[39;49m\u001b[39m.\u001b[39;49mdynamic_oracle)\n\u001b[1;32m     69\u001b[0m     \u001b[39m#updates for the dynamic oracle\u001b[39;00m\n\u001b[1;32m     70\u001b[0m     \u001b[39mif\u001b[39;00m \u001b[39mself\u001b[39m\u001b[39m.\u001b[39mdynamic_oracle: \u001b[39m# TODO: проверить, что значит True/False (где dynamic/static)\u001b[39;00m\n",
            "File \u001b[0;32m/media/derin/DATA/Aspirantura/my_parser/graph_syntax_parsing/oracle.py:189\u001b[0m, in \u001b[0;36mOracle.create_train_transition\u001b[0;34m(self, config, dynamic_oracle)\u001b[0m\n\u001b[1;32m    188\u001b[0m \u001b[39mdef\u001b[39;00m \u001b[39mcreate_train_transition\u001b[39m(\u001b[39mself\u001b[39m, config, dynamic_oracle):\n\u001b[0;32m--> 189\u001b[0m     scrs, uscrs \u001b[39m=\u001b[39m \u001b[39mself\u001b[39;49m\u001b[39m.\u001b[39;49mnet\u001b[39m.\u001b[39;49mevaluate(config, \u001b[39mself\u001b[39;49m\u001b[39m.\u001b[39;49membeds)\n\u001b[1;32m    190\u001b[0m     valid, wrong, shift_case, swap_cost \u001b[39m=\u001b[39m \u001b[39mself\u001b[39m\u001b[39m.\u001b[39mcreate_valid_wrong(config, scrs, uscrs)\n\u001b[1;32m    192\u001b[0m     best_valid \u001b[39m=\u001b[39m \u001b[39mmax\u001b[39m(valid, key\u001b[39m=\u001b[39mitemgetter(\u001b[39m2\u001b[39m))\n",
            "File \u001b[0;32m/media/derin/DATA/Aspirantura/my_parser/graph_syntax_parsing/gnn.py:74\u001b[0m, in \u001b[0;36mGNNNet.evaluate\u001b[0;34m(self, config, embeds)\u001b[0m\n\u001b[1;32m     72\u001b[0m \u001b[39mglobal\u001b[39;00m evaluate_time, transform_time\n\u001b[1;32m     73\u001b[0m ts \u001b[39m=\u001b[39m time\u001b[39m.\u001b[39mtime()\n\u001b[0;32m---> 74\u001b[0m graph \u001b[39m=\u001b[39m config\u001b[39m.\u001b[39;49mconfig_to_graph(embeds)\n\u001b[1;32m     75\u001b[0m te \u001b[39m=\u001b[39m time\u001b[39m.\u001b[39mtime() \u001b[39m-\u001b[39m ts\n\u001b[1;32m     76\u001b[0m transform_time \u001b[39m+\u001b[39m\u001b[39m=\u001b[39m te\n",
            "File \u001b[0;32m/media/derin/DATA/Aspirantura/my_parser/graph_syntax_parsing/configuration.py:67\u001b[0m, in \u001b[0;36mConfiguration.config_to_graph\u001b[0;34m(self, embeds)\u001b[0m\n\u001b[1;32m     65\u001b[0m word_embeds \u001b[39m=\u001b[39m torch\u001b[39m.\u001b[39mempty((\u001b[39mlen\u001b[39m(\u001b[39mself\u001b[39m\u001b[39m.\u001b[39msentence), \u001b[39m312\u001b[39m))\n\u001b[1;32m     66\u001b[0m \u001b[39mfor\u001b[39;00m i \u001b[39min\u001b[39;00m \u001b[39mrange\u001b[39m(\u001b[39mlen\u001b[39m(\u001b[39mself\u001b[39m\u001b[39m.\u001b[39msentence) \u001b[39m-\u001b[39m \u001b[39m1\u001b[39m): \u001b[39m# Last element is a technical root element.\u001b[39;00m\n\u001b[0;32m---> 67\u001b[0m     word_embeds[i] \u001b[39m=\u001b[39m embeds[\u001b[39mself\u001b[39m\u001b[39m.\u001b[39msentence[i]\u001b[39m.\u001b[39mlemma]\n\u001b[1;32m     69\u001b[0m data \u001b[39m=\u001b[39m HeteroData()\n\u001b[1;32m     70\u001b[0m data[\u001b[39m'\u001b[39m\u001b[39mnode\u001b[39m\u001b[39m'\u001b[39m][\u001b[39m'\u001b[39m\u001b[39mx\u001b[39m\u001b[39m'\u001b[39m] \u001b[39m=\u001b[39m word_embeds\n",
            "\u001b[0;31mRuntimeError\u001b[0m: The expanded size of the tensor (312) must match the existing size (768) at non-singleton dimension 0.  Target sizes: [312].  Tensor sizes: [768]"
          ]
        }
      ],
      "source": [
        "run(train, val, test, embeds, options)"
      ]
    },
    {
      "cell_type": "code",
      "execution_count": null,
      "metadata": {
        "id": "Nowty9TabFph"
      },
      "outputs": [],
      "source": [
        "logging.info(f'evaluate_time: {evaluate_time:.2g}s, transform_time:{transform_time:.2g}')"
      ]
    },
    {
      "cell_type": "code",
      "execution_count": null,
      "metadata": {
        "id": "EqEC-RRSWbUR"
      },
      "outputs": [],
      "source": [
        "from google.colab import files\n",
        "\n",
        "files.download(\"app.log\")"
      ]
    },
    {
      "cell_type": "markdown",
      "metadata": {
        "id": "sB8WaJlLkGDT"
      },
      "source": [
        "# TODO"
      ]
    },
    {
      "cell_type": "markdown",
      "metadata": {
        "id": "q0jIrXhiBLRM"
      },
      "source": [
        "TODO:\n",
        "В sentence последний элемент -\n",
        "\n",
        "{'id': 0,\n",
        " 'form': '*root*',\n",
        " 'char_rep': '*root*',\n",
        " 'norm': '*root*',\n",
        " 'cpos': 'ROOT-CPOS',\n",
        " 'pos': 'ROOT-POS',\n",
        " 'parent_id': -1,\n",
        " 'relation': 'rroot',\n",
        " 'lemma': '*root*',\n",
        " 'feats': '_',\n",
        " 'deps': '_',\n",
        " 'misc': '_',\n",
        " 'pred_parent_id': None,\n",
        " 'pred_relation': None,\n",
        " 'treebank_id': None,\n",
        " 'proxy_tbank': None,\n",
        " 'pred_pos': None,\n",
        " 'pred_cpos': None,\n",
        " 'projective_order': 0,\n",
        " 'rdeps': [8],\n",
        " 'children': [],\n",
        " 'scores': None,\n",
        " 'parent': None,\n",
        " 'vecs': None}\n"
      ]
    },
    {
      "cell_type": "markdown",
      "metadata": {
        "id": "V1apfPV9kHRa"
      },
      "source": [
        "В какую сторону стек в коде сейчас ?\n",
        "Используют stack[-1], stack[-2].\n",
        "Стек или очередь ?"
      ]
    },
    {
      "cell_type": "markdown",
      "metadata": {
        "id": "Su65X20Amqjk"
      },
      "source": [
        "Разобраться, какие метрики считают при обучении (на train)"
      ]
    }
  ],
  "metadata": {
    "accelerator": "GPU",
    "colab": {
      "gpuType": "T4",
      "include_colab_link": true,
      "provenance": []
    },
    "kernelspec": {
      "display_name": "Python 3 (ipykernel)",
      "language": "python",
      "name": "python3"
    },
    "language_info": {
      "codemirror_mode": {
        "name": "ipython",
        "version": 3
      },
      "file_extension": ".py",
      "mimetype": "text/x-python",
      "name": "python",
      "nbconvert_exporter": "python",
      "pygments_lexer": "ipython3",
      "version": "3.8.16"
    },
    "vscode": {
      "interpreter": {
        "hash": "59e287aa678e36b4b55654d5cdd34c585bff8ffcb4fb9f6c41adfe8e265175d6"
      }
    }
  },
  "nbformat": 4,
  "nbformat_minor": 0
}
