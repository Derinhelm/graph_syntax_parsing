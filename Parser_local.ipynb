{
  "cells": [
    {
      "cell_type": "markdown",
      "metadata": {
        "id": "j01G-nT6mB7H"
      },
      "source": [
        "# uuparser/parser.py"
      ]
    },
    {
      "cell_type": "code",
      "execution_count": 4,
      "metadata": {
        "id": "HPp79TnLK5WC",
        "outputId": "be640e68-e10f-4737-9070-6c6cf9d6f066"
      },
      "outputs": [],
      "source": [
        "from utils import set_seeds, read_conll\n",
        "from project_logging import logging\n",
        "from run import run\n",
        "from embeddings import create_embeds, load_embeds"
      ]
    },
    {
      "cell_type": "markdown",
      "metadata": {
        "id": "piyEERqI0aM2"
      },
      "source": [
        "# Execution"
      ]
    },
    {
      "cell_type": "code",
      "execution_count": 14,
      "metadata": {
        "id": "z6WsiWLHK4ae"
      },
      "outputs": [],
      "source": [
        "real_dataset = True\n",
        "embed_pickle_using = True"
      ]
    },
    {
      "cell_type": "code",
      "execution_count": 15,
      "metadata": {
        "id": "NXLJlVWzHu90"
      },
      "outputs": [],
      "source": [
        "if real_dataset:\n",
        "  train_a_dir = 'UD_Russian-SynTagRus/ru_syntagrus-ud-train-a.conllu'\n",
        "  train_b_dir = 'UD_Russian-SynTagRus/ru_syntagrus-ud-train-b.conllu'\n",
        "  train_c_dir = 'UD_Russian-SynTagRus/ru_syntagrus-ud-train-c.conllu'\n",
        "\n",
        "  val_dir = 'UD_Russian-SynTagRus/ru_syntagrus-ud-dev.conllu'\n",
        "  test_dir = 'UD_Russian-SynTagRus/ru_syntagrus-ud-test.conllu'\n",
        "\n",
        "  train_a, train_words_a = read_conll(train_a_dir)\n",
        "  train_b, train_words_b = read_conll(train_b_dir)\n",
        "  train_c, train_words_c = read_conll(train_c_dir)\n",
        "  train = train_a + train_b + train_c\n",
        "else:\n",
        "  train_dir = 'UD_Russian-SynTagRus-small/ru_syntagrus-ud-train.conllu'\n",
        "  val_dir = 'UD_Russian-SynTagRus-small/ru_syntagrus-ud-dev.conllu'\n",
        "  test_dir = 'UD_Russian-SynTagRus-small/ru_syntagrus-ud-test.conllu'\n",
        "  \n",
        "  train, train_words = read_conll(train_dir)\n",
        "val, val_words = read_conll(val_dir)\n",
        "test, test_words = read_conll(test_dir)"
      ]
    },
    {
      "cell_type": "code",
      "execution_count": 16,
      "metadata": {
        "id": "LUSU6RwuIaAM"
      },
      "outputs": [],
      "source": [
        "\n",
        "if embed_pickle_using:\n",
        "  if real_dataset:\n",
        "    embeds = load_embeds(\"UD_Russian-SynTagRus/embeds.pickle\")\n",
        "  else:\n",
        "    embeds = load_embeds(\"UD_Russian-SynTagRus-small/embeds.pickle\")\n",
        "else:\n",
        "  if real_dataset:\n",
        "    all_words = train_words_a | train_words_b | train_words_c | val_words | test_words\n",
        "  else:\n",
        "    all_words = train_words | val_words | test_words\n",
        "  embeds = create_embeds(all_words)\n"
      ]
    },
    {
      "cell_type": "code",
      "execution_count": 17,
      "metadata": {
        "colab": {
          "base_uri": "https://localhost:8080/"
        },
        "id": "gCrdg03Vvrid",
        "outputId": "d02655ef-735a-4aa3-88ed-4cd6e7dd0a2b"
      },
      "outputs": [
        {
          "data": {
            "text/plain": [
              "53925"
            ]
          },
          "execution_count": 17,
          "metadata": {},
          "output_type": "execute_result"
        }
      ],
      "source": [
        "len(embeds)"
      ]
    },
    {
      "cell_type": "code",
      "execution_count": 18,
      "metadata": {
        "colab": {
          "base_uri": "https://localhost:8080/"
        },
        "id": "y4dk0TJSIASC",
        "outputId": "3fd88185-35fa-4d5b-bc00-20ffed315823"
      },
      "outputs": [
        {
          "data": {
            "text/plain": [
              "69630"
            ]
          },
          "execution_count": 18,
          "metadata": {},
          "output_type": "execute_result"
        }
      ],
      "source": [
        "len(train)"
      ]
    },
    {
      "cell_type": "code",
      "execution_count": 19,
      "metadata": {
        "colab": {
          "base_uri": "https://localhost:8080/"
        },
        "id": "-IbKLEjhM2L9",
        "outputId": "aac1d464-d6e8-4f46-8a86-8dcd38333833"
      },
      "outputs": [
        {
          "name": "stdout",
          "output_type": "stream",
          "text": [
            "root - WARNING - This will get logged to a file\n",
            "root - WARNING - New warning\n",
            "root - DEBUG - New debug\n",
            "root - INFO - New info\n",
            "root - INFO - Reading UD_Russian-SynTagRus-small/ru_syntagrus-ud-train.conllu\n",
            "root - DEBUG - 5 sentences read\n",
            "root - INFO - Time: 0.086s\n",
            "root - INFO - Reading UD_Russian-SynTagRus-small/ru_syntagrus-ud-dev.conllu\n",
            "root - DEBUG - 25 sentences read\n",
            "root - INFO - Time: 0.079s\n",
            "root - INFO - Reading UD_Russian-SynTagRus-small/ru_syntagrus-ud-test.conllu\n",
            "root - DEBUG - 27 sentences read\n",
            "root - INFO - Time: 0.14s\n",
            "root - INFO - Time of embedding downloading: 0.45s\n",
            "root - DEBUG - Using default Python seed\n",
            "root - DEBUG - Initializing the model\n",
            "root - INFO - Starting epoch 1 (training)\n",
            "root - INFO - Length of training data: 5\n",
            "root - INFO - Loss: 4.577234182646272e+29\n",
            "root - INFO - Total Training Time: 0.6s\n",
            "root - INFO - Finished epoch 1 (training)\n",
            "root - INFO - Saving unlabeled model to models/model_unlab_1\n",
            "root - INFO - Saving labeled model to models/model_lab_1\n",
            "root - INFO - Predicting on dev data\n",
            "root - INFO - Dev score 0.10 at epoch 1\n",
            "root - INFO - Starting epoch 2 (training)\n",
            "root - INFO - Length of training data: 5\n",
            "root - INFO - Loss: 4.885366706706923e+29\n",
            "root - INFO - Total Training Time: 0.34s\n",
            "root - INFO - Finished epoch 2 (training)\n",
            "root - INFO - Saving unlabeled model to models/model_unlab_2\n",
            "root - INFO - Saving labeled model to models/model_lab_2\n",
            "root - INFO - Predicting on dev data\n",
            "root - INFO - Dev score 0.11 at epoch 2\n",
            "root - INFO - Starting epoch 3 (training)\n",
            "root - INFO - Length of training data: 5\n",
            "root - INFO - Loss: 5.7981714358574095e+29\n",
            "root - INFO - Total Training Time: 0.32s\n",
            "root - INFO - Finished epoch 3 (training)\n",
            "root - INFO - Saving unlabeled model to models/model_unlab_3\n",
            "root - INFO - Saving labeled model to models/model_lab_3\n",
            "root - INFO - Predicting on dev data\n",
            "root - INFO - Dev score 0.10 at epoch 3\n",
            "root - INFO - Loading best model from epoche2\n",
            "root - INFO - Predicting on test data\n",
            "root - INFO - On test obtained UAS score of 0.30\n",
            "root - DEBUG - Finished predicting\n",
            "root - INFO - Reading UD_Russian-SynTagRus/ru_syntagrus-ud-train-a.conllu\n",
            "root - DEBUG - 24516 sentences read\n",
            "root - INFO - Time: 9.6s\n",
            "root - INFO - Reading UD_Russian-SynTagRus/ru_syntagrus-ud-train-b.conllu\n",
            "root - DEBUG - 24298 sentences read\n",
            "root - INFO - Time: 8.7s\n",
            "root - INFO - Reading UD_Russian-SynTagRus/ru_syntagrus-ud-train-c.conllu\n",
            "root - DEBUG - 20816 sentences read\n",
            "root - INFO - Time: 7.5s\n",
            "root - INFO - Reading UD_Russian-SynTagRus/ru_syntagrus-ud-dev.conllu\n",
            "root - DEBUG - 8906 sentences read\n",
            "root - INFO - Time: 2.6s\n",
            "root - INFO - Reading UD_Russian-SynTagRus/ru_syntagrus-ud-test.conllu\n",
            "root - DEBUG - 8800 sentences read\n",
            "root - INFO - Time: 4.2s\n",
            "root - INFO - Time of embedding downloading: 6.7s\n",
            "\n"
          ]
        }
      ],
      "source": [
        "from pathlib import Path\n",
        "\n",
        "print(Path('app.log').read_text())"
      ]
    },
    {
      "cell_type": "code",
      "execution_count": 20,
      "metadata": {},
      "outputs": [],
      "source": [
        "options = {}\n",
        "options[\"hidden_dims\"] = 100 # MLP hidden layer dimensions\n",
        "options[\"learning_rate\"] = 0.001 # Learning rate for neural network optimizer\n",
        "\n",
        "options[\"dynamic_oracle\"] = True # Use the static oracle instead of the dynamic oracle\n",
        "\n",
        "options[\"epochs\"] = 3 # Number of epochs\n",
        "options[\"first_epoch\"] = 1\n",
        "\n",
        "# really important to do this before anything else to make experiments reproducible\n",
        "set_seeds()"
      ]
    },
    {
      "cell_type": "code",
      "execution_count": 21,
      "metadata": {
        "colab": {
          "base_uri": "https://localhost:8080/",
          "height": 338
        },
        "id": "oNypIrvK-8yt",
        "outputId": "06058dc4-df93-431d-fd18-64a8eeba4bbe"
      },
      "outputs": [
        {
          "name": "stderr",
          "output_type": "stream",
          "text": [
            "                                                                     \r"
          ]
        },
        {
          "ename": "KeyboardInterrupt",
          "evalue": "",
          "output_type": "error",
          "traceback": [
            "\u001b[0;31m---------------------------------------------------------------------------\u001b[0m",
            "\u001b[0;31mKeyboardInterrupt\u001b[0m                         Traceback (most recent call last)",
            "Cell \u001b[0;32mIn[21], line 1\u001b[0m\n\u001b[0;32m----> 1\u001b[0m run(train, val, test, embeds, options)\n",
            "File \u001b[0;32m/media/derin/DATA/Aspirantura/my_parser/graph_syntax_parsing/run.py:38\u001b[0m, in \u001b[0;36mrun\u001b[0;34m(traindata, valdata, testdata, embeds, options)\u001b[0m\n\u001b[1;32m     35\u001b[0m \u001b[39mfor\u001b[39;00m epoch \u001b[39min\u001b[39;00m \u001b[39mrange\u001b[39m(options[\u001b[39m\"\u001b[39m\u001b[39mfirst_epoch\u001b[39m\u001b[39m\"\u001b[39m], options[\u001b[39m\"\u001b[39m\u001b[39mepochs\u001b[39m\u001b[39m\"\u001b[39m] \u001b[39m+\u001b[39m \u001b[39m1\u001b[39m):\n\u001b[1;32m     36\u001b[0m     \u001b[39m# Training\u001b[39;00m\n\u001b[1;32m     37\u001b[0m     logging\u001b[39m.\u001b[39minfo(\u001b[39mf\u001b[39m\u001b[39m'\u001b[39m\u001b[39mStarting epoch \u001b[39m\u001b[39m{\u001b[39;00mepoch\u001b[39m}\u001b[39;00m\u001b[39m (training)\u001b[39m\u001b[39m'\u001b[39m)\n\u001b[0;32m---> 38\u001b[0m     parser\u001b[39m.\u001b[39;49mTrain(traindata)\n\u001b[1;32m     39\u001b[0m     logging\u001b[39m.\u001b[39minfo(\u001b[39mf\u001b[39m\u001b[39m'\u001b[39m\u001b[39mFinished epoch \u001b[39m\u001b[39m{\u001b[39;00mepoch\u001b[39m}\u001b[39;00m\u001b[39m (training)\u001b[39m\u001b[39m'\u001b[39m)\n\u001b[1;32m     41\u001b[0m     parser\u001b[39m.\u001b[39mSave(epoch)\n",
            "File \u001b[0;32m/media/derin/DATA/Aspirantura/my_parser/graph_syntax_parsing/project_parser.py:93\u001b[0m, in \u001b[0;36mParser.Train\u001b[0;34m(self, trainData)\u001b[0m\n\u001b[1;32m     90\u001b[0m     \u001b[39mif\u001b[39;00m iSentence \u001b[39m%\u001b[39m \u001b[39m100\u001b[39m \u001b[39m==\u001b[39m \u001b[39m0\u001b[39m:\n\u001b[1;32m     91\u001b[0m         \u001b[39mself\u001b[39m\u001b[39m.\u001b[39moracle\u001b[39m.\u001b[39mtrain_logging()\n\u001b[0;32m---> 93\u001b[0m     \u001b[39mself\u001b[39;49m\u001b[39m.\u001b[39;49mtrain_sentence(sentence)\n\u001b[1;32m     94\u001b[0m     \u001b[39mself\u001b[39m\u001b[39m.\u001b[39moracle\u001b[39m.\u001b[39merror_processing(\u001b[39mFalse\u001b[39;00m)\n\u001b[1;32m     96\u001b[0m \u001b[39mself\u001b[39m\u001b[39m.\u001b[39moracle\u001b[39m.\u001b[39merror_processing(\u001b[39mTrue\u001b[39;00m)\n",
            "File \u001b[0;32m/media/derin/DATA/Aspirantura/my_parser/graph_syntax_parsing/project_parser.py:67\u001b[0m, in \u001b[0;36mParser.train_sentence\u001b[0;34m(self, sentence)\u001b[0m\n\u001b[1;32m     64\u001b[0m config \u001b[39m=\u001b[39m Configuration(sentence, \u001b[39mself\u001b[39m\u001b[39m.\u001b[39moracle\u001b[39m.\u001b[39mirels)\n\u001b[1;32m     66\u001b[0m \u001b[39mwhile\u001b[39;00m \u001b[39mnot\u001b[39;00m config\u001b[39m.\u001b[39mis_end():\n\u001b[0;32m---> 67\u001b[0m     best, shift_case \u001b[39m=\u001b[39m \u001b[39mself\u001b[39;49m\u001b[39m.\u001b[39;49moracle\u001b[39m.\u001b[39;49mcreate_train_transition(config, \u001b[39mself\u001b[39;49m\u001b[39m.\u001b[39;49mdynamic_oracle)\n\u001b[1;32m     69\u001b[0m     \u001b[39m#updates for the dynamic oracle\u001b[39;00m\n\u001b[1;32m     70\u001b[0m     \u001b[39mif\u001b[39;00m \u001b[39mself\u001b[39m\u001b[39m.\u001b[39mdynamic_oracle: \u001b[39m# TODO: проверить, что значит True/False (где dynamic/static)\u001b[39;00m\n",
            "File \u001b[0;32m/media/derin/DATA/Aspirantura/my_parser/graph_syntax_parsing/oracle.py:189\u001b[0m, in \u001b[0;36mOracle.create_train_transition\u001b[0;34m(self, config, dynamic_oracle)\u001b[0m\n\u001b[1;32m    188\u001b[0m \u001b[39mdef\u001b[39;00m \u001b[39mcreate_train_transition\u001b[39m(\u001b[39mself\u001b[39m, config, dynamic_oracle):\n\u001b[0;32m--> 189\u001b[0m     scrs, uscrs \u001b[39m=\u001b[39m \u001b[39mself\u001b[39;49m\u001b[39m.\u001b[39;49mnet\u001b[39m.\u001b[39;49mevaluate(config, \u001b[39mself\u001b[39;49m\u001b[39m.\u001b[39;49membeds)\n\u001b[1;32m    190\u001b[0m     valid, wrong, shift_case, swap_cost \u001b[39m=\u001b[39m \u001b[39mself\u001b[39m\u001b[39m.\u001b[39mcreate_valid_wrong(config, scrs, uscrs)\n\u001b[1;32m    192\u001b[0m     best_valid \u001b[39m=\u001b[39m \u001b[39mmax\u001b[39m(valid, key\u001b[39m=\u001b[39mitemgetter(\u001b[39m2\u001b[39m))\n",
            "File \u001b[0;32m/media/derin/DATA/Aspirantura/my_parser/graph_syntax_parsing/gnn.py:80\u001b[0m, in \u001b[0;36mGNNNet.evaluate\u001b[0;34m(self, config, embeds)\u001b[0m\n\u001b[1;32m     78\u001b[0m uscrs \u001b[39m=\u001b[39m \u001b[39mself\u001b[39m\u001b[39m.\u001b[39munlabeled_GNN(graph\u001b[39m.\u001b[39mx_dict, graph\u001b[39m.\u001b[39medge_index_dict)\n\u001b[1;32m     79\u001b[0m uscrs \u001b[39m=\u001b[39m torch\u001b[39m.\u001b[39msum(uscrs[\u001b[39m'\u001b[39m\u001b[39mnode\u001b[39m\u001b[39m'\u001b[39m], dim\u001b[39m=\u001b[39m\u001b[39m0\u001b[39m)\n\u001b[0;32m---> 80\u001b[0m scrs \u001b[39m=\u001b[39m \u001b[39mself\u001b[39;49m\u001b[39m.\u001b[39;49mlabeled_GNN(graph\u001b[39m.\u001b[39;49mx_dict, graph\u001b[39m.\u001b[39;49medge_index_dict)\n\u001b[1;32m     81\u001b[0m scrs \u001b[39m=\u001b[39m torch\u001b[39m.\u001b[39msum(scrs[\u001b[39m'\u001b[39m\u001b[39mnode\u001b[39m\u001b[39m'\u001b[39m], dim\u001b[39m=\u001b[39m\u001b[39m0\u001b[39m)\n\u001b[1;32m     82\u001b[0m te2 \u001b[39m=\u001b[39m time\u001b[39m.\u001b[39mtime() \u001b[39m-\u001b[39m ts\n",
            "File \u001b[0;32m/media/derin/DATA/Aspirantura/my_parser/graph_syntax_parsing/parser/lib/python3.8/site-packages/torch/fx/graph_module.py:678\u001b[0m, in \u001b[0;36mGraphModule.recompile.<locals>.call_wrapped\u001b[0;34m(self, *args, **kwargs)\u001b[0m\n\u001b[1;32m    677\u001b[0m \u001b[39mdef\u001b[39;00m \u001b[39mcall_wrapped\u001b[39m(\u001b[39mself\u001b[39m, \u001b[39m*\u001b[39margs, \u001b[39m*\u001b[39m\u001b[39m*\u001b[39mkwargs):\n\u001b[0;32m--> 678\u001b[0m     \u001b[39mreturn\u001b[39;00m \u001b[39mself\u001b[39;49m\u001b[39m.\u001b[39;49m_wrapped_call(\u001b[39mself\u001b[39;49m, \u001b[39m*\u001b[39;49margs, \u001b[39m*\u001b[39;49m\u001b[39m*\u001b[39;49mkwargs)\n",
            "File \u001b[0;32m/media/derin/DATA/Aspirantura/my_parser/graph_syntax_parsing/parser/lib/python3.8/site-packages/torch/fx/graph_module.py:274\u001b[0m, in \u001b[0;36m_WrappedCall.__call__\u001b[0;34m(self, obj, *args, **kwargs)\u001b[0m\n\u001b[1;32m    272\u001b[0m         \u001b[39mreturn\u001b[39;00m \u001b[39mself\u001b[39m\u001b[39m.\u001b[39mcls_call(obj, \u001b[39m*\u001b[39margs, \u001b[39m*\u001b[39m\u001b[39m*\u001b[39mkwargs)\n\u001b[1;32m    273\u001b[0m     \u001b[39melse\u001b[39;00m:\n\u001b[0;32m--> 274\u001b[0m         \u001b[39mreturn\u001b[39;00m \u001b[39msuper\u001b[39;49m(\u001b[39mself\u001b[39;49m\u001b[39m.\u001b[39;49mcls, obj)\u001b[39m.\u001b[39;49m\u001b[39m__call__\u001b[39;49m(\u001b[39m*\u001b[39;49margs, \u001b[39m*\u001b[39;49m\u001b[39m*\u001b[39;49mkwargs)  \u001b[39m# type: ignore[misc]\u001b[39;00m\n\u001b[1;32m    275\u001b[0m \u001b[39mexcept\u001b[39;00m \u001b[39mException\u001b[39;00m \u001b[39mas\u001b[39;00m e:\n\u001b[1;32m    276\u001b[0m     \u001b[39massert\u001b[39;00m e\u001b[39m.\u001b[39m__traceback__\n",
            "File \u001b[0;32m/media/derin/DATA/Aspirantura/my_parser/graph_syntax_parsing/parser/lib/python3.8/site-packages/torch/nn/modules/module.py:1518\u001b[0m, in \u001b[0;36mModule._wrapped_call_impl\u001b[0;34m(self, *args, **kwargs)\u001b[0m\n\u001b[1;32m   1516\u001b[0m     \u001b[39mreturn\u001b[39;00m \u001b[39mself\u001b[39m\u001b[39m.\u001b[39m_compiled_call_impl(\u001b[39m*\u001b[39margs, \u001b[39m*\u001b[39m\u001b[39m*\u001b[39mkwargs)  \u001b[39m# type: ignore[misc]\u001b[39;00m\n\u001b[1;32m   1517\u001b[0m \u001b[39melse\u001b[39;00m:\n\u001b[0;32m-> 1518\u001b[0m     \u001b[39mreturn\u001b[39;00m \u001b[39mself\u001b[39;49m\u001b[39m.\u001b[39;49m_call_impl(\u001b[39m*\u001b[39;49margs, \u001b[39m*\u001b[39;49m\u001b[39m*\u001b[39;49mkwargs)\n",
            "File \u001b[0;32m/media/derin/DATA/Aspirantura/my_parser/graph_syntax_parsing/parser/lib/python3.8/site-packages/torch/nn/modules/module.py:1527\u001b[0m, in \u001b[0;36mModule._call_impl\u001b[0;34m(self, *args, **kwargs)\u001b[0m\n\u001b[1;32m   1522\u001b[0m \u001b[39m# If we don't have any hooks, we want to skip the rest of the logic in\u001b[39;00m\n\u001b[1;32m   1523\u001b[0m \u001b[39m# this function, and just call forward.\u001b[39;00m\n\u001b[1;32m   1524\u001b[0m \u001b[39mif\u001b[39;00m \u001b[39mnot\u001b[39;00m (\u001b[39mself\u001b[39m\u001b[39m.\u001b[39m_backward_hooks \u001b[39mor\u001b[39;00m \u001b[39mself\u001b[39m\u001b[39m.\u001b[39m_backward_pre_hooks \u001b[39mor\u001b[39;00m \u001b[39mself\u001b[39m\u001b[39m.\u001b[39m_forward_hooks \u001b[39mor\u001b[39;00m \u001b[39mself\u001b[39m\u001b[39m.\u001b[39m_forward_pre_hooks\n\u001b[1;32m   1525\u001b[0m         \u001b[39mor\u001b[39;00m _global_backward_pre_hooks \u001b[39mor\u001b[39;00m _global_backward_hooks\n\u001b[1;32m   1526\u001b[0m         \u001b[39mor\u001b[39;00m _global_forward_hooks \u001b[39mor\u001b[39;00m _global_forward_pre_hooks):\n\u001b[0;32m-> 1527\u001b[0m     \u001b[39mreturn\u001b[39;00m forward_call(\u001b[39m*\u001b[39;49margs, \u001b[39m*\u001b[39;49m\u001b[39m*\u001b[39;49mkwargs)\n\u001b[1;32m   1529\u001b[0m \u001b[39mtry\u001b[39;00m:\n\u001b[1;32m   1530\u001b[0m     result \u001b[39m=\u001b[39m \u001b[39mNone\u001b[39;00m\n",
            "File \u001b[0;32m<eval_with_key>.11:17\u001b[0m, in \u001b[0;36mforward\u001b[0;34m(self, x, edge_index)\u001b[0m\n\u001b[1;32m     15\u001b[0m conv1__node \u001b[39m=\u001b[39m torch\u001b[39m.\u001b[39madd(conv1__node3, conv1__node_1);  conv1__node3 \u001b[39m=\u001b[39m conv1__node_1 \u001b[39m=\u001b[39m \u001b[39mNone\u001b[39;00m\n\u001b[1;32m     16\u001b[0m relu__node \u001b[39m=\u001b[39m conv1__node\u001b[39m.\u001b[39mrelu();  conv1__node \u001b[39m=\u001b[39m \u001b[39mNone\u001b[39;00m\n\u001b[0;32m---> 17\u001b[0m conv2__node1 \u001b[39m=\u001b[39m \u001b[39mself\u001b[39;49m\u001b[39m.\u001b[39;49mconv2\u001b[39m.\u001b[39;49mnode__graph__node(relu__node, edge_index__node__graph__node);  edge_index__node__graph__node \u001b[39m=\u001b[39m \u001b[39mNone\u001b[39;00m\n\u001b[1;32m     18\u001b[0m conv2__node2 \u001b[39m=\u001b[39m \u001b[39mself\u001b[39m\u001b[39m.\u001b[39mconv2\u001b[39m.\u001b[39mnode__stack__node(relu__node, edge_index__node__stack__node);  edge_index__node__stack__node \u001b[39m=\u001b[39m \u001b[39mNone\u001b[39;00m\n\u001b[1;32m     19\u001b[0m conv2__node3 \u001b[39m=\u001b[39m \u001b[39mself\u001b[39m\u001b[39m.\u001b[39mconv2\u001b[39m.\u001b[39mnode__buffer__node(relu__node, edge_index__node__buffer__node);  relu__node \u001b[39m=\u001b[39m edge_index__node__buffer__node \u001b[39m=\u001b[39m \u001b[39mNone\u001b[39;00m\n",
            "File \u001b[0;32m/media/derin/DATA/Aspirantura/my_parser/graph_syntax_parsing/parser/lib/python3.8/site-packages/torch/nn/modules/module.py:1518\u001b[0m, in \u001b[0;36mModule._wrapped_call_impl\u001b[0;34m(self, *args, **kwargs)\u001b[0m\n\u001b[1;32m   1516\u001b[0m     \u001b[39mreturn\u001b[39;00m \u001b[39mself\u001b[39m\u001b[39m.\u001b[39m_compiled_call_impl(\u001b[39m*\u001b[39margs, \u001b[39m*\u001b[39m\u001b[39m*\u001b[39mkwargs)  \u001b[39m# type: ignore[misc]\u001b[39;00m\n\u001b[1;32m   1517\u001b[0m \u001b[39melse\u001b[39;00m:\n\u001b[0;32m-> 1518\u001b[0m     \u001b[39mreturn\u001b[39;00m \u001b[39mself\u001b[39;49m\u001b[39m.\u001b[39;49m_call_impl(\u001b[39m*\u001b[39;49margs, \u001b[39m*\u001b[39;49m\u001b[39m*\u001b[39;49mkwargs)\n",
            "File \u001b[0;32m/media/derin/DATA/Aspirantura/my_parser/graph_syntax_parsing/parser/lib/python3.8/site-packages/torch/nn/modules/module.py:1527\u001b[0m, in \u001b[0;36mModule._call_impl\u001b[0;34m(self, *args, **kwargs)\u001b[0m\n\u001b[1;32m   1522\u001b[0m \u001b[39m# If we don't have any hooks, we want to skip the rest of the logic in\u001b[39;00m\n\u001b[1;32m   1523\u001b[0m \u001b[39m# this function, and just call forward.\u001b[39;00m\n\u001b[1;32m   1524\u001b[0m \u001b[39mif\u001b[39;00m \u001b[39mnot\u001b[39;00m (\u001b[39mself\u001b[39m\u001b[39m.\u001b[39m_backward_hooks \u001b[39mor\u001b[39;00m \u001b[39mself\u001b[39m\u001b[39m.\u001b[39m_backward_pre_hooks \u001b[39mor\u001b[39;00m \u001b[39mself\u001b[39m\u001b[39m.\u001b[39m_forward_hooks \u001b[39mor\u001b[39;00m \u001b[39mself\u001b[39m\u001b[39m.\u001b[39m_forward_pre_hooks\n\u001b[1;32m   1525\u001b[0m         \u001b[39mor\u001b[39;00m _global_backward_pre_hooks \u001b[39mor\u001b[39;00m _global_backward_hooks\n\u001b[1;32m   1526\u001b[0m         \u001b[39mor\u001b[39;00m _global_forward_hooks \u001b[39mor\u001b[39;00m _global_forward_pre_hooks):\n\u001b[0;32m-> 1527\u001b[0m     \u001b[39mreturn\u001b[39;00m forward_call(\u001b[39m*\u001b[39;49margs, \u001b[39m*\u001b[39;49m\u001b[39m*\u001b[39;49mkwargs)\n\u001b[1;32m   1529\u001b[0m \u001b[39mtry\u001b[39;00m:\n\u001b[1;32m   1530\u001b[0m     result \u001b[39m=\u001b[39m \u001b[39mNone\u001b[39;00m\n",
            "File \u001b[0;32m/media/derin/DATA/Aspirantura/my_parser/graph_syntax_parsing/parser/lib/python3.8/site-packages/torch_geometric/nn/conv/sage_conv.py:131\u001b[0m, in \u001b[0;36mSAGEConv.forward\u001b[0;34m(self, x, edge_index, size)\u001b[0m\n\u001b[1;32m    129\u001b[0m \u001b[39m# propagate_type: (x: OptPairTensor)\u001b[39;00m\n\u001b[1;32m    130\u001b[0m out \u001b[39m=\u001b[39m \u001b[39mself\u001b[39m\u001b[39m.\u001b[39mpropagate(edge_index, x\u001b[39m=\u001b[39mx, size\u001b[39m=\u001b[39msize)\n\u001b[0;32m--> 131\u001b[0m out \u001b[39m=\u001b[39m \u001b[39mself\u001b[39;49m\u001b[39m.\u001b[39;49mlin_l(out)\n\u001b[1;32m    133\u001b[0m x_r \u001b[39m=\u001b[39m x[\u001b[39m1\u001b[39m]\n\u001b[1;32m    134\u001b[0m \u001b[39mif\u001b[39;00m \u001b[39mself\u001b[39m\u001b[39m.\u001b[39mroot_weight \u001b[39mand\u001b[39;00m x_r \u001b[39mis\u001b[39;00m \u001b[39mnot\u001b[39;00m \u001b[39mNone\u001b[39;00m:\n",
            "File \u001b[0;32m/media/derin/DATA/Aspirantura/my_parser/graph_syntax_parsing/parser/lib/python3.8/site-packages/torch/nn/modules/module.py:1518\u001b[0m, in \u001b[0;36mModule._wrapped_call_impl\u001b[0;34m(self, *args, **kwargs)\u001b[0m\n\u001b[1;32m   1516\u001b[0m     \u001b[39mreturn\u001b[39;00m \u001b[39mself\u001b[39m\u001b[39m.\u001b[39m_compiled_call_impl(\u001b[39m*\u001b[39margs, \u001b[39m*\u001b[39m\u001b[39m*\u001b[39mkwargs)  \u001b[39m# type: ignore[misc]\u001b[39;00m\n\u001b[1;32m   1517\u001b[0m \u001b[39melse\u001b[39;00m:\n\u001b[0;32m-> 1518\u001b[0m     \u001b[39mreturn\u001b[39;00m \u001b[39mself\u001b[39;49m\u001b[39m.\u001b[39;49m_call_impl(\u001b[39m*\u001b[39;49margs, \u001b[39m*\u001b[39;49m\u001b[39m*\u001b[39;49mkwargs)\n",
            "File \u001b[0;32m/media/derin/DATA/Aspirantura/my_parser/graph_syntax_parsing/parser/lib/python3.8/site-packages/torch/nn/modules/module.py:1527\u001b[0m, in \u001b[0;36mModule._call_impl\u001b[0;34m(self, *args, **kwargs)\u001b[0m\n\u001b[1;32m   1522\u001b[0m \u001b[39m# If we don't have any hooks, we want to skip the rest of the logic in\u001b[39;00m\n\u001b[1;32m   1523\u001b[0m \u001b[39m# this function, and just call forward.\u001b[39;00m\n\u001b[1;32m   1524\u001b[0m \u001b[39mif\u001b[39;00m \u001b[39mnot\u001b[39;00m (\u001b[39mself\u001b[39m\u001b[39m.\u001b[39m_backward_hooks \u001b[39mor\u001b[39;00m \u001b[39mself\u001b[39m\u001b[39m.\u001b[39m_backward_pre_hooks \u001b[39mor\u001b[39;00m \u001b[39mself\u001b[39m\u001b[39m.\u001b[39m_forward_hooks \u001b[39mor\u001b[39;00m \u001b[39mself\u001b[39m\u001b[39m.\u001b[39m_forward_pre_hooks\n\u001b[1;32m   1525\u001b[0m         \u001b[39mor\u001b[39;00m _global_backward_pre_hooks \u001b[39mor\u001b[39;00m _global_backward_hooks\n\u001b[1;32m   1526\u001b[0m         \u001b[39mor\u001b[39;00m _global_forward_hooks \u001b[39mor\u001b[39;00m _global_forward_pre_hooks):\n\u001b[0;32m-> 1527\u001b[0m     \u001b[39mreturn\u001b[39;00m forward_call(\u001b[39m*\u001b[39;49margs, \u001b[39m*\u001b[39;49m\u001b[39m*\u001b[39;49mkwargs)\n\u001b[1;32m   1529\u001b[0m \u001b[39mtry\u001b[39;00m:\n\u001b[1;32m   1530\u001b[0m     result \u001b[39m=\u001b[39m \u001b[39mNone\u001b[39;00m\n",
            "File \u001b[0;32m/media/derin/DATA/Aspirantura/my_parser/graph_syntax_parsing/parser/lib/python3.8/site-packages/torch_geometric/nn/dense/linear.py:130\u001b[0m, in \u001b[0;36mLinear.forward\u001b[0;34m(self, x)\u001b[0m\n\u001b[1;32m    125\u001b[0m \u001b[39mdef\u001b[39;00m \u001b[39mforward\u001b[39m(\u001b[39mself\u001b[39m, x: Tensor) \u001b[39m-\u001b[39m\u001b[39m>\u001b[39m Tensor:\n\u001b[1;32m    126\u001b[0m \u001b[39m    \u001b[39m\u001b[39mr\u001b[39m\u001b[39m\"\"\"\u001b[39;00m\n\u001b[1;32m    127\u001b[0m \u001b[39m    Args:\u001b[39;00m\n\u001b[1;32m    128\u001b[0m \u001b[39m        x (torch.Tensor): The input features.\u001b[39;00m\n\u001b[1;32m    129\u001b[0m \u001b[39m    \"\"\"\u001b[39;00m\n\u001b[0;32m--> 130\u001b[0m     \u001b[39mreturn\u001b[39;00m F\u001b[39m.\u001b[39;49mlinear(x, \u001b[39mself\u001b[39;49m\u001b[39m.\u001b[39;49mweight, \u001b[39mself\u001b[39;49m\u001b[39m.\u001b[39;49mbias)\n",
            "\u001b[0;31mKeyboardInterrupt\u001b[0m: "
          ]
        }
      ],
      "source": [
        "run(train, val, test, embeds, options)"
      ]
    },
    {
      "cell_type": "markdown",
      "metadata": {
        "id": "sB8WaJlLkGDT"
      },
      "source": [
        "# TODO"
      ]
    },
    {
      "cell_type": "markdown",
      "metadata": {
        "id": "q0jIrXhiBLRM"
      },
      "source": [
        "TODO:\n",
        "В sentence последний элемент -\n",
        "\n",
        "{'id': 0,\n",
        " 'form': '*root*',\n",
        " 'char_rep': '*root*',\n",
        " 'norm': '*root*',\n",
        " 'cpos': 'ROOT-CPOS',\n",
        " 'pos': 'ROOT-POS',\n",
        " 'parent_id': -1,\n",
        " 'relation': 'rroot',\n",
        " 'lemma': '*root*',\n",
        " 'feats': '_',\n",
        " 'deps': '_',\n",
        " 'misc': '_',\n",
        " 'pred_parent_id': None,\n",
        " 'pred_relation': None,\n",
        " 'treebank_id': None,\n",
        " 'proxy_tbank': None,\n",
        " 'pred_pos': None,\n",
        " 'pred_cpos': None,\n",
        " 'projective_order': 0,\n",
        " 'rdeps': [8],\n",
        " 'children': [],\n",
        " 'scores': None,\n",
        " 'parent': None,\n",
        " 'vecs': None}\n"
      ]
    },
    {
      "cell_type": "markdown",
      "metadata": {
        "id": "V1apfPV9kHRa"
      },
      "source": [
        "В какую сторону стек в коде сейчас ?\n",
        "Используют stack[-1], stack[-2].\n",
        "Стек или очередь ?"
      ]
    },
    {
      "cell_type": "markdown",
      "metadata": {
        "id": "Su65X20Amqjk"
      },
      "source": [
        "Разобраться, какие метрики считают при обучении (на train)"
      ]
    }
  ],
  "metadata": {
    "accelerator": "GPU",
    "colab": {
      "gpuType": "T4",
      "include_colab_link": true,
      "provenance": []
    },
    "kernelspec": {
      "display_name": "parser",
      "language": "python",
      "name": "python3"
    },
    "language_info": {
      "codemirror_mode": {
        "name": "ipython",
        "version": 3
      },
      "file_extension": ".py",
      "mimetype": "text/x-python",
      "name": "python",
      "nbconvert_exporter": "python",
      "pygments_lexer": "ipython3",
      "version": "3.8.16"
    },
    "vscode": {
      "interpreter": {
        "hash": "295da3d0ebec4dde19960e38ff6ce7e234f6104bf62c8e3125e3dc4dacac9942"
      }
    }
  },
  "nbformat": 4,
  "nbformat_minor": 0
}
